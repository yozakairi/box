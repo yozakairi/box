{
  "nbformat": 4,
  "nbformat_minor": 0,
  "metadata": {
    "colab": {
      "name": "卒業研究",
      "provenance": [],
      "collapsed_sections": [],
      "toc_visible": true,
      "mount_file_id": "1bF1c2GN9G-9UaciyfsFhH36tJVPSnM4n",
      "authorship_tag": "ABX9TyN8cfVJ1KTYWr34jFhKCaXk",
      "include_colab_link": true
    },
    "kernelspec": {
      "name": "python3",
      "display_name": "Python 3"
    },
    "language_info": {
      "name": "python"
    }
  },
  "cells": [
    {
      "cell_type": "markdown",
      "metadata": {
        "id": "view-in-github",
        "colab_type": "text"
      },
      "source": [
        "<a href=\"https://colab.research.google.com/github/yozakairi/box/blob/main/study1.ipynb\" target=\"_parent\"><img src=\"https://colab.research.google.com/assets/colab-badge.svg\" alt=\"Open In Colab\"/></a>"
      ]
    },
    {
      "cell_type": "code",
      "execution_count": null,
      "metadata": {
        "id": "kwKf_2I_ZrqD"
      },
      "outputs": [],
      "source": [
        "import numpy as np\n",
        "import pandas as pd\n",
        "\n",
        "import matplotlib.pyplot as plt\n",
        "%matplotlib inline\n",
        "import seaborn as sns\n",
        "from sklearn.linear_model import LinearRegression\n",
        "from sklearn.linear_model import LogisticRegression\n",
        "from sklearn.model_selection import train_test_split\n",
        "from sklearn.metrics import confusion_matrix, accuracy_score, precision_score, recall_score, f1_score\n",
        "from pandas import DataFrame\n",
        "\n",
        "import glob\n",
        "import matplotlib.pyplot as plt\n",
        "%matplotlib inline\n",
        "import seaborn as sns\n",
        "import warnings\n",
        "warnings.filterwarnings('ignore')\n",
        "\n",
        "\n",
        "from sklearn.model_selection import train_test_split\n"
      ]
    },
    {
      "cell_type": "code",
      "source": [
        "from google.colab import drive\n",
        "drive.mount('/content/drive')"
      ],
      "metadata": {
        "id": "xDwQk8ZBNhS0",
        "colab": {
          "base_uri": "https://localhost:8080/"
        },
        "outputId": "58b43f90-3641-4e11-821b-bfecc6c9af0d"
      },
      "execution_count": null,
      "outputs": [
        {
          "output_type": "stream",
          "name": "stdout",
          "text": [
            "Drive already mounted at /content/drive; to attempt to forcibly remount, call drive.mount(\"/content/drive\", force_remount=True).\n"
          ]
        }
      ]
    },
    {
      "cell_type": "code",
      "source": [
        "d0= pd.read_csv(\"/content/drive/MyDrive/normal3.csv\", encoding='UTF-8') #説明変数1\n",
        "d2 = pd.read_csv(\"/content/drive/MyDrive/data02.csv\", encoding='UTF-8') #目的変数1\n",
        "d3 = pd.read_csv(\"/content/drive/MyDrive/data03.csv\", encoding='UTF-8') #目的変数2\n",
        "dev1 = pd.read_csv(\"/content/drive/MyDrive/dev1.csv\", encoding='UTF-8')\n",
        "total= pd.read_csv(\"/content/drive/MyDrive/normal6.csv\", encoding='UTF-8')\n",
        "to2= pd.read_csv(\"/content/drive/MyDrive/total02.csv\", encoding='UTF-8')\n",
        "dev2= pd.read_csv(\"/content/drive/MyDrive/normal10.csv\", encoding='UTF-8')\n",
        "\n",
        "\n",
        "\n",
        "data1=d0.fillna(0) #欠損値に0を代入\n",
        "d03=d3['result'].map({'OK':1,'NG':0})"
      ],
      "metadata": {
        "id": "Yo2UtDnfaO33"
      },
      "execution_count": null,
      "outputs": []
    },
    {
      "cell_type": "code",
      "source": [
        "d0['result'].value_counts()"
      ],
      "metadata": {
        "id": "aZ41wEhUXWBO",
        "colab": {
          "base_uri": "https://localhost:8080/"
        },
        "outputId": "b6e133ef-0af0-49cb-be06-7027203a73df"
      },
      "execution_count": null,
      "outputs": [
        {
          "output_type": "execute_result",
          "data": {
            "text/plain": [
              "〇    64\n",
              "×    43\n",
              "Name: result, dtype: int64"
            ]
          },
          "metadata": {},
          "execution_count": 4
        }
      ]
    },
    {
      "cell_type": "code",
      "source": [
        "Result=pd.get_dummies(d0['result'],drop_first=True)\n",
        "d0_result=pd.concat([d0,Result],axis=1)\n",
        "d0_result=d0_result.drop(['result'],axis=1)\n",
        "d0_result.head(5)"
      ],
      "metadata": {
        "id": "HqgI8FdgXttM",
        "colab": {
          "base_uri": "https://localhost:8080/",
          "height": 206
        },
        "outputId": "83343dda-6037-48f7-aeb3-5419c8bf1d1f"
      },
      "execution_count": null,
      "outputs": [
        {
          "output_type": "execute_result",
          "data": {
            "text/html": [
              "\n",
              "  <div id=\"df-69072cb8-e475-4ed7-89b3-9de7f1fab184\">\n",
              "    <div class=\"colab-df-container\">\n",
              "      <div>\n",
              "<style scoped>\n",
              "    .dataframe tbody tr th:only-of-type {\n",
              "        vertical-align: middle;\n",
              "    }\n",
              "\n",
              "    .dataframe tbody tr th {\n",
              "        vertical-align: top;\n",
              "    }\n",
              "\n",
              "    .dataframe thead th {\n",
              "        text-align: right;\n",
              "    }\n",
              "</style>\n",
              "<table border=\"1\" class=\"dataframe\">\n",
              "  <thead>\n",
              "    <tr style=\"text-align: right;\">\n",
              "      <th></th>\n",
              "      <th>NO.1</th>\n",
              "      <th>NO.2</th>\n",
              "      <th>NO.3</th>\n",
              "      <th>NO.4</th>\n",
              "      <th>NO.5</th>\n",
              "      <th>NO.6</th>\n",
              "      <th>reportA</th>\n",
              "      <th>reportB</th>\n",
              "      <th>exam</th>\n",
              "      <th>deviation</th>\n",
              "      <th>〇</th>\n",
              "    </tr>\n",
              "  </thead>\n",
              "  <tbody>\n",
              "    <tr>\n",
              "      <th>0</th>\n",
              "      <td>100.0</td>\n",
              "      <td>100.0</td>\n",
              "      <td>75.0</td>\n",
              "      <td>90.0</td>\n",
              "      <td>80.0</td>\n",
              "      <td>100.0</td>\n",
              "      <td>100</td>\n",
              "      <td>100</td>\n",
              "      <td>90</td>\n",
              "      <td>53.6</td>\n",
              "      <td>1</td>\n",
              "    </tr>\n",
              "    <tr>\n",
              "      <th>1</th>\n",
              "      <td>100.0</td>\n",
              "      <td>100.0</td>\n",
              "      <td>100.0</td>\n",
              "      <td>90.0</td>\n",
              "      <td>80.0</td>\n",
              "      <td>100.0</td>\n",
              "      <td>100</td>\n",
              "      <td>100</td>\n",
              "      <td>90</td>\n",
              "      <td>55.2</td>\n",
              "      <td>1</td>\n",
              "    </tr>\n",
              "    <tr>\n",
              "      <th>2</th>\n",
              "      <td>100.0</td>\n",
              "      <td>NaN</td>\n",
              "      <td>100.0</td>\n",
              "      <td>90.0</td>\n",
              "      <td>80.0</td>\n",
              "      <td>100.0</td>\n",
              "      <td>100</td>\n",
              "      <td>100</td>\n",
              "      <td>45</td>\n",
              "      <td>55.0</td>\n",
              "      <td>0</td>\n",
              "    </tr>\n",
              "    <tr>\n",
              "      <th>3</th>\n",
              "      <td>80.0</td>\n",
              "      <td>NaN</td>\n",
              "      <td>NaN</td>\n",
              "      <td>90.0</td>\n",
              "      <td>100.0</td>\n",
              "      <td>75.0</td>\n",
              "      <td>70</td>\n",
              "      <td>100</td>\n",
              "      <td>57</td>\n",
              "      <td>52.0</td>\n",
              "      <td>0</td>\n",
              "    </tr>\n",
              "    <tr>\n",
              "      <th>4</th>\n",
              "      <td>90.0</td>\n",
              "      <td>NaN</td>\n",
              "      <td>100.0</td>\n",
              "      <td>90.0</td>\n",
              "      <td>100.0</td>\n",
              "      <td>100.0</td>\n",
              "      <td>100</td>\n",
              "      <td>100</td>\n",
              "      <td>50</td>\n",
              "      <td>56.3</td>\n",
              "      <td>0</td>\n",
              "    </tr>\n",
              "  </tbody>\n",
              "</table>\n",
              "</div>\n",
              "      <button class=\"colab-df-convert\" onclick=\"convertToInteractive('df-69072cb8-e475-4ed7-89b3-9de7f1fab184')\"\n",
              "              title=\"Convert this dataframe to an interactive table.\"\n",
              "              style=\"display:none;\">\n",
              "        \n",
              "  <svg xmlns=\"http://www.w3.org/2000/svg\" height=\"24px\"viewBox=\"0 0 24 24\"\n",
              "       width=\"24px\">\n",
              "    <path d=\"M0 0h24v24H0V0z\" fill=\"none\"/>\n",
              "    <path d=\"M18.56 5.44l.94 2.06.94-2.06 2.06-.94-2.06-.94-.94-2.06-.94 2.06-2.06.94zm-11 1L8.5 8.5l.94-2.06 2.06-.94-2.06-.94L8.5 2.5l-.94 2.06-2.06.94zm10 10l.94 2.06.94-2.06 2.06-.94-2.06-.94-.94-2.06-.94 2.06-2.06.94z\"/><path d=\"M17.41 7.96l-1.37-1.37c-.4-.4-.92-.59-1.43-.59-.52 0-1.04.2-1.43.59L10.3 9.45l-7.72 7.72c-.78.78-.78 2.05 0 2.83L4 21.41c.39.39.9.59 1.41.59.51 0 1.02-.2 1.41-.59l7.78-7.78 2.81-2.81c.8-.78.8-2.07 0-2.86zM5.41 20L4 18.59l7.72-7.72 1.47 1.35L5.41 20z\"/>\n",
              "  </svg>\n",
              "      </button>\n",
              "      \n",
              "  <style>\n",
              "    .colab-df-container {\n",
              "      display:flex;\n",
              "      flex-wrap:wrap;\n",
              "      gap: 12px;\n",
              "    }\n",
              "\n",
              "    .colab-df-convert {\n",
              "      background-color: #E8F0FE;\n",
              "      border: none;\n",
              "      border-radius: 50%;\n",
              "      cursor: pointer;\n",
              "      display: none;\n",
              "      fill: #1967D2;\n",
              "      height: 32px;\n",
              "      padding: 0 0 0 0;\n",
              "      width: 32px;\n",
              "    }\n",
              "\n",
              "    .colab-df-convert:hover {\n",
              "      background-color: #E2EBFA;\n",
              "      box-shadow: 0px 1px 2px rgba(60, 64, 67, 0.3), 0px 1px 3px 1px rgba(60, 64, 67, 0.15);\n",
              "      fill: #174EA6;\n",
              "    }\n",
              "\n",
              "    [theme=dark] .colab-df-convert {\n",
              "      background-color: #3B4455;\n",
              "      fill: #D2E3FC;\n",
              "    }\n",
              "\n",
              "    [theme=dark] .colab-df-convert:hover {\n",
              "      background-color: #434B5C;\n",
              "      box-shadow: 0px 1px 3px 1px rgba(0, 0, 0, 0.15);\n",
              "      filter: drop-shadow(0px 1px 2px rgba(0, 0, 0, 0.3));\n",
              "      fill: #FFFFFF;\n",
              "    }\n",
              "  </style>\n",
              "\n",
              "      <script>\n",
              "        const buttonEl =\n",
              "          document.querySelector('#df-69072cb8-e475-4ed7-89b3-9de7f1fab184 button.colab-df-convert');\n",
              "        buttonEl.style.display =\n",
              "          google.colab.kernel.accessAllowed ? 'block' : 'none';\n",
              "\n",
              "        async function convertToInteractive(key) {\n",
              "          const element = document.querySelector('#df-69072cb8-e475-4ed7-89b3-9de7f1fab184');\n",
              "          const dataTable =\n",
              "            await google.colab.kernel.invokeFunction('convertToInteractive',\n",
              "                                                     [key], {});\n",
              "          if (!dataTable) return;\n",
              "\n",
              "          const docLinkHtml = 'Like what you see? Visit the ' +\n",
              "            '<a target=\"_blank\" href=https://colab.research.google.com/notebooks/data_table.ipynb>data table notebook</a>'\n",
              "            + ' to learn more about interactive tables.';\n",
              "          element.innerHTML = '';\n",
              "          dataTable['output_type'] = 'display_data';\n",
              "          await google.colab.output.renderOutput(dataTable, element);\n",
              "          const docLink = document.createElement('div');\n",
              "          docLink.innerHTML = docLinkHtml;\n",
              "          element.appendChild(docLink);\n",
              "        }\n",
              "      </script>\n",
              "    </div>\n",
              "  </div>\n",
              "  "
            ],
            "text/plain": [
              "    NO.1   NO.2   NO.3  NO.4   NO.5  ...  reportA  reportB  exam  deviation  〇\n",
              "0  100.0  100.0   75.0  90.0   80.0  ...      100      100    90       53.6  1\n",
              "1  100.0  100.0  100.0  90.0   80.0  ...      100      100    90       55.2  1\n",
              "2  100.0    NaN  100.0  90.0   80.0  ...      100      100    45       55.0  0\n",
              "3   80.0    NaN    NaN  90.0  100.0  ...       70      100    57       52.0  0\n",
              "4   90.0    NaN  100.0  90.0  100.0  ...      100      100    50       56.3  0\n",
              "\n",
              "[5 rows x 11 columns]"
            ]
          },
          "metadata": {},
          "execution_count": 5
        }
      ]
    },
    {
      "cell_type": "code",
      "source": [
        "d000=d0_result.rename(columns={'〇':'result'})"
      ],
      "metadata": {
        "id": "qzaJepn0NYSe"
      },
      "execution_count": null,
      "outputs": []
    },
    {
      "cell_type": "code",
      "source": [
        "d000.head(5)\n",
        "#result　[1:合格,0:不合格]"
      ],
      "metadata": {
        "id": "0lKI8U4XOJJM",
        "colab": {
          "base_uri": "https://localhost:8080/",
          "height": 206
        },
        "outputId": "36345404-7ef4-4a3d-b02e-d433477e80d5"
      },
      "execution_count": null,
      "outputs": [
        {
          "output_type": "execute_result",
          "data": {
            "text/html": [
              "\n",
              "  <div id=\"df-e4dc1c03-3b37-463c-b145-f860ae01deea\">\n",
              "    <div class=\"colab-df-container\">\n",
              "      <div>\n",
              "<style scoped>\n",
              "    .dataframe tbody tr th:only-of-type {\n",
              "        vertical-align: middle;\n",
              "    }\n",
              "\n",
              "    .dataframe tbody tr th {\n",
              "        vertical-align: top;\n",
              "    }\n",
              "\n",
              "    .dataframe thead th {\n",
              "        text-align: right;\n",
              "    }\n",
              "</style>\n",
              "<table border=\"1\" class=\"dataframe\">\n",
              "  <thead>\n",
              "    <tr style=\"text-align: right;\">\n",
              "      <th></th>\n",
              "      <th>NO.1</th>\n",
              "      <th>NO.2</th>\n",
              "      <th>NO.3</th>\n",
              "      <th>NO.4</th>\n",
              "      <th>NO.5</th>\n",
              "      <th>NO.6</th>\n",
              "      <th>reportA</th>\n",
              "      <th>reportB</th>\n",
              "      <th>exam</th>\n",
              "      <th>deviation</th>\n",
              "      <th>result</th>\n",
              "    </tr>\n",
              "  </thead>\n",
              "  <tbody>\n",
              "    <tr>\n",
              "      <th>0</th>\n",
              "      <td>100.0</td>\n",
              "      <td>100.0</td>\n",
              "      <td>75.0</td>\n",
              "      <td>90.0</td>\n",
              "      <td>80.0</td>\n",
              "      <td>100.0</td>\n",
              "      <td>100</td>\n",
              "      <td>100</td>\n",
              "      <td>90</td>\n",
              "      <td>53.6</td>\n",
              "      <td>1</td>\n",
              "    </tr>\n",
              "    <tr>\n",
              "      <th>1</th>\n",
              "      <td>100.0</td>\n",
              "      <td>100.0</td>\n",
              "      <td>100.0</td>\n",
              "      <td>90.0</td>\n",
              "      <td>80.0</td>\n",
              "      <td>100.0</td>\n",
              "      <td>100</td>\n",
              "      <td>100</td>\n",
              "      <td>90</td>\n",
              "      <td>55.2</td>\n",
              "      <td>1</td>\n",
              "    </tr>\n",
              "    <tr>\n",
              "      <th>2</th>\n",
              "      <td>100.0</td>\n",
              "      <td>NaN</td>\n",
              "      <td>100.0</td>\n",
              "      <td>90.0</td>\n",
              "      <td>80.0</td>\n",
              "      <td>100.0</td>\n",
              "      <td>100</td>\n",
              "      <td>100</td>\n",
              "      <td>45</td>\n",
              "      <td>55.0</td>\n",
              "      <td>0</td>\n",
              "    </tr>\n",
              "    <tr>\n",
              "      <th>3</th>\n",
              "      <td>80.0</td>\n",
              "      <td>NaN</td>\n",
              "      <td>NaN</td>\n",
              "      <td>90.0</td>\n",
              "      <td>100.0</td>\n",
              "      <td>75.0</td>\n",
              "      <td>70</td>\n",
              "      <td>100</td>\n",
              "      <td>57</td>\n",
              "      <td>52.0</td>\n",
              "      <td>0</td>\n",
              "    </tr>\n",
              "    <tr>\n",
              "      <th>4</th>\n",
              "      <td>90.0</td>\n",
              "      <td>NaN</td>\n",
              "      <td>100.0</td>\n",
              "      <td>90.0</td>\n",
              "      <td>100.0</td>\n",
              "      <td>100.0</td>\n",
              "      <td>100</td>\n",
              "      <td>100</td>\n",
              "      <td>50</td>\n",
              "      <td>56.3</td>\n",
              "      <td>0</td>\n",
              "    </tr>\n",
              "  </tbody>\n",
              "</table>\n",
              "</div>\n",
              "      <button class=\"colab-df-convert\" onclick=\"convertToInteractive('df-e4dc1c03-3b37-463c-b145-f860ae01deea')\"\n",
              "              title=\"Convert this dataframe to an interactive table.\"\n",
              "              style=\"display:none;\">\n",
              "        \n",
              "  <svg xmlns=\"http://www.w3.org/2000/svg\" height=\"24px\"viewBox=\"0 0 24 24\"\n",
              "       width=\"24px\">\n",
              "    <path d=\"M0 0h24v24H0V0z\" fill=\"none\"/>\n",
              "    <path d=\"M18.56 5.44l.94 2.06.94-2.06 2.06-.94-2.06-.94-.94-2.06-.94 2.06-2.06.94zm-11 1L8.5 8.5l.94-2.06 2.06-.94-2.06-.94L8.5 2.5l-.94 2.06-2.06.94zm10 10l.94 2.06.94-2.06 2.06-.94-2.06-.94-.94-2.06-.94 2.06-2.06.94z\"/><path d=\"M17.41 7.96l-1.37-1.37c-.4-.4-.92-.59-1.43-.59-.52 0-1.04.2-1.43.59L10.3 9.45l-7.72 7.72c-.78.78-.78 2.05 0 2.83L4 21.41c.39.39.9.59 1.41.59.51 0 1.02-.2 1.41-.59l7.78-7.78 2.81-2.81c.8-.78.8-2.07 0-2.86zM5.41 20L4 18.59l7.72-7.72 1.47 1.35L5.41 20z\"/>\n",
              "  </svg>\n",
              "      </button>\n",
              "      \n",
              "  <style>\n",
              "    .colab-df-container {\n",
              "      display:flex;\n",
              "      flex-wrap:wrap;\n",
              "      gap: 12px;\n",
              "    }\n",
              "\n",
              "    .colab-df-convert {\n",
              "      background-color: #E8F0FE;\n",
              "      border: none;\n",
              "      border-radius: 50%;\n",
              "      cursor: pointer;\n",
              "      display: none;\n",
              "      fill: #1967D2;\n",
              "      height: 32px;\n",
              "      padding: 0 0 0 0;\n",
              "      width: 32px;\n",
              "    }\n",
              "\n",
              "    .colab-df-convert:hover {\n",
              "      background-color: #E2EBFA;\n",
              "      box-shadow: 0px 1px 2px rgba(60, 64, 67, 0.3), 0px 1px 3px 1px rgba(60, 64, 67, 0.15);\n",
              "      fill: #174EA6;\n",
              "    }\n",
              "\n",
              "    [theme=dark] .colab-df-convert {\n",
              "      background-color: #3B4455;\n",
              "      fill: #D2E3FC;\n",
              "    }\n",
              "\n",
              "    [theme=dark] .colab-df-convert:hover {\n",
              "      background-color: #434B5C;\n",
              "      box-shadow: 0px 1px 3px 1px rgba(0, 0, 0, 0.15);\n",
              "      filter: drop-shadow(0px 1px 2px rgba(0, 0, 0, 0.3));\n",
              "      fill: #FFFFFF;\n",
              "    }\n",
              "  </style>\n",
              "\n",
              "      <script>\n",
              "        const buttonEl =\n",
              "          document.querySelector('#df-e4dc1c03-3b37-463c-b145-f860ae01deea button.colab-df-convert');\n",
              "        buttonEl.style.display =\n",
              "          google.colab.kernel.accessAllowed ? 'block' : 'none';\n",
              "\n",
              "        async function convertToInteractive(key) {\n",
              "          const element = document.querySelector('#df-e4dc1c03-3b37-463c-b145-f860ae01deea');\n",
              "          const dataTable =\n",
              "            await google.colab.kernel.invokeFunction('convertToInteractive',\n",
              "                                                     [key], {});\n",
              "          if (!dataTable) return;\n",
              "\n",
              "          const docLinkHtml = 'Like what you see? Visit the ' +\n",
              "            '<a target=\"_blank\" href=https://colab.research.google.com/notebooks/data_table.ipynb>data table notebook</a>'\n",
              "            + ' to learn more about interactive tables.';\n",
              "          element.innerHTML = '';\n",
              "          dataTable['output_type'] = 'display_data';\n",
              "          await google.colab.output.renderOutput(dataTable, element);\n",
              "          const docLink = document.createElement('div');\n",
              "          docLink.innerHTML = docLinkHtml;\n",
              "          element.appendChild(docLink);\n",
              "        }\n",
              "      </script>\n",
              "    </div>\n",
              "  </div>\n",
              "  "
            ],
            "text/plain": [
              "    NO.1   NO.2   NO.3  NO.4   NO.5  ...  reportA  reportB  exam  deviation  result\n",
              "0  100.0  100.0   75.0  90.0   80.0  ...      100      100    90       53.6       1\n",
              "1  100.0  100.0  100.0  90.0   80.0  ...      100      100    90       55.2       1\n",
              "2  100.0    NaN  100.0  90.0   80.0  ...      100      100    45       55.0       0\n",
              "3   80.0    NaN    NaN  90.0  100.0  ...       70      100    57       52.0       0\n",
              "4   90.0    NaN  100.0  90.0  100.0  ...      100      100    50       56.3       0\n",
              "\n",
              "[5 rows x 11 columns]"
            ]
          },
          "metadata": {},
          "execution_count": 7
        }
      ]
    },
    {
      "cell_type": "code",
      "source": [
        "a4=['result']\n",
        "d_result=d000['result']"
      ],
      "metadata": {
        "id": "ZG_LAkTiSoih"
      },
      "execution_count": null,
      "outputs": []
    },
    {
      "cell_type": "code",
      "source": [
        "d_result.head(3)"
      ],
      "metadata": {
        "id": "_XLvkEHnVQ8H",
        "colab": {
          "base_uri": "https://localhost:8080/"
        },
        "outputId": "b1283b17-7ff6-4d00-9705-f44f379d4600"
      },
      "execution_count": null,
      "outputs": [
        {
          "output_type": "execute_result",
          "data": {
            "text/plain": [
              "0    1\n",
              "1    1\n",
              "2    0\n",
              "Name: result, dtype: uint8"
            ]
          },
          "metadata": {},
          "execution_count": 9
        }
      ]
    },
    {
      "cell_type": "code",
      "source": [
        "#1.1 外れ値を処理せずに欠損値にに0を代入して決定係数を求める\n",
        "data1.head(5)"
      ],
      "metadata": {
        "id": "oUf0t_qMdCO_",
        "colab": {
          "base_uri": "https://localhost:8080/",
          "height": 206
        },
        "outputId": "f8e2f1a3-7263-4195-b5c9-7d9e4ef907e1"
      },
      "execution_count": null,
      "outputs": [
        {
          "output_type": "execute_result",
          "data": {
            "text/html": [
              "\n",
              "  <div id=\"df-a59ba3b5-4b88-4497-941e-7dff61a2555b\">\n",
              "    <div class=\"colab-df-container\">\n",
              "      <div>\n",
              "<style scoped>\n",
              "    .dataframe tbody tr th:only-of-type {\n",
              "        vertical-align: middle;\n",
              "    }\n",
              "\n",
              "    .dataframe tbody tr th {\n",
              "        vertical-align: top;\n",
              "    }\n",
              "\n",
              "    .dataframe thead th {\n",
              "        text-align: right;\n",
              "    }\n",
              "</style>\n",
              "<table border=\"1\" class=\"dataframe\">\n",
              "  <thead>\n",
              "    <tr style=\"text-align: right;\">\n",
              "      <th></th>\n",
              "      <th>NO.1</th>\n",
              "      <th>NO.2</th>\n",
              "      <th>NO.3</th>\n",
              "      <th>NO.4</th>\n",
              "      <th>NO.5</th>\n",
              "      <th>NO.6</th>\n",
              "      <th>reportA</th>\n",
              "      <th>reportB</th>\n",
              "      <th>exam</th>\n",
              "      <th>result</th>\n",
              "      <th>deviation</th>\n",
              "    </tr>\n",
              "  </thead>\n",
              "  <tbody>\n",
              "    <tr>\n",
              "      <th>0</th>\n",
              "      <td>100.0</td>\n",
              "      <td>100.0</td>\n",
              "      <td>75.0</td>\n",
              "      <td>90.0</td>\n",
              "      <td>80.0</td>\n",
              "      <td>100.0</td>\n",
              "      <td>100</td>\n",
              "      <td>100</td>\n",
              "      <td>90</td>\n",
              "      <td>〇</td>\n",
              "      <td>53.6</td>\n",
              "    </tr>\n",
              "    <tr>\n",
              "      <th>1</th>\n",
              "      <td>100.0</td>\n",
              "      <td>100.0</td>\n",
              "      <td>100.0</td>\n",
              "      <td>90.0</td>\n",
              "      <td>80.0</td>\n",
              "      <td>100.0</td>\n",
              "      <td>100</td>\n",
              "      <td>100</td>\n",
              "      <td>90</td>\n",
              "      <td>〇</td>\n",
              "      <td>55.2</td>\n",
              "    </tr>\n",
              "    <tr>\n",
              "      <th>2</th>\n",
              "      <td>100.0</td>\n",
              "      <td>0.0</td>\n",
              "      <td>100.0</td>\n",
              "      <td>90.0</td>\n",
              "      <td>80.0</td>\n",
              "      <td>100.0</td>\n",
              "      <td>100</td>\n",
              "      <td>100</td>\n",
              "      <td>45</td>\n",
              "      <td>×</td>\n",
              "      <td>55.0</td>\n",
              "    </tr>\n",
              "    <tr>\n",
              "      <th>3</th>\n",
              "      <td>80.0</td>\n",
              "      <td>0.0</td>\n",
              "      <td>0.0</td>\n",
              "      <td>90.0</td>\n",
              "      <td>100.0</td>\n",
              "      <td>75.0</td>\n",
              "      <td>70</td>\n",
              "      <td>100</td>\n",
              "      <td>57</td>\n",
              "      <td>×</td>\n",
              "      <td>52.0</td>\n",
              "    </tr>\n",
              "    <tr>\n",
              "      <th>4</th>\n",
              "      <td>90.0</td>\n",
              "      <td>0.0</td>\n",
              "      <td>100.0</td>\n",
              "      <td>90.0</td>\n",
              "      <td>100.0</td>\n",
              "      <td>100.0</td>\n",
              "      <td>100</td>\n",
              "      <td>100</td>\n",
              "      <td>50</td>\n",
              "      <td>×</td>\n",
              "      <td>56.3</td>\n",
              "    </tr>\n",
              "  </tbody>\n",
              "</table>\n",
              "</div>\n",
              "      <button class=\"colab-df-convert\" onclick=\"convertToInteractive('df-a59ba3b5-4b88-4497-941e-7dff61a2555b')\"\n",
              "              title=\"Convert this dataframe to an interactive table.\"\n",
              "              style=\"display:none;\">\n",
              "        \n",
              "  <svg xmlns=\"http://www.w3.org/2000/svg\" height=\"24px\"viewBox=\"0 0 24 24\"\n",
              "       width=\"24px\">\n",
              "    <path d=\"M0 0h24v24H0V0z\" fill=\"none\"/>\n",
              "    <path d=\"M18.56 5.44l.94 2.06.94-2.06 2.06-.94-2.06-.94-.94-2.06-.94 2.06-2.06.94zm-11 1L8.5 8.5l.94-2.06 2.06-.94-2.06-.94L8.5 2.5l-.94 2.06-2.06.94zm10 10l.94 2.06.94-2.06 2.06-.94-2.06-.94-.94-2.06-.94 2.06-2.06.94z\"/><path d=\"M17.41 7.96l-1.37-1.37c-.4-.4-.92-.59-1.43-.59-.52 0-1.04.2-1.43.59L10.3 9.45l-7.72 7.72c-.78.78-.78 2.05 0 2.83L4 21.41c.39.39.9.59 1.41.59.51 0 1.02-.2 1.41-.59l7.78-7.78 2.81-2.81c.8-.78.8-2.07 0-2.86zM5.41 20L4 18.59l7.72-7.72 1.47 1.35L5.41 20z\"/>\n",
              "  </svg>\n",
              "      </button>\n",
              "      \n",
              "  <style>\n",
              "    .colab-df-container {\n",
              "      display:flex;\n",
              "      flex-wrap:wrap;\n",
              "      gap: 12px;\n",
              "    }\n",
              "\n",
              "    .colab-df-convert {\n",
              "      background-color: #E8F0FE;\n",
              "      border: none;\n",
              "      border-radius: 50%;\n",
              "      cursor: pointer;\n",
              "      display: none;\n",
              "      fill: #1967D2;\n",
              "      height: 32px;\n",
              "      padding: 0 0 0 0;\n",
              "      width: 32px;\n",
              "    }\n",
              "\n",
              "    .colab-df-convert:hover {\n",
              "      background-color: #E2EBFA;\n",
              "      box-shadow: 0px 1px 2px rgba(60, 64, 67, 0.3), 0px 1px 3px 1px rgba(60, 64, 67, 0.15);\n",
              "      fill: #174EA6;\n",
              "    }\n",
              "\n",
              "    [theme=dark] .colab-df-convert {\n",
              "      background-color: #3B4455;\n",
              "      fill: #D2E3FC;\n",
              "    }\n",
              "\n",
              "    [theme=dark] .colab-df-convert:hover {\n",
              "      background-color: #434B5C;\n",
              "      box-shadow: 0px 1px 3px 1px rgba(0, 0, 0, 0.15);\n",
              "      filter: drop-shadow(0px 1px 2px rgba(0, 0, 0, 0.3));\n",
              "      fill: #FFFFFF;\n",
              "    }\n",
              "  </style>\n",
              "\n",
              "      <script>\n",
              "        const buttonEl =\n",
              "          document.querySelector('#df-a59ba3b5-4b88-4497-941e-7dff61a2555b button.colab-df-convert');\n",
              "        buttonEl.style.display =\n",
              "          google.colab.kernel.accessAllowed ? 'block' : 'none';\n",
              "\n",
              "        async function convertToInteractive(key) {\n",
              "          const element = document.querySelector('#df-a59ba3b5-4b88-4497-941e-7dff61a2555b');\n",
              "          const dataTable =\n",
              "            await google.colab.kernel.invokeFunction('convertToInteractive',\n",
              "                                                     [key], {});\n",
              "          if (!dataTable) return;\n",
              "\n",
              "          const docLinkHtml = 'Like what you see? Visit the ' +\n",
              "            '<a target=\"_blank\" href=https://colab.research.google.com/notebooks/data_table.ipynb>data table notebook</a>'\n",
              "            + ' to learn more about interactive tables.';\n",
              "          element.innerHTML = '';\n",
              "          dataTable['output_type'] = 'display_data';\n",
              "          await google.colab.output.renderOutput(dataTable, element);\n",
              "          const docLink = document.createElement('div');\n",
              "          docLink.innerHTML = docLinkHtml;\n",
              "          element.appendChild(docLink);\n",
              "        }\n",
              "      </script>\n",
              "    </div>\n",
              "  </div>\n",
              "  "
            ],
            "text/plain": [
              "    NO.1   NO.2   NO.3  NO.4   NO.5  ...  reportA  reportB  exam  result deviation\n",
              "0  100.0  100.0   75.0  90.0   80.0  ...      100      100    90       〇      53.6\n",
              "1  100.0  100.0  100.0  90.0   80.0  ...      100      100    90       〇      55.2\n",
              "2  100.0    0.0  100.0  90.0   80.0  ...      100      100    45       ×      55.0\n",
              "3   80.0    0.0    0.0  90.0  100.0  ...       70      100    57       ×      52.0\n",
              "4   90.0    0.0  100.0  90.0  100.0  ...      100      100    50       ×      56.3\n",
              "\n",
              "[5 rows x 11 columns]"
            ]
          },
          "metadata": {},
          "execution_count": 10
        }
      ]
    },
    {
      "cell_type": "code",
      "source": [
        "print(d0.sum)\n",
        "print(d2.sum)\n",
        "print(dev1.sum)\n",
        "print(total.sum)\n",
        "print(to2.sum)"
      ],
      "metadata": {
        "id": "Fbv7j2uWaRhx",
        "colab": {
          "base_uri": "https://localhost:8080/"
        },
        "outputId": "fc75bc46-33c4-4b53-b30d-5da7c5d5e2c8"
      },
      "execution_count": null,
      "outputs": [
        {
          "output_type": "stream",
          "name": "stdout",
          "text": [
            "<bound method DataFrame.sum of       NO.1   NO.2   NO.3  NO.4   NO.5  ...  reportA  reportB  exam  result deviation\n",
            "0    100.0  100.0   75.0  90.0   80.0  ...      100      100    90       〇      53.6\n",
            "1    100.0  100.0  100.0  90.0   80.0  ...      100      100    90       〇      55.2\n",
            "2    100.0    NaN  100.0  90.0   80.0  ...      100      100    45       ×      55.0\n",
            "3     80.0    NaN    NaN  90.0  100.0  ...       70      100    57       ×      52.0\n",
            "4     90.0    NaN  100.0  90.0  100.0  ...      100      100    50       ×      56.3\n",
            "..     ...    ...    ...   ...    ...  ...      ...      ...   ...     ...       ...\n",
            "102  100.0    0.0  100.0  90.0   60.0  ...      100      100    77       〇      52.7\n",
            "103  100.0   75.0    0.0  70.0   80.0  ...      100      100    75       〇      46.5\n",
            "104   90.0    0.0  100.0  90.0   50.0  ...      100      100    35       ×      46.3\n",
            "105   70.0    0.0    0.0   0.0  100.0  ...       70      100    27       ×      53.3\n",
            "106   90.0  100.0  100.0  90.0   80.0  ...      100      100    62       〇      54.5\n",
            "\n",
            "[107 rows x 11 columns]>\n",
            "<bound method DataFrame.sum of      exam\n",
            "0      90\n",
            "1      90\n",
            "2      45\n",
            "3      57\n",
            "4      50\n",
            "..    ...\n",
            "102    77\n",
            "103    75\n",
            "104    35\n",
            "105    27\n",
            "106    62\n",
            "\n",
            "[107 rows x 1 columns]>\n",
            "<bound method DataFrame.sum of      NO.1  NO.2  NO.3  NO.4  NO.5  ...  reportA  reportB  exam  result deviation\n",
            "0     100   100    75    90    80  ...      100      100    90       〇      53.6\n",
            "1     100   100   100    90    80  ...      100      100    90       〇      55.2\n",
            "2     100    95   100    90    80  ...      100      100    45       ×      55.0\n",
            "3      80    85    85    90   100  ...       70      100    57       ×      52.0\n",
            "4      90    99   100    90   100  ...      100      100    50       ×      56.3\n",
            "..    ...   ...   ...   ...   ...  ...      ...      ...   ...     ...       ...\n",
            "102   100     0   100    90    60  ...      100      100    77       〇      52.7\n",
            "103   100    75     0    70    80  ...      100      100    75       〇      46.5\n",
            "104    90     0   100    90    50  ...      100      100    35       ×      46.3\n",
            "105    70     0     0     0   100  ...       70      100    27       ×      53.3\n",
            "106    90   100   100    90    80  ...      100      100    62       〇      54.5\n",
            "\n",
            "[107 rows x 11 columns]>\n",
            "<bound method DataFrame.sum of       NO.1   NO.2   NO.3  NO.4   NO.5   NO.6  reportA  reportB  exam  total\n",
            "0    100.0  100.0   75.0  90.0   80.0  100.0      100      100    90    745\n",
            "1    100.0  100.0  100.0  90.0   80.0  100.0      100      100    90    770\n",
            "2    100.0    NaN  100.0  90.0   80.0  100.0      100      100    45    670\n",
            "3     80.0    NaN    NaN  90.0  100.0   75.0       70      100    57    515\n",
            "4     90.0    NaN  100.0  90.0  100.0  100.0      100      100    50    680\n",
            "..     ...    ...    ...   ...    ...    ...      ...      ...   ...    ...\n",
            "102  100.0    0.0  100.0  90.0   60.0  100.0      100      100    77    650\n",
            "103  100.0   75.0    0.0  70.0   80.0   50.0      100      100    75    575\n",
            "104   90.0    0.0  100.0  90.0   50.0   50.0      100      100    35    580\n",
            "105   70.0    0.0    0.0   0.0  100.0  100.0       70      100    27    440\n",
            "106   90.0  100.0  100.0  90.0   80.0  100.0      100      100    62    760\n",
            "\n",
            "[107 rows x 10 columns]>\n",
            "<bound method DataFrame.sum of      NO.1  NO.2  NO.3  NO.4  NO.5  NO.6  reportA  reportB  exam  total\n",
            "0     100   100    75    90    80   100      100      100    90    745\n",
            "1     100   100   100    90    80   100      100      100    90    770\n",
            "2     100    96   100    90    80   100      100      100    45    766\n",
            "3      80    86    85    90   100    75       70      100    57    686\n",
            "4      90   100   100    90   100   100      100      100    50    780\n",
            "..    ...   ...   ...   ...   ...   ...      ...      ...   ...    ...\n",
            "102   100     0   100    90    60   100      100      100    77    650\n",
            "103   100    75     0    70    80    50      100      100    75    575\n",
            "104    90     0   100    90    50    50      100      100    35    580\n",
            "105    70     0     0     0   100   100       70      100    27    440\n",
            "106    90   100   100    90    80   100      100      100    62    760\n",
            "\n",
            "[107 rows x 10 columns]>\n"
          ]
        }
      ]
    },
    {
      "cell_type": "code",
      "source": [
        "a1=['NO.1','NO.2','NO.3','NO.4','NO.5','NO.6','reportA','reportB']\n",
        "a2=['NO.1','NO.2','NO.3','NO.4','NO.5','NO.6','reportA','reportB','exam']\n",
        "a3=['exam']\n",
        "a4=['result']"
      ],
      "metadata": {
        "id": "pcI0mtksav5H"
      },
      "execution_count": null,
      "outputs": []
    },
    {
      "cell_type": "code",
      "source": [
        "print(d3.head(10))\n",
        "print(d03.head(10))"
      ],
      "metadata": {
        "id": "Kj-EN7Oua0e-",
        "colab": {
          "base_uri": "https://localhost:8080/"
        },
        "outputId": "bd84c6cb-8c84-41c9-8506-f9d5b14d6b4d"
      },
      "execution_count": null,
      "outputs": [
        {
          "output_type": "stream",
          "name": "stdout",
          "text": [
            "  result\n",
            "0     OK\n",
            "1     OK\n",
            "2     NG\n",
            "3     NG\n",
            "4     NG\n",
            "5     OK\n",
            "6     NG\n",
            "7     OK\n",
            "8     OK\n",
            "9     NG\n",
            "0    1\n",
            "1    1\n",
            "2    0\n",
            "3    0\n",
            "4    0\n",
            "5    1\n",
            "6    0\n",
            "7    1\n",
            "8    1\n",
            "9    0\n",
            "Name: result, dtype: int64\n"
          ]
        }
      ]
    },
    {
      "cell_type": "code",
      "source": [
        "d0.describe()"
      ],
      "metadata": {
        "id": "rgwOWNFAbGhA",
        "colab": {
          "base_uri": "https://localhost:8080/",
          "height": 300
        },
        "outputId": "cf797fee-74b3-4f7d-9a02-12cc65fe392f"
      },
      "execution_count": null,
      "outputs": [
        {
          "output_type": "execute_result",
          "data": {
            "text/html": [
              "\n",
              "  <div id=\"df-5f78a5e9-7713-4d84-9c4e-d574b1266bcc\">\n",
              "    <div class=\"colab-df-container\">\n",
              "      <div>\n",
              "<style scoped>\n",
              "    .dataframe tbody tr th:only-of-type {\n",
              "        vertical-align: middle;\n",
              "    }\n",
              "\n",
              "    .dataframe tbody tr th {\n",
              "        vertical-align: top;\n",
              "    }\n",
              "\n",
              "    .dataframe thead th {\n",
              "        text-align: right;\n",
              "    }\n",
              "</style>\n",
              "<table border=\"1\" class=\"dataframe\">\n",
              "  <thead>\n",
              "    <tr style=\"text-align: right;\">\n",
              "      <th></th>\n",
              "      <th>NO.1</th>\n",
              "      <th>NO.2</th>\n",
              "      <th>NO.3</th>\n",
              "      <th>NO.4</th>\n",
              "      <th>NO.5</th>\n",
              "      <th>NO.6</th>\n",
              "      <th>reportA</th>\n",
              "      <th>reportB</th>\n",
              "      <th>exam</th>\n",
              "      <th>deviation</th>\n",
              "    </tr>\n",
              "  </thead>\n",
              "  <tbody>\n",
              "    <tr>\n",
              "      <th>count</th>\n",
              "      <td>72.000000</td>\n",
              "      <td>58.000000</td>\n",
              "      <td>89.000000</td>\n",
              "      <td>88.000000</td>\n",
              "      <td>87.000000</td>\n",
              "      <td>91.000000</td>\n",
              "      <td>107.000000</td>\n",
              "      <td>107.000000</td>\n",
              "      <td>107.000000</td>\n",
              "      <td>107.000000</td>\n",
              "    </tr>\n",
              "    <tr>\n",
              "      <th>mean</th>\n",
              "      <td>83.472222</td>\n",
              "      <td>79.310345</td>\n",
              "      <td>79.775281</td>\n",
              "      <td>82.272727</td>\n",
              "      <td>79.310345</td>\n",
              "      <td>83.791209</td>\n",
              "      <td>77.289720</td>\n",
              "      <td>83.177570</td>\n",
              "      <td>54.177570</td>\n",
              "      <td>49.214019</td>\n",
              "    </tr>\n",
              "    <tr>\n",
              "      <th>std</th>\n",
              "      <td>25.351596</td>\n",
              "      <td>33.158951</td>\n",
              "      <td>26.078009</td>\n",
              "      <td>17.858143</td>\n",
              "      <td>19.216823</td>\n",
              "      <td>24.544072</td>\n",
              "      <td>34.683749</td>\n",
              "      <td>37.582566</td>\n",
              "      <td>29.395101</td>\n",
              "      <td>7.223474</td>\n",
              "    </tr>\n",
              "    <tr>\n",
              "      <th>min</th>\n",
              "      <td>0.000000</td>\n",
              "      <td>0.000000</td>\n",
              "      <td>0.000000</td>\n",
              "      <td>0.000000</td>\n",
              "      <td>10.000000</td>\n",
              "      <td>0.000000</td>\n",
              "      <td>0.000000</td>\n",
              "      <td>0.000000</td>\n",
              "      <td>0.000000</td>\n",
              "      <td>24.300000</td>\n",
              "    </tr>\n",
              "    <tr>\n",
              "      <th>25%</th>\n",
              "      <td>80.000000</td>\n",
              "      <td>75.000000</td>\n",
              "      <td>75.000000</td>\n",
              "      <td>70.000000</td>\n",
              "      <td>70.000000</td>\n",
              "      <td>75.000000</td>\n",
              "      <td>70.000000</td>\n",
              "      <td>100.000000</td>\n",
              "      <td>33.500000</td>\n",
              "      <td>46.300000</td>\n",
              "    </tr>\n",
              "    <tr>\n",
              "      <th>50%</th>\n",
              "      <td>90.000000</td>\n",
              "      <td>100.000000</td>\n",
              "      <td>100.000000</td>\n",
              "      <td>90.000000</td>\n",
              "      <td>80.000000</td>\n",
              "      <td>100.000000</td>\n",
              "      <td>100.000000</td>\n",
              "      <td>100.000000</td>\n",
              "      <td>65.000000</td>\n",
              "      <td>51.600000</td>\n",
              "    </tr>\n",
              "    <tr>\n",
              "      <th>75%</th>\n",
              "      <td>100.000000</td>\n",
              "      <td>100.000000</td>\n",
              "      <td>100.000000</td>\n",
              "      <td>90.000000</td>\n",
              "      <td>90.000000</td>\n",
              "      <td>100.000000</td>\n",
              "      <td>100.000000</td>\n",
              "      <td>100.000000</td>\n",
              "      <td>76.000000</td>\n",
              "      <td>54.450000</td>\n",
              "    </tr>\n",
              "    <tr>\n",
              "      <th>max</th>\n",
              "      <td>100.000000</td>\n",
              "      <td>100.000000</td>\n",
              "      <td>100.000000</td>\n",
              "      <td>100.000000</td>\n",
              "      <td>100.000000</td>\n",
              "      <td>100.000000</td>\n",
              "      <td>100.000000</td>\n",
              "      <td>100.000000</td>\n",
              "      <td>95.000000</td>\n",
              "      <td>58.300000</td>\n",
              "    </tr>\n",
              "  </tbody>\n",
              "</table>\n",
              "</div>\n",
              "      <button class=\"colab-df-convert\" onclick=\"convertToInteractive('df-5f78a5e9-7713-4d84-9c4e-d574b1266bcc')\"\n",
              "              title=\"Convert this dataframe to an interactive table.\"\n",
              "              style=\"display:none;\">\n",
              "        \n",
              "  <svg xmlns=\"http://www.w3.org/2000/svg\" height=\"24px\"viewBox=\"0 0 24 24\"\n",
              "       width=\"24px\">\n",
              "    <path d=\"M0 0h24v24H0V0z\" fill=\"none\"/>\n",
              "    <path d=\"M18.56 5.44l.94 2.06.94-2.06 2.06-.94-2.06-.94-.94-2.06-.94 2.06-2.06.94zm-11 1L8.5 8.5l.94-2.06 2.06-.94-2.06-.94L8.5 2.5l-.94 2.06-2.06.94zm10 10l.94 2.06.94-2.06 2.06-.94-2.06-.94-.94-2.06-.94 2.06-2.06.94z\"/><path d=\"M17.41 7.96l-1.37-1.37c-.4-.4-.92-.59-1.43-.59-.52 0-1.04.2-1.43.59L10.3 9.45l-7.72 7.72c-.78.78-.78 2.05 0 2.83L4 21.41c.39.39.9.59 1.41.59.51 0 1.02-.2 1.41-.59l7.78-7.78 2.81-2.81c.8-.78.8-2.07 0-2.86zM5.41 20L4 18.59l7.72-7.72 1.47 1.35L5.41 20z\"/>\n",
              "  </svg>\n",
              "      </button>\n",
              "      \n",
              "  <style>\n",
              "    .colab-df-container {\n",
              "      display:flex;\n",
              "      flex-wrap:wrap;\n",
              "      gap: 12px;\n",
              "    }\n",
              "\n",
              "    .colab-df-convert {\n",
              "      background-color: #E8F0FE;\n",
              "      border: none;\n",
              "      border-radius: 50%;\n",
              "      cursor: pointer;\n",
              "      display: none;\n",
              "      fill: #1967D2;\n",
              "      height: 32px;\n",
              "      padding: 0 0 0 0;\n",
              "      width: 32px;\n",
              "    }\n",
              "\n",
              "    .colab-df-convert:hover {\n",
              "      background-color: #E2EBFA;\n",
              "      box-shadow: 0px 1px 2px rgba(60, 64, 67, 0.3), 0px 1px 3px 1px rgba(60, 64, 67, 0.15);\n",
              "      fill: #174EA6;\n",
              "    }\n",
              "\n",
              "    [theme=dark] .colab-df-convert {\n",
              "      background-color: #3B4455;\n",
              "      fill: #D2E3FC;\n",
              "    }\n",
              "\n",
              "    [theme=dark] .colab-df-convert:hover {\n",
              "      background-color: #434B5C;\n",
              "      box-shadow: 0px 1px 3px 1px rgba(0, 0, 0, 0.15);\n",
              "      filter: drop-shadow(0px 1px 2px rgba(0, 0, 0, 0.3));\n",
              "      fill: #FFFFFF;\n",
              "    }\n",
              "  </style>\n",
              "\n",
              "      <script>\n",
              "        const buttonEl =\n",
              "          document.querySelector('#df-5f78a5e9-7713-4d84-9c4e-d574b1266bcc button.colab-df-convert');\n",
              "        buttonEl.style.display =\n",
              "          google.colab.kernel.accessAllowed ? 'block' : 'none';\n",
              "\n",
              "        async function convertToInteractive(key) {\n",
              "          const element = document.querySelector('#df-5f78a5e9-7713-4d84-9c4e-d574b1266bcc');\n",
              "          const dataTable =\n",
              "            await google.colab.kernel.invokeFunction('convertToInteractive',\n",
              "                                                     [key], {});\n",
              "          if (!dataTable) return;\n",
              "\n",
              "          const docLinkHtml = 'Like what you see? Visit the ' +\n",
              "            '<a target=\"_blank\" href=https://colab.research.google.com/notebooks/data_table.ipynb>data table notebook</a>'\n",
              "            + ' to learn more about interactive tables.';\n",
              "          element.innerHTML = '';\n",
              "          dataTable['output_type'] = 'display_data';\n",
              "          await google.colab.output.renderOutput(dataTable, element);\n",
              "          const docLink = document.createElement('div');\n",
              "          docLink.innerHTML = docLinkHtml;\n",
              "          element.appendChild(docLink);\n",
              "        }\n",
              "      </script>\n",
              "    </div>\n",
              "  </div>\n",
              "  "
            ],
            "text/plain": [
              "             NO.1        NO.2        NO.3  ...     reportB        exam   deviation\n",
              "count   72.000000   58.000000   89.000000  ...  107.000000  107.000000  107.000000\n",
              "mean    83.472222   79.310345   79.775281  ...   83.177570   54.177570   49.214019\n",
              "std     25.351596   33.158951   26.078009  ...   37.582566   29.395101    7.223474\n",
              "min      0.000000    0.000000    0.000000  ...    0.000000    0.000000   24.300000\n",
              "25%     80.000000   75.000000   75.000000  ...  100.000000   33.500000   46.300000\n",
              "50%     90.000000  100.000000  100.000000  ...  100.000000   65.000000   51.600000\n",
              "75%    100.000000  100.000000  100.000000  ...  100.000000   76.000000   54.450000\n",
              "max    100.000000  100.000000  100.000000  ...  100.000000   95.000000   58.300000\n",
              "\n",
              "[8 rows x 10 columns]"
            ]
          },
          "metadata": {},
          "execution_count": 14
        }
      ]
    },
    {
      "cell_type": "code",
      "source": [
        "data2=data1[a1]\n",
        "\n",
        "data2.head(10)"
      ],
      "metadata": {
        "id": "ElIdBLKQbJB5",
        "colab": {
          "base_uri": "https://localhost:8080/",
          "height": 362
        },
        "outputId": "ea03d02a-b581-49e6-ab30-75414f335079"
      },
      "execution_count": null,
      "outputs": [
        {
          "output_type": "execute_result",
          "data": {
            "text/html": [
              "\n",
              "  <div id=\"df-89751a6e-bf96-4240-9c62-72140dc24449\">\n",
              "    <div class=\"colab-df-container\">\n",
              "      <div>\n",
              "<style scoped>\n",
              "    .dataframe tbody tr th:only-of-type {\n",
              "        vertical-align: middle;\n",
              "    }\n",
              "\n",
              "    .dataframe tbody tr th {\n",
              "        vertical-align: top;\n",
              "    }\n",
              "\n",
              "    .dataframe thead th {\n",
              "        text-align: right;\n",
              "    }\n",
              "</style>\n",
              "<table border=\"1\" class=\"dataframe\">\n",
              "  <thead>\n",
              "    <tr style=\"text-align: right;\">\n",
              "      <th></th>\n",
              "      <th>NO.1</th>\n",
              "      <th>NO.2</th>\n",
              "      <th>NO.3</th>\n",
              "      <th>NO.4</th>\n",
              "      <th>NO.5</th>\n",
              "      <th>NO.6</th>\n",
              "      <th>reportA</th>\n",
              "      <th>reportB</th>\n",
              "    </tr>\n",
              "  </thead>\n",
              "  <tbody>\n",
              "    <tr>\n",
              "      <th>0</th>\n",
              "      <td>100.0</td>\n",
              "      <td>100.0</td>\n",
              "      <td>75.0</td>\n",
              "      <td>90.0</td>\n",
              "      <td>80.0</td>\n",
              "      <td>100.0</td>\n",
              "      <td>100</td>\n",
              "      <td>100</td>\n",
              "    </tr>\n",
              "    <tr>\n",
              "      <th>1</th>\n",
              "      <td>100.0</td>\n",
              "      <td>100.0</td>\n",
              "      <td>100.0</td>\n",
              "      <td>90.0</td>\n",
              "      <td>80.0</td>\n",
              "      <td>100.0</td>\n",
              "      <td>100</td>\n",
              "      <td>100</td>\n",
              "    </tr>\n",
              "    <tr>\n",
              "      <th>2</th>\n",
              "      <td>100.0</td>\n",
              "      <td>0.0</td>\n",
              "      <td>100.0</td>\n",
              "      <td>90.0</td>\n",
              "      <td>80.0</td>\n",
              "      <td>100.0</td>\n",
              "      <td>100</td>\n",
              "      <td>100</td>\n",
              "    </tr>\n",
              "    <tr>\n",
              "      <th>3</th>\n",
              "      <td>80.0</td>\n",
              "      <td>0.0</td>\n",
              "      <td>0.0</td>\n",
              "      <td>90.0</td>\n",
              "      <td>100.0</td>\n",
              "      <td>75.0</td>\n",
              "      <td>70</td>\n",
              "      <td>100</td>\n",
              "    </tr>\n",
              "    <tr>\n",
              "      <th>4</th>\n",
              "      <td>90.0</td>\n",
              "      <td>0.0</td>\n",
              "      <td>100.0</td>\n",
              "      <td>90.0</td>\n",
              "      <td>100.0</td>\n",
              "      <td>100.0</td>\n",
              "      <td>100</td>\n",
              "      <td>100</td>\n",
              "    </tr>\n",
              "    <tr>\n",
              "      <th>5</th>\n",
              "      <td>0.0</td>\n",
              "      <td>50.0</td>\n",
              "      <td>75.0</td>\n",
              "      <td>70.0</td>\n",
              "      <td>0.0</td>\n",
              "      <td>100.0</td>\n",
              "      <td>100</td>\n",
              "      <td>100</td>\n",
              "    </tr>\n",
              "    <tr>\n",
              "      <th>6</th>\n",
              "      <td>80.0</td>\n",
              "      <td>0.0</td>\n",
              "      <td>0.0</td>\n",
              "      <td>0.0</td>\n",
              "      <td>10.0</td>\n",
              "      <td>100.0</td>\n",
              "      <td>100</td>\n",
              "      <td>100</td>\n",
              "    </tr>\n",
              "    <tr>\n",
              "      <th>7</th>\n",
              "      <td>0.0</td>\n",
              "      <td>100.0</td>\n",
              "      <td>100.0</td>\n",
              "      <td>0.0</td>\n",
              "      <td>0.0</td>\n",
              "      <td>100.0</td>\n",
              "      <td>100</td>\n",
              "      <td>100</td>\n",
              "    </tr>\n",
              "    <tr>\n",
              "      <th>8</th>\n",
              "      <td>100.0</td>\n",
              "      <td>100.0</td>\n",
              "      <td>75.0</td>\n",
              "      <td>80.0</td>\n",
              "      <td>90.0</td>\n",
              "      <td>100.0</td>\n",
              "      <td>100</td>\n",
              "      <td>100</td>\n",
              "    </tr>\n",
              "    <tr>\n",
              "      <th>9</th>\n",
              "      <td>0.0</td>\n",
              "      <td>0.0</td>\n",
              "      <td>0.0</td>\n",
              "      <td>100.0</td>\n",
              "      <td>0.0</td>\n",
              "      <td>25.0</td>\n",
              "      <td>100</td>\n",
              "      <td>0</td>\n",
              "    </tr>\n",
              "  </tbody>\n",
              "</table>\n",
              "</div>\n",
              "      <button class=\"colab-df-convert\" onclick=\"convertToInteractive('df-89751a6e-bf96-4240-9c62-72140dc24449')\"\n",
              "              title=\"Convert this dataframe to an interactive table.\"\n",
              "              style=\"display:none;\">\n",
              "        \n",
              "  <svg xmlns=\"http://www.w3.org/2000/svg\" height=\"24px\"viewBox=\"0 0 24 24\"\n",
              "       width=\"24px\">\n",
              "    <path d=\"M0 0h24v24H0V0z\" fill=\"none\"/>\n",
              "    <path d=\"M18.56 5.44l.94 2.06.94-2.06 2.06-.94-2.06-.94-.94-2.06-.94 2.06-2.06.94zm-11 1L8.5 8.5l.94-2.06 2.06-.94-2.06-.94L8.5 2.5l-.94 2.06-2.06.94zm10 10l.94 2.06.94-2.06 2.06-.94-2.06-.94-.94-2.06-.94 2.06-2.06.94z\"/><path d=\"M17.41 7.96l-1.37-1.37c-.4-.4-.92-.59-1.43-.59-.52 0-1.04.2-1.43.59L10.3 9.45l-7.72 7.72c-.78.78-.78 2.05 0 2.83L4 21.41c.39.39.9.59 1.41.59.51 0 1.02-.2 1.41-.59l7.78-7.78 2.81-2.81c.8-.78.8-2.07 0-2.86zM5.41 20L4 18.59l7.72-7.72 1.47 1.35L5.41 20z\"/>\n",
              "  </svg>\n",
              "      </button>\n",
              "      \n",
              "  <style>\n",
              "    .colab-df-container {\n",
              "      display:flex;\n",
              "      flex-wrap:wrap;\n",
              "      gap: 12px;\n",
              "    }\n",
              "\n",
              "    .colab-df-convert {\n",
              "      background-color: #E8F0FE;\n",
              "      border: none;\n",
              "      border-radius: 50%;\n",
              "      cursor: pointer;\n",
              "      display: none;\n",
              "      fill: #1967D2;\n",
              "      height: 32px;\n",
              "      padding: 0 0 0 0;\n",
              "      width: 32px;\n",
              "    }\n",
              "\n",
              "    .colab-df-convert:hover {\n",
              "      background-color: #E2EBFA;\n",
              "      box-shadow: 0px 1px 2px rgba(60, 64, 67, 0.3), 0px 1px 3px 1px rgba(60, 64, 67, 0.15);\n",
              "      fill: #174EA6;\n",
              "    }\n",
              "\n",
              "    [theme=dark] .colab-df-convert {\n",
              "      background-color: #3B4455;\n",
              "      fill: #D2E3FC;\n",
              "    }\n",
              "\n",
              "    [theme=dark] .colab-df-convert:hover {\n",
              "      background-color: #434B5C;\n",
              "      box-shadow: 0px 1px 3px 1px rgba(0, 0, 0, 0.15);\n",
              "      filter: drop-shadow(0px 1px 2px rgba(0, 0, 0, 0.3));\n",
              "      fill: #FFFFFF;\n",
              "    }\n",
              "  </style>\n",
              "\n",
              "      <script>\n",
              "        const buttonEl =\n",
              "          document.querySelector('#df-89751a6e-bf96-4240-9c62-72140dc24449 button.colab-df-convert');\n",
              "        buttonEl.style.display =\n",
              "          google.colab.kernel.accessAllowed ? 'block' : 'none';\n",
              "\n",
              "        async function convertToInteractive(key) {\n",
              "          const element = document.querySelector('#df-89751a6e-bf96-4240-9c62-72140dc24449');\n",
              "          const dataTable =\n",
              "            await google.colab.kernel.invokeFunction('convertToInteractive',\n",
              "                                                     [key], {});\n",
              "          if (!dataTable) return;\n",
              "\n",
              "          const docLinkHtml = 'Like what you see? Visit the ' +\n",
              "            '<a target=\"_blank\" href=https://colab.research.google.com/notebooks/data_table.ipynb>data table notebook</a>'\n",
              "            + ' to learn more about interactive tables.';\n",
              "          element.innerHTML = '';\n",
              "          dataTable['output_type'] = 'display_data';\n",
              "          await google.colab.output.renderOutput(dataTable, element);\n",
              "          const docLink = document.createElement('div');\n",
              "          docLink.innerHTML = docLinkHtml;\n",
              "          element.appendChild(docLink);\n",
              "        }\n",
              "      </script>\n",
              "    </div>\n",
              "  </div>\n",
              "  "
            ],
            "text/plain": [
              "    NO.1   NO.2   NO.3   NO.4   NO.5   NO.6  reportA  reportB\n",
              "0  100.0  100.0   75.0   90.0   80.0  100.0      100      100\n",
              "1  100.0  100.0  100.0   90.0   80.0  100.0      100      100\n",
              "2  100.0    0.0  100.0   90.0   80.0  100.0      100      100\n",
              "3   80.0    0.0    0.0   90.0  100.0   75.0       70      100\n",
              "4   90.0    0.0  100.0   90.0  100.0  100.0      100      100\n",
              "5    0.0   50.0   75.0   70.0    0.0  100.0      100      100\n",
              "6   80.0    0.0    0.0    0.0   10.0  100.0      100      100\n",
              "7    0.0  100.0  100.0    0.0    0.0  100.0      100      100\n",
              "8  100.0  100.0   75.0   80.0   90.0  100.0      100      100\n",
              "9    0.0    0.0    0.0  100.0    0.0   25.0      100        0"
            ]
          },
          "metadata": {},
          "execution_count": 15
        }
      ]
    },
    {
      "cell_type": "code",
      "source": [
        "data1"
      ],
      "metadata": {
        "id": "T8osI_vN15Gz",
        "colab": {
          "base_uri": "https://localhost:8080/",
          "height": 424
        },
        "outputId": "534e8c2b-148a-492d-ec68-98f707879892"
      },
      "execution_count": null,
      "outputs": [
        {
          "output_type": "execute_result",
          "data": {
            "text/html": [
              "\n",
              "  <div id=\"df-777ed014-efb6-4bfe-8108-004ab2eb7b77\">\n",
              "    <div class=\"colab-df-container\">\n",
              "      <div>\n",
              "<style scoped>\n",
              "    .dataframe tbody tr th:only-of-type {\n",
              "        vertical-align: middle;\n",
              "    }\n",
              "\n",
              "    .dataframe tbody tr th {\n",
              "        vertical-align: top;\n",
              "    }\n",
              "\n",
              "    .dataframe thead th {\n",
              "        text-align: right;\n",
              "    }\n",
              "</style>\n",
              "<table border=\"1\" class=\"dataframe\">\n",
              "  <thead>\n",
              "    <tr style=\"text-align: right;\">\n",
              "      <th></th>\n",
              "      <th>NO.1</th>\n",
              "      <th>NO.2</th>\n",
              "      <th>NO.3</th>\n",
              "      <th>NO.4</th>\n",
              "      <th>NO.5</th>\n",
              "      <th>NO.6</th>\n",
              "      <th>reportA</th>\n",
              "      <th>reportB</th>\n",
              "      <th>exam</th>\n",
              "      <th>result</th>\n",
              "      <th>deviation</th>\n",
              "    </tr>\n",
              "  </thead>\n",
              "  <tbody>\n",
              "    <tr>\n",
              "      <th>0</th>\n",
              "      <td>100.0</td>\n",
              "      <td>100.0</td>\n",
              "      <td>75.0</td>\n",
              "      <td>90.0</td>\n",
              "      <td>80.0</td>\n",
              "      <td>100.0</td>\n",
              "      <td>100</td>\n",
              "      <td>100</td>\n",
              "      <td>90</td>\n",
              "      <td>〇</td>\n",
              "      <td>53.6</td>\n",
              "    </tr>\n",
              "    <tr>\n",
              "      <th>1</th>\n",
              "      <td>100.0</td>\n",
              "      <td>100.0</td>\n",
              "      <td>100.0</td>\n",
              "      <td>90.0</td>\n",
              "      <td>80.0</td>\n",
              "      <td>100.0</td>\n",
              "      <td>100</td>\n",
              "      <td>100</td>\n",
              "      <td>90</td>\n",
              "      <td>〇</td>\n",
              "      <td>55.2</td>\n",
              "    </tr>\n",
              "    <tr>\n",
              "      <th>2</th>\n",
              "      <td>100.0</td>\n",
              "      <td>0.0</td>\n",
              "      <td>100.0</td>\n",
              "      <td>90.0</td>\n",
              "      <td>80.0</td>\n",
              "      <td>100.0</td>\n",
              "      <td>100</td>\n",
              "      <td>100</td>\n",
              "      <td>45</td>\n",
              "      <td>×</td>\n",
              "      <td>55.0</td>\n",
              "    </tr>\n",
              "    <tr>\n",
              "      <th>3</th>\n",
              "      <td>80.0</td>\n",
              "      <td>0.0</td>\n",
              "      <td>0.0</td>\n",
              "      <td>90.0</td>\n",
              "      <td>100.0</td>\n",
              "      <td>75.0</td>\n",
              "      <td>70</td>\n",
              "      <td>100</td>\n",
              "      <td>57</td>\n",
              "      <td>×</td>\n",
              "      <td>52.0</td>\n",
              "    </tr>\n",
              "    <tr>\n",
              "      <th>4</th>\n",
              "      <td>90.0</td>\n",
              "      <td>0.0</td>\n",
              "      <td>100.0</td>\n",
              "      <td>90.0</td>\n",
              "      <td>100.0</td>\n",
              "      <td>100.0</td>\n",
              "      <td>100</td>\n",
              "      <td>100</td>\n",
              "      <td>50</td>\n",
              "      <td>×</td>\n",
              "      <td>56.3</td>\n",
              "    </tr>\n",
              "    <tr>\n",
              "      <th>...</th>\n",
              "      <td>...</td>\n",
              "      <td>...</td>\n",
              "      <td>...</td>\n",
              "      <td>...</td>\n",
              "      <td>...</td>\n",
              "      <td>...</td>\n",
              "      <td>...</td>\n",
              "      <td>...</td>\n",
              "      <td>...</td>\n",
              "      <td>...</td>\n",
              "      <td>...</td>\n",
              "    </tr>\n",
              "    <tr>\n",
              "      <th>102</th>\n",
              "      <td>100.0</td>\n",
              "      <td>0.0</td>\n",
              "      <td>100.0</td>\n",
              "      <td>90.0</td>\n",
              "      <td>60.0</td>\n",
              "      <td>100.0</td>\n",
              "      <td>100</td>\n",
              "      <td>100</td>\n",
              "      <td>77</td>\n",
              "      <td>〇</td>\n",
              "      <td>52.7</td>\n",
              "    </tr>\n",
              "    <tr>\n",
              "      <th>103</th>\n",
              "      <td>100.0</td>\n",
              "      <td>75.0</td>\n",
              "      <td>0.0</td>\n",
              "      <td>70.0</td>\n",
              "      <td>80.0</td>\n",
              "      <td>50.0</td>\n",
              "      <td>100</td>\n",
              "      <td>100</td>\n",
              "      <td>75</td>\n",
              "      <td>〇</td>\n",
              "      <td>46.5</td>\n",
              "    </tr>\n",
              "    <tr>\n",
              "      <th>104</th>\n",
              "      <td>90.0</td>\n",
              "      <td>0.0</td>\n",
              "      <td>100.0</td>\n",
              "      <td>90.0</td>\n",
              "      <td>50.0</td>\n",
              "      <td>50.0</td>\n",
              "      <td>100</td>\n",
              "      <td>100</td>\n",
              "      <td>35</td>\n",
              "      <td>×</td>\n",
              "      <td>46.3</td>\n",
              "    </tr>\n",
              "    <tr>\n",
              "      <th>105</th>\n",
              "      <td>70.0</td>\n",
              "      <td>0.0</td>\n",
              "      <td>0.0</td>\n",
              "      <td>0.0</td>\n",
              "      <td>100.0</td>\n",
              "      <td>100.0</td>\n",
              "      <td>70</td>\n",
              "      <td>100</td>\n",
              "      <td>27</td>\n",
              "      <td>×</td>\n",
              "      <td>53.3</td>\n",
              "    </tr>\n",
              "    <tr>\n",
              "      <th>106</th>\n",
              "      <td>90.0</td>\n",
              "      <td>100.0</td>\n",
              "      <td>100.0</td>\n",
              "      <td>90.0</td>\n",
              "      <td>80.0</td>\n",
              "      <td>100.0</td>\n",
              "      <td>100</td>\n",
              "      <td>100</td>\n",
              "      <td>62</td>\n",
              "      <td>〇</td>\n",
              "      <td>54.5</td>\n",
              "    </tr>\n",
              "  </tbody>\n",
              "</table>\n",
              "<p>107 rows × 11 columns</p>\n",
              "</div>\n",
              "      <button class=\"colab-df-convert\" onclick=\"convertToInteractive('df-777ed014-efb6-4bfe-8108-004ab2eb7b77')\"\n",
              "              title=\"Convert this dataframe to an interactive table.\"\n",
              "              style=\"display:none;\">\n",
              "        \n",
              "  <svg xmlns=\"http://www.w3.org/2000/svg\" height=\"24px\"viewBox=\"0 0 24 24\"\n",
              "       width=\"24px\">\n",
              "    <path d=\"M0 0h24v24H0V0z\" fill=\"none\"/>\n",
              "    <path d=\"M18.56 5.44l.94 2.06.94-2.06 2.06-.94-2.06-.94-.94-2.06-.94 2.06-2.06.94zm-11 1L8.5 8.5l.94-2.06 2.06-.94-2.06-.94L8.5 2.5l-.94 2.06-2.06.94zm10 10l.94 2.06.94-2.06 2.06-.94-2.06-.94-.94-2.06-.94 2.06-2.06.94z\"/><path d=\"M17.41 7.96l-1.37-1.37c-.4-.4-.92-.59-1.43-.59-.52 0-1.04.2-1.43.59L10.3 9.45l-7.72 7.72c-.78.78-.78 2.05 0 2.83L4 21.41c.39.39.9.59 1.41.59.51 0 1.02-.2 1.41-.59l7.78-7.78 2.81-2.81c.8-.78.8-2.07 0-2.86zM5.41 20L4 18.59l7.72-7.72 1.47 1.35L5.41 20z\"/>\n",
              "  </svg>\n",
              "      </button>\n",
              "      \n",
              "  <style>\n",
              "    .colab-df-container {\n",
              "      display:flex;\n",
              "      flex-wrap:wrap;\n",
              "      gap: 12px;\n",
              "    }\n",
              "\n",
              "    .colab-df-convert {\n",
              "      background-color: #E8F0FE;\n",
              "      border: none;\n",
              "      border-radius: 50%;\n",
              "      cursor: pointer;\n",
              "      display: none;\n",
              "      fill: #1967D2;\n",
              "      height: 32px;\n",
              "      padding: 0 0 0 0;\n",
              "      width: 32px;\n",
              "    }\n",
              "\n",
              "    .colab-df-convert:hover {\n",
              "      background-color: #E2EBFA;\n",
              "      box-shadow: 0px 1px 2px rgba(60, 64, 67, 0.3), 0px 1px 3px 1px rgba(60, 64, 67, 0.15);\n",
              "      fill: #174EA6;\n",
              "    }\n",
              "\n",
              "    [theme=dark] .colab-df-convert {\n",
              "      background-color: #3B4455;\n",
              "      fill: #D2E3FC;\n",
              "    }\n",
              "\n",
              "    [theme=dark] .colab-df-convert:hover {\n",
              "      background-color: #434B5C;\n",
              "      box-shadow: 0px 1px 3px 1px rgba(0, 0, 0, 0.15);\n",
              "      filter: drop-shadow(0px 1px 2px rgba(0, 0, 0, 0.3));\n",
              "      fill: #FFFFFF;\n",
              "    }\n",
              "  </style>\n",
              "\n",
              "      <script>\n",
              "        const buttonEl =\n",
              "          document.querySelector('#df-777ed014-efb6-4bfe-8108-004ab2eb7b77 button.colab-df-convert');\n",
              "        buttonEl.style.display =\n",
              "          google.colab.kernel.accessAllowed ? 'block' : 'none';\n",
              "\n",
              "        async function convertToInteractive(key) {\n",
              "          const element = document.querySelector('#df-777ed014-efb6-4bfe-8108-004ab2eb7b77');\n",
              "          const dataTable =\n",
              "            await google.colab.kernel.invokeFunction('convertToInteractive',\n",
              "                                                     [key], {});\n",
              "          if (!dataTable) return;\n",
              "\n",
              "          const docLinkHtml = 'Like what you see? Visit the ' +\n",
              "            '<a target=\"_blank\" href=https://colab.research.google.com/notebooks/data_table.ipynb>data table notebook</a>'\n",
              "            + ' to learn more about interactive tables.';\n",
              "          element.innerHTML = '';\n",
              "          dataTable['output_type'] = 'display_data';\n",
              "          await google.colab.output.renderOutput(dataTable, element);\n",
              "          const docLink = document.createElement('div');\n",
              "          docLink.innerHTML = docLinkHtml;\n",
              "          element.appendChild(docLink);\n",
              "        }\n",
              "      </script>\n",
              "    </div>\n",
              "  </div>\n",
              "  "
            ],
            "text/plain": [
              "      NO.1   NO.2   NO.3  NO.4   NO.5  ...  reportA  reportB  exam  result deviation\n",
              "0    100.0  100.0   75.0  90.0   80.0  ...      100      100    90       〇      53.6\n",
              "1    100.0  100.0  100.0  90.0   80.0  ...      100      100    90       〇      55.2\n",
              "2    100.0    0.0  100.0  90.0   80.0  ...      100      100    45       ×      55.0\n",
              "3     80.0    0.0    0.0  90.0  100.0  ...       70      100    57       ×      52.0\n",
              "4     90.0    0.0  100.0  90.0  100.0  ...      100      100    50       ×      56.3\n",
              "..     ...    ...    ...   ...    ...  ...      ...      ...   ...     ...       ...\n",
              "102  100.0    0.0  100.0  90.0   60.0  ...      100      100    77       〇      52.7\n",
              "103  100.0   75.0    0.0  70.0   80.0  ...      100      100    75       〇      46.5\n",
              "104   90.0    0.0  100.0  90.0   50.0  ...      100      100    35       ×      46.3\n",
              "105   70.0    0.0    0.0   0.0  100.0  ...       70      100    27       ×      53.3\n",
              "106   90.0  100.0  100.0  90.0   80.0  ...      100      100    62       〇      54.5\n",
              "\n",
              "[107 rows x 11 columns]"
            ]
          },
          "metadata": {},
          "execution_count": 16
        }
      ]
    },
    {
      "cell_type": "code",
      "source": [
        "data3=data1[a2]\n",
        "\n",
        "data3.head(10)"
      ],
      "metadata": {
        "id": "3wKwBmOQfRz2",
        "colab": {
          "base_uri": "https://localhost:8080/",
          "height": 362
        },
        "outputId": "de25b2d5-ead1-4158-c343-1d5febfd9192"
      },
      "execution_count": null,
      "outputs": [
        {
          "output_type": "execute_result",
          "data": {
            "text/html": [
              "\n",
              "  <div id=\"df-c49771ee-b6e3-4d53-ae11-6997e9e99478\">\n",
              "    <div class=\"colab-df-container\">\n",
              "      <div>\n",
              "<style scoped>\n",
              "    .dataframe tbody tr th:only-of-type {\n",
              "        vertical-align: middle;\n",
              "    }\n",
              "\n",
              "    .dataframe tbody tr th {\n",
              "        vertical-align: top;\n",
              "    }\n",
              "\n",
              "    .dataframe thead th {\n",
              "        text-align: right;\n",
              "    }\n",
              "</style>\n",
              "<table border=\"1\" class=\"dataframe\">\n",
              "  <thead>\n",
              "    <tr style=\"text-align: right;\">\n",
              "      <th></th>\n",
              "      <th>NO.1</th>\n",
              "      <th>NO.2</th>\n",
              "      <th>NO.3</th>\n",
              "      <th>NO.4</th>\n",
              "      <th>NO.5</th>\n",
              "      <th>NO.6</th>\n",
              "      <th>reportA</th>\n",
              "      <th>reportB</th>\n",
              "      <th>exam</th>\n",
              "    </tr>\n",
              "  </thead>\n",
              "  <tbody>\n",
              "    <tr>\n",
              "      <th>0</th>\n",
              "      <td>100.0</td>\n",
              "      <td>100.0</td>\n",
              "      <td>75.0</td>\n",
              "      <td>90.0</td>\n",
              "      <td>80.0</td>\n",
              "      <td>100.0</td>\n",
              "      <td>100</td>\n",
              "      <td>100</td>\n",
              "      <td>90</td>\n",
              "    </tr>\n",
              "    <tr>\n",
              "      <th>1</th>\n",
              "      <td>100.0</td>\n",
              "      <td>100.0</td>\n",
              "      <td>100.0</td>\n",
              "      <td>90.0</td>\n",
              "      <td>80.0</td>\n",
              "      <td>100.0</td>\n",
              "      <td>100</td>\n",
              "      <td>100</td>\n",
              "      <td>90</td>\n",
              "    </tr>\n",
              "    <tr>\n",
              "      <th>2</th>\n",
              "      <td>100.0</td>\n",
              "      <td>0.0</td>\n",
              "      <td>100.0</td>\n",
              "      <td>90.0</td>\n",
              "      <td>80.0</td>\n",
              "      <td>100.0</td>\n",
              "      <td>100</td>\n",
              "      <td>100</td>\n",
              "      <td>45</td>\n",
              "    </tr>\n",
              "    <tr>\n",
              "      <th>3</th>\n",
              "      <td>80.0</td>\n",
              "      <td>0.0</td>\n",
              "      <td>0.0</td>\n",
              "      <td>90.0</td>\n",
              "      <td>100.0</td>\n",
              "      <td>75.0</td>\n",
              "      <td>70</td>\n",
              "      <td>100</td>\n",
              "      <td>57</td>\n",
              "    </tr>\n",
              "    <tr>\n",
              "      <th>4</th>\n",
              "      <td>90.0</td>\n",
              "      <td>0.0</td>\n",
              "      <td>100.0</td>\n",
              "      <td>90.0</td>\n",
              "      <td>100.0</td>\n",
              "      <td>100.0</td>\n",
              "      <td>100</td>\n",
              "      <td>100</td>\n",
              "      <td>50</td>\n",
              "    </tr>\n",
              "    <tr>\n",
              "      <th>5</th>\n",
              "      <td>0.0</td>\n",
              "      <td>50.0</td>\n",
              "      <td>75.0</td>\n",
              "      <td>70.0</td>\n",
              "      <td>0.0</td>\n",
              "      <td>100.0</td>\n",
              "      <td>100</td>\n",
              "      <td>100</td>\n",
              "      <td>67</td>\n",
              "    </tr>\n",
              "    <tr>\n",
              "      <th>6</th>\n",
              "      <td>80.0</td>\n",
              "      <td>0.0</td>\n",
              "      <td>0.0</td>\n",
              "      <td>0.0</td>\n",
              "      <td>10.0</td>\n",
              "      <td>100.0</td>\n",
              "      <td>100</td>\n",
              "      <td>100</td>\n",
              "      <td>0</td>\n",
              "    </tr>\n",
              "    <tr>\n",
              "      <th>7</th>\n",
              "      <td>0.0</td>\n",
              "      <td>100.0</td>\n",
              "      <td>100.0</td>\n",
              "      <td>0.0</td>\n",
              "      <td>0.0</td>\n",
              "      <td>100.0</td>\n",
              "      <td>100</td>\n",
              "      <td>100</td>\n",
              "      <td>65</td>\n",
              "    </tr>\n",
              "    <tr>\n",
              "      <th>8</th>\n",
              "      <td>100.0</td>\n",
              "      <td>100.0</td>\n",
              "      <td>75.0</td>\n",
              "      <td>80.0</td>\n",
              "      <td>90.0</td>\n",
              "      <td>100.0</td>\n",
              "      <td>100</td>\n",
              "      <td>100</td>\n",
              "      <td>75</td>\n",
              "    </tr>\n",
              "    <tr>\n",
              "      <th>9</th>\n",
              "      <td>0.0</td>\n",
              "      <td>0.0</td>\n",
              "      <td>0.0</td>\n",
              "      <td>100.0</td>\n",
              "      <td>0.0</td>\n",
              "      <td>25.0</td>\n",
              "      <td>100</td>\n",
              "      <td>0</td>\n",
              "      <td>0</td>\n",
              "    </tr>\n",
              "  </tbody>\n",
              "</table>\n",
              "</div>\n",
              "      <button class=\"colab-df-convert\" onclick=\"convertToInteractive('df-c49771ee-b6e3-4d53-ae11-6997e9e99478')\"\n",
              "              title=\"Convert this dataframe to an interactive table.\"\n",
              "              style=\"display:none;\">\n",
              "        \n",
              "  <svg xmlns=\"http://www.w3.org/2000/svg\" height=\"24px\"viewBox=\"0 0 24 24\"\n",
              "       width=\"24px\">\n",
              "    <path d=\"M0 0h24v24H0V0z\" fill=\"none\"/>\n",
              "    <path d=\"M18.56 5.44l.94 2.06.94-2.06 2.06-.94-2.06-.94-.94-2.06-.94 2.06-2.06.94zm-11 1L8.5 8.5l.94-2.06 2.06-.94-2.06-.94L8.5 2.5l-.94 2.06-2.06.94zm10 10l.94 2.06.94-2.06 2.06-.94-2.06-.94-.94-2.06-.94 2.06-2.06.94z\"/><path d=\"M17.41 7.96l-1.37-1.37c-.4-.4-.92-.59-1.43-.59-.52 0-1.04.2-1.43.59L10.3 9.45l-7.72 7.72c-.78.78-.78 2.05 0 2.83L4 21.41c.39.39.9.59 1.41.59.51 0 1.02-.2 1.41-.59l7.78-7.78 2.81-2.81c.8-.78.8-2.07 0-2.86zM5.41 20L4 18.59l7.72-7.72 1.47 1.35L5.41 20z\"/>\n",
              "  </svg>\n",
              "      </button>\n",
              "      \n",
              "  <style>\n",
              "    .colab-df-container {\n",
              "      display:flex;\n",
              "      flex-wrap:wrap;\n",
              "      gap: 12px;\n",
              "    }\n",
              "\n",
              "    .colab-df-convert {\n",
              "      background-color: #E8F0FE;\n",
              "      border: none;\n",
              "      border-radius: 50%;\n",
              "      cursor: pointer;\n",
              "      display: none;\n",
              "      fill: #1967D2;\n",
              "      height: 32px;\n",
              "      padding: 0 0 0 0;\n",
              "      width: 32px;\n",
              "    }\n",
              "\n",
              "    .colab-df-convert:hover {\n",
              "      background-color: #E2EBFA;\n",
              "      box-shadow: 0px 1px 2px rgba(60, 64, 67, 0.3), 0px 1px 3px 1px rgba(60, 64, 67, 0.15);\n",
              "      fill: #174EA6;\n",
              "    }\n",
              "\n",
              "    [theme=dark] .colab-df-convert {\n",
              "      background-color: #3B4455;\n",
              "      fill: #D2E3FC;\n",
              "    }\n",
              "\n",
              "    [theme=dark] .colab-df-convert:hover {\n",
              "      background-color: #434B5C;\n",
              "      box-shadow: 0px 1px 3px 1px rgba(0, 0, 0, 0.15);\n",
              "      filter: drop-shadow(0px 1px 2px rgba(0, 0, 0, 0.3));\n",
              "      fill: #FFFFFF;\n",
              "    }\n",
              "  </style>\n",
              "\n",
              "      <script>\n",
              "        const buttonEl =\n",
              "          document.querySelector('#df-c49771ee-b6e3-4d53-ae11-6997e9e99478 button.colab-df-convert');\n",
              "        buttonEl.style.display =\n",
              "          google.colab.kernel.accessAllowed ? 'block' : 'none';\n",
              "\n",
              "        async function convertToInteractive(key) {\n",
              "          const element = document.querySelector('#df-c49771ee-b6e3-4d53-ae11-6997e9e99478');\n",
              "          const dataTable =\n",
              "            await google.colab.kernel.invokeFunction('convertToInteractive',\n",
              "                                                     [key], {});\n",
              "          if (!dataTable) return;\n",
              "\n",
              "          const docLinkHtml = 'Like what you see? Visit the ' +\n",
              "            '<a target=\"_blank\" href=https://colab.research.google.com/notebooks/data_table.ipynb>data table notebook</a>'\n",
              "            + ' to learn more about interactive tables.';\n",
              "          element.innerHTML = '';\n",
              "          dataTable['output_type'] = 'display_data';\n",
              "          await google.colab.output.renderOutput(dataTable, element);\n",
              "          const docLink = document.createElement('div');\n",
              "          docLink.innerHTML = docLinkHtml;\n",
              "          element.appendChild(docLink);\n",
              "        }\n",
              "      </script>\n",
              "    </div>\n",
              "  </div>\n",
              "  "
            ],
            "text/plain": [
              "    NO.1   NO.2   NO.3   NO.4   NO.5   NO.6  reportA  reportB  exam\n",
              "0  100.0  100.0   75.0   90.0   80.0  100.0      100      100    90\n",
              "1  100.0  100.0  100.0   90.0   80.0  100.0      100      100    90\n",
              "2  100.0    0.0  100.0   90.0   80.0  100.0      100      100    45\n",
              "3   80.0    0.0    0.0   90.0  100.0   75.0       70      100    57\n",
              "4   90.0    0.0  100.0   90.0  100.0  100.0      100      100    50\n",
              "5    0.0   50.0   75.0   70.0    0.0  100.0      100      100    67\n",
              "6   80.0    0.0    0.0    0.0   10.0  100.0      100      100     0\n",
              "7    0.0  100.0  100.0    0.0    0.0  100.0      100      100    65\n",
              "8  100.0  100.0   75.0   80.0   90.0  100.0      100      100    75\n",
              "9    0.0    0.0    0.0  100.0    0.0   25.0      100        0     0"
            ]
          },
          "metadata": {},
          "execution_count": 17
        }
      ]
    },
    {
      "cell_type": "code",
      "source": [
        "dx1=data3.head(107)\n",
        "dx1[\"total\"]=dx1[\"NO.1\"]+dx1[\"NO.2\"]+dx1[\"NO.3\"]+dx1[\"NO.4\"]+dx1[\"NO.5\"]+dx1[\"NO.6\"]+dx1[\"reportA\"]+dx1[\"reportB\"]\n",
        "print(dx1.head(3))\n",
        "dx1.plot(kind='scatter',x='total',y='exam')"
      ],
      "metadata": {
        "id": "e6oJJyXmpctZ",
        "colab": {
          "base_uri": "https://localhost:8080/",
          "height": 372
        },
        "outputId": "5cb3574d-2370-4f28-872f-a02fc19f87e8"
      },
      "execution_count": null,
      "outputs": [
        {
          "output_type": "stream",
          "name": "stdout",
          "text": [
            "    NO.1   NO.2   NO.3  NO.4  NO.5   NO.6  reportA  reportB  exam  total\n",
            "0  100.0  100.0   75.0  90.0  80.0  100.0      100      100    90  745.0\n",
            "1  100.0  100.0  100.0  90.0  80.0  100.0      100      100    90  770.0\n",
            "2  100.0    0.0  100.0  90.0  80.0  100.0      100      100    45  670.0\n"
          ]
        },
        {
          "output_type": "execute_result",
          "data": {
            "text/plain": [
              "<matplotlib.axes._subplots.AxesSubplot at 0x7f10e30defd0>"
            ]
          },
          "metadata": {},
          "execution_count": 18
        },
        {
          "output_type": "display_data",
          "data": {
            "image/png": "[encoded data removed]",
            "text/plain": [
              "<Figure size 432x288 with 1 Axes>"
            ]
          },
          "metadata": {
            "needs_background": "light"
          }
        }
      ]
    },
    {
      "cell_type": "code",
      "source": [
        "#外れ値を処理しないまま決定係数を求める\n",
        "\n",
        "#d1,d2を説明変数、目的変数に分割\n",
        "model1=LinearRegression()\n",
        "i=0 \n",
        "stotal1=0\n",
        "for i in range(10):\n",
        "    xtrain1,xtest1,ytrain1,ytest1=train_test_split(data2,d2,test_size=0.2,random_state=i)\n",
        "    model1.fit(xtrain1,ytrain1)\n",
        "    sval1=model1.score(xtest1, ytest1)\n",
        "    stotal1=stotal1+sval1\n",
        "    saverage1=stotal1/10\n",
        "print(saverage1)"
      ],
      "metadata": {
        "id": "hN8TGOydyskC",
        "colab": {
          "base_uri": "https://localhost:8080/"
        },
        "outputId": "d6f5d712-f5a6-40c0-8562-6fc33c00dba3"
      },
      "execution_count": null,
      "outputs": [
        {
          "output_type": "stream",
          "name": "stdout",
          "text": [
            "0.4133625394587986\n"
          ]
        }
      ]
    },
    {
      "cell_type": "code",
      "source": [
        "ave1=(0.08186732604835645+0.47159038823051136+0.48895441487749436+0.3431472061809703+0.6248517272614358+0.2975312585567548+0.42666259495812253+0.5630299658025235+0.7636820491291796+0.07230846354263709)/10\n",
        "print(ave1)"
      ],
      "metadata": {
        "id": "pczNaG-fOfKj",
        "colab": {
          "base_uri": "https://localhost:8080/"
        },
        "outputId": "2e4f30c4-b05e-4230-fa38-45665b5ae8d3"
      },
      "execution_count": null,
      "outputs": [
        {
          "output_type": "stream",
          "name": "stdout",
          "text": [
            "0.4133625394587986\n"
          ]
        }
      ]
    },
    {
      "cell_type": "code",
      "source": [
        "#ave1=/10\n",
        "#print(ave1)"
      ],
      "metadata": {
        "id": "y51VCWxsOuyN"
      },
      "execution_count": null,
      "outputs": []
    },
    {
      "cell_type": "code",
      "source": [
        "print(data2.head(3))\n",
        "print(d_result.head(3))"
      ],
      "metadata": {
        "id": "8x-cJONJdbof",
        "colab": {
          "base_uri": "https://localhost:8080/"
        },
        "outputId": "dafae7d4-1720-455e-89ea-4f689836c5b8"
      },
      "execution_count": null,
      "outputs": [
        {
          "output_type": "stream",
          "name": "stdout",
          "text": [
            "    NO.1   NO.2   NO.3  NO.4  NO.5   NO.6  reportA  reportB\n",
            "0  100.0  100.0   75.0  90.0  80.0  100.0      100      100\n",
            "1  100.0  100.0  100.0  90.0  80.0  100.0      100      100\n",
            "2  100.0    0.0  100.0  90.0  80.0  100.0      100      100\n",
            "0    1\n",
            "1    1\n",
            "2    0\n",
            "Name: result, dtype: uint8\n"
          ]
        }
      ]
    },
    {
      "cell_type": "code",
      "source": [
        "#ロジスティック回帰\n",
        "#正解率\n",
        "\n",
        "logi1=LogisticRegression(random_state=0,C=0.1)\n",
        "i=0 \n",
        "stotal2=0\n",
        "stotal3=0\n",
        "for i in range(10):\n",
        "    xtrain01,xtest01,ytrain01,ytest01=train_test_split(data2,d_result,test_size=0.2,random_state=i)\n",
        "    logi1.fit(xtrain01,ytrain01)\n",
        "\n",
        "    sval2=logi1.score(xtrain01,ytrain01)\n",
        "    sval3=logi1.score(xtest01,ytest01)\n",
        "    \n",
        "    stotal2=stotal2+sval2\n",
        "    stotal3=stotal3+sval3\n",
        "\n",
        "    saverage2=stotal2/10\n",
        "    saverage3=stotal3/10\n",
        "print(saverage2,saverage3)\n"
      ],
      "metadata": {
        "id": "NnKw0aXd_uYl",
        "colab": {
          "base_uri": "https://localhost:8080/"
        },
        "outputId": "8f569c97-13ee-453c-b91f-1ede9537a29d"
      },
      "execution_count": null,
      "outputs": [
        {
          "output_type": "stream",
          "name": "stdout",
          "text": [
            "0.7223529411764706 0.6909090909090908\n"
          ]
        }
      ]
    },
    {
      "cell_type": "code",
      "source": [
        "#予測 100回予測したうちの○○回は正解\n",
        "i=0\n",
        "stotal4=0\n",
        "for i in range(10):\n",
        "    xtrain01,xtest01,ytrain01,ytest01=train_test_split(data2,d_result,test_size=0.2,random_state=i)\n",
        "    ypred1 = logi1.predict(xtest01)\n",
        "    sval4=accuracy_score(ytest01,ypred1)\n",
        "    stotal4=stotal4+sval4\n",
        "    saverage4=stotal4/10\n",
        "print(saverage4)"
      ],
      "metadata": {
        "id": "bVNlIZMRvDyr",
        "colab": {
          "base_uri": "https://localhost:8080/"
        },
        "outputId": "e695b99a-b6a1-4612-9713-13cf9f6a9442"
      },
      "execution_count": null,
      "outputs": [
        {
          "output_type": "stream",
          "name": "stdout",
          "text": [
            "0.6863636363636363\n"
          ]
        }
      ]
    },
    {
      "cell_type": "code",
      "source": [
        "print('accuracy=',accuracy_score(y_true=ytest01,y_pred=ypred1))\n",
        "i01=0\n",
        "i10=0\n",
        "for i in range(len(ytest01)):\n",
        "  print(ytest01.iloc[i],ypred1[i])\n",
        "  if ytest01.iloc[i]==0 and ypred1[i]==1:\n",
        "    i01=+i01+1 \n",
        "  if ytest01.iloc[i]==1 and ypred1[i]==0:\n",
        "    i10=+i01+1\n",
        "print(f\"i01={i01},i10={i10},total={len(ytest1)}\")"
      ],
      "metadata": {
        "id": "vD0FmL5ya1vZ",
        "colab": {
          "base_uri": "https://localhost:8080/"
        },
        "outputId": "7e7d0be1-2458-43e5-afbf-00eea704fdae"
      },
      "execution_count": null,
      "outputs": [
        {
          "output_type": "stream",
          "name": "stdout",
          "text": [
            "accuracy= 0.5454545454545454\n",
            "1 0\n",
            "1 1\n",
            "0 1\n",
            "1 1\n",
            "1 1\n",
            "0 0\n",
            "1 0\n",
            "1 1\n",
            "0 1\n",
            "0 1\n",
            "1 1\n",
            "1 1\n",
            "1 1\n",
            "1 1\n",
            "1 0\n",
            "0 1\n",
            "1 1\n",
            "1 1\n",
            "0 1\n",
            "0 1\n",
            "0 1\n",
            "1 1\n",
            "i01=7,i10=4,total=22\n"
          ]
        }
      ]
    },
    {
      "cell_type": "code",
      "source": [
        "#1.2 相関係数で絞り込みver\n",
        "data3_cor=data3.corr()['exam']\n",
        "data3_cor"
      ],
      "metadata": {
        "id": "vP7Fvskre2Nx",
        "colab": {
          "base_uri": "https://localhost:8080/"
        },
        "outputId": "498d0bd0-70f3-4443-f884-ce50cc0647dd"
      },
      "execution_count": null,
      "outputs": [
        {
          "output_type": "execute_result",
          "data": {
            "text/plain": [
              "NO.1       0.122533\n",
              "NO.2       0.224618\n",
              "NO.3       0.181748\n",
              "NO.4       0.070936\n",
              "NO.5       0.309327\n",
              "NO.6       0.288568\n",
              "reportA    0.607673\n",
              "reportB    0.631237\n",
              "exam       1.000000\n",
              "Name: exam, dtype: float64"
            ]
          },
          "metadata": {},
          "execution_count": 26
        }
      ]
    },
    {
      "cell_type": "code",
      "source": [
        "abs_data3=data3_cor.map(abs)\n",
        "abs_data3.sort_values(ascending=False)"
      ],
      "metadata": {
        "id": "HtihYltyflb-",
        "colab": {
          "base_uri": "https://localhost:8080/"
        },
        "outputId": "3778fe37-3e5d-4b2f-81c0-1968fa2547f1"
      },
      "execution_count": null,
      "outputs": [
        {
          "output_type": "execute_result",
          "data": {
            "text/plain": [
              "exam       1.000000\n",
              "reportB    0.631237\n",
              "reportA    0.607673\n",
              "NO.5       0.309327\n",
              "NO.6       0.288568\n",
              "NO.2       0.224618\n",
              "NO.3       0.181748\n",
              "NO.1       0.122533\n",
              "NO.4       0.070936\n",
              "Name: exam, dtype: float64"
            ]
          },
          "metadata": {},
          "execution_count": 27
        }
      ]
    },
    {
      "cell_type": "code",
      "source": [
        "col1=['reportB','reportA','NO.5','NO.6']\n",
        "data4=data3[col1]\n",
        "data5=data3[a3]"
      ],
      "metadata": {
        "id": "aWMd4tpbgIaW"
      },
      "execution_count": null,
      "outputs": []
    },
    {
      "cell_type": "code",
      "source": [
        "dx2=data3.head(108)\n",
        "dx2[\"total\"]=dx2[\"NO.5\"]+dx2[\"NO.6\"]+dx2[\"reportA\"]+dx2[\"reportB\"]\n",
        "dx2.plot(kind='scatter',x='total',y='exam')"
      ],
      "metadata": {
        "id": "4AT94eha5zrb",
        "colab": {
          "base_uri": "https://localhost:8080/",
          "height": 297
        },
        "outputId": "e3e491e4-07eb-4a2c-bc9a-c4d379fb42ac"
      },
      "execution_count": null,
      "outputs": [
        {
          "output_type": "execute_result",
          "data": {
            "text/plain": [
              "<matplotlib.axes._subplots.AxesSubplot at 0x7f10e303fdd0>"
            ]
          },
          "metadata": {},
          "execution_count": 29
        },
        {
          "output_type": "display_data",
          "data": {
            "image/png": "[encoded data removed]",
            "text/plain": [
              "<Figure size 432x288 with 1 Axes>"
            ]
          },
          "metadata": {
            "needs_background": "light"
          }
        }
      ]
    },
    {
      "cell_type": "code",
      "source": [
        "#data4,data5を説明変数、目的変数に分割\n",
        "model2=LinearRegression()\n",
        "i=0 \n",
        "stotal5=0\n",
        "for i in range(10):\n",
        "    xtrain2,xtest2,ytrain2,ytest2=train_test_split(data4,data5,test_size=0.2,random_state=i)\n",
        "    model2.fit(xtrain2,ytrain2)\n",
        "    sval5=model2.score(xtest2, ytest2)\n",
        "    stotal5=stotal5+sval5\n",
        "    saverage5=stotal5/10\n",
        "print(saverage5)"
      ],
      "metadata": {
        "id": "ykfogxT4KFcZ",
        "colab": {
          "base_uri": "https://localhost:8080/"
        },
        "outputId": "61acabff-5478-4ccc-dff5-ec00921b1a63"
      },
      "execution_count": null,
      "outputs": [
        {
          "output_type": "stream",
          "name": "stdout",
          "text": [
            "0.46143767677093184\n"
          ]
        }
      ]
    },
    {
      "cell_type": "code",
      "source": [
        "#ロジスティック回帰\n",
        "#正解率\n",
        "\n",
        "logi2=LogisticRegression(random_state=0,C=0.1)\n",
        "i=0 \n",
        "stotal6=0\n",
        "stotal7=0\n",
        "for i in range(10):\n",
        "    xtrain02,xtest02,ytrain02,ytest02=train_test_split(data4,d_result,test_size=0.2,random_state=i)\n",
        "    logi2.fit(xtrain02,ytrain02)\n",
        "\n",
        "    sval6=logi2.score(xtrain02,ytrain02)\n",
        "    sval7=logi2.score(xtest02,ytest02)\n",
        "    \n",
        "    stotal6=stotal6+sval6\n",
        "    stotal7=stotal7+sval7\n",
        "\n",
        "    saverage6=stotal6/10\n",
        "    saverage7=stotal7/10\n",
        "print(saverage6,saverage7)\n"
      ],
      "metadata": {
        "id": "uO1V92k9LXTz",
        "colab": {
          "base_uri": "https://localhost:8080/"
        },
        "outputId": "adffc28b-9d7b-484f-de9f-0da4b3356404"
      },
      "execution_count": null,
      "outputs": [
        {
          "output_type": "stream",
          "name": "stdout",
          "text": [
            "0.7070588235294119 0.7136363636363636\n"
          ]
        }
      ]
    },
    {
      "cell_type": "code",
      "source": [
        "#予測 100回予測したうちの○○回は正解\n",
        "i=0\n",
        "stotal8=0\n",
        "for i in range(10):\n",
        "    xtrain02,xtest02,ytrain02,ytest02=train_test_split(data4,d_result,test_size=0.2,random_state=i)\n",
        "    ypred2 = logi2.predict(xtest02)\n",
        "    sval8=accuracy_score(ytest02,ypred2)\n",
        "    stotal8=stotal8+sval8\n",
        "    saverage8=stotal8/10\n",
        "print(saverage8)"
      ],
      "metadata": {
        "id": "P7WIqZJzMJRa",
        "colab": {
          "base_uri": "https://localhost:8080/"
        },
        "outputId": "c5e0abf5-498f-4ba4-9ebf-0fca955dfcd0"
      },
      "execution_count": null,
      "outputs": [
        {
          "output_type": "stream",
          "name": "stdout",
          "text": [
            "0.75\n"
          ]
        }
      ]
    },
    {
      "cell_type": "code",
      "source": [
        "print('accuracy=',accuracy_score(y_true=ytest02,y_pred=ypred2))\n",
        "i01=0\n",
        "i10=0\n",
        "for i in range(len(ytest02)):\n",
        "  print(ytest02.iloc[i],ypred2[i])\n",
        "  if ytest02.iloc[i]==0 and ypred2[i]==1:\n",
        "    i01=+i01+1 \n",
        "  if ytest02.iloc[i]==1 and ypred2[i]==0:\n",
        "    i10=+i01+1\n",
        "print(f\"i01={i01},i10={i10},total={len(ytest2)}\")"
      ],
      "metadata": {
        "id": "xRaxWmP87KyE",
        "colab": {
          "base_uri": "https://localhost:8080/"
        },
        "outputId": "987b46d3-8066-4b8e-e8a8-18545a226f75"
      },
      "execution_count": null,
      "outputs": [
        {
          "output_type": "stream",
          "name": "stdout",
          "text": [
            "accuracy= 0.7272727272727273\n",
            "1 1\n",
            "1 1\n",
            "0 0\n",
            "1 1\n",
            "1 1\n",
            "0 0\n",
            "1 0\n",
            "1 1\n",
            "0 1\n",
            "0 1\n",
            "1 1\n",
            "1 1\n",
            "1 1\n",
            "1 1\n",
            "1 1\n",
            "0 0\n",
            "1 1\n",
            "1 1\n",
            "0 1\n",
            "0 1\n",
            "0 1\n",
            "1 1\n",
            "i01=5,i10=1,total=22\n"
          ]
        }
      ]
    },
    {
      "cell_type": "code",
      "source": [
        "#2.1 欠損値に0を代入して試験が0点の人を排除して決定係数を求める\n",
        "\n",
        "data6=data3[data3['exam']!=0].fillna(0)\n",
        "data6"
      ],
      "metadata": {
        "id": "AyTG5_j3huYl",
        "colab": {
          "base_uri": "https://localhost:8080/",
          "height": 424
        },
        "outputId": "846a9f02-c9c2-4cfc-f005-6dac2d38e114"
      },
      "execution_count": null,
      "outputs": [
        {
          "output_type": "execute_result",
          "data": {
            "text/html": [
              "\n",
              "  <div id=\"df-882e498f-6aa3-442d-876e-363b8b0ee49e\">\n",
              "    <div class=\"colab-df-container\">\n",
              "      <div>\n",
              "<style scoped>\n",
              "    .dataframe tbody tr th:only-of-type {\n",
              "        vertical-align: middle;\n",
              "    }\n",
              "\n",
              "    .dataframe tbody tr th {\n",
              "        vertical-align: top;\n",
              "    }\n",
              "\n",
              "    .dataframe thead th {\n",
              "        text-align: right;\n",
              "    }\n",
              "</style>\n",
              "<table border=\"1\" class=\"dataframe\">\n",
              "  <thead>\n",
              "    <tr style=\"text-align: right;\">\n",
              "      <th></th>\n",
              "      <th>NO.1</th>\n",
              "      <th>NO.2</th>\n",
              "      <th>NO.3</th>\n",
              "      <th>NO.4</th>\n",
              "      <th>NO.5</th>\n",
              "      <th>NO.6</th>\n",
              "      <th>reportA</th>\n",
              "      <th>reportB</th>\n",
              "      <th>exam</th>\n",
              "    </tr>\n",
              "  </thead>\n",
              "  <tbody>\n",
              "    <tr>\n",
              "      <th>0</th>\n",
              "      <td>100.0</td>\n",
              "      <td>100.0</td>\n",
              "      <td>75.0</td>\n",
              "      <td>90.0</td>\n",
              "      <td>80.0</td>\n",
              "      <td>100.0</td>\n",
              "      <td>100</td>\n",
              "      <td>100</td>\n",
              "      <td>90</td>\n",
              "    </tr>\n",
              "    <tr>\n",
              "      <th>1</th>\n",
              "      <td>100.0</td>\n",
              "      <td>100.0</td>\n",
              "      <td>100.0</td>\n",
              "      <td>90.0</td>\n",
              "      <td>80.0</td>\n",
              "      <td>100.0</td>\n",
              "      <td>100</td>\n",
              "      <td>100</td>\n",
              "      <td>90</td>\n",
              "    </tr>\n",
              "    <tr>\n",
              "      <th>2</th>\n",
              "      <td>100.0</td>\n",
              "      <td>0.0</td>\n",
              "      <td>100.0</td>\n",
              "      <td>90.0</td>\n",
              "      <td>80.0</td>\n",
              "      <td>100.0</td>\n",
              "      <td>100</td>\n",
              "      <td>100</td>\n",
              "      <td>45</td>\n",
              "    </tr>\n",
              "    <tr>\n",
              "      <th>3</th>\n",
              "      <td>80.0</td>\n",
              "      <td>0.0</td>\n",
              "      <td>0.0</td>\n",
              "      <td>90.0</td>\n",
              "      <td>100.0</td>\n",
              "      <td>75.0</td>\n",
              "      <td>70</td>\n",
              "      <td>100</td>\n",
              "      <td>57</td>\n",
              "    </tr>\n",
              "    <tr>\n",
              "      <th>4</th>\n",
              "      <td>90.0</td>\n",
              "      <td>0.0</td>\n",
              "      <td>100.0</td>\n",
              "      <td>90.0</td>\n",
              "      <td>100.0</td>\n",
              "      <td>100.0</td>\n",
              "      <td>100</td>\n",
              "      <td>100</td>\n",
              "      <td>50</td>\n",
              "    </tr>\n",
              "    <tr>\n",
              "      <th>...</th>\n",
              "      <td>...</td>\n",
              "      <td>...</td>\n",
              "      <td>...</td>\n",
              "      <td>...</td>\n",
              "      <td>...</td>\n",
              "      <td>...</td>\n",
              "      <td>...</td>\n",
              "      <td>...</td>\n",
              "      <td>...</td>\n",
              "    </tr>\n",
              "    <tr>\n",
              "      <th>102</th>\n",
              "      <td>100.0</td>\n",
              "      <td>0.0</td>\n",
              "      <td>100.0</td>\n",
              "      <td>90.0</td>\n",
              "      <td>60.0</td>\n",
              "      <td>100.0</td>\n",
              "      <td>100</td>\n",
              "      <td>100</td>\n",
              "      <td>77</td>\n",
              "    </tr>\n",
              "    <tr>\n",
              "      <th>103</th>\n",
              "      <td>100.0</td>\n",
              "      <td>75.0</td>\n",
              "      <td>0.0</td>\n",
              "      <td>70.0</td>\n",
              "      <td>80.0</td>\n",
              "      <td>50.0</td>\n",
              "      <td>100</td>\n",
              "      <td>100</td>\n",
              "      <td>75</td>\n",
              "    </tr>\n",
              "    <tr>\n",
              "      <th>104</th>\n",
              "      <td>90.0</td>\n",
              "      <td>0.0</td>\n",
              "      <td>100.0</td>\n",
              "      <td>90.0</td>\n",
              "      <td>50.0</td>\n",
              "      <td>50.0</td>\n",
              "      <td>100</td>\n",
              "      <td>100</td>\n",
              "      <td>35</td>\n",
              "    </tr>\n",
              "    <tr>\n",
              "      <th>105</th>\n",
              "      <td>70.0</td>\n",
              "      <td>0.0</td>\n",
              "      <td>0.0</td>\n",
              "      <td>0.0</td>\n",
              "      <td>100.0</td>\n",
              "      <td>100.0</td>\n",
              "      <td>70</td>\n",
              "      <td>100</td>\n",
              "      <td>27</td>\n",
              "    </tr>\n",
              "    <tr>\n",
              "      <th>106</th>\n",
              "      <td>90.0</td>\n",
              "      <td>100.0</td>\n",
              "      <td>100.0</td>\n",
              "      <td>90.0</td>\n",
              "      <td>80.0</td>\n",
              "      <td>100.0</td>\n",
              "      <td>100</td>\n",
              "      <td>100</td>\n",
              "      <td>62</td>\n",
              "    </tr>\n",
              "  </tbody>\n",
              "</table>\n",
              "<p>90 rows × 9 columns</p>\n",
              "</div>\n",
              "      <button class=\"colab-df-convert\" onclick=\"convertToInteractive('df-882e498f-6aa3-442d-876e-363b8b0ee49e')\"\n",
              "              title=\"Convert this dataframe to an interactive table.\"\n",
              "              style=\"display:none;\">\n",
              "        \n",
              "  <svg xmlns=\"http://www.w3.org/2000/svg\" height=\"24px\"viewBox=\"0 0 24 24\"\n",
              "       width=\"24px\">\n",
              "    <path d=\"M0 0h24v24H0V0z\" fill=\"none\"/>\n",
              "    <path d=\"M18.56 5.44l.94 2.06.94-2.06 2.06-.94-2.06-.94-.94-2.06-.94 2.06-2.06.94zm-11 1L8.5 8.5l.94-2.06 2.06-.94-2.06-.94L8.5 2.5l-.94 2.06-2.06.94zm10 10l.94 2.06.94-2.06 2.06-.94-2.06-.94-.94-2.06-.94 2.06-2.06.94z\"/><path d=\"M17.41 7.96l-1.37-1.37c-.4-.4-.92-.59-1.43-.59-.52 0-1.04.2-1.43.59L10.3 9.45l-7.72 7.72c-.78.78-.78 2.05 0 2.83L4 21.41c.39.39.9.59 1.41.59.51 0 1.02-.2 1.41-.59l7.78-7.78 2.81-2.81c.8-.78.8-2.07 0-2.86zM5.41 20L4 18.59l7.72-7.72 1.47 1.35L5.41 20z\"/>\n",
              "  </svg>\n",
              "      </button>\n",
              "      \n",
              "  <style>\n",
              "    .colab-df-container {\n",
              "      display:flex;\n",
              "      flex-wrap:wrap;\n",
              "      gap: 12px;\n",
              "    }\n",
              "\n",
              "    .colab-df-convert {\n",
              "      background-color: #E8F0FE;\n",
              "      border: none;\n",
              "      border-radius: 50%;\n",
              "      cursor: pointer;\n",
              "      display: none;\n",
              "      fill: #1967D2;\n",
              "      height: 32px;\n",
              "      padding: 0 0 0 0;\n",
              "      width: 32px;\n",
              "    }\n",
              "\n",
              "    .colab-df-convert:hover {\n",
              "      background-color: #E2EBFA;\n",
              "      box-shadow: 0px 1px 2px rgba(60, 64, 67, 0.3), 0px 1px 3px 1px rgba(60, 64, 67, 0.15);\n",
              "      fill: #174EA6;\n",
              "    }\n",
              "\n",
              "    [theme=dark] .colab-df-convert {\n",
              "      background-color: #3B4455;\n",
              "      fill: #D2E3FC;\n",
              "    }\n",
              "\n",
              "    [theme=dark] .colab-df-convert:hover {\n",
              "      background-color: #434B5C;\n",
              "      box-shadow: 0px 1px 3px 1px rgba(0, 0, 0, 0.15);\n",
              "      filter: drop-shadow(0px 1px 2px rgba(0, 0, 0, 0.3));\n",
              "      fill: #FFFFFF;\n",
              "    }\n",
              "  </style>\n",
              "\n",
              "      <script>\n",
              "        const buttonEl =\n",
              "          document.querySelector('#df-882e498f-6aa3-442d-876e-363b8b0ee49e button.colab-df-convert');\n",
              "        buttonEl.style.display =\n",
              "          google.colab.kernel.accessAllowed ? 'block' : 'none';\n",
              "\n",
              "        async function convertToInteractive(key) {\n",
              "          const element = document.querySelector('#df-882e498f-6aa3-442d-876e-363b8b0ee49e');\n",
              "          const dataTable =\n",
              "            await google.colab.kernel.invokeFunction('convertToInteractive',\n",
              "                                                     [key], {});\n",
              "          if (!dataTable) return;\n",
              "\n",
              "          const docLinkHtml = 'Like what you see? Visit the ' +\n",
              "            '<a target=\"_blank\" href=https://colab.research.google.com/notebooks/data_table.ipynb>data table notebook</a>'\n",
              "            + ' to learn more about interactive tables.';\n",
              "          element.innerHTML = '';\n",
              "          dataTable['output_type'] = 'display_data';\n",
              "          await google.colab.output.renderOutput(dataTable, element);\n",
              "          const docLink = document.createElement('div');\n",
              "          docLink.innerHTML = docLinkHtml;\n",
              "          element.appendChild(docLink);\n",
              "        }\n",
              "      </script>\n",
              "    </div>\n",
              "  </div>\n",
              "  "
            ],
            "text/plain": [
              "      NO.1   NO.2   NO.3  NO.4   NO.5   NO.6  reportA  reportB  exam\n",
              "0    100.0  100.0   75.0  90.0   80.0  100.0      100      100    90\n",
              "1    100.0  100.0  100.0  90.0   80.0  100.0      100      100    90\n",
              "2    100.0    0.0  100.0  90.0   80.0  100.0      100      100    45\n",
              "3     80.0    0.0    0.0  90.0  100.0   75.0       70      100    57\n",
              "4     90.0    0.0  100.0  90.0  100.0  100.0      100      100    50\n",
              "..     ...    ...    ...   ...    ...    ...      ...      ...   ...\n",
              "102  100.0    0.0  100.0  90.0   60.0  100.0      100      100    77\n",
              "103  100.0   75.0    0.0  70.0   80.0   50.0      100      100    75\n",
              "104   90.0    0.0  100.0  90.0   50.0   50.0      100      100    35\n",
              "105   70.0    0.0    0.0   0.0  100.0  100.0       70      100    27\n",
              "106   90.0  100.0  100.0  90.0   80.0  100.0      100      100    62\n",
              "\n",
              "[90 rows x 9 columns]"
            ]
          },
          "metadata": {},
          "execution_count": 34
        }
      ]
    },
    {
      "cell_type": "code",
      "source": [
        "d001=d000[d000['exam']!=0].fillna(0)\n",
        "d002=d001[a4]\n",
        "d002.sum"
      ],
      "metadata": {
        "id": "akxgHiXD9zeG",
        "colab": {
          "base_uri": "https://localhost:8080/"
        },
        "outputId": "c7673ff6-8843-417e-c959-5d37165ad273"
      },
      "execution_count": null,
      "outputs": [
        {
          "output_type": "execute_result",
          "data": {
            "text/plain": [
              "<bound method DataFrame.sum of      result\n",
              "0         1\n",
              "1         1\n",
              "2         0\n",
              "3         0\n",
              "4         0\n",
              "..      ...\n",
              "102       1\n",
              "103       1\n",
              "104       0\n",
              "105       0\n",
              "106       1\n",
              "\n",
              "[90 rows x 1 columns]>"
            ]
          },
          "metadata": {},
          "execution_count": 35
        }
      ]
    },
    {
      "cell_type": "code",
      "source": [
        "data7=data6[a2]\n",
        "data7.head(7)"
      ],
      "metadata": {
        "id": "1RCKPnuwj6El",
        "colab": {
          "base_uri": "https://localhost:8080/",
          "height": 269
        },
        "outputId": "312c62c3-fbd9-4397-f464-c949df0ad9a6"
      },
      "execution_count": null,
      "outputs": [
        {
          "output_type": "execute_result",
          "data": {
            "text/html": [
              "\n",
              "  <div id=\"df-77d2a0f0-969b-4880-b06f-ff8df358bd40\">\n",
              "    <div class=\"colab-df-container\">\n",
              "      <div>\n",
              "<style scoped>\n",
              "    .dataframe tbody tr th:only-of-type {\n",
              "        vertical-align: middle;\n",
              "    }\n",
              "\n",
              "    .dataframe tbody tr th {\n",
              "        vertical-align: top;\n",
              "    }\n",
              "\n",
              "    .dataframe thead th {\n",
              "        text-align: right;\n",
              "    }\n",
              "</style>\n",
              "<table border=\"1\" class=\"dataframe\">\n",
              "  <thead>\n",
              "    <tr style=\"text-align: right;\">\n",
              "      <th></th>\n",
              "      <th>NO.1</th>\n",
              "      <th>NO.2</th>\n",
              "      <th>NO.3</th>\n",
              "      <th>NO.4</th>\n",
              "      <th>NO.5</th>\n",
              "      <th>NO.6</th>\n",
              "      <th>reportA</th>\n",
              "      <th>reportB</th>\n",
              "      <th>exam</th>\n",
              "    </tr>\n",
              "  </thead>\n",
              "  <tbody>\n",
              "    <tr>\n",
              "      <th>0</th>\n",
              "      <td>100.0</td>\n",
              "      <td>100.0</td>\n",
              "      <td>75.0</td>\n",
              "      <td>90.0</td>\n",
              "      <td>80.0</td>\n",
              "      <td>100.0</td>\n",
              "      <td>100</td>\n",
              "      <td>100</td>\n",
              "      <td>90</td>\n",
              "    </tr>\n",
              "    <tr>\n",
              "      <th>1</th>\n",
              "      <td>100.0</td>\n",
              "      <td>100.0</td>\n",
              "      <td>100.0</td>\n",
              "      <td>90.0</td>\n",
              "      <td>80.0</td>\n",
              "      <td>100.0</td>\n",
              "      <td>100</td>\n",
              "      <td>100</td>\n",
              "      <td>90</td>\n",
              "    </tr>\n",
              "    <tr>\n",
              "      <th>2</th>\n",
              "      <td>100.0</td>\n",
              "      <td>0.0</td>\n",
              "      <td>100.0</td>\n",
              "      <td>90.0</td>\n",
              "      <td>80.0</td>\n",
              "      <td>100.0</td>\n",
              "      <td>100</td>\n",
              "      <td>100</td>\n",
              "      <td>45</td>\n",
              "    </tr>\n",
              "    <tr>\n",
              "      <th>3</th>\n",
              "      <td>80.0</td>\n",
              "      <td>0.0</td>\n",
              "      <td>0.0</td>\n",
              "      <td>90.0</td>\n",
              "      <td>100.0</td>\n",
              "      <td>75.0</td>\n",
              "      <td>70</td>\n",
              "      <td>100</td>\n",
              "      <td>57</td>\n",
              "    </tr>\n",
              "    <tr>\n",
              "      <th>4</th>\n",
              "      <td>90.0</td>\n",
              "      <td>0.0</td>\n",
              "      <td>100.0</td>\n",
              "      <td>90.0</td>\n",
              "      <td>100.0</td>\n",
              "      <td>100.0</td>\n",
              "      <td>100</td>\n",
              "      <td>100</td>\n",
              "      <td>50</td>\n",
              "    </tr>\n",
              "    <tr>\n",
              "      <th>5</th>\n",
              "      <td>0.0</td>\n",
              "      <td>50.0</td>\n",
              "      <td>75.0</td>\n",
              "      <td>70.0</td>\n",
              "      <td>0.0</td>\n",
              "      <td>100.0</td>\n",
              "      <td>100</td>\n",
              "      <td>100</td>\n",
              "      <td>67</td>\n",
              "    </tr>\n",
              "    <tr>\n",
              "      <th>7</th>\n",
              "      <td>0.0</td>\n",
              "      <td>100.0</td>\n",
              "      <td>100.0</td>\n",
              "      <td>0.0</td>\n",
              "      <td>0.0</td>\n",
              "      <td>100.0</td>\n",
              "      <td>100</td>\n",
              "      <td>100</td>\n",
              "      <td>65</td>\n",
              "    </tr>\n",
              "  </tbody>\n",
              "</table>\n",
              "</div>\n",
              "      <button class=\"colab-df-convert\" onclick=\"convertToInteractive('df-77d2a0f0-969b-4880-b06f-ff8df358bd40')\"\n",
              "              title=\"Convert this dataframe to an interactive table.\"\n",
              "              style=\"display:none;\">\n",
              "        \n",
              "  <svg xmlns=\"http://www.w3.org/2000/svg\" height=\"24px\"viewBox=\"0 0 24 24\"\n",
              "       width=\"24px\">\n",
              "    <path d=\"M0 0h24v24H0V0z\" fill=\"none\"/>\n",
              "    <path d=\"M18.56 5.44l.94 2.06.94-2.06 2.06-.94-2.06-.94-.94-2.06-.94 2.06-2.06.94zm-11 1L8.5 8.5l.94-2.06 2.06-.94-2.06-.94L8.5 2.5l-.94 2.06-2.06.94zm10 10l.94 2.06.94-2.06 2.06-.94-2.06-.94-.94-2.06-.94 2.06-2.06.94z\"/><path d=\"M17.41 7.96l-1.37-1.37c-.4-.4-.92-.59-1.43-.59-.52 0-1.04.2-1.43.59L10.3 9.45l-7.72 7.72c-.78.78-.78 2.05 0 2.83L4 21.41c.39.39.9.59 1.41.59.51 0 1.02-.2 1.41-.59l7.78-7.78 2.81-2.81c.8-.78.8-2.07 0-2.86zM5.41 20L4 18.59l7.72-7.72 1.47 1.35L5.41 20z\"/>\n",
              "  </svg>\n",
              "      </button>\n",
              "      \n",
              "  <style>\n",
              "    .colab-df-container {\n",
              "      display:flex;\n",
              "      flex-wrap:wrap;\n",
              "      gap: 12px;\n",
              "    }\n",
              "\n",
              "    .colab-df-convert {\n",
              "      background-color: #E8F0FE;\n",
              "      border: none;\n",
              "      border-radius: 50%;\n",
              "      cursor: pointer;\n",
              "      display: none;\n",
              "      fill: #1967D2;\n",
              "      height: 32px;\n",
              "      padding: 0 0 0 0;\n",
              "      width: 32px;\n",
              "    }\n",
              "\n",
              "    .colab-df-convert:hover {\n",
              "      background-color: #E2EBFA;\n",
              "      box-shadow: 0px 1px 2px rgba(60, 64, 67, 0.3), 0px 1px 3px 1px rgba(60, 64, 67, 0.15);\n",
              "      fill: #174EA6;\n",
              "    }\n",
              "\n",
              "    [theme=dark] .colab-df-convert {\n",
              "      background-color: #3B4455;\n",
              "      fill: #D2E3FC;\n",
              "    }\n",
              "\n",
              "    [theme=dark] .colab-df-convert:hover {\n",
              "      background-color: #434B5C;\n",
              "      box-shadow: 0px 1px 3px 1px rgba(0, 0, 0, 0.15);\n",
              "      filter: drop-shadow(0px 1px 2px rgba(0, 0, 0, 0.3));\n",
              "      fill: #FFFFFF;\n",
              "    }\n",
              "  </style>\n",
              "\n",
              "      <script>\n",
              "        const buttonEl =\n",
              "          document.querySelector('#df-77d2a0f0-969b-4880-b06f-ff8df358bd40 button.colab-df-convert');\n",
              "        buttonEl.style.display =\n",
              "          google.colab.kernel.accessAllowed ? 'block' : 'none';\n",
              "\n",
              "        async function convertToInteractive(key) {\n",
              "          const element = document.querySelector('#df-77d2a0f0-969b-4880-b06f-ff8df358bd40');\n",
              "          const dataTable =\n",
              "            await google.colab.kernel.invokeFunction('convertToInteractive',\n",
              "                                                     [key], {});\n",
              "          if (!dataTable) return;\n",
              "\n",
              "          const docLinkHtml = 'Like what you see? Visit the ' +\n",
              "            '<a target=\"_blank\" href=https://colab.research.google.com/notebooks/data_table.ipynb>data table notebook</a>'\n",
              "            + ' to learn more about interactive tables.';\n",
              "          element.innerHTML = '';\n",
              "          dataTable['output_type'] = 'display_data';\n",
              "          await google.colab.output.renderOutput(dataTable, element);\n",
              "          const docLink = document.createElement('div');\n",
              "          docLink.innerHTML = docLinkHtml;\n",
              "          element.appendChild(docLink);\n",
              "        }\n",
              "      </script>\n",
              "    </div>\n",
              "  </div>\n",
              "  "
            ],
            "text/plain": [
              "    NO.1   NO.2   NO.3  NO.4   NO.5   NO.6  reportA  reportB  exam\n",
              "0  100.0  100.0   75.0  90.0   80.0  100.0      100      100    90\n",
              "1  100.0  100.0  100.0  90.0   80.0  100.0      100      100    90\n",
              "2  100.0    0.0  100.0  90.0   80.0  100.0      100      100    45\n",
              "3   80.0    0.0    0.0  90.0  100.0   75.0       70      100    57\n",
              "4   90.0    0.0  100.0  90.0  100.0  100.0      100      100    50\n",
              "5    0.0   50.0   75.0  70.0    0.0  100.0      100      100    67\n",
              "7    0.0  100.0  100.0   0.0    0.0  100.0      100      100    65"
            ]
          },
          "metadata": {},
          "execution_count": 36
        }
      ]
    },
    {
      "cell_type": "code",
      "source": [
        "data8=data7[a1]\n",
        "data9=data7[a3]\n"
      ],
      "metadata": {
        "id": "x5uKeKAwkIRt"
      },
      "execution_count": null,
      "outputs": []
    },
    {
      "cell_type": "code",
      "source": [
        "dx3=data7.head(107)\n",
        "dx3[\"total\"]=dx3[\"NO.1\"]+dx3[\"NO.2\"]+dx3[\"NO.3\"]+dx3[\"NO.4\"]+dx3[\"NO.5\"]+dx3[\"NO.6\"]+dx3[\"reportA\"]+dx3[\"reportB\"]\n",
        "print(dx3.head(3))\n",
        "dx3.plot(kind='scatter',x='total',y='exam')"
      ],
      "metadata": {
        "id": "tdNxnjpI48bg",
        "colab": {
          "base_uri": "https://localhost:8080/",
          "height": 372
        },
        "outputId": "30e2c6b9-8060-4c2e-f67a-5b623f59c5c2"
      },
      "execution_count": null,
      "outputs": [
        {
          "output_type": "stream",
          "name": "stdout",
          "text": [
            "    NO.1   NO.2   NO.3  NO.4  NO.5   NO.6  reportA  reportB  exam  total\n",
            "0  100.0  100.0   75.0  90.0  80.0  100.0      100      100    90  745.0\n",
            "1  100.0  100.0  100.0  90.0  80.0  100.0      100      100    90  770.0\n",
            "2  100.0    0.0  100.0  90.0  80.0  100.0      100      100    45  670.0\n"
          ]
        },
        {
          "output_type": "execute_result",
          "data": {
            "text/plain": [
              "<matplotlib.axes._subplots.AxesSubplot at 0x7f10e0b35f50>"
            ]
          },
          "metadata": {},
          "execution_count": 38
        },
        {
          "output_type": "display_data",
          "data": {
            "image/png": "[encoded data removed]",
            "text/plain": [
              "<Figure size 432x288 with 1 Axes>"
            ]
          },
          "metadata": {
            "needs_background": "light"
          }
        }
      ]
    },
    {
      "cell_type": "code",
      "source": [
        "#data8,data9を説明変数、目的変数に分割\n",
        "model3=LinearRegression()\n",
        "i=0 \n",
        "stotal9=0\n",
        "for i in range(10):\n",
        "    xtrain3,xtest3,ytrain3,ytest3=train_test_split(data8,data9,test_size=0.2,random_state=i)\n",
        "    model3.fit(xtrain3,ytrain3)\n",
        "    sval9=model3.score(xtest3, ytest3)\n",
        "    stotal9=stotal9+sval9\n",
        "    saverage9=stotal9/10\n",
        "print(saverage9)"
      ],
      "metadata": {
        "id": "T-pSk_zlOCVW",
        "colab": {
          "base_uri": "https://localhost:8080/"
        },
        "outputId": "cb44936c-0ea9-4b2f-8cc2-a94ad0bd08b9"
      },
      "execution_count": null,
      "outputs": [
        {
          "output_type": "stream",
          "name": "stdout",
          "text": [
            "-0.26359953243218914\n"
          ]
        }
      ]
    },
    {
      "cell_type": "code",
      "source": [
        "#ロジスティック回帰\n",
        "#正解率\n",
        "\n",
        "logi3=LogisticRegression(random_state=0,C=0.1)\n",
        "i=0 \n",
        "stotal10=0\n",
        "stotal11=0\n",
        "for i in range(10):\n",
        "    xtrain03,xtest03,ytrain03,ytest03=train_test_split(data8,d002,test_size=0.2,random_state=i)\n",
        "    logi3.fit(xtrain03,ytrain03)\n",
        "\n",
        "    sval10=logi3.score(xtrain03,ytrain03)\n",
        "    sval11=logi3.score(xtest03,ytest03)\n",
        "    \n",
        "    stotal10=stotal10+sval10\n",
        "    stotal11=stotal11+sval11\n",
        "\n",
        "    saverage10=stotal10/10\n",
        "    saverage11=stotal11/10\n",
        "print(saverage10,saverage11)\n"
      ],
      "metadata": {
        "id": "C_G-xiDZueq4",
        "colab": {
          "base_uri": "https://localhost:8080/"
        },
        "outputId": "a50148a7-8b11-46e6-a558-adc706f82a41"
      },
      "execution_count": null,
      "outputs": [
        {
          "output_type": "stream",
          "name": "stdout",
          "text": [
            "0.7083333333333334 0.65\n"
          ]
        }
      ]
    },
    {
      "cell_type": "code",
      "source": [
        "#予測 100回予測したうちの○○回は正解\n",
        "i=0\n",
        "stotal12=0\n",
        "for i in range(10):\n",
        "    xtrain03,xtest03,ytrain03,ytest03=train_test_split(data8,d002,test_size=0.2,random_state=i)\n",
        "    ypred3= logi3.predict(xtest03)\n",
        "    sval12=accuracy_score(ytest03,ypred3)\n",
        "    stotal12=stotal12+sval12\n",
        "    saverage12=stotal12/10\n",
        "print(saverage12)"
      ],
      "metadata": {
        "id": "avTd6smSulry",
        "colab": {
          "base_uri": "https://localhost:8080/"
        },
        "outputId": "8a51fd4d-6b59-4b6f-8783-9f6f6fdb684b"
      },
      "execution_count": null,
      "outputs": [
        {
          "output_type": "stream",
          "name": "stdout",
          "text": [
            "0.65\n"
          ]
        }
      ]
    },
    {
      "cell_type": "code",
      "source": [
        "#2.2 相関係数で絞り込みver\n",
        "data6_cor=data6.corr()['exam']\n",
        "data6_cor\n",
        "abs_data6=data6_cor.map(abs)\n",
        "abs_data6.sort_values(ascending=False)"
      ],
      "metadata": {
        "id": "B9KrghGUkurI",
        "colab": {
          "base_uri": "https://localhost:8080/"
        },
        "outputId": "7693b258-7773-441d-bb0d-cbae88e2c5ae"
      },
      "execution_count": null,
      "outputs": [
        {
          "output_type": "execute_result",
          "data": {
            "text/plain": [
              "exam       1.000000\n",
              "NO.1       0.219270\n",
              "NO.6       0.175995\n",
              "NO.5       0.144751\n",
              "reportA    0.138493\n",
              "NO.2       0.122279\n",
              "NO.4       0.089860\n",
              "reportB    0.061632\n",
              "NO.3       0.061064\n",
              "Name: exam, dtype: float64"
            ]
          },
          "metadata": {},
          "execution_count": 42
        }
      ]
    },
    {
      "cell_type": "code",
      "source": [
        "col2=['NO.1','NO.6','NO.5','reportA']\n",
        "data10=data6[col2]\n",
        "data11=data6[a3]"
      ],
      "metadata": {
        "id": "4YRpm7ZwlK5D"
      },
      "execution_count": null,
      "outputs": []
    },
    {
      "cell_type": "markdown",
      "source": [
        ""
      ],
      "metadata": {
        "id": "BbzYoEUFlA75"
      }
    },
    {
      "cell_type": "code",
      "source": [
        "dx4=data7.head(108)\n",
        "dx4[\"total\"]=dx4[\"NO.1\"]+dx4[\"NO.5\"]+dx4[\"NO.6\"]+dx4[\"reportA\"]\n",
        "print(dx4.head(3))\n",
        "dx4.plot(kind='scatter',x='total',y='exam')"
      ],
      "metadata": {
        "id": "cGDrzKsah7Ex",
        "colab": {
          "base_uri": "https://localhost:8080/",
          "height": 372
        },
        "outputId": "5e50ba7c-2f78-406e-fbe1-929b00284eab"
      },
      "execution_count": null,
      "outputs": [
        {
          "output_type": "stream",
          "name": "stdout",
          "text": [
            "    NO.1   NO.2   NO.3  NO.4  NO.5   NO.6  reportA  reportB  exam  total\n",
            "0  100.0  100.0   75.0  90.0  80.0  100.0      100      100    90  380.0\n",
            "1  100.0  100.0  100.0  90.0  80.0  100.0      100      100    90  380.0\n",
            "2  100.0    0.0  100.0  90.0  80.0  100.0      100      100    45  380.0\n"
          ]
        },
        {
          "output_type": "execute_result",
          "data": {
            "text/plain": [
              "<matplotlib.axes._subplots.AxesSubplot at 0x7f10e0ab3350>"
            ]
          },
          "metadata": {},
          "execution_count": 44
        },
        {
          "output_type": "display_data",
          "data": {
            "image/png": "[encoded data removed]",
            "text/plain": [
              "<Figure size 432x288 with 1 Axes>"
            ]
          },
          "metadata": {
            "needs_background": "light"
          }
        }
      ]
    },
    {
      "cell_type": "code",
      "source": [
        "print(data10.sum)\n",
        "print(data11.sum)"
      ],
      "metadata": {
        "id": "yaDxx7hwl340",
        "colab": {
          "base_uri": "https://localhost:8080/"
        },
        "outputId": "c8382319-400e-470c-a3a5-f77889e3d584"
      },
      "execution_count": null,
      "outputs": [
        {
          "output_type": "stream",
          "name": "stdout",
          "text": [
            "<bound method DataFrame.sum of       NO.1   NO.6   NO.5  reportA\n",
            "0    100.0  100.0   80.0      100\n",
            "1    100.0  100.0   80.0      100\n",
            "2    100.0  100.0   80.0      100\n",
            "3     80.0   75.0  100.0       70\n",
            "4     90.0  100.0  100.0      100\n",
            "..     ...    ...    ...      ...\n",
            "102  100.0  100.0   60.0      100\n",
            "103  100.0   50.0   80.0      100\n",
            "104   90.0   50.0   50.0      100\n",
            "105   70.0  100.0  100.0       70\n",
            "106   90.0  100.0   80.0      100\n",
            "\n",
            "[90 rows x 4 columns]>\n",
            "<bound method DataFrame.sum of      exam\n",
            "0      90\n",
            "1      90\n",
            "2      45\n",
            "3      57\n",
            "4      50\n",
            "..    ...\n",
            "102    77\n",
            "103    75\n",
            "104    35\n",
            "105    27\n",
            "106    62\n",
            "\n",
            "[90 rows x 1 columns]>\n"
          ]
        }
      ]
    },
    {
      "cell_type": "code",
      "source": [
        "#data10,data11を説明変数、目的変数に分割\n",
        "model4=LinearRegression()\n",
        "i=0 \n",
        "stotal13=0\n",
        "for i in range(10):\n",
        "    xtrain4,xtest4,ytrain4,ytest4=train_test_split(data10,data11,test_size=0.2,random_state=i)\n",
        "    model4.fit(xtrain4,ytrain4)\n",
        "    sval13=model4.score(xtest4, ytest4)\n",
        "    stotal13=stotal13+sval13\n",
        "    saverage13=stotal13/10\n",
        "print(saverage13)"
      ],
      "metadata": {
        "id": "vwXPNo7wQGPT",
        "colab": {
          "base_uri": "https://localhost:8080/"
        },
        "outputId": "cd1bd71b-24a9-4028-a791-412551baa67e"
      },
      "execution_count": null,
      "outputs": [
        {
          "output_type": "stream",
          "name": "stdout",
          "text": [
            "-0.07780067847891738\n"
          ]
        }
      ]
    },
    {
      "cell_type": "code",
      "source": [
        "#ロジスティック回帰\n",
        "#正解率\n",
        "\n",
        "logi4=LogisticRegression(random_state=0,C=0.1)\n",
        "i=0 \n",
        "stotal14=0\n",
        "stotal15=0\n",
        "for i in range(10):\n",
        "    xtrain04,xtest04,ytrain04,ytest04=train_test_split(data10,d002,test_size=0.2,random_state=i)\n",
        "    logi4.fit(xtrain04,ytrain04)\n",
        "\n",
        "    sval14=logi4.score(xtrain04,ytrain04)\n",
        "    sval15=logi4.score(xtest04,ytest04)\n",
        "    \n",
        "    stotal14=stotal14+sval14\n",
        "    stotal15=stotal15+sval15\n",
        "\n",
        "    saverage14=stotal14/10\n",
        "    saverage15=stotal15/10\n",
        "print(saverage14,saverage15)\n"
      ],
      "metadata": {
        "id": "yALlMJPauVhZ",
        "colab": {
          "base_uri": "https://localhost:8080/"
        },
        "outputId": "0a1eca36-8382-4308-df4f-599055c8c212"
      },
      "execution_count": null,
      "outputs": [
        {
          "output_type": "stream",
          "name": "stdout",
          "text": [
            "0.6986111111111112 0.6666666666666667\n"
          ]
        }
      ]
    },
    {
      "cell_type": "code",
      "source": [
        "#予測 100回予測したうちの○○回は正解\n",
        "i=0\n",
        "stotal16=0\n",
        "for i in range(10):\n",
        "    xtrain04,xtest04,ytrain04,ytest04=train_test_split(data10,d002,test_size=0.2,random_state=i)\n",
        "    ypred4 = logi4.predict(xtest04)\n",
        "    sval16=accuracy_score(ytest04,ypred4)\n",
        "    stotal16=stotal16+sval16\n",
        "    saverage16=stotal16/10\n",
        "print(saverage16)"
      ],
      "metadata": {
        "id": "tG5gi2VcuL7P",
        "colab": {
          "base_uri": "https://localhost:8080/"
        },
        "outputId": "47f660da-e996-4449-c515-e5d22416f850"
      },
      "execution_count": null,
      "outputs": [
        {
          "output_type": "stream",
          "name": "stdout",
          "text": [
            "0.6777777777777778\n"
          ]
        }
      ]
    },
    {
      "cell_type": "code",
      "source": [
        ""
      ],
      "metadata": {
        "id": "Gx0nINhf8-bQ"
      },
      "execution_count": null,
      "outputs": []
    },
    {
      "cell_type": "code",
      "source": [
        "#3.1 欠損値に平均を代入してexamがが0の外れ値を除外して決定係数を求める"
      ],
      "metadata": {
        "id": "q3-MUs4Ao0fu"
      },
      "execution_count": null,
      "outputs": []
    },
    {
      "cell_type": "code",
      "source": [
        "d0.describe()"
      ],
      "metadata": {
        "id": "eS9A9u7bpba6",
        "colab": {
          "base_uri": "https://localhost:8080/",
          "height": 300
        },
        "outputId": "ded72d35-43f1-40c4-e5b0-3086468c26b3"
      },
      "execution_count": null,
      "outputs": [
        {
          "output_type": "execute_result",
          "data": {
            "text/html": [
              "\n",
              "  <div id=\"df-731dca6a-72a8-495b-922a-ef2bb5a3e2ef\">\n",
              "    <div class=\"colab-df-container\">\n",
              "      <div>\n",
              "<style scoped>\n",
              "    .dataframe tbody tr th:only-of-type {\n",
              "        vertical-align: middle;\n",
              "    }\n",
              "\n",
              "    .dataframe tbody tr th {\n",
              "        vertical-align: top;\n",
              "    }\n",
              "\n",
              "    .dataframe thead th {\n",
              "        text-align: right;\n",
              "    }\n",
              "</style>\n",
              "<table border=\"1\" class=\"dataframe\">\n",
              "  <thead>\n",
              "    <tr style=\"text-align: right;\">\n",
              "      <th></th>\n",
              "      <th>NO.1</th>\n",
              "      <th>NO.2</th>\n",
              "      <th>NO.3</th>\n",
              "      <th>NO.4</th>\n",
              "      <th>NO.5</th>\n",
              "      <th>NO.6</th>\n",
              "      <th>reportA</th>\n",
              "      <th>reportB</th>\n",
              "      <th>exam</th>\n",
              "      <th>deviation</th>\n",
              "    </tr>\n",
              "  </thead>\n",
              "  <tbody>\n",
              "    <tr>\n",
              "      <th>count</th>\n",
              "      <td>72.000000</td>\n",
              "      <td>58.000000</td>\n",
              "      <td>89.000000</td>\n",
              "      <td>88.000000</td>\n",
              "      <td>87.000000</td>\n",
              "      <td>91.000000</td>\n",
              "      <td>107.000000</td>\n",
              "      <td>107.000000</td>\n",
              "      <td>107.000000</td>\n",
              "      <td>107.000000</td>\n",
              "    </tr>\n",
              "    <tr>\n",
              "      <th>mean</th>\n",
              "      <td>83.472222</td>\n",
              "      <td>79.310345</td>\n",
              "      <td>79.775281</td>\n",
              "      <td>82.272727</td>\n",
              "      <td>79.310345</td>\n",
              "      <td>83.791209</td>\n",
              "      <td>77.289720</td>\n",
              "      <td>83.177570</td>\n",
              "      <td>54.177570</td>\n",
              "      <td>49.214019</td>\n",
              "    </tr>\n",
              "    <tr>\n",
              "      <th>std</th>\n",
              "      <td>25.351596</td>\n",
              "      <td>33.158951</td>\n",
              "      <td>26.078009</td>\n",
              "      <td>17.858143</td>\n",
              "      <td>19.216823</td>\n",
              "      <td>24.544072</td>\n",
              "      <td>34.683749</td>\n",
              "      <td>37.582566</td>\n",
              "      <td>29.395101</td>\n",
              "      <td>7.223474</td>\n",
              "    </tr>\n",
              "    <tr>\n",
              "      <th>min</th>\n",
              "      <td>0.000000</td>\n",
              "      <td>0.000000</td>\n",
              "      <td>0.000000</td>\n",
              "      <td>0.000000</td>\n",
              "      <td>10.000000</td>\n",
              "      <td>0.000000</td>\n",
              "      <td>0.000000</td>\n",
              "      <td>0.000000</td>\n",
              "      <td>0.000000</td>\n",
              "      <td>24.300000</td>\n",
              "    </tr>\n",
              "    <tr>\n",
              "      <th>25%</th>\n",
              "      <td>80.000000</td>\n",
              "      <td>75.000000</td>\n",
              "      <td>75.000000</td>\n",
              "      <td>70.000000</td>\n",
              "      <td>70.000000</td>\n",
              "      <td>75.000000</td>\n",
              "      <td>70.000000</td>\n",
              "      <td>100.000000</td>\n",
              "      <td>33.500000</td>\n",
              "      <td>46.300000</td>\n",
              "    </tr>\n",
              "    <tr>\n",
              "      <th>50%</th>\n",
              "      <td>90.000000</td>\n",
              "      <td>100.000000</td>\n",
              "      <td>100.000000</td>\n",
              "      <td>90.000000</td>\n",
              "      <td>80.000000</td>\n",
              "      <td>100.000000</td>\n",
              "      <td>100.000000</td>\n",
              "      <td>100.000000</td>\n",
              "      <td>65.000000</td>\n",
              "      <td>51.600000</td>\n",
              "    </tr>\n",
              "    <tr>\n",
              "      <th>75%</th>\n",
              "      <td>100.000000</td>\n",
              "      <td>100.000000</td>\n",
              "      <td>100.000000</td>\n",
              "      <td>90.000000</td>\n",
              "      <td>90.000000</td>\n",
              "      <td>100.000000</td>\n",
              "      <td>100.000000</td>\n",
              "      <td>100.000000</td>\n",
              "      <td>76.000000</td>\n",
              "      <td>54.450000</td>\n",
              "    </tr>\n",
              "    <tr>\n",
              "      <th>max</th>\n",
              "      <td>100.000000</td>\n",
              "      <td>100.000000</td>\n",
              "      <td>100.000000</td>\n",
              "      <td>100.000000</td>\n",
              "      <td>100.000000</td>\n",
              "      <td>100.000000</td>\n",
              "      <td>100.000000</td>\n",
              "      <td>100.000000</td>\n",
              "      <td>95.000000</td>\n",
              "      <td>58.300000</td>\n",
              "    </tr>\n",
              "  </tbody>\n",
              "</table>\n",
              "</div>\n",
              "      <button class=\"colab-df-convert\" onclick=\"convertToInteractive('df-731dca6a-72a8-495b-922a-ef2bb5a3e2ef')\"\n",
              "              title=\"Convert this dataframe to an interactive table.\"\n",
              "              style=\"display:none;\">\n",
              "        \n",
              "  <svg xmlns=\"http://www.w3.org/2000/svg\" height=\"24px\"viewBox=\"0 0 24 24\"\n",
              "       width=\"24px\">\n",
              "    <path d=\"M0 0h24v24H0V0z\" fill=\"none\"/>\n",
              "    <path d=\"M18.56 5.44l.94 2.06.94-2.06 2.06-.94-2.06-.94-.94-2.06-.94 2.06-2.06.94zm-11 1L8.5 8.5l.94-2.06 2.06-.94-2.06-.94L8.5 2.5l-.94 2.06-2.06.94zm10 10l.94 2.06.94-2.06 2.06-.94-2.06-.94-.94-2.06-.94 2.06-2.06.94z\"/><path d=\"M17.41 7.96l-1.37-1.37c-.4-.4-.92-.59-1.43-.59-.52 0-1.04.2-1.43.59L10.3 9.45l-7.72 7.72c-.78.78-.78 2.05 0 2.83L4 21.41c.39.39.9.59 1.41.59.51 0 1.02-.2 1.41-.59l7.78-7.78 2.81-2.81c.8-.78.8-2.07 0-2.86zM5.41 20L4 18.59l7.72-7.72 1.47 1.35L5.41 20z\"/>\n",
              "  </svg>\n",
              "      </button>\n",
              "      \n",
              "  <style>\n",
              "    .colab-df-container {\n",
              "      display:flex;\n",
              "      flex-wrap:wrap;\n",
              "      gap: 12px;\n",
              "    }\n",
              "\n",
              "    .colab-df-convert {\n",
              "      background-color: #E8F0FE;\n",
              "      border: none;\n",
              "      border-radius: 50%;\n",
              "      cursor: pointer;\n",
              "      display: none;\n",
              "      fill: #1967D2;\n",
              "      height: 32px;\n",
              "      padding: 0 0 0 0;\n",
              "      width: 32px;\n",
              "    }\n",
              "\n",
              "    .colab-df-convert:hover {\n",
              "      background-color: #E2EBFA;\n",
              "      box-shadow: 0px 1px 2px rgba(60, 64, 67, 0.3), 0px 1px 3px 1px rgba(60, 64, 67, 0.15);\n",
              "      fill: #174EA6;\n",
              "    }\n",
              "\n",
              "    [theme=dark] .colab-df-convert {\n",
              "      background-color: #3B4455;\n",
              "      fill: #D2E3FC;\n",
              "    }\n",
              "\n",
              "    [theme=dark] .colab-df-convert:hover {\n",
              "      background-color: #434B5C;\n",
              "      box-shadow: 0px 1px 3px 1px rgba(0, 0, 0, 0.15);\n",
              "      filter: drop-shadow(0px 1px 2px rgba(0, 0, 0, 0.3));\n",
              "      fill: #FFFFFF;\n",
              "    }\n",
              "  </style>\n",
              "\n",
              "      <script>\n",
              "        const buttonEl =\n",
              "          document.querySelector('#df-731dca6a-72a8-495b-922a-ef2bb5a3e2ef button.colab-df-convert');\n",
              "        buttonEl.style.display =\n",
              "          google.colab.kernel.accessAllowed ? 'block' : 'none';\n",
              "\n",
              "        async function convertToInteractive(key) {\n",
              "          const element = document.querySelector('#df-731dca6a-72a8-495b-922a-ef2bb5a3e2ef');\n",
              "          const dataTable =\n",
              "            await google.colab.kernel.invokeFunction('convertToInteractive',\n",
              "                                                     [key], {});\n",
              "          if (!dataTable) return;\n",
              "\n",
              "          const docLinkHtml = 'Like what you see? Visit the ' +\n",
              "            '<a target=\"_blank\" href=https://colab.research.google.com/notebooks/data_table.ipynb>data table notebook</a>'\n",
              "            + ' to learn more about interactive tables.';\n",
              "          element.innerHTML = '';\n",
              "          dataTable['output_type'] = 'display_data';\n",
              "          await google.colab.output.renderOutput(dataTable, element);\n",
              "          const docLink = document.createElement('div');\n",
              "          docLink.innerHTML = docLinkHtml;\n",
              "          element.appendChild(docLink);\n",
              "        }\n",
              "      </script>\n",
              "    </div>\n",
              "  </div>\n",
              "  "
            ],
            "text/plain": [
              "             NO.1        NO.2        NO.3  ...     reportB        exam   deviation\n",
              "count   72.000000   58.000000   89.000000  ...  107.000000  107.000000  107.000000\n",
              "mean    83.472222   79.310345   79.775281  ...   83.177570   54.177570   49.214019\n",
              "std     25.351596   33.158951   26.078009  ...   37.582566   29.395101    7.223474\n",
              "min      0.000000    0.000000    0.000000  ...    0.000000    0.000000   24.300000\n",
              "25%     80.000000   75.000000   75.000000  ...  100.000000   33.500000   46.300000\n",
              "50%     90.000000  100.000000  100.000000  ...  100.000000   65.000000   51.600000\n",
              "75%    100.000000  100.000000  100.000000  ...  100.000000   76.000000   54.450000\n",
              "max    100.000000  100.000000  100.000000  ...  100.000000   95.000000   58.300000\n",
              "\n",
              "[8 rows x 10 columns]"
            ]
          },
          "metadata": {},
          "execution_count": 50
        }
      ]
    },
    {
      "cell_type": "code",
      "source": [
        "d0_mean= d0.mean()#各列の平均\n",
        "data12=d0[d0['exam']!=0].fillna(d0_mean)\n",
        "data12.sum"
      ],
      "metadata": {
        "id": "oOZFHtQAtpO-",
        "colab": {
          "base_uri": "https://localhost:8080/"
        },
        "outputId": "625b20d2-8d26-48c9-a061-7c79d724ceef"
      },
      "execution_count": null,
      "outputs": [
        {
          "output_type": "execute_result",
          "data": {
            "text/plain": [
              "<bound method DataFrame.sum of       NO.1        NO.2        NO.3  NO.4  ...  reportB  exam  result  deviation\n",
              "0    100.0  100.000000   75.000000  90.0  ...      100    90       〇       53.6\n",
              "1    100.0  100.000000  100.000000  90.0  ...      100    90       〇       55.2\n",
              "2    100.0   79.310345  100.000000  90.0  ...      100    45       ×       55.0\n",
              "3     80.0   79.310345   79.775281  90.0  ...      100    57       ×       52.0\n",
              "4     90.0   79.310345  100.000000  90.0  ...      100    50       ×       56.3\n",
              "..     ...         ...         ...   ...  ...      ...   ...     ...        ...\n",
              "102  100.0    0.000000  100.000000  90.0  ...      100    77       〇       52.7\n",
              "103  100.0   75.000000    0.000000  70.0  ...      100    75       〇       46.5\n",
              "104   90.0    0.000000  100.000000  90.0  ...      100    35       ×       46.3\n",
              "105   70.0    0.000000    0.000000   0.0  ...      100    27       ×       53.3\n",
              "106   90.0  100.000000  100.000000  90.0  ...      100    62       〇       54.5\n",
              "\n",
              "[90 rows x 11 columns]>"
            ]
          },
          "metadata": {},
          "execution_count": 51
        }
      ]
    },
    {
      "cell_type": "code",
      "source": [
        "dt1=data12[a2]\n",
        "dt1"
      ],
      "metadata": {
        "id": "BMrXE-8Op3gG",
        "colab": {
          "base_uri": "https://localhost:8080/",
          "height": 424
        },
        "outputId": "3cb42bfc-a8d4-4d0e-a0f9-923adb283ab8"
      },
      "execution_count": null,
      "outputs": [
        {
          "output_type": "execute_result",
          "data": {
            "text/html": [
              "\n",
              "  <div id=\"df-e2cc23ea-9807-4534-99fe-b54452c54510\">\n",
              "    <div class=\"colab-df-container\">\n",
              "      <div>\n",
              "<style scoped>\n",
              "    .dataframe tbody tr th:only-of-type {\n",
              "        vertical-align: middle;\n",
              "    }\n",
              "\n",
              "    .dataframe tbody tr th {\n",
              "        vertical-align: top;\n",
              "    }\n",
              "\n",
              "    .dataframe thead th {\n",
              "        text-align: right;\n",
              "    }\n",
              "</style>\n",
              "<table border=\"1\" class=\"dataframe\">\n",
              "  <thead>\n",
              "    <tr style=\"text-align: right;\">\n",
              "      <th></th>\n",
              "      <th>NO.1</th>\n",
              "      <th>NO.2</th>\n",
              "      <th>NO.3</th>\n",
              "      <th>NO.4</th>\n",
              "      <th>NO.5</th>\n",
              "      <th>NO.6</th>\n",
              "      <th>reportA</th>\n",
              "      <th>reportB</th>\n",
              "      <th>exam</th>\n",
              "    </tr>\n",
              "  </thead>\n",
              "  <tbody>\n",
              "    <tr>\n",
              "      <th>0</th>\n",
              "      <td>100.0</td>\n",
              "      <td>100.000000</td>\n",
              "      <td>75.000000</td>\n",
              "      <td>90.0</td>\n",
              "      <td>80.0</td>\n",
              "      <td>100.0</td>\n",
              "      <td>100</td>\n",
              "      <td>100</td>\n",
              "      <td>90</td>\n",
              "    </tr>\n",
              "    <tr>\n",
              "      <th>1</th>\n",
              "      <td>100.0</td>\n",
              "      <td>100.000000</td>\n",
              "      <td>100.000000</td>\n",
              "      <td>90.0</td>\n",
              "      <td>80.0</td>\n",
              "      <td>100.0</td>\n",
              "      <td>100</td>\n",
              "      <td>100</td>\n",
              "      <td>90</td>\n",
              "    </tr>\n",
              "    <tr>\n",
              "      <th>2</th>\n",
              "      <td>100.0</td>\n",
              "      <td>79.310345</td>\n",
              "      <td>100.000000</td>\n",
              "      <td>90.0</td>\n",
              "      <td>80.0</td>\n",
              "      <td>100.0</td>\n",
              "      <td>100</td>\n",
              "      <td>100</td>\n",
              "      <td>45</td>\n",
              "    </tr>\n",
              "    <tr>\n",
              "      <th>3</th>\n",
              "      <td>80.0</td>\n",
              "      <td>79.310345</td>\n",
              "      <td>79.775281</td>\n",
              "      <td>90.0</td>\n",
              "      <td>100.0</td>\n",
              "      <td>75.0</td>\n",
              "      <td>70</td>\n",
              "      <td>100</td>\n",
              "      <td>57</td>\n",
              "    </tr>\n",
              "    <tr>\n",
              "      <th>4</th>\n",
              "      <td>90.0</td>\n",
              "      <td>79.310345</td>\n",
              "      <td>100.000000</td>\n",
              "      <td>90.0</td>\n",
              "      <td>100.0</td>\n",
              "      <td>100.0</td>\n",
              "      <td>100</td>\n",
              "      <td>100</td>\n",
              "      <td>50</td>\n",
              "    </tr>\n",
              "    <tr>\n",
              "      <th>...</th>\n",
              "      <td>...</td>\n",
              "      <td>...</td>\n",
              "      <td>...</td>\n",
              "      <td>...</td>\n",
              "      <td>...</td>\n",
              "      <td>...</td>\n",
              "      <td>...</td>\n",
              "      <td>...</td>\n",
              "      <td>...</td>\n",
              "    </tr>\n",
              "    <tr>\n",
              "      <th>102</th>\n",
              "      <td>100.0</td>\n",
              "      <td>0.000000</td>\n",
              "      <td>100.000000</td>\n",
              "      <td>90.0</td>\n",
              "      <td>60.0</td>\n",
              "      <td>100.0</td>\n",
              "      <td>100</td>\n",
              "      <td>100</td>\n",
              "      <td>77</td>\n",
              "    </tr>\n",
              "    <tr>\n",
              "      <th>103</th>\n",
              "      <td>100.0</td>\n",
              "      <td>75.000000</td>\n",
              "      <td>0.000000</td>\n",
              "      <td>70.0</td>\n",
              "      <td>80.0</td>\n",
              "      <td>50.0</td>\n",
              "      <td>100</td>\n",
              "      <td>100</td>\n",
              "      <td>75</td>\n",
              "    </tr>\n",
              "    <tr>\n",
              "      <th>104</th>\n",
              "      <td>90.0</td>\n",
              "      <td>0.000000</td>\n",
              "      <td>100.000000</td>\n",
              "      <td>90.0</td>\n",
              "      <td>50.0</td>\n",
              "      <td>50.0</td>\n",
              "      <td>100</td>\n",
              "      <td>100</td>\n",
              "      <td>35</td>\n",
              "    </tr>\n",
              "    <tr>\n",
              "      <th>105</th>\n",
              "      <td>70.0</td>\n",
              "      <td>0.000000</td>\n",
              "      <td>0.000000</td>\n",
              "      <td>0.0</td>\n",
              "      <td>100.0</td>\n",
              "      <td>100.0</td>\n",
              "      <td>70</td>\n",
              "      <td>100</td>\n",
              "      <td>27</td>\n",
              "    </tr>\n",
              "    <tr>\n",
              "      <th>106</th>\n",
              "      <td>90.0</td>\n",
              "      <td>100.000000</td>\n",
              "      <td>100.000000</td>\n",
              "      <td>90.0</td>\n",
              "      <td>80.0</td>\n",
              "      <td>100.0</td>\n",
              "      <td>100</td>\n",
              "      <td>100</td>\n",
              "      <td>62</td>\n",
              "    </tr>\n",
              "  </tbody>\n",
              "</table>\n",
              "<p>90 rows × 9 columns</p>\n",
              "</div>\n",
              "      <button class=\"colab-df-convert\" onclick=\"convertToInteractive('df-e2cc23ea-9807-4534-99fe-b54452c54510')\"\n",
              "              title=\"Convert this dataframe to an interactive table.\"\n",
              "              style=\"display:none;\">\n",
              "        \n",
              "  <svg xmlns=\"http://www.w3.org/2000/svg\" height=\"24px\"viewBox=\"0 0 24 24\"\n",
              "       width=\"24px\">\n",
              "    <path d=\"M0 0h24v24H0V0z\" fill=\"none\"/>\n",
              "    <path d=\"M18.56 5.44l.94 2.06.94-2.06 2.06-.94-2.06-.94-.94-2.06-.94 2.06-2.06.94zm-11 1L8.5 8.5l.94-2.06 2.06-.94-2.06-.94L8.5 2.5l-.94 2.06-2.06.94zm10 10l.94 2.06.94-2.06 2.06-.94-2.06-.94-.94-2.06-.94 2.06-2.06.94z\"/><path d=\"M17.41 7.96l-1.37-1.37c-.4-.4-.92-.59-1.43-.59-.52 0-1.04.2-1.43.59L10.3 9.45l-7.72 7.72c-.78.78-.78 2.05 0 2.83L4 21.41c.39.39.9.59 1.41.59.51 0 1.02-.2 1.41-.59l7.78-7.78 2.81-2.81c.8-.78.8-2.07 0-2.86zM5.41 20L4 18.59l7.72-7.72 1.47 1.35L5.41 20z\"/>\n",
              "  </svg>\n",
              "      </button>\n",
              "      \n",
              "  <style>\n",
              "    .colab-df-container {\n",
              "      display:flex;\n",
              "      flex-wrap:wrap;\n",
              "      gap: 12px;\n",
              "    }\n",
              "\n",
              "    .colab-df-convert {\n",
              "      background-color: #E8F0FE;\n",
              "      border: none;\n",
              "      border-radius: 50%;\n",
              "      cursor: pointer;\n",
              "      display: none;\n",
              "      fill: #1967D2;\n",
              "      height: 32px;\n",
              "      padding: 0 0 0 0;\n",
              "      width: 32px;\n",
              "    }\n",
              "\n",
              "    .colab-df-convert:hover {\n",
              "      background-color: #E2EBFA;\n",
              "      box-shadow: 0px 1px 2px rgba(60, 64, 67, 0.3), 0px 1px 3px 1px rgba(60, 64, 67, 0.15);\n",
              "      fill: #174EA6;\n",
              "    }\n",
              "\n",
              "    [theme=dark] .colab-df-convert {\n",
              "      background-color: #3B4455;\n",
              "      fill: #D2E3FC;\n",
              "    }\n",
              "\n",
              "    [theme=dark] .colab-df-convert:hover {\n",
              "      background-color: #434B5C;\n",
              "      box-shadow: 0px 1px 3px 1px rgba(0, 0, 0, 0.15);\n",
              "      filter: drop-shadow(0px 1px 2px rgba(0, 0, 0, 0.3));\n",
              "      fill: #FFFFFF;\n",
              "    }\n",
              "  </style>\n",
              "\n",
              "      <script>\n",
              "        const buttonEl =\n",
              "          document.querySelector('#df-e2cc23ea-9807-4534-99fe-b54452c54510 button.colab-df-convert');\n",
              "        buttonEl.style.display =\n",
              "          google.colab.kernel.accessAllowed ? 'block' : 'none';\n",
              "\n",
              "        async function convertToInteractive(key) {\n",
              "          const element = document.querySelector('#df-e2cc23ea-9807-4534-99fe-b54452c54510');\n",
              "          const dataTable =\n",
              "            await google.colab.kernel.invokeFunction('convertToInteractive',\n",
              "                                                     [key], {});\n",
              "          if (!dataTable) return;\n",
              "\n",
              "          const docLinkHtml = 'Like what you see? Visit the ' +\n",
              "            '<a target=\"_blank\" href=https://colab.research.google.com/notebooks/data_table.ipynb>data table notebook</a>'\n",
              "            + ' to learn more about interactive tables.';\n",
              "          element.innerHTML = '';\n",
              "          dataTable['output_type'] = 'display_data';\n",
              "          await google.colab.output.renderOutput(dataTable, element);\n",
              "          const docLink = document.createElement('div');\n",
              "          docLink.innerHTML = docLinkHtml;\n",
              "          element.appendChild(docLink);\n",
              "        }\n",
              "      </script>\n",
              "    </div>\n",
              "  </div>\n",
              "  "
            ],
            "text/plain": [
              "      NO.1        NO.2        NO.3  NO.4   NO.5   NO.6  reportA  reportB  exam\n",
              "0    100.0  100.000000   75.000000  90.0   80.0  100.0      100      100    90\n",
              "1    100.0  100.000000  100.000000  90.0   80.0  100.0      100      100    90\n",
              "2    100.0   79.310345  100.000000  90.0   80.0  100.0      100      100    45\n",
              "3     80.0   79.310345   79.775281  90.0  100.0   75.0       70      100    57\n",
              "4     90.0   79.310345  100.000000  90.0  100.0  100.0      100      100    50\n",
              "..     ...         ...         ...   ...    ...    ...      ...      ...   ...\n",
              "102  100.0    0.000000  100.000000  90.0   60.0  100.0      100      100    77\n",
              "103  100.0   75.000000    0.000000  70.0   80.0   50.0      100      100    75\n",
              "104   90.0    0.000000  100.000000  90.0   50.0   50.0      100      100    35\n",
              "105   70.0    0.000000    0.000000   0.0  100.0  100.0       70      100    27\n",
              "106   90.0  100.000000  100.000000  90.0   80.0  100.0      100      100    62\n",
              "\n",
              "[90 rows x 9 columns]"
            ]
          },
          "metadata": {},
          "execution_count": 52
        }
      ]
    },
    {
      "cell_type": "code",
      "source": [
        "data13=data12[a1]\n",
        "data14=data12[a3]"
      ],
      "metadata": {
        "id": "Psd-259At4rz"
      },
      "execution_count": null,
      "outputs": []
    },
    {
      "cell_type": "code",
      "source": [
        "dx5=dt1.head(107)\n",
        "dx5[\"total\"]=dx5[\"NO.1\"]+dx5[\"NO.2\"]+dx5[\"NO.3\"]+dx5[\"NO.4\"]+dx5[\"NO.5\"]+dx5[\"NO.6\"]+dx5[\"reportA\"]+dx5[\"reportB\"]\n",
        "print(dx5.head(3))\n",
        "dx5.plot(kind='scatter',x='total',y='exam')"
      ],
      "metadata": {
        "id": "D-wPNR5_pjn6",
        "colab": {
          "base_uri": "https://localhost:8080/",
          "height": 409
        },
        "outputId": "0b7230d5-d056-46d2-93db-2aa890fcc799"
      },
      "execution_count": null,
      "outputs": [
        {
          "output_type": "stream",
          "name": "stdout",
          "text": [
            "    NO.1        NO.2   NO.3  NO.4  ...  reportA  reportB  exam       total\n",
            "0  100.0  100.000000   75.0  90.0  ...      100      100    90  745.000000\n",
            "1  100.0  100.000000  100.0  90.0  ...      100      100    90  770.000000\n",
            "2  100.0   79.310345  100.0  90.0  ...      100      100    45  749.310345\n",
            "\n",
            "[3 rows x 10 columns]\n"
          ]
        },
        {
          "output_type": "execute_result",
          "data": {
            "text/plain": [
              "<matplotlib.axes._subplots.AxesSubplot at 0x7f10e09f6ed0>"
            ]
          },
          "metadata": {},
          "execution_count": 54
        },
        {
          "output_type": "display_data",
          "data": {
            "image/png": "[encoded data removed]",
            "text/plain": [
              "<Figure size 432x288 with 1 Axes>"
            ]
          },
          "metadata": {
            "needs_background": "light"
          }
        }
      ]
    },
    {
      "cell_type": "code",
      "source": [
        "#data13,data14を説明変数、目的変数に分割\n",
        "model5=LinearRegression()\n",
        "i=0 \n",
        "stotal17=0\n",
        "for i in range(10):\n",
        "    xtrain5,xtest5,ytrain5,ytest5=train_test_split(data13,data14,test_size=0.2,random_state=i)\n",
        "    model5.fit(xtrain5,ytrain5)\n",
        "    sval17=model5.score(xtest5, ytest5)\n",
        "    stotal17=stotal17+sval17\n",
        "    saverage17=stotal17/10\n",
        "print(saverage17)"
      ],
      "metadata": {
        "id": "rE1O58qSQQPz",
        "colab": {
          "base_uri": "https://localhost:8080/"
        },
        "outputId": "0c8c492f-17d9-4ed9-9f3d-2fc070df9cc2"
      },
      "execution_count": null,
      "outputs": [
        {
          "output_type": "stream",
          "name": "stdout",
          "text": [
            "-0.3026168273476115\n"
          ]
        }
      ]
    },
    {
      "cell_type": "code",
      "source": [
        "#ロジスティック回帰\n",
        "#正解率\n",
        "\n",
        "logi5=LogisticRegression(random_state=0,C=0.1)\n",
        "i=0 \n",
        "stotal18=0\n",
        "stotal19=0\n",
        "for i in range(10):\n",
        "    xtrain05,xtest05,ytrain05,ytest05=train_test_split(data13,d002,test_size=0.2,random_state=i)\n",
        "    logi5.fit(xtrain05,ytrain05)\n",
        "\n",
        "    sval18=logi5.score(xtrain05,ytrain05)\n",
        "    sval19=logi5.score(xtest05,ytest05)\n",
        "    \n",
        "    stotal18=stotal18+sval18\n",
        "    stotal19=stotal19+sval19\n",
        "\n",
        "    saverage18=stotal18/10\n",
        "    saverage19=stotal19/10\n",
        "print(saverage18,saverage19)\n",
        "    "
      ],
      "metadata": {
        "id": "BURdcfxztuJp",
        "colab": {
          "base_uri": "https://localhost:8080/"
        },
        "outputId": "e37501a5-746b-4244-d6fb-bccc25808979"
      },
      "execution_count": null,
      "outputs": [
        {
          "output_type": "stream",
          "name": "stdout",
          "text": [
            "0.7208333333333334 0.6499999999999999\n"
          ]
        }
      ]
    },
    {
      "cell_type": "code",
      "source": [
        "#予測 100回予測したうちの○○回は正解\n",
        "i=0\n",
        "stotal20=0\n",
        "for i in range(10):\n",
        "    xtrain05,xtest05,ytrain05,ytest05=train_test_split(data13,d002,test_size=0.2,random_state=i)\n",
        "    ypred5 = logi5.predict(xtest05)\n",
        "    sval20=accuracy_score(ytest05,ypred5)\n",
        "    stotal20=stotal20+sval20\n",
        "    saverage20=stotal20/10\n",
        "print(saverage20)"
      ],
      "metadata": {
        "id": "1oGLvrWTt1B1",
        "colab": {
          "base_uri": "https://localhost:8080/"
        },
        "outputId": "c7c76f53-1d9e-4d30-b156-b9dd3e6a20af"
      },
      "execution_count": null,
      "outputs": [
        {
          "output_type": "stream",
          "name": "stdout",
          "text": [
            "0.7333333333333334\n"
          ]
        }
      ]
    },
    {
      "cell_type": "code",
      "source": [
        "data15=data12[a2]"
      ],
      "metadata": {
        "id": "bnRo07G4xMkV"
      },
      "execution_count": null,
      "outputs": []
    },
    {
      "cell_type": "code",
      "source": [
        "#3.2 相関係数で絞り込みver\n",
        "data15_cor=data15.corr()['exam']\n",
        "abs_data15=data15_cor.map(abs)\n",
        "abs_data15.sort_values(ascending=False)"
      ],
      "metadata": {
        "id": "iN14B_L1w1g9",
        "colab": {
          "base_uri": "https://localhost:8080/"
        },
        "outputId": "279c562f-0f2a-4ef6-e1f9-f79692a3da64"
      },
      "execution_count": null,
      "outputs": [
        {
          "output_type": "execute_result",
          "data": {
            "text/plain": [
              "exam       1.000000\n",
              "NO.1       0.226207\n",
              "NO.5       0.184362\n",
              "NO.4       0.173814\n",
              "reportA    0.138493\n",
              "NO.2       0.110602\n",
              "NO.6       0.086602\n",
              "NO.3       0.075417\n",
              "reportB    0.061632\n",
              "Name: exam, dtype: float64"
            ]
          },
          "metadata": {},
          "execution_count": 59
        }
      ]
    },
    {
      "cell_type": "code",
      "source": [
        "col3=['NO.1','NO.5','NO.4','reportA']\n",
        "data16=data15[col3]\n",
        "data17=data15[a3]"
      ],
      "metadata": {
        "id": "9Wd21OeNxfSn"
      },
      "execution_count": null,
      "outputs": []
    },
    {
      "cell_type": "code",
      "source": [
        "dx6=dt1.head(107)\n",
        "dx6[\"total\"]=dx6[\"NO.1\"]+dx6[\"NO.4\"]+dx6[\"NO.5\"]+dx6[\"reportA\"]\n",
        "print(dx6.head(3))\n",
        "dx6.plot(kind='scatter',x='total',y='exam')"
      ],
      "metadata": {
        "id": "ZXWOjuxtrYii",
        "colab": {
          "base_uri": "https://localhost:8080/",
          "height": 372
        },
        "outputId": "ccea0091-61c4-4fed-d3f8-f4aa2b1dc2ff"
      },
      "execution_count": null,
      "outputs": [
        {
          "output_type": "stream",
          "name": "stdout",
          "text": [
            "    NO.1        NO.2   NO.3  NO.4  NO.5   NO.6  reportA  reportB  exam  total\n",
            "0  100.0  100.000000   75.0  90.0  80.0  100.0      100      100    90  370.0\n",
            "1  100.0  100.000000  100.0  90.0  80.0  100.0      100      100    90  370.0\n",
            "2  100.0   79.310345  100.0  90.0  80.0  100.0      100      100    45  370.0\n"
          ]
        },
        {
          "output_type": "execute_result",
          "data": {
            "text/plain": [
              "<matplotlib.axes._subplots.AxesSubplot at 0x7f10e09c6310>"
            ]
          },
          "metadata": {},
          "execution_count": 61
        },
        {
          "output_type": "display_data",
          "data": {
            "image/png": "[encoded data removed]",
            "text/plain": [
              "<Figure size 432x288 with 1 Axes>"
            ]
          },
          "metadata": {
            "needs_background": "light"
          }
        }
      ]
    },
    {
      "cell_type": "code",
      "source": [
        "#data16,data17を説明変数、目的変数に分割\n",
        "model6=LinearRegression()\n",
        "i=0 \n",
        "stotal21=0\n",
        "for i in range(10):\n",
        "    xtrain6,xtest6,ytrain6,ytest6=train_test_split(data16,data17,test_size=0.2,random_state=i)\n",
        "    model6.fit(xtrain6,ytrain6)\n",
        "    sval21=model6.score(xtest6, ytest6)\n",
        "    stotal21=stotal21+sval21\n",
        "    saverage21=stotal21/10\n",
        "print(saverage21)"
      ],
      "metadata": {
        "id": "XyDbypoPQr8T",
        "colab": {
          "base_uri": "https://localhost:8080/"
        },
        "outputId": "743b0d47-b89c-4984-f632-12e11e1a246c"
      },
      "execution_count": null,
      "outputs": [
        {
          "output_type": "stream",
          "name": "stdout",
          "text": [
            "-0.16604687293979936\n"
          ]
        }
      ]
    },
    {
      "cell_type": "code",
      "source": [
        "#ロジスティック回帰\n",
        "#正解率\n",
        "\n",
        "logi6=LogisticRegression(random_state=0,C=0.1)\n",
        "i=0 \n",
        "stotal22=0\n",
        "stotal23=0\n",
        "for i in range(10):\n",
        "    xtrain06,xtest06,ytrain06,ytest06=train_test_split(data16,d002,test_size=0.2,random_state=i)\n",
        "    logi6.fit(xtrain06,ytrain06)\n",
        "\n",
        "    sval22=logi6.score(xtrain06,ytrain06)\n",
        "    sval23=logi6.score(xtest06,ytest06)\n",
        "    \n",
        "    stotal22=stotal22+sval22\n",
        "    stotal23=stotal23+sval23\n",
        "\n",
        "    saverage22=stotal22/10\n",
        "    saverage23=stotal23/10\n",
        "print(saverage22,saverage23)"
      ],
      "metadata": {
        "id": "hVoCKdzR2o-q",
        "colab": {
          "base_uri": "https://localhost:8080/"
        },
        "outputId": "4959bcfe-17de-4d82-c1a5-15c258399421"
      },
      "execution_count": null,
      "outputs": [
        {
          "output_type": "stream",
          "name": "stdout",
          "text": [
            "0.7208333333333334 0.6444444444444445\n"
          ]
        }
      ]
    },
    {
      "cell_type": "code",
      "source": [
        "#予測 100回予測したうちの○○回は正解\n",
        "i=0\n",
        "stotal24=0\n",
        "for i in range(10):\n",
        "    xtrain06,xtest06,ytrain06,ytest06=train_test_split(data16,d002,test_size=0.2,random_state=i)\n",
        "    ypred6 = logi6.predict(xtest06)\n",
        "    sval24=accuracy_score(ytest06,ypred6)\n",
        "    stotal24=stotal24+sval24\n",
        "    saverage24=stotal24/10\n",
        "print(saverage24)"
      ],
      "metadata": {
        "id": "wqoC6yITtSeu",
        "colab": {
          "base_uri": "https://localhost:8080/"
        },
        "outputId": "75ed6855-f954-4c39-d6e4-ad47a4c3284e"
      },
      "execution_count": null,
      "outputs": [
        {
          "output_type": "stream",
          "name": "stdout",
          "text": [
            "0.688888888888889\n"
          ]
        }
      ]
    },
    {
      "cell_type": "code",
      "source": [
        "#4.1 欠損値に偏差値から求めた点数を代入してexamがが0の外れ値を除外して決定係数を求める. 訂正"
      ],
      "metadata": {
        "id": "Uny8nR_2ybpx"
      },
      "execution_count": null,
      "outputs": []
    },
    {
      "cell_type": "code",
      "source": [
        "d0.describe()"
      ],
      "metadata": {
        "id": "due86hlTzSF7",
        "colab": {
          "base_uri": "https://localhost:8080/",
          "height": 300
        },
        "outputId": "f7718b5b-c596-4a0d-cc20-0f4a3c1937af"
      },
      "execution_count": null,
      "outputs": [
        {
          "output_type": "execute_result",
          "data": {
            "text/html": [
              "\n",
              "  <div id=\"df-3d30959f-10d2-47a8-b6cf-2abfbe948ffa\">\n",
              "    <div class=\"colab-df-container\">\n",
              "      <div>\n",
              "<style scoped>\n",
              "    .dataframe tbody tr th:only-of-type {\n",
              "        vertical-align: middle;\n",
              "    }\n",
              "\n",
              "    .dataframe tbody tr th {\n",
              "        vertical-align: top;\n",
              "    }\n",
              "\n",
              "    .dataframe thead th {\n",
              "        text-align: right;\n",
              "    }\n",
              "</style>\n",
              "<table border=\"1\" class=\"dataframe\">\n",
              "  <thead>\n",
              "    <tr style=\"text-align: right;\">\n",
              "      <th></th>\n",
              "      <th>NO.1</th>\n",
              "      <th>NO.2</th>\n",
              "      <th>NO.3</th>\n",
              "      <th>NO.4</th>\n",
              "      <th>NO.5</th>\n",
              "      <th>NO.6</th>\n",
              "      <th>reportA</th>\n",
              "      <th>reportB</th>\n",
              "      <th>exam</th>\n",
              "      <th>deviation</th>\n",
              "    </tr>\n",
              "  </thead>\n",
              "  <tbody>\n",
              "    <tr>\n",
              "      <th>count</th>\n",
              "      <td>72.000000</td>\n",
              "      <td>58.000000</td>\n",
              "      <td>89.000000</td>\n",
              "      <td>88.000000</td>\n",
              "      <td>87.000000</td>\n",
              "      <td>91.000000</td>\n",
              "      <td>107.000000</td>\n",
              "      <td>107.000000</td>\n",
              "      <td>107.000000</td>\n",
              "      <td>107.000000</td>\n",
              "    </tr>\n",
              "    <tr>\n",
              "      <th>mean</th>\n",
              "      <td>83.472222</td>\n",
              "      <td>79.310345</td>\n",
              "      <td>79.775281</td>\n",
              "      <td>82.272727</td>\n",
              "      <td>79.310345</td>\n",
              "      <td>83.791209</td>\n",
              "      <td>77.289720</td>\n",
              "      <td>83.177570</td>\n",
              "      <td>54.177570</td>\n",
              "      <td>49.214019</td>\n",
              "    </tr>\n",
              "    <tr>\n",
              "      <th>std</th>\n",
              "      <td>25.351596</td>\n",
              "      <td>33.158951</td>\n",
              "      <td>26.078009</td>\n",
              "      <td>17.858143</td>\n",
              "      <td>19.216823</td>\n",
              "      <td>24.544072</td>\n",
              "      <td>34.683749</td>\n",
              "      <td>37.582566</td>\n",
              "      <td>29.395101</td>\n",
              "      <td>7.223474</td>\n",
              "    </tr>\n",
              "    <tr>\n",
              "      <th>min</th>\n",
              "      <td>0.000000</td>\n",
              "      <td>0.000000</td>\n",
              "      <td>0.000000</td>\n",
              "      <td>0.000000</td>\n",
              "      <td>10.000000</td>\n",
              "      <td>0.000000</td>\n",
              "      <td>0.000000</td>\n",
              "      <td>0.000000</td>\n",
              "      <td>0.000000</td>\n",
              "      <td>24.300000</td>\n",
              "    </tr>\n",
              "    <tr>\n",
              "      <th>25%</th>\n",
              "      <td>80.000000</td>\n",
              "      <td>75.000000</td>\n",
              "      <td>75.000000</td>\n",
              "      <td>70.000000</td>\n",
              "      <td>70.000000</td>\n",
              "      <td>75.000000</td>\n",
              "      <td>70.000000</td>\n",
              "      <td>100.000000</td>\n",
              "      <td>33.500000</td>\n",
              "      <td>46.300000</td>\n",
              "    </tr>\n",
              "    <tr>\n",
              "      <th>50%</th>\n",
              "      <td>90.000000</td>\n",
              "      <td>100.000000</td>\n",
              "      <td>100.000000</td>\n",
              "      <td>90.000000</td>\n",
              "      <td>80.000000</td>\n",
              "      <td>100.000000</td>\n",
              "      <td>100.000000</td>\n",
              "      <td>100.000000</td>\n",
              "      <td>65.000000</td>\n",
              "      <td>51.600000</td>\n",
              "    </tr>\n",
              "    <tr>\n",
              "      <th>75%</th>\n",
              "      <td>100.000000</td>\n",
              "      <td>100.000000</td>\n",
              "      <td>100.000000</td>\n",
              "      <td>90.000000</td>\n",
              "      <td>90.000000</td>\n",
              "      <td>100.000000</td>\n",
              "      <td>100.000000</td>\n",
              "      <td>100.000000</td>\n",
              "      <td>76.000000</td>\n",
              "      <td>54.450000</td>\n",
              "    </tr>\n",
              "    <tr>\n",
              "      <th>max</th>\n",
              "      <td>100.000000</td>\n",
              "      <td>100.000000</td>\n",
              "      <td>100.000000</td>\n",
              "      <td>100.000000</td>\n",
              "      <td>100.000000</td>\n",
              "      <td>100.000000</td>\n",
              "      <td>100.000000</td>\n",
              "      <td>100.000000</td>\n",
              "      <td>95.000000</td>\n",
              "      <td>58.300000</td>\n",
              "    </tr>\n",
              "  </tbody>\n",
              "</table>\n",
              "</div>\n",
              "      <button class=\"colab-df-convert\" onclick=\"convertToInteractive('df-3d30959f-10d2-47a8-b6cf-2abfbe948ffa')\"\n",
              "              title=\"Convert this dataframe to an interactive table.\"\n",
              "              style=\"display:none;\">\n",
              "        \n",
              "  <svg xmlns=\"http://www.w3.org/2000/svg\" height=\"24px\"viewBox=\"0 0 24 24\"\n",
              "       width=\"24px\">\n",
              "    <path d=\"M0 0h24v24H0V0z\" fill=\"none\"/>\n",
              "    <path d=\"M18.56 5.44l.94 2.06.94-2.06 2.06-.94-2.06-.94-.94-2.06-.94 2.06-2.06.94zm-11 1L8.5 8.5l.94-2.06 2.06-.94-2.06-.94L8.5 2.5l-.94 2.06-2.06.94zm10 10l.94 2.06.94-2.06 2.06-.94-2.06-.94-.94-2.06-.94 2.06-2.06.94z\"/><path d=\"M17.41 7.96l-1.37-1.37c-.4-.4-.92-.59-1.43-.59-.52 0-1.04.2-1.43.59L10.3 9.45l-7.72 7.72c-.78.78-.78 2.05 0 2.83L4 21.41c.39.39.9.59 1.41.59.51 0 1.02-.2 1.41-.59l7.78-7.78 2.81-2.81c.8-.78.8-2.07 0-2.86zM5.41 20L4 18.59l7.72-7.72 1.47 1.35L5.41 20z\"/>\n",
              "  </svg>\n",
              "      </button>\n",
              "      \n",
              "  <style>\n",
              "    .colab-df-container {\n",
              "      display:flex;\n",
              "      flex-wrap:wrap;\n",
              "      gap: 12px;\n",
              "    }\n",
              "\n",
              "    .colab-df-convert {\n",
              "      background-color: #E8F0FE;\n",
              "      border: none;\n",
              "      border-radius: 50%;\n",
              "      cursor: pointer;\n",
              "      display: none;\n",
              "      fill: #1967D2;\n",
              "      height: 32px;\n",
              "      padding: 0 0 0 0;\n",
              "      width: 32px;\n",
              "    }\n",
              "\n",
              "    .colab-df-convert:hover {\n",
              "      background-color: #E2EBFA;\n",
              "      box-shadow: 0px 1px 2px rgba(60, 64, 67, 0.3), 0px 1px 3px 1px rgba(60, 64, 67, 0.15);\n",
              "      fill: #174EA6;\n",
              "    }\n",
              "\n",
              "    [theme=dark] .colab-df-convert {\n",
              "      background-color: #3B4455;\n",
              "      fill: #D2E3FC;\n",
              "    }\n",
              "\n",
              "    [theme=dark] .colab-df-convert:hover {\n",
              "      background-color: #434B5C;\n",
              "      box-shadow: 0px 1px 3px 1px rgba(0, 0, 0, 0.15);\n",
              "      filter: drop-shadow(0px 1px 2px rgba(0, 0, 0, 0.3));\n",
              "      fill: #FFFFFF;\n",
              "    }\n",
              "  </style>\n",
              "\n",
              "      <script>\n",
              "        const buttonEl =\n",
              "          document.querySelector('#df-3d30959f-10d2-47a8-b6cf-2abfbe948ffa button.colab-df-convert');\n",
              "        buttonEl.style.display =\n",
              "          google.colab.kernel.accessAllowed ? 'block' : 'none';\n",
              "\n",
              "        async function convertToInteractive(key) {\n",
              "          const element = document.querySelector('#df-3d30959f-10d2-47a8-b6cf-2abfbe948ffa');\n",
              "          const dataTable =\n",
              "            await google.colab.kernel.invokeFunction('convertToInteractive',\n",
              "                                                     [key], {});\n",
              "          if (!dataTable) return;\n",
              "\n",
              "          const docLinkHtml = 'Like what you see? Visit the ' +\n",
              "            '<a target=\"_blank\" href=https://colab.research.google.com/notebooks/data_table.ipynb>data table notebook</a>'\n",
              "            + ' to learn more about interactive tables.';\n",
              "          element.innerHTML = '';\n",
              "          dataTable['output_type'] = 'display_data';\n",
              "          await google.colab.output.renderOutput(dataTable, element);\n",
              "          const docLink = document.createElement('div');\n",
              "          docLink.innerHTML = docLinkHtml;\n",
              "          element.appendChild(docLink);\n",
              "        }\n",
              "      </script>\n",
              "    </div>\n",
              "  </div>\n",
              "  "
            ],
            "text/plain": [
              "             NO.1        NO.2        NO.3  ...     reportB        exam   deviation\n",
              "count   72.000000   58.000000   89.000000  ...  107.000000  107.000000  107.000000\n",
              "mean    83.472222   79.310345   79.775281  ...   83.177570   54.177570   49.214019\n",
              "std     25.351596   33.158951   26.078009  ...   37.582566   29.395101    7.223474\n",
              "min      0.000000    0.000000    0.000000  ...    0.000000    0.000000   24.300000\n",
              "25%     80.000000   75.000000   75.000000  ...  100.000000   33.500000   46.300000\n",
              "50%     90.000000  100.000000  100.000000  ...  100.000000   65.000000   51.600000\n",
              "75%    100.000000  100.000000  100.000000  ...  100.000000   76.000000   54.450000\n",
              "max    100.000000  100.000000  100.000000  ...  100.000000   95.000000   58.300000\n",
              "\n",
              "[8 rows x 10 columns]"
            ]
          },
          "metadata": {},
          "execution_count": 66
        }
      ]
    },
    {
      "cell_type": "code",
      "source": [
        "dev2.describe()"
      ],
      "metadata": {
        "id": "E1RHnSiPcFlQ",
        "colab": {
          "base_uri": "https://localhost:8080/",
          "height": 300
        },
        "outputId": "e6fad8c8-0881-47dc-e3a6-c962859072f6"
      },
      "execution_count": null,
      "outputs": [
        {
          "output_type": "execute_result",
          "data": {
            "text/html": [
              "\n",
              "  <div id=\"df-bd84d826-8c4a-41e4-8cde-d31791e951bc\">\n",
              "    <div class=\"colab-df-container\">\n",
              "      <div>\n",
              "<style scoped>\n",
              "    .dataframe tbody tr th:only-of-type {\n",
              "        vertical-align: middle;\n",
              "    }\n",
              "\n",
              "    .dataframe tbody tr th {\n",
              "        vertical-align: top;\n",
              "    }\n",
              "\n",
              "    .dataframe thead th {\n",
              "        text-align: right;\n",
              "    }\n",
              "</style>\n",
              "<table border=\"1\" class=\"dataframe\">\n",
              "  <thead>\n",
              "    <tr style=\"text-align: right;\">\n",
              "      <th></th>\n",
              "      <th>NO.1</th>\n",
              "      <th>NO.2</th>\n",
              "      <th>NO.3</th>\n",
              "      <th>NO.4</th>\n",
              "      <th>NO.5</th>\n",
              "      <th>NO.6</th>\n",
              "      <th>reportA</th>\n",
              "      <th>reportB</th>\n",
              "      <th>exam</th>\n",
              "      <th>total</th>\n",
              "    </tr>\n",
              "  </thead>\n",
              "  <tbody>\n",
              "    <tr>\n",
              "      <th>count</th>\n",
              "      <td>107.000000</td>\n",
              "      <td>107.000000</td>\n",
              "      <td>107.000000</td>\n",
              "      <td>107.000000</td>\n",
              "      <td>107.000000</td>\n",
              "      <td>107.000000</td>\n",
              "      <td>107.000000</td>\n",
              "      <td>107.000000</td>\n",
              "      <td>107.000000</td>\n",
              "      <td>107.000000</td>\n",
              "    </tr>\n",
              "    <tr>\n",
              "      <th>mean</th>\n",
              "      <td>81.308411</td>\n",
              "      <td>74.345794</td>\n",
              "      <td>77.514019</td>\n",
              "      <td>81.121495</td>\n",
              "      <td>77.140187</td>\n",
              "      <td>81.757009</td>\n",
              "      <td>77.289720</td>\n",
              "      <td>83.177570</td>\n",
              "      <td>54.177570</td>\n",
              "      <td>633.654206</td>\n",
              "    </tr>\n",
              "    <tr>\n",
              "      <th>std</th>\n",
              "      <td>24.287745</td>\n",
              "      <td>30.939412</td>\n",
              "      <td>25.776018</td>\n",
              "      <td>17.808049</td>\n",
              "      <td>19.582650</td>\n",
              "      <td>25.062880</td>\n",
              "      <td>34.683749</td>\n",
              "      <td>37.582566</td>\n",
              "      <td>29.395101</td>\n",
              "      <td>129.589344</td>\n",
              "    </tr>\n",
              "    <tr>\n",
              "      <th>min</th>\n",
              "      <td>0.000000</td>\n",
              "      <td>0.000000</td>\n",
              "      <td>0.000000</td>\n",
              "      <td>0.000000</td>\n",
              "      <td>10.000000</td>\n",
              "      <td>0.000000</td>\n",
              "      <td>0.000000</td>\n",
              "      <td>0.000000</td>\n",
              "      <td>0.000000</td>\n",
              "      <td>124.000000</td>\n",
              "    </tr>\n",
              "    <tr>\n",
              "      <th>25%</th>\n",
              "      <td>77.500000</td>\n",
              "      <td>59.000000</td>\n",
              "      <td>68.000000</td>\n",
              "      <td>70.000000</td>\n",
              "      <td>70.000000</td>\n",
              "      <td>75.000000</td>\n",
              "      <td>70.000000</td>\n",
              "      <td>100.000000</td>\n",
              "      <td>33.500000</td>\n",
              "      <td>579.500000</td>\n",
              "    </tr>\n",
              "    <tr>\n",
              "      <th>50%</th>\n",
              "      <td>90.000000</td>\n",
              "      <td>86.000000</td>\n",
              "      <td>77.000000</td>\n",
              "      <td>88.000000</td>\n",
              "      <td>80.000000</td>\n",
              "      <td>100.000000</td>\n",
              "      <td>100.000000</td>\n",
              "      <td>100.000000</td>\n",
              "      <td>65.000000</td>\n",
              "      <td>653.000000</td>\n",
              "    </tr>\n",
              "    <tr>\n",
              "      <th>75%</th>\n",
              "      <td>100.000000</td>\n",
              "      <td>100.000000</td>\n",
              "      <td>100.000000</td>\n",
              "      <td>90.000000</td>\n",
              "      <td>90.000000</td>\n",
              "      <td>100.000000</td>\n",
              "      <td>100.000000</td>\n",
              "      <td>100.000000</td>\n",
              "      <td>76.000000</td>\n",
              "      <td>735.500000</td>\n",
              "    </tr>\n",
              "    <tr>\n",
              "      <th>max</th>\n",
              "      <td>100.000000</td>\n",
              "      <td>100.000000</td>\n",
              "      <td>100.000000</td>\n",
              "      <td>100.000000</td>\n",
              "      <td>100.000000</td>\n",
              "      <td>100.000000</td>\n",
              "      <td>100.000000</td>\n",
              "      <td>100.000000</td>\n",
              "      <td>95.000000</td>\n",
              "      <td>790.000000</td>\n",
              "    </tr>\n",
              "  </tbody>\n",
              "</table>\n",
              "</div>\n",
              "      <button class=\"colab-df-convert\" onclick=\"convertToInteractive('df-bd84d826-8c4a-41e4-8cde-d31791e951bc')\"\n",
              "              title=\"Convert this dataframe to an interactive table.\"\n",
              "              style=\"display:none;\">\n",
              "        \n",
              "  <svg xmlns=\"http://www.w3.org/2000/svg\" height=\"24px\"viewBox=\"0 0 24 24\"\n",
              "       width=\"24px\">\n",
              "    <path d=\"M0 0h24v24H0V0z\" fill=\"none\"/>\n",
              "    <path d=\"M18.56 5.44l.94 2.06.94-2.06 2.06-.94-2.06-.94-.94-2.06-.94 2.06-2.06.94zm-11 1L8.5 8.5l.94-2.06 2.06-.94-2.06-.94L8.5 2.5l-.94 2.06-2.06.94zm10 10l.94 2.06.94-2.06 2.06-.94-2.06-.94-.94-2.06-.94 2.06-2.06.94z\"/><path d=\"M17.41 7.96l-1.37-1.37c-.4-.4-.92-.59-1.43-.59-.52 0-1.04.2-1.43.59L10.3 9.45l-7.72 7.72c-.78.78-.78 2.05 0 2.83L4 21.41c.39.39.9.59 1.41.59.51 0 1.02-.2 1.41-.59l7.78-7.78 2.81-2.81c.8-.78.8-2.07 0-2.86zM5.41 20L4 18.59l7.72-7.72 1.47 1.35L5.41 20z\"/>\n",
              "  </svg>\n",
              "      </button>\n",
              "      \n",
              "  <style>\n",
              "    .colab-df-container {\n",
              "      display:flex;\n",
              "      flex-wrap:wrap;\n",
              "      gap: 12px;\n",
              "    }\n",
              "\n",
              "    .colab-df-convert {\n",
              "      background-color: #E8F0FE;\n",
              "      border: none;\n",
              "      border-radius: 50%;\n",
              "      cursor: pointer;\n",
              "      display: none;\n",
              "      fill: #1967D2;\n",
              "      height: 32px;\n",
              "      padding: 0 0 0 0;\n",
              "      width: 32px;\n",
              "    }\n",
              "\n",
              "    .colab-df-convert:hover {\n",
              "      background-color: #E2EBFA;\n",
              "      box-shadow: 0px 1px 2px rgba(60, 64, 67, 0.3), 0px 1px 3px 1px rgba(60, 64, 67, 0.15);\n",
              "      fill: #174EA6;\n",
              "    }\n",
              "\n",
              "    [theme=dark] .colab-df-convert {\n",
              "      background-color: #3B4455;\n",
              "      fill: #D2E3FC;\n",
              "    }\n",
              "\n",
              "    [theme=dark] .colab-df-convert:hover {\n",
              "      background-color: #434B5C;\n",
              "      box-shadow: 0px 1px 3px 1px rgba(0, 0, 0, 0.15);\n",
              "      filter: drop-shadow(0px 1px 2px rgba(0, 0, 0, 0.3));\n",
              "      fill: #FFFFFF;\n",
              "    }\n",
              "  </style>\n",
              "\n",
              "      <script>\n",
              "        const buttonEl =\n",
              "          document.querySelector('#df-bd84d826-8c4a-41e4-8cde-d31791e951bc button.colab-df-convert');\n",
              "        buttonEl.style.display =\n",
              "          google.colab.kernel.accessAllowed ? 'block' : 'none';\n",
              "\n",
              "        async function convertToInteractive(key) {\n",
              "          const element = document.querySelector('#df-bd84d826-8c4a-41e4-8cde-d31791e951bc');\n",
              "          const dataTable =\n",
              "            await google.colab.kernel.invokeFunction('convertToInteractive',\n",
              "                                                     [key], {});\n",
              "          if (!dataTable) return;\n",
              "\n",
              "          const docLinkHtml = 'Like what you see? Visit the ' +\n",
              "            '<a target=\"_blank\" href=https://colab.research.google.com/notebooks/data_table.ipynb>data table notebook</a>'\n",
              "            + ' to learn more about interactive tables.';\n",
              "          element.innerHTML = '';\n",
              "          dataTable['output_type'] = 'display_data';\n",
              "          await google.colab.output.renderOutput(dataTable, element);\n",
              "          const docLink = document.createElement('div');\n",
              "          docLink.innerHTML = docLinkHtml;\n",
              "          element.appendChild(docLink);\n",
              "        }\n",
              "      </script>\n",
              "    </div>\n",
              "  </div>\n",
              "  "
            ],
            "text/plain": [
              "             NO.1        NO.2        NO.3  ...     reportB        exam       total\n",
              "count  107.000000  107.000000  107.000000  ...  107.000000  107.000000  107.000000\n",
              "mean    81.308411   74.345794   77.514019  ...   83.177570   54.177570  633.654206\n",
              "std     24.287745   30.939412   25.776018  ...   37.582566   29.395101  129.589344\n",
              "min      0.000000    0.000000    0.000000  ...    0.000000    0.000000  124.000000\n",
              "25%     77.500000   59.000000   68.000000  ...  100.000000   33.500000  579.500000\n",
              "50%     90.000000   86.000000   77.000000  ...  100.000000   65.000000  653.000000\n",
              "75%    100.000000  100.000000  100.000000  ...  100.000000   76.000000  735.500000\n",
              "max    100.000000  100.000000  100.000000  ...  100.000000   95.000000  790.000000\n",
              "\n",
              "[8 rows x 10 columns]"
            ]
          },
          "metadata": {},
          "execution_count": 67
        }
      ]
    },
    {
      "cell_type": "code",
      "source": [
        "data18=dev2[dev2['exam']!=0]\n",
        "data18.sum"
      ],
      "metadata": {
        "id": "xvEQKvCVck6g",
        "colab": {
          "base_uri": "https://localhost:8080/"
        },
        "outputId": "fbbb7446-ba77-4e84-e409-c1c0b1e92fa4"
      },
      "execution_count": null,
      "outputs": [
        {
          "output_type": "execute_result",
          "data": {
            "text/plain": [
              "<bound method DataFrame.sum of      NO.1  NO.2  NO.3  NO.4  NO.5  NO.6  reportA  reportB  exam  total\n",
              "0     100   100    75    90    80   100      100      100    90    745\n",
              "1     100   100   100    90    80   100      100      100    90    770\n",
              "2     100    96   100    90    80   100      100      100    45    766\n",
              "3      80    86    85    90   100    75       70      100    57    686\n",
              "4      90   100   100    90   100   100      100      100    50    780\n",
              "..    ...   ...   ...   ...   ...   ...      ...      ...   ...    ...\n",
              "102   100     0   100    90    60   100      100      100    77    650\n",
              "103   100    75     0    70    80    50      100      100    75    575\n",
              "104    90     0   100    90    50    50      100      100    35    580\n",
              "105    70     0     0     0   100   100       70      100    27    440\n",
              "106    90   100   100    90    80   100      100      100    62    760\n",
              "\n",
              "[90 rows x 10 columns]>"
            ]
          },
          "metadata": {},
          "execution_count": 68
        }
      ]
    },
    {
      "cell_type": "code",
      "source": [
        "data019=data18[a2]\n",
        "data019"
      ],
      "metadata": {
        "id": "b_y54XVTn7rH",
        "colab": {
          "base_uri": "https://localhost:8080/",
          "height": 424
        },
        "outputId": "918d3b07-f084-4508-b89b-ef257a9bba9f"
      },
      "execution_count": null,
      "outputs": [
        {
          "output_type": "execute_result",
          "data": {
            "text/html": [
              "\n",
              "  <div id=\"df-5b9767b8-6c9c-4290-8a89-8e4d1a617710\">\n",
              "    <div class=\"colab-df-container\">\n",
              "      <div>\n",
              "<style scoped>\n",
              "    .dataframe tbody tr th:only-of-type {\n",
              "        vertical-align: middle;\n",
              "    }\n",
              "\n",
              "    .dataframe tbody tr th {\n",
              "        vertical-align: top;\n",
              "    }\n",
              "\n",
              "    .dataframe thead th {\n",
              "        text-align: right;\n",
              "    }\n",
              "</style>\n",
              "<table border=\"1\" class=\"dataframe\">\n",
              "  <thead>\n",
              "    <tr style=\"text-align: right;\">\n",
              "      <th></th>\n",
              "      <th>NO.1</th>\n",
              "      <th>NO.2</th>\n",
              "      <th>NO.3</th>\n",
              "      <th>NO.4</th>\n",
              "      <th>NO.5</th>\n",
              "      <th>NO.6</th>\n",
              "      <th>reportA</th>\n",
              "      <th>reportB</th>\n",
              "      <th>exam</th>\n",
              "    </tr>\n",
              "  </thead>\n",
              "  <tbody>\n",
              "    <tr>\n",
              "      <th>0</th>\n",
              "      <td>100</td>\n",
              "      <td>100</td>\n",
              "      <td>75</td>\n",
              "      <td>90</td>\n",
              "      <td>80</td>\n",
              "      <td>100</td>\n",
              "      <td>100</td>\n",
              "      <td>100</td>\n",
              "      <td>90</td>\n",
              "    </tr>\n",
              "    <tr>\n",
              "      <th>1</th>\n",
              "      <td>100</td>\n",
              "      <td>100</td>\n",
              "      <td>100</td>\n",
              "      <td>90</td>\n",
              "      <td>80</td>\n",
              "      <td>100</td>\n",
              "      <td>100</td>\n",
              "      <td>100</td>\n",
              "      <td>90</td>\n",
              "    </tr>\n",
              "    <tr>\n",
              "      <th>2</th>\n",
              "      <td>100</td>\n",
              "      <td>96</td>\n",
              "      <td>100</td>\n",
              "      <td>90</td>\n",
              "      <td>80</td>\n",
              "      <td>100</td>\n",
              "      <td>100</td>\n",
              "      <td>100</td>\n",
              "      <td>45</td>\n",
              "    </tr>\n",
              "    <tr>\n",
              "      <th>3</th>\n",
              "      <td>80</td>\n",
              "      <td>86</td>\n",
              "      <td>85</td>\n",
              "      <td>90</td>\n",
              "      <td>100</td>\n",
              "      <td>75</td>\n",
              "      <td>70</td>\n",
              "      <td>100</td>\n",
              "      <td>57</td>\n",
              "    </tr>\n",
              "    <tr>\n",
              "      <th>4</th>\n",
              "      <td>90</td>\n",
              "      <td>100</td>\n",
              "      <td>100</td>\n",
              "      <td>90</td>\n",
              "      <td>100</td>\n",
              "      <td>100</td>\n",
              "      <td>100</td>\n",
              "      <td>100</td>\n",
              "      <td>50</td>\n",
              "    </tr>\n",
              "    <tr>\n",
              "      <th>...</th>\n",
              "      <td>...</td>\n",
              "      <td>...</td>\n",
              "      <td>...</td>\n",
              "      <td>...</td>\n",
              "      <td>...</td>\n",
              "      <td>...</td>\n",
              "      <td>...</td>\n",
              "      <td>...</td>\n",
              "      <td>...</td>\n",
              "    </tr>\n",
              "    <tr>\n",
              "      <th>102</th>\n",
              "      <td>100</td>\n",
              "      <td>0</td>\n",
              "      <td>100</td>\n",
              "      <td>90</td>\n",
              "      <td>60</td>\n",
              "      <td>100</td>\n",
              "      <td>100</td>\n",
              "      <td>100</td>\n",
              "      <td>77</td>\n",
              "    </tr>\n",
              "    <tr>\n",
              "      <th>103</th>\n",
              "      <td>100</td>\n",
              "      <td>75</td>\n",
              "      <td>0</td>\n",
              "      <td>70</td>\n",
              "      <td>80</td>\n",
              "      <td>50</td>\n",
              "      <td>100</td>\n",
              "      <td>100</td>\n",
              "      <td>75</td>\n",
              "    </tr>\n",
              "    <tr>\n",
              "      <th>104</th>\n",
              "      <td>90</td>\n",
              "      <td>0</td>\n",
              "      <td>100</td>\n",
              "      <td>90</td>\n",
              "      <td>50</td>\n",
              "      <td>50</td>\n",
              "      <td>100</td>\n",
              "      <td>100</td>\n",
              "      <td>35</td>\n",
              "    </tr>\n",
              "    <tr>\n",
              "      <th>105</th>\n",
              "      <td>70</td>\n",
              "      <td>0</td>\n",
              "      <td>0</td>\n",
              "      <td>0</td>\n",
              "      <td>100</td>\n",
              "      <td>100</td>\n",
              "      <td>70</td>\n",
              "      <td>100</td>\n",
              "      <td>27</td>\n",
              "    </tr>\n",
              "    <tr>\n",
              "      <th>106</th>\n",
              "      <td>90</td>\n",
              "      <td>100</td>\n",
              "      <td>100</td>\n",
              "      <td>90</td>\n",
              "      <td>80</td>\n",
              "      <td>100</td>\n",
              "      <td>100</td>\n",
              "      <td>100</td>\n",
              "      <td>62</td>\n",
              "    </tr>\n",
              "  </tbody>\n",
              "</table>\n",
              "<p>90 rows × 9 columns</p>\n",
              "</div>\n",
              "      <button class=\"colab-df-convert\" onclick=\"convertToInteractive('df-5b9767b8-6c9c-4290-8a89-8e4d1a617710')\"\n",
              "              title=\"Convert this dataframe to an interactive table.\"\n",
              "              style=\"display:none;\">\n",
              "        \n",
              "  <svg xmlns=\"http://www.w3.org/2000/svg\" height=\"24px\"viewBox=\"0 0 24 24\"\n",
              "       width=\"24px\">\n",
              "    <path d=\"M0 0h24v24H0V0z\" fill=\"none\"/>\n",
              "    <path d=\"M18.56 5.44l.94 2.06.94-2.06 2.06-.94-2.06-.94-.94-2.06-.94 2.06-2.06.94zm-11 1L8.5 8.5l.94-2.06 2.06-.94-2.06-.94L8.5 2.5l-.94 2.06-2.06.94zm10 10l.94 2.06.94-2.06 2.06-.94-2.06-.94-.94-2.06-.94 2.06-2.06.94z\"/><path d=\"M17.41 7.96l-1.37-1.37c-.4-.4-.92-.59-1.43-.59-.52 0-1.04.2-1.43.59L10.3 9.45l-7.72 7.72c-.78.78-.78 2.05 0 2.83L4 21.41c.39.39.9.59 1.41.59.51 0 1.02-.2 1.41-.59l7.78-7.78 2.81-2.81c.8-.78.8-2.07 0-2.86zM5.41 20L4 18.59l7.72-7.72 1.47 1.35L5.41 20z\"/>\n",
              "  </svg>\n",
              "      </button>\n",
              "      \n",
              "  <style>\n",
              "    .colab-df-container {\n",
              "      display:flex;\n",
              "      flex-wrap:wrap;\n",
              "      gap: 12px;\n",
              "    }\n",
              "\n",
              "    .colab-df-convert {\n",
              "      background-color: #E8F0FE;\n",
              "      border: none;\n",
              "      border-radius: 50%;\n",
              "      cursor: pointer;\n",
              "      display: none;\n",
              "      fill: #1967D2;\n",
              "      height: 32px;\n",
              "      padding: 0 0 0 0;\n",
              "      width: 32px;\n",
              "    }\n",
              "\n",
              "    .colab-df-convert:hover {\n",
              "      background-color: #E2EBFA;\n",
              "      box-shadow: 0px 1px 2px rgba(60, 64, 67, 0.3), 0px 1px 3px 1px rgba(60, 64, 67, 0.15);\n",
              "      fill: #174EA6;\n",
              "    }\n",
              "\n",
              "    [theme=dark] .colab-df-convert {\n",
              "      background-color: #3B4455;\n",
              "      fill: #D2E3FC;\n",
              "    }\n",
              "\n",
              "    [theme=dark] .colab-df-convert:hover {\n",
              "      background-color: #434B5C;\n",
              "      box-shadow: 0px 1px 3px 1px rgba(0, 0, 0, 0.15);\n",
              "      filter: drop-shadow(0px 1px 2px rgba(0, 0, 0, 0.3));\n",
              "      fill: #FFFFFF;\n",
              "    }\n",
              "  </style>\n",
              "\n",
              "      <script>\n",
              "        const buttonEl =\n",
              "          document.querySelector('#df-5b9767b8-6c9c-4290-8a89-8e4d1a617710 button.colab-df-convert');\n",
              "        buttonEl.style.display =\n",
              "          google.colab.kernel.accessAllowed ? 'block' : 'none';\n",
              "\n",
              "        async function convertToInteractive(key) {\n",
              "          const element = document.querySelector('#df-5b9767b8-6c9c-4290-8a89-8e4d1a617710');\n",
              "          const dataTable =\n",
              "            await google.colab.kernel.invokeFunction('convertToInteractive',\n",
              "                                                     [key], {});\n",
              "          if (!dataTable) return;\n",
              "\n",
              "          const docLinkHtml = 'Like what you see? Visit the ' +\n",
              "            '<a target=\"_blank\" href=https://colab.research.google.com/notebooks/data_table.ipynb>data table notebook</a>'\n",
              "            + ' to learn more about interactive tables.';\n",
              "          element.innerHTML = '';\n",
              "          dataTable['output_type'] = 'display_data';\n",
              "          await google.colab.output.renderOutput(dataTable, element);\n",
              "          const docLink = document.createElement('div');\n",
              "          docLink.innerHTML = docLinkHtml;\n",
              "          element.appendChild(docLink);\n",
              "        }\n",
              "      </script>\n",
              "    </div>\n",
              "  </div>\n",
              "  "
            ],
            "text/plain": [
              "     NO.1  NO.2  NO.3  NO.4  NO.5  NO.6  reportA  reportB  exam\n",
              "0     100   100    75    90    80   100      100      100    90\n",
              "1     100   100   100    90    80   100      100      100    90\n",
              "2     100    96   100    90    80   100      100      100    45\n",
              "3      80    86    85    90   100    75       70      100    57\n",
              "4      90   100   100    90   100   100      100      100    50\n",
              "..    ...   ...   ...   ...   ...   ...      ...      ...   ...\n",
              "102   100     0   100    90    60   100      100      100    77\n",
              "103   100    75     0    70    80    50      100      100    75\n",
              "104    90     0   100    90    50    50      100      100    35\n",
              "105    70     0     0     0   100   100       70      100    27\n",
              "106    90   100   100    90    80   100      100      100    62\n",
              "\n",
              "[90 rows x 9 columns]"
            ]
          },
          "metadata": {},
          "execution_count": 69
        }
      ]
    },
    {
      "cell_type": "code",
      "source": [
        "dx7=data019.head(107)\n",
        "dx7[\"total\"]=dx7[\"NO.1\"]+dx7[\"NO.2\"]+dx7[\"NO.3\"]+dx7[\"NO.4\"]+dx7[\"NO.5\"]+dx7[\"NO.6\"]+dx7[\"reportA\"]+dx7[\"reportB\"]\n",
        "print(dx7.head(3))\n",
        "dx7.plot(kind='scatter',x='total',y='exam')"
      ],
      "metadata": {
        "id": "4KswycyQsMNS",
        "colab": {
          "base_uri": "https://localhost:8080/",
          "height": 372
        },
        "outputId": "531879c5-1f73-462c-e6ad-69752af63a50"
      },
      "execution_count": null,
      "outputs": [
        {
          "output_type": "stream",
          "name": "stdout",
          "text": [
            "   NO.1  NO.2  NO.3  NO.4  NO.5  NO.6  reportA  reportB  exam  total\n",
            "0   100   100    75    90    80   100      100      100    90    745\n",
            "1   100   100   100    90    80   100      100      100    90    770\n",
            "2   100    96   100    90    80   100      100      100    45    766\n"
          ]
        },
        {
          "output_type": "execute_result",
          "data": {
            "text/plain": [
              "<matplotlib.axes._subplots.AxesSubplot at 0x7f10e08e2410>"
            ]
          },
          "metadata": {},
          "execution_count": 70
        },
        {
          "output_type": "display_data",
          "data": {
            "image/png": "[encoded data removed]",
            "text/plain": [
              "<Figure size 432x288 with 1 Axes>"
            ]
          },
          "metadata": {
            "needs_background": "light"
          }
        }
      ]
    },
    {
      "cell_type": "code",
      "source": [
        "data19=data18[a1]\n",
        "data20=data18[a3]"
      ],
      "metadata": {
        "id": "bOizalO5pQ1h"
      },
      "execution_count": null,
      "outputs": []
    },
    {
      "cell_type": "code",
      "source": [
        "#外れ値を処理しないまま決定係数を求める\n",
        "\n",
        "#d1,d2を説明変数、目的変数に分割\n",
        "model7=LinearRegression()\n",
        "i=0 \n",
        "stotal25=0\n",
        "for i in range(10):\n",
        "    xtrain7,xtest7,ytrain7,ytest7=train_test_split(data19,data20,test_size=0.2,random_state=i)\n",
        "    model7.fit(xtrain7,ytrain7)\n",
        "    sval25=model7.score(xtest7, ytest7)\n",
        "    stotal25=stotal25+sval25\n",
        "    saverage25=stotal25/10\n",
        "print(saverage25)"
      ],
      "metadata": {
        "id": "mdh3Zu7MQzmZ",
        "colab": {
          "base_uri": "https://localhost:8080/"
        },
        "outputId": "fec38037-d97b-42ff-cacb-3f48e9f8cd26"
      },
      "execution_count": null,
      "outputs": [
        {
          "output_type": "stream",
          "name": "stdout",
          "text": [
            "-0.35125374618305194\n"
          ]
        }
      ]
    },
    {
      "cell_type": "code",
      "source": [
        "#ロジスティック回帰\n",
        "#正解率\n",
        "\n",
        "logi7=LogisticRegression(random_state=0,C=0.1)\n",
        "i=0 \n",
        "stotal025=0\n",
        "stotal26=0\n",
        "for i in range(10):\n",
        "    xtrain07,xtest07,ytrain07,ytest07=train_test_split(data19,d002,test_size=0.2,random_state=i)\n",
        "    logi7.fit(xtrain07,ytrain07)\n",
        "\n",
        "    sval025=logi7.score(xtrain07,ytrain07)\n",
        "    sval26=logi7.score(xtest07,ytest07)\n",
        "    \n",
        "    stotal025=stotal025+sval025\n",
        "    stotal26=stotal26+sval26\n",
        "\n",
        "    saverage26=stotal025/10\n",
        "    saverage27=stotal26/10\n",
        "print(saverage26,saverage27)\n"
      ],
      "metadata": {
        "id": "TWe9Mzb_s9mW",
        "colab": {
          "base_uri": "https://localhost:8080/"
        },
        "outputId": "a66c3667-d26b-4137-df2c-49a0bc88b305"
      },
      "execution_count": null,
      "outputs": [
        {
          "output_type": "stream",
          "name": "stdout",
          "text": [
            "0.7166666666666667 0.6277777777777778\n"
          ]
        }
      ]
    },
    {
      "cell_type": "code",
      "source": [
        "#予測 100回予測したうちの○○回は正解\n",
        "i=0\n",
        "stotal27=0\n",
        "for i in range(10):\n",
        "    xtrain07,xtest07,ytrain07,ytest07=train_test_split(data19,d002,test_size=0.2,random_state=i)\n",
        "    ypred7 = logi7.predict(xtest07)\n",
        "    sval27=accuracy_score(ytest07,ypred7)\n",
        "    stotal27=stotal27+sval27\n",
        "    saverage28=stotal27/10\n",
        "print(saverage28)"
      ],
      "metadata": {
        "id": "xdtov9xxs0i6",
        "colab": {
          "base_uri": "https://localhost:8080/"
        },
        "outputId": "63db01a4-81e3-41b9-db13-350ced9dca77"
      },
      "execution_count": null,
      "outputs": [
        {
          "output_type": "stream",
          "name": "stdout",
          "text": [
            "0.6611111111111111\n"
          ]
        }
      ]
    },
    {
      "cell_type": "code",
      "source": [
        "#4.2 相関係数で絞り込みver"
      ],
      "metadata": {
        "id": "hXOMrXoKqsKu"
      },
      "execution_count": null,
      "outputs": []
    },
    {
      "cell_type": "code",
      "source": [
        "data019_cor=data019.corr()['exam']\n",
        "abs_data019=data019_cor.map(abs)\n",
        "abs_data019.sort_values(ascending=False)"
      ],
      "metadata": {
        "id": "2v6a2Rrsq-ib",
        "colab": {
          "base_uri": "https://localhost:8080/"
        },
        "outputId": "62af395d-f249-478e-a41f-0f04f2cce4c6"
      },
      "execution_count": null,
      "outputs": [
        {
          "output_type": "execute_result",
          "data": {
            "text/plain": [
              "exam       1.000000\n",
              "NO.1       0.262432\n",
              "NO.5       0.194064\n",
              "NO.4       0.193587\n",
              "NO.2       0.151603\n",
              "reportA    0.138493\n",
              "NO.6       0.120857\n",
              "NO.3       0.106625\n",
              "reportB    0.061632\n",
              "Name: exam, dtype: float64"
            ]
          },
          "metadata": {},
          "execution_count": 76
        }
      ]
    },
    {
      "cell_type": "code",
      "source": [
        "col4=['NO.1','NO.5','NO.4','NO.2']\n",
        "data21=data18[col4]\n",
        "data22=data18[a3]"
      ],
      "metadata": {
        "id": "OUCkRfl-rQsh"
      },
      "execution_count": null,
      "outputs": []
    },
    {
      "cell_type": "code",
      "source": [
        "dx8=data019.head(107)\n",
        "dx8[\"total\"]=dx8[\"NO.1\"]+dx8[\"NO.2\"]+dx8[\"NO.4\"]+dx8[\"NO.5\"]\n",
        "print(dx8.head(3))\n",
        "dx8.plot(kind='scatter',x='total',y='exam')"
      ],
      "metadata": {
        "id": "SIxLcNgAszb9",
        "colab": {
          "base_uri": "https://localhost:8080/",
          "height": 372
        },
        "outputId": "26fba7df-2f32-45e3-9042-2f4c8bdfca90"
      },
      "execution_count": null,
      "outputs": [
        {
          "output_type": "stream",
          "name": "stdout",
          "text": [
            "   NO.1  NO.2  NO.3  NO.4  NO.5  NO.6  reportA  reportB  exam  total\n",
            "0   100   100    75    90    80   100      100      100    90    370\n",
            "1   100   100   100    90    80   100      100      100    90    370\n",
            "2   100    96   100    90    80   100      100      100    45    366\n"
          ]
        },
        {
          "output_type": "execute_result",
          "data": {
            "text/plain": [
              "<matplotlib.axes._subplots.AxesSubplot at 0x7f10e0822a10>"
            ]
          },
          "metadata": {},
          "execution_count": 78
        },
        {
          "output_type": "display_data",
          "data": {
            "image/png": "[encoded data removed]",
            "text/plain": [
              "<Figure size 432x288 with 1 Axes>"
            ]
          },
          "metadata": {
            "needs_background": "light"
          }
        }
      ]
    },
    {
      "cell_type": "code",
      "source": [
        "#data21,data22を説明変数、目的変数に分割\n",
        "model8=LinearRegression()\n",
        "i=0 \n",
        "stotal28=0\n",
        "for i in range(10):\n",
        "    xtrain8,xtest8,ytrain8,ytest8=train_test_split(data21,data22,test_size=0.2,random_state=i)\n",
        "    model8.fit(xtrain8,ytrain8)\n",
        "    sval28=model8.score(xtest8, ytest8)\n",
        "    stotal28=stotal28+sval28\n",
        "    saverage29=stotal28/10\n",
        "print(saverage29)"
      ],
      "metadata": {
        "id": "WQ6zTVsuQ4-u",
        "colab": {
          "base_uri": "https://localhost:8080/"
        },
        "outputId": "4b38e4ea-3e0f-43aa-c688-3b037c2b96c4"
      },
      "execution_count": null,
      "outputs": [
        {
          "output_type": "stream",
          "name": "stdout",
          "text": [
            "-0.22070766925466598\n"
          ]
        }
      ]
    },
    {
      "cell_type": "code",
      "source": [
        "#各カラムの特徴量\n",
        "i=0 \n",
        "for i in range(10):\n",
        "    xtrain8,xtest8,ytrain8,ytest8=train_test_split(data21,data22,test_size=0.2,random_state=i)\n",
        "    model8.fit(xtrain8,ytrain8)\n",
        "    print(model8.coef_)\n",
        "    print(model8.intercept_) #切片"
      ],
      "metadata": {
        "id": "QRUMHLKlsZ5r",
        "colab": {
          "base_uri": "https://localhost:8080/"
        },
        "outputId": "035d6b56-1274-4c5e-a142-cf15b91df472"
      },
      "execution_count": null,
      "outputs": [
        {
          "output_type": "stream",
          "name": "stdout",
          "text": [
            "[[ 0.18005967  0.17209898  0.16764982 -0.01622411]]\n",
            "[23.28093261]\n",
            "[[ 0.24104995 -0.02452299  0.20819394 -0.00975745]]\n",
            "[30.70159068]\n",
            "[[ 0.07945356  0.11607027  0.30105493 -0.11669454]]\n",
            "[31.73902972]\n",
            "[[ 0.30525402  0.2572684  -0.22494819  0.00726205]]\n",
            "[35.41565335]\n",
            "[[ 0.12038527 -0.06181412  0.15193591  0.10154782]]\n",
            "[39.3526498]\n",
            "[[ 0.13421773  0.12265436  0.22832309 -0.02799017]]\n",
            "[26.01714911]\n",
            "[[0.14231456 0.05548888 0.10687767 0.02001492]]\n",
            "[37.19587246]\n",
            "[[ 0.27439597 -0.02400573  0.13524174 -0.06669423]]\n",
            "[38.31605183]\n",
            "[[ 0.23025489  0.25365684 -0.04198608 -0.08344491]]\n",
            "[35.44551661]\n",
            "[[ 0.17168809  0.1964845   0.10822979 -0.02158708]]\n",
            "[25.52058469]\n"
          ]
        }
      ]
    },
    {
      "cell_type": "code",
      "source": [
        "#ロジスティック回帰\n",
        "#正解率\n",
        "\n",
        "logi8=LogisticRegression(random_state=0,C=0.1)\n",
        "i=0 \n",
        "stotal29=0\n",
        "stotal30=0\n",
        "for i in range(10):\n",
        "    xtrain08,xtest08,ytrain08,ytest08=train_test_split(data21,d002,test_size=0.2,random_state=i)\n",
        "    logi8.fit(xtrain08,ytrain08)\n",
        "\n",
        "    sval29=logi8.score(xtrain08,ytrain08)\n",
        "    sval30=logi8.score(xtest08,ytest08)\n",
        "    \n",
        "    stotal29=stotal29+sval29\n",
        "    stotal30=stotal30+sval30\n",
        "\n",
        "    saverage30=stotal29/10\n",
        "    saverage31=stotal30/10\n",
        "print(saverage30,saverage31)\n"
      ],
      "metadata": {
        "id": "5LXZ7CyUsfBI",
        "colab": {
          "base_uri": "https://localhost:8080/"
        },
        "outputId": "0c7bf402-e6f6-4de8-8419-95bca4fdd13e"
      },
      "execution_count": null,
      "outputs": [
        {
          "output_type": "stream",
          "name": "stdout",
          "text": [
            "0.7291666666666667 0.6500000000000001\n"
          ]
        }
      ]
    },
    {
      "cell_type": "code",
      "source": [
        "#予測 100回予測したうちの○○回は正解\n",
        "i=0\n",
        "stotal31=0\n",
        "for i in range(10):\n",
        "    xtrain08,xtest08,ytrain08,ytest08=train_test_split(data21,d002,test_size=0.2,random_state=i)\n",
        "    ypred8 = logi8.predict(xtest08)\n",
        "    sval31=accuracy_score(ytest08,ypred8)\n",
        "    stotal31=stotal31+sval31\n",
        "    saverage32=stotal31/10\n",
        "print(saverage32)"
      ],
      "metadata": {
        "id": "_dM1Dxo4sns3",
        "colab": {
          "base_uri": "https://localhost:8080/"
        },
        "outputId": "53e3f180-3bf7-40b7-fd11-093384d2e61c"
      },
      "execution_count": null,
      "outputs": [
        {
          "output_type": "stream",
          "name": "stdout",
          "text": [
            "0.6944444444444444\n"
          ]
        }
      ]
    },
    {
      "cell_type": "code",
      "source": [
        "#5.1 外れ値を処理せずに欠損値に平均を代入して決定係数を求める"
      ],
      "metadata": {
        "id": "9gTLJf_FsiST"
      },
      "execution_count": null,
      "outputs": []
    },
    {
      "cell_type": "code",
      "source": [
        "d0.sum"
      ],
      "metadata": {
        "id": "DvS_1toLxF4D",
        "colab": {
          "base_uri": "https://localhost:8080/"
        },
        "outputId": "07865e00-4362-4912-9330-e927e546fa62"
      },
      "execution_count": null,
      "outputs": [
        {
          "output_type": "execute_result",
          "data": {
            "text/plain": [
              "<bound method DataFrame.sum of       NO.1   NO.2   NO.3  NO.4   NO.5  ...  reportA  reportB  exam  result deviation\n",
              "0    100.0  100.0   75.0  90.0   80.0  ...      100      100    90       〇      53.6\n",
              "1    100.0  100.0  100.0  90.0   80.0  ...      100      100    90       〇      55.2\n",
              "2    100.0    NaN  100.0  90.0   80.0  ...      100      100    45       ×      55.0\n",
              "3     80.0    NaN    NaN  90.0  100.0  ...       70      100    57       ×      52.0\n",
              "4     90.0    NaN  100.0  90.0  100.0  ...      100      100    50       ×      56.3\n",
              "..     ...    ...    ...   ...    ...  ...      ...      ...   ...     ...       ...\n",
              "102  100.0    0.0  100.0  90.0   60.0  ...      100      100    77       〇      52.7\n",
              "103  100.0   75.0    0.0  70.0   80.0  ...      100      100    75       〇      46.5\n",
              "104   90.0    0.0  100.0  90.0   50.0  ...      100      100    35       ×      46.3\n",
              "105   70.0    0.0    0.0   0.0  100.0  ...       70      100    27       ×      53.3\n",
              "106   90.0  100.0  100.0  90.0   80.0  ...      100      100    62       〇      54.5\n",
              "\n",
              "[107 rows x 11 columns]>"
            ]
          },
          "metadata": {},
          "execution_count": 84
        }
      ]
    },
    {
      "cell_type": "code",
      "source": [
        "data23=d0.fillna(d0_mean)\n",
        "data23.head(5)"
      ],
      "metadata": {
        "id": "vZUVxL8-uaVe",
        "colab": {
          "base_uri": "https://localhost:8080/",
          "height": 206
        },
        "outputId": "3a6efa71-124b-4b39-e596-39e66d0a4b5d"
      },
      "execution_count": null,
      "outputs": [
        {
          "output_type": "execute_result",
          "data": {
            "text/html": [
              "\n",
              "  <div id=\"df-3085d975-38a3-4912-a75b-20892e71df62\">\n",
              "    <div class=\"colab-df-container\">\n",
              "      <div>\n",
              "<style scoped>\n",
              "    .dataframe tbody tr th:only-of-type {\n",
              "        vertical-align: middle;\n",
              "    }\n",
              "\n",
              "    .dataframe tbody tr th {\n",
              "        vertical-align: top;\n",
              "    }\n",
              "\n",
              "    .dataframe thead th {\n",
              "        text-align: right;\n",
              "    }\n",
              "</style>\n",
              "<table border=\"1\" class=\"dataframe\">\n",
              "  <thead>\n",
              "    <tr style=\"text-align: right;\">\n",
              "      <th></th>\n",
              "      <th>NO.1</th>\n",
              "      <th>NO.2</th>\n",
              "      <th>NO.3</th>\n",
              "      <th>NO.4</th>\n",
              "      <th>NO.5</th>\n",
              "      <th>NO.6</th>\n",
              "      <th>reportA</th>\n",
              "      <th>reportB</th>\n",
              "      <th>exam</th>\n",
              "      <th>result</th>\n",
              "      <th>deviation</th>\n",
              "    </tr>\n",
              "  </thead>\n",
              "  <tbody>\n",
              "    <tr>\n",
              "      <th>0</th>\n",
              "      <td>100.0</td>\n",
              "      <td>100.000000</td>\n",
              "      <td>75.000000</td>\n",
              "      <td>90.0</td>\n",
              "      <td>80.0</td>\n",
              "      <td>100.0</td>\n",
              "      <td>100</td>\n",
              "      <td>100</td>\n",
              "      <td>90</td>\n",
              "      <td>〇</td>\n",
              "      <td>53.6</td>\n",
              "    </tr>\n",
              "    <tr>\n",
              "      <th>1</th>\n",
              "      <td>100.0</td>\n",
              "      <td>100.000000</td>\n",
              "      <td>100.000000</td>\n",
              "      <td>90.0</td>\n",
              "      <td>80.0</td>\n",
              "      <td>100.0</td>\n",
              "      <td>100</td>\n",
              "      <td>100</td>\n",
              "      <td>90</td>\n",
              "      <td>〇</td>\n",
              "      <td>55.2</td>\n",
              "    </tr>\n",
              "    <tr>\n",
              "      <th>2</th>\n",
              "      <td>100.0</td>\n",
              "      <td>79.310345</td>\n",
              "      <td>100.000000</td>\n",
              "      <td>90.0</td>\n",
              "      <td>80.0</td>\n",
              "      <td>100.0</td>\n",
              "      <td>100</td>\n",
              "      <td>100</td>\n",
              "      <td>45</td>\n",
              "      <td>×</td>\n",
              "      <td>55.0</td>\n",
              "    </tr>\n",
              "    <tr>\n",
              "      <th>3</th>\n",
              "      <td>80.0</td>\n",
              "      <td>79.310345</td>\n",
              "      <td>79.775281</td>\n",
              "      <td>90.0</td>\n",
              "      <td>100.0</td>\n",
              "      <td>75.0</td>\n",
              "      <td>70</td>\n",
              "      <td>100</td>\n",
              "      <td>57</td>\n",
              "      <td>×</td>\n",
              "      <td>52.0</td>\n",
              "    </tr>\n",
              "    <tr>\n",
              "      <th>4</th>\n",
              "      <td>90.0</td>\n",
              "      <td>79.310345</td>\n",
              "      <td>100.000000</td>\n",
              "      <td>90.0</td>\n",
              "      <td>100.0</td>\n",
              "      <td>100.0</td>\n",
              "      <td>100</td>\n",
              "      <td>100</td>\n",
              "      <td>50</td>\n",
              "      <td>×</td>\n",
              "      <td>56.3</td>\n",
              "    </tr>\n",
              "  </tbody>\n",
              "</table>\n",
              "</div>\n",
              "      <button class=\"colab-df-convert\" onclick=\"convertToInteractive('df-3085d975-38a3-4912-a75b-20892e71df62')\"\n",
              "              title=\"Convert this dataframe to an interactive table.\"\n",
              "              style=\"display:none;\">\n",
              "        \n",
              "  <svg xmlns=\"http://www.w3.org/2000/svg\" height=\"24px\"viewBox=\"0 0 24 24\"\n",
              "       width=\"24px\">\n",
              "    <path d=\"M0 0h24v24H0V0z\" fill=\"none\"/>\n",
              "    <path d=\"M18.56 5.44l.94 2.06.94-2.06 2.06-.94-2.06-.94-.94-2.06-.94 2.06-2.06.94zm-11 1L8.5 8.5l.94-2.06 2.06-.94-2.06-.94L8.5 2.5l-.94 2.06-2.06.94zm10 10l.94 2.06.94-2.06 2.06-.94-2.06-.94-.94-2.06-.94 2.06-2.06.94z\"/><path d=\"M17.41 7.96l-1.37-1.37c-.4-.4-.92-.59-1.43-.59-.52 0-1.04.2-1.43.59L10.3 9.45l-7.72 7.72c-.78.78-.78 2.05 0 2.83L4 21.41c.39.39.9.59 1.41.59.51 0 1.02-.2 1.41-.59l7.78-7.78 2.81-2.81c.8-.78.8-2.07 0-2.86zM5.41 20L4 18.59l7.72-7.72 1.47 1.35L5.41 20z\"/>\n",
              "  </svg>\n",
              "      </button>\n",
              "      \n",
              "  <style>\n",
              "    .colab-df-container {\n",
              "      display:flex;\n",
              "      flex-wrap:wrap;\n",
              "      gap: 12px;\n",
              "    }\n",
              "\n",
              "    .colab-df-convert {\n",
              "      background-color: #E8F0FE;\n",
              "      border: none;\n",
              "      border-radius: 50%;\n",
              "      cursor: pointer;\n",
              "      display: none;\n",
              "      fill: #1967D2;\n",
              "      height: 32px;\n",
              "      padding: 0 0 0 0;\n",
              "      width: 32px;\n",
              "    }\n",
              "\n",
              "    .colab-df-convert:hover {\n",
              "      background-color: #E2EBFA;\n",
              "      box-shadow: 0px 1px 2px rgba(60, 64, 67, 0.3), 0px 1px 3px 1px rgba(60, 64, 67, 0.15);\n",
              "      fill: #174EA6;\n",
              "    }\n",
              "\n",
              "    [theme=dark] .colab-df-convert {\n",
              "      background-color: #3B4455;\n",
              "      fill: #D2E3FC;\n",
              "    }\n",
              "\n",
              "    [theme=dark] .colab-df-convert:hover {\n",
              "      background-color: #434B5C;\n",
              "      box-shadow: 0px 1px 3px 1px rgba(0, 0, 0, 0.15);\n",
              "      filter: drop-shadow(0px 1px 2px rgba(0, 0, 0, 0.3));\n",
              "      fill: #FFFFFF;\n",
              "    }\n",
              "  </style>\n",
              "\n",
              "      <script>\n",
              "        const buttonEl =\n",
              "          document.querySelector('#df-3085d975-38a3-4912-a75b-20892e71df62 button.colab-df-convert');\n",
              "        buttonEl.style.display =\n",
              "          google.colab.kernel.accessAllowed ? 'block' : 'none';\n",
              "\n",
              "        async function convertToInteractive(key) {\n",
              "          const element = document.querySelector('#df-3085d975-38a3-4912-a75b-20892e71df62');\n",
              "          const dataTable =\n",
              "            await google.colab.kernel.invokeFunction('convertToInteractive',\n",
              "                                                     [key], {});\n",
              "          if (!dataTable) return;\n",
              "\n",
              "          const docLinkHtml = 'Like what you see? Visit the ' +\n",
              "            '<a target=\"_blank\" href=https://colab.research.google.com/notebooks/data_table.ipynb>data table notebook</a>'\n",
              "            + ' to learn more about interactive tables.';\n",
              "          element.innerHTML = '';\n",
              "          dataTable['output_type'] = 'display_data';\n",
              "          await google.colab.output.renderOutput(dataTable, element);\n",
              "          const docLink = document.createElement('div');\n",
              "          docLink.innerHTML = docLinkHtml;\n",
              "          element.appendChild(docLink);\n",
              "        }\n",
              "      </script>\n",
              "    </div>\n",
              "  </div>\n",
              "  "
            ],
            "text/plain": [
              "    NO.1        NO.2        NO.3  NO.4  ...  reportB  exam  result  deviation\n",
              "0  100.0  100.000000   75.000000  90.0  ...      100    90       〇       53.6\n",
              "1  100.0  100.000000  100.000000  90.0  ...      100    90       〇       55.2\n",
              "2  100.0   79.310345  100.000000  90.0  ...      100    45       ×       55.0\n",
              "3   80.0   79.310345   79.775281  90.0  ...      100    57       ×       52.0\n",
              "4   90.0   79.310345  100.000000  90.0  ...      100    50       ×       56.3\n",
              "\n",
              "[5 rows x 11 columns]"
            ]
          },
          "metadata": {},
          "execution_count": 85
        }
      ]
    },
    {
      "cell_type": "code",
      "source": [
        "data24=data23[a1]\n",
        "data25=data23[a3]"
      ],
      "metadata": {
        "id": "F53Jsju8xdJT"
      },
      "execution_count": null,
      "outputs": []
    },
    {
      "cell_type": "code",
      "source": [
        "dt2=data23[a2]"
      ],
      "metadata": {
        "id": "MS3JOY-qteed"
      },
      "execution_count": null,
      "outputs": []
    },
    {
      "cell_type": "code",
      "source": [
        "dx9=dt2.head(107)\n",
        "dx9[\"total\"]=dx9[\"NO.1\"]+dx9[\"NO.2\"]+dx9[\"NO.3\"]+dx9[\"NO.4\"]+dx9[\"NO.5\"]+dx9[\"NO.6\"]+dx9[\"reportA\"]+dx9[\"reportB\"]\n",
        "print(dx9.head(3))\n",
        "dx9.plot(kind='scatter',x='total',y='exam')"
      ],
      "metadata": {
        "id": "pZEVTtfXtZ7O",
        "colab": {
          "base_uri": "https://localhost:8080/",
          "height": 409
        },
        "outputId": "f9c22298-c9ba-4a7e-bc9c-8bcff578d2eb"
      },
      "execution_count": null,
      "outputs": [
        {
          "output_type": "stream",
          "name": "stdout",
          "text": [
            "    NO.1        NO.2   NO.3  NO.4  ...  reportA  reportB  exam       total\n",
            "0  100.0  100.000000   75.0  90.0  ...      100      100    90  745.000000\n",
            "1  100.0  100.000000  100.0  90.0  ...      100      100    90  770.000000\n",
            "2  100.0   79.310345  100.0  90.0  ...      100      100    45  749.310345\n",
            "\n",
            "[3 rows x 10 columns]\n"
          ]
        },
        {
          "output_type": "execute_result",
          "data": {
            "text/plain": [
              "<matplotlib.axes._subplots.AxesSubplot at 0x7f10e07e93d0>"
            ]
          },
          "metadata": {},
          "execution_count": 88
        },
        {
          "output_type": "display_data",
          "data": {
            "image/png": "[encoded data removed]",
            "text/plain": [
              "<Figure size 432x288 with 1 Axes>"
            ]
          },
          "metadata": {
            "needs_background": "light"
          }
        }
      ]
    },
    {
      "cell_type": "code",
      "source": [
        "#data24,data25を説明変数、目的変数に分割\n",
        "model9=LinearRegression()\n",
        "i=0 \n",
        "stotal32=0\n",
        "for i in range(10):\n",
        "    xtrain9,xtest9,ytrain9,ytest9=train_test_split(data24,data25,test_size=0.2,random_state=i)\n",
        "    model9.fit(xtrain9,ytrain9)\n",
        "    sval32=model9.score(xtest9, ytest9)\n",
        "    stotal32=stotal32+sval32\n",
        "    saverage33=stotal32/10\n",
        "print(saverage33)"
      ],
      "metadata": {
        "id": "A_6Kj39CQ9RA",
        "colab": {
          "base_uri": "https://localhost:8080/"
        },
        "outputId": "9e887041-5604-48f4-fb96-93a0a6d5d662"
      },
      "execution_count": null,
      "outputs": [
        {
          "output_type": "stream",
          "name": "stdout",
          "text": [
            "0.36098132617132006\n"
          ]
        }
      ]
    },
    {
      "cell_type": "code",
      "source": [
        "#各カラムの特徴量\n",
        "i=0 \n",
        "for i in range(10):\n",
        "    xtrain9,xtest9,ytrain9,ytest9=train_test_split(data24,data25,test_size=0.2,random_state=i)\n",
        "    model9.fit(xtrain9,ytrain9)\n",
        "    print(model9.coef_)\n",
        "    print(model9.intercept_) #切片"
      ],
      "metadata": {
        "id": "F02Dav0F8E6D",
        "colab": {
          "base_uri": "https://localhost:8080/"
        },
        "outputId": "fbeb21fb-8fe1-4ab6-97da-024aa5a7ccfa"
      },
      "execution_count": null,
      "outputs": [
        {
          "output_type": "stream",
          "name": "stdout",
          "text": [
            "[[0.14812552 0.12852619 0.1291483  0.03522071 0.28671223 0.08463632\n",
            "  0.2275493  0.37529122]]\n",
            "[-58.74223224]\n",
            "[[0.13599724 0.11559705 0.07274457 0.03085858 0.35051528 0.1719691\n",
            "  0.31164433 0.26285559]]\n",
            "[-64.16847291]\n",
            "[[ 0.14855173  0.04681459  0.11138342 -0.0089968   0.1940124   0.10780619\n",
            "   0.21519838  0.35758529]]\n",
            "[-40.34649389]\n",
            "[[ 0.16127833 -0.02434973  0.02400614  0.07461721  0.07318829  0.23547375\n",
            "   0.41703161  0.19439868]]\n",
            "[-40.10038545]\n",
            "[[ 0.1682507   0.07857088  0.15017205 -0.0715274   0.20533148  0.14980088\n",
            "   0.23839689  0.33691756]]\n",
            "[-47.43719304]\n",
            "[[0.15185968 0.02922638 0.04679771 0.02860314 0.02360262 0.2590564\n",
            "  0.23599917 0.34741555]]\n",
            "[-40.02726814]\n",
            "[[ 0.14887873  0.05121208  0.01995835 -0.0810013   0.23512613  0.13092738\n",
            "   0.15907899  0.4035545 ]]\n",
            "[-32.99143305]\n",
            "[[0.15790151 0.00043763 0.09493968 0.02819201 0.21942982 0.12474907\n",
            "  0.17976671 0.40076402]]\n",
            "[-44.2133927]\n",
            "[[ 0.21421071  0.08015556  0.06345645 -0.0245627   0.27145161  0.09129237\n",
            "   0.25412175  0.32753534]]\n",
            "[-49.92140226]\n",
            "[[ 0.17952406  0.09931599  0.06768355 -0.04902776 -0.02531265  0.19098833\n",
            "   0.26501219  0.33076614]]\n",
            "[-32.1731868]\n"
          ]
        }
      ]
    },
    {
      "cell_type": "code",
      "source": [
        "#ロジスティック回帰\n",
        "#正解率\n",
        "\n",
        "logi9=LogisticRegression(random_state=0,C=0.1)\n",
        "i=0 \n",
        "stotal33=0\n",
        "stotal34=0\n",
        "for i in range(10):\n",
        "    xtrain09,xtest09,ytrain09,ytest09=train_test_split(data24,d_result,test_size=0.2,random_state=i)\n",
        "    logi9.fit(xtrain09,ytrain09)\n",
        "\n",
        "    sval33=logi1.score(xtrain09,ytrain09)\n",
        "    sval34=logi9.score(xtest09,ytest09)\n",
        "    \n",
        "    stotal33=stotal33+sval33\n",
        "    stotal34=stotal34+sval34\n",
        "\n",
        "    saverage34=stotal33/10\n",
        "    saverage35=stotal34/10\n",
        "print(saverage34,saverage35)\n"
      ],
      "metadata": {
        "id": "2wg5tPFlsZd6",
        "colab": {
          "base_uri": "https://localhost:8080/"
        },
        "outputId": "5a06e895-bc8c-4e48-897d-175d415d7c05"
      },
      "execution_count": null,
      "outputs": [
        {
          "output_type": "stream",
          "name": "stdout",
          "text": [
            "0.6941176470588236 0.7045454545454546\n"
          ]
        }
      ]
    },
    {
      "cell_type": "code",
      "source": [
        ""
      ],
      "metadata": {
        "id": "MRqRhpxSxBBF"
      },
      "execution_count": null,
      "outputs": []
    },
    {
      "cell_type": "code",
      "source": [
        "#予測 100回予測したうちの○○回は正解\n",
        "i=0\n",
        "stotal35=0\n",
        "for i in range(10):\n",
        "    xtrain09,xtest09,ytrain09,ytest09=train_test_split(data24,d_result,test_size=0.2,random_state=i)\n",
        "    ypred9 = logi9.predict(xtest09)\n",
        "    sval35=accuracy_score(ytest09,ypred9)\n",
        "    stotal35=stotal35+sval35\n",
        "    saverage36=stotal35/10\n",
        "print(saverage36)"
      ],
      "metadata": {
        "id": "Kj9sVdjXGEtN",
        "colab": {
          "base_uri": "https://localhost:8080/"
        },
        "outputId": "c040dee8-e881-41d1-c61e-3cabd69580f2"
      },
      "execution_count": null,
      "outputs": [
        {
          "output_type": "stream",
          "name": "stdout",
          "text": [
            "0.7090909090909092\n"
          ]
        }
      ]
    },
    {
      "cell_type": "code",
      "source": [
        "print('accuracy=',accuracy_score(y_true=ytest09,y_pred=ypred9))\n",
        "i01=0\n",
        "i10=0\n",
        "for i in range(len(ytest09)):\n",
        "  print(ytest09.iloc[i],ypred9[i])\n",
        "  if ytest09.iloc[i]==0 and ypred9[i]==1:\n",
        "    i01=+i01+1 \n",
        "  if ytest09.iloc[i]==1 and ypred9[i]==0:\n",
        "    i10=+i01+1\n",
        "print(f\"i01={i01},i10={i10},total={len(ytest9)}\")"
      ],
      "metadata": {
        "id": "9Rj5MrEB998B",
        "colab": {
          "base_uri": "https://localhost:8080/"
        },
        "outputId": "99e444fd-8aeb-43a1-ff85-331937e75bea"
      },
      "execution_count": null,
      "outputs": [
        {
          "output_type": "stream",
          "name": "stdout",
          "text": [
            "accuracy= 0.5909090909090909\n",
            "1 0\n",
            "1 1\n",
            "0 1\n",
            "1 1\n",
            "1 1\n",
            "0 0\n",
            "1 1\n",
            "1 1\n",
            "0 1\n",
            "0 1\n",
            "1 1\n",
            "1 1\n",
            "1 1\n",
            "1 0\n",
            "1 1\n",
            "0 1\n",
            "1 1\n",
            "1 1\n",
            "0 1\n",
            "0 1\n",
            "0 1\n",
            "1 1\n",
            "i01=7,i10=4,total=22\n"
          ]
        }
      ]
    },
    {
      "cell_type": "code",
      "source": [
        "#5.2 相関係数で絞り込みver"
      ],
      "metadata": {
        "id": "ad18apj7yC66"
      },
      "execution_count": null,
      "outputs": []
    },
    {
      "cell_type": "code",
      "source": [
        "data26=data23[a2]"
      ],
      "metadata": {
        "id": "iu_ht1xv5w4f"
      },
      "execution_count": null,
      "outputs": []
    },
    {
      "cell_type": "code",
      "source": [
        "data26.head(5)"
      ],
      "metadata": {
        "id": "j9ZExPKW6GPN",
        "colab": {
          "base_uri": "https://localhost:8080/",
          "height": 206
        },
        "outputId": "70c2d018-9853-4eb6-d618-b8af9c106f40"
      },
      "execution_count": null,
      "outputs": [
        {
          "output_type": "execute_result",
          "data": {
            "text/html": [
              "\n",
              "  <div id=\"df-5943aea7-e044-4d7f-a21e-9e4c414502af\">\n",
              "    <div class=\"colab-df-container\">\n",
              "      <div>\n",
              "<style scoped>\n",
              "    .dataframe tbody tr th:only-of-type {\n",
              "        vertical-align: middle;\n",
              "    }\n",
              "\n",
              "    .dataframe tbody tr th {\n",
              "        vertical-align: top;\n",
              "    }\n",
              "\n",
              "    .dataframe thead th {\n",
              "        text-align: right;\n",
              "    }\n",
              "</style>\n",
              "<table border=\"1\" class=\"dataframe\">\n",
              "  <thead>\n",
              "    <tr style=\"text-align: right;\">\n",
              "      <th></th>\n",
              "      <th>NO.1</th>\n",
              "      <th>NO.2</th>\n",
              "      <th>NO.3</th>\n",
              "      <th>NO.4</th>\n",
              "      <th>NO.5</th>\n",
              "      <th>NO.6</th>\n",
              "      <th>reportA</th>\n",
              "      <th>reportB</th>\n",
              "      <th>exam</th>\n",
              "    </tr>\n",
              "  </thead>\n",
              "  <tbody>\n",
              "    <tr>\n",
              "      <th>0</th>\n",
              "      <td>100.0</td>\n",
              "      <td>100.000000</td>\n",
              "      <td>75.000000</td>\n",
              "      <td>90.0</td>\n",
              "      <td>80.0</td>\n",
              "      <td>100.0</td>\n",
              "      <td>100</td>\n",
              "      <td>100</td>\n",
              "      <td>90</td>\n",
              "    </tr>\n",
              "    <tr>\n",
              "      <th>1</th>\n",
              "      <td>100.0</td>\n",
              "      <td>100.000000</td>\n",
              "      <td>100.000000</td>\n",
              "      <td>90.0</td>\n",
              "      <td>80.0</td>\n",
              "      <td>100.0</td>\n",
              "      <td>100</td>\n",
              "      <td>100</td>\n",
              "      <td>90</td>\n",
              "    </tr>\n",
              "    <tr>\n",
              "      <th>2</th>\n",
              "      <td>100.0</td>\n",
              "      <td>79.310345</td>\n",
              "      <td>100.000000</td>\n",
              "      <td>90.0</td>\n",
              "      <td>80.0</td>\n",
              "      <td>100.0</td>\n",
              "      <td>100</td>\n",
              "      <td>100</td>\n",
              "      <td>45</td>\n",
              "    </tr>\n",
              "    <tr>\n",
              "      <th>3</th>\n",
              "      <td>80.0</td>\n",
              "      <td>79.310345</td>\n",
              "      <td>79.775281</td>\n",
              "      <td>90.0</td>\n",
              "      <td>100.0</td>\n",
              "      <td>75.0</td>\n",
              "      <td>70</td>\n",
              "      <td>100</td>\n",
              "      <td>57</td>\n",
              "    </tr>\n",
              "    <tr>\n",
              "      <th>4</th>\n",
              "      <td>90.0</td>\n",
              "      <td>79.310345</td>\n",
              "      <td>100.000000</td>\n",
              "      <td>90.0</td>\n",
              "      <td>100.0</td>\n",
              "      <td>100.0</td>\n",
              "      <td>100</td>\n",
              "      <td>100</td>\n",
              "      <td>50</td>\n",
              "    </tr>\n",
              "  </tbody>\n",
              "</table>\n",
              "</div>\n",
              "      <button class=\"colab-df-convert\" onclick=\"convertToInteractive('df-5943aea7-e044-4d7f-a21e-9e4c414502af')\"\n",
              "              title=\"Convert this dataframe to an interactive table.\"\n",
              "              style=\"display:none;\">\n",
              "        \n",
              "  <svg xmlns=\"http://www.w3.org/2000/svg\" height=\"24px\"viewBox=\"0 0 24 24\"\n",
              "       width=\"24px\">\n",
              "    <path d=\"M0 0h24v24H0V0z\" fill=\"none\"/>\n",
              "    <path d=\"M18.56 5.44l.94 2.06.94-2.06 2.06-.94-2.06-.94-.94-2.06-.94 2.06-2.06.94zm-11 1L8.5 8.5l.94-2.06 2.06-.94-2.06-.94L8.5 2.5l-.94 2.06-2.06.94zm10 10l.94 2.06.94-2.06 2.06-.94-2.06-.94-.94-2.06-.94 2.06-2.06.94z\"/><path d=\"M17.41 7.96l-1.37-1.37c-.4-.4-.92-.59-1.43-.59-.52 0-1.04.2-1.43.59L10.3 9.45l-7.72 7.72c-.78.78-.78 2.05 0 2.83L4 21.41c.39.39.9.59 1.41.59.51 0 1.02-.2 1.41-.59l7.78-7.78 2.81-2.81c.8-.78.8-2.07 0-2.86zM5.41 20L4 18.59l7.72-7.72 1.47 1.35L5.41 20z\"/>\n",
              "  </svg>\n",
              "      </button>\n",
              "      \n",
              "  <style>\n",
              "    .colab-df-container {\n",
              "      display:flex;\n",
              "      flex-wrap:wrap;\n",
              "      gap: 12px;\n",
              "    }\n",
              "\n",
              "    .colab-df-convert {\n",
              "      background-color: #E8F0FE;\n",
              "      border: none;\n",
              "      border-radius: 50%;\n",
              "      cursor: pointer;\n",
              "      display: none;\n",
              "      fill: #1967D2;\n",
              "      height: 32px;\n",
              "      padding: 0 0 0 0;\n",
              "      width: 32px;\n",
              "    }\n",
              "\n",
              "    .colab-df-convert:hover {\n",
              "      background-color: #E2EBFA;\n",
              "      box-shadow: 0px 1px 2px rgba(60, 64, 67, 0.3), 0px 1px 3px 1px rgba(60, 64, 67, 0.15);\n",
              "      fill: #174EA6;\n",
              "    }\n",
              "\n",
              "    [theme=dark] .colab-df-convert {\n",
              "      background-color: #3B4455;\n",
              "      fill: #D2E3FC;\n",
              "    }\n",
              "\n",
              "    [theme=dark] .colab-df-convert:hover {\n",
              "      background-color: #434B5C;\n",
              "      box-shadow: 0px 1px 3px 1px rgba(0, 0, 0, 0.15);\n",
              "      filter: drop-shadow(0px 1px 2px rgba(0, 0, 0, 0.3));\n",
              "      fill: #FFFFFF;\n",
              "    }\n",
              "  </style>\n",
              "\n",
              "      <script>\n",
              "        const buttonEl =\n",
              "          document.querySelector('#df-5943aea7-e044-4d7f-a21e-9e4c414502af button.colab-df-convert');\n",
              "        buttonEl.style.display =\n",
              "          google.colab.kernel.accessAllowed ? 'block' : 'none';\n",
              "\n",
              "        async function convertToInteractive(key) {\n",
              "          const element = document.querySelector('#df-5943aea7-e044-4d7f-a21e-9e4c414502af');\n",
              "          const dataTable =\n",
              "            await google.colab.kernel.invokeFunction('convertToInteractive',\n",
              "                                                     [key], {});\n",
              "          if (!dataTable) return;\n",
              "\n",
              "          const docLinkHtml = 'Like what you see? Visit the ' +\n",
              "            '<a target=\"_blank\" href=https://colab.research.google.com/notebooks/data_table.ipynb>data table notebook</a>'\n",
              "            + ' to learn more about interactive tables.';\n",
              "          element.innerHTML = '';\n",
              "          dataTable['output_type'] = 'display_data';\n",
              "          await google.colab.output.renderOutput(dataTable, element);\n",
              "          const docLink = document.createElement('div');\n",
              "          docLink.innerHTML = docLinkHtml;\n",
              "          element.appendChild(docLink);\n",
              "        }\n",
              "      </script>\n",
              "    </div>\n",
              "  </div>\n",
              "  "
            ],
            "text/plain": [
              "    NO.1        NO.2        NO.3  NO.4   NO.5   NO.6  reportA  reportB  exam\n",
              "0  100.0  100.000000   75.000000  90.0   80.0  100.0      100      100    90\n",
              "1  100.0  100.000000  100.000000  90.0   80.0  100.0      100      100    90\n",
              "2  100.0   79.310345  100.000000  90.0   80.0  100.0      100      100    45\n",
              "3   80.0   79.310345   79.775281  90.0  100.0   75.0       70      100    57\n",
              "4   90.0   79.310345  100.000000  90.0  100.0  100.0      100      100    50"
            ]
          },
          "metadata": {},
          "execution_count": 96
        }
      ]
    },
    {
      "cell_type": "code",
      "source": [
        "data26_cor=data26.corr()['exam']\n",
        "\n",
        "abs_data26=data26_cor.map(abs)\n",
        "abs_data26.sort_values(ascending=False)"
      ],
      "metadata": {
        "id": "eqDsP_8yyFEq",
        "colab": {
          "base_uri": "https://localhost:8080/"
        },
        "outputId": "7a69cec0-7e45-488a-89e4-b0cbe8b88afe"
      },
      "execution_count": null,
      "outputs": [
        {
          "output_type": "execute_result",
          "data": {
            "text/plain": [
              "exam       1.000000\n",
              "reportB    0.631237\n",
              "reportA    0.607673\n",
              "NO.1       0.243047\n",
              "NO.5       0.220003\n",
              "NO.6       0.186082\n",
              "NO.3       0.065049\n",
              "NO.4       0.040756\n",
              "NO.2       0.015839\n",
              "Name: exam, dtype: float64"
            ]
          },
          "metadata": {},
          "execution_count": 97
        }
      ]
    },
    {
      "cell_type": "code",
      "source": [
        "col5=['reportB','reportA','NO.1','NO.5']\n",
        "data27=data26[col5]\n",
        "data28=data26[a3]"
      ],
      "metadata": {
        "id": "hVAkMBpB7Iz6"
      },
      "execution_count": null,
      "outputs": []
    },
    {
      "cell_type": "code",
      "source": [
        "dx10=dt2.head(107)\n",
        "dx10[\"total\"]=dx10[\"NO.1\"]+dx10[\"NO.5\"]+dx10[\"reportA\"]+dx10[\"reportB\"]\n",
        "print(dx10.head(3))\n",
        "dx10.plot(kind='scatter',x='total',y='exam')"
      ],
      "metadata": {
        "id": "yJT5U-hIt860",
        "colab": {
          "base_uri": "https://localhost:8080/",
          "height": 372
        },
        "outputId": "9e10d598-d7f1-4578-f581-5b2ad0d917e5"
      },
      "execution_count": null,
      "outputs": [
        {
          "output_type": "stream",
          "name": "stdout",
          "text": [
            "    NO.1        NO.2   NO.3  NO.4  NO.5   NO.6  reportA  reportB  exam  total\n",
            "0  100.0  100.000000   75.0  90.0  80.0  100.0      100      100    90  380.0\n",
            "1  100.0  100.000000  100.0  90.0  80.0  100.0      100      100    90  380.0\n",
            "2  100.0   79.310345  100.0  90.0  80.0  100.0      100      100    45  380.0\n"
          ]
        },
        {
          "output_type": "execute_result",
          "data": {
            "text/plain": [
              "<matplotlib.axes._subplots.AxesSubplot at 0x7f10e070c510>"
            ]
          },
          "metadata": {},
          "execution_count": 99
        },
        {
          "output_type": "display_data",
          "data": {
            "image/png": "[encoded data removed]",
            "text/plain": [
              "<Figure size 432x288 with 1 Axes>"
            ]
          },
          "metadata": {
            "needs_background": "light"
          }
        }
      ]
    },
    {
      "cell_type": "code",
      "source": [
        "#data27,data28を説明変数、目的変数に分割\n",
        "model10=LinearRegression()\n",
        "i=0 \n",
        "stotal36=0\n",
        "for i in range(10):\n",
        "    xtrain10,xtest10,ytrain10,ytest10=train_test_split(data27,data28,test_size=0.2,random_state=i)\n",
        "    model10.fit(xtrain10,ytrain10)\n",
        "    sval36=model10.score(xtest10, ytest10)\n",
        "    stotal36=stotal36+sval36\n",
        "    saverage37=stotal36/10\n",
        "print(saverage37)"
      ],
      "metadata": {
        "id": "hhMpp4k4RB7r",
        "colab": {
          "base_uri": "https://localhost:8080/"
        },
        "outputId": "2b5497f4-b9da-4959-f604-cebee2a81c45"
      },
      "execution_count": null,
      "outputs": [
        {
          "output_type": "stream",
          "name": "stdout",
          "text": [
            "0.4196831802020135\n"
          ]
        }
      ]
    },
    {
      "cell_type": "code",
      "source": [
        "#各カラムの特徴量\n",
        "i=0 \n",
        "for i in range(10):\n",
        "    xtrain10,xtest10,ytrain10,ytest10=train_test_split(data27,data28,test_size=0.2,random_state=i)\n",
        "    model10.fit(xtrain10,ytrain10)\n",
        "    print(model10.coef_)\n",
        "    print(model10.intercept_) #切片"
      ],
      "metadata": {
        "id": "PhGiqPdJ75qy",
        "colab": {
          "base_uri": "https://localhost:8080/"
        },
        "outputId": "9805b514-73a3-43e2-8144-fb68523fcefe"
      },
      "execution_count": null,
      "outputs": [
        {
          "output_type": "stream",
          "name": "stdout",
          "text": [
            "[[0.33760038 0.25622827 0.1711391  0.3306421 ]]\n",
            "[-32.68108894]\n",
            "[[0.23701257 0.33071718 0.17620949 0.36828748]]\n",
            "[-36.08143667]\n",
            "[[0.33753811 0.24103259 0.15351166 0.23505577]]\n",
            "[-23.33344798]\n",
            "[[0.17269381 0.43176013 0.21065672 0.1322672 ]]\n",
            "[-22.23910707]\n",
            "[[0.31513292 0.2564323  0.18022316 0.2537924 ]]\n",
            "[-26.58010167]\n",
            "[[0.33260331 0.263651   0.20002306 0.09849824]]\n",
            "[-20.7743535]\n",
            "[[0.40418706 0.15135371 0.16421455 0.28252016]]\n",
            "[-27.44456491]\n",
            "[[0.37794895 0.19837612 0.17413739 0.25438108]]\n",
            "[-27.67949201]\n",
            "[[0.31244464 0.26354194 0.24578322 0.31380091]]\n",
            "[-38.56353007]\n",
            "[[0.30437227 0.28091148 0.20661023 0.08525758]]\n",
            "[-17.1665197]\n"
          ]
        }
      ]
    },
    {
      "cell_type": "code",
      "source": [
        "#ロジスティック回帰\n",
        "#正解率\n",
        "\n",
        "logi10=LogisticRegression(random_state=0,C=0.1)\n",
        "i=0 \n",
        "stotal37=0\n",
        "stotal38=0\n",
        "for i in range(10):\n",
        "    xtrain010,xtest010,ytrain010,ytest010=train_test_split(data27,d_result,test_size=0.2,random_state=i)\n",
        "    logi10.fit(xtrain010,ytrain010)\n",
        "\n",
        "    sval37=logi10.score(xtrain010,ytrain010)\n",
        "    sval38=logi10.score(xtest010,ytest010)\n",
        "    \n",
        "    stotal37=stotal37+sval37\n",
        "    stotal38=stotal38+sval38\n",
        "\n",
        "    saverage38=stotal37/10\n",
        "    saverage39=stotal38/10\n",
        "print(saverage38,saverage39)\n"
      ],
      "metadata": {
        "id": "nYNtLd2fsD1x",
        "colab": {
          "base_uri": "https://localhost:8080/"
        },
        "outputId": "7a4c3067-1e64-49b4-bdb8-dbba9ddbefc1"
      },
      "execution_count": null,
      "outputs": [
        {
          "output_type": "stream",
          "name": "stdout",
          "text": [
            "0.6976470588235295 0.6909090909090909\n"
          ]
        }
      ]
    },
    {
      "cell_type": "code",
      "source": [
        "#予測 100回予測したうちの○○回は正解\n",
        "i=0\n",
        "stotal39=0\n",
        "for i in range(10):\n",
        "    xtrain010,xtest010,ytrain010,ytest010=train_test_split(data27,d_result,test_size=0.2,random_state=i)\n",
        "    ypred10 = logi10.predict(xtest010)\n",
        "    sval39=accuracy_score(ytest010,ypred10)\n",
        "    stotal39=stotal39+sval39\n",
        "    saverage40=stotal39/10\n",
        "print(saverage40)"
      ],
      "metadata": {
        "id": "xA9APaWksJVY",
        "colab": {
          "base_uri": "https://localhost:8080/"
        },
        "outputId": "9365dd42-ebe2-435f-ea83-3af21967f3c1"
      },
      "execution_count": null,
      "outputs": [
        {
          "output_type": "stream",
          "name": "stdout",
          "text": [
            "0.7000000000000001\n"
          ]
        }
      ]
    },
    {
      "cell_type": "code",
      "source": [
        "print('accuracy=',accuracy_score(y_true=ytest010,y_pred=ypred10))\n",
        "i01=0\n",
        "i10=0\n",
        "for i in range(len(ytest010)):\n",
        "  print(ytest010.iloc[i],ypred10[i])\n",
        "  if ytest010.iloc[i]==0 and ypred10[i]==1:\n",
        "    i01=+i01+1\n",
        "  if ytest010.iloc[i]==1 and ypred10[i]==0:\n",
        "    i10=+i01+1\n",
        "print(f\"i01={i01},i10={i10},total={len(ytest10)}\")"
      ],
      "metadata": {
        "id": "2tdDkToW-gYb",
        "colab": {
          "base_uri": "https://localhost:8080/"
        },
        "outputId": "09a226a6-e831-43f5-ef71-0ddef683c626"
      },
      "execution_count": null,
      "outputs": [
        {
          "output_type": "stream",
          "name": "stdout",
          "text": [
            "accuracy= 0.5909090909090909\n",
            "1 1\n",
            "1 1\n",
            "0 1\n",
            "1 1\n",
            "1 1\n",
            "0 0\n",
            "1 0\n",
            "1 1\n",
            "0 1\n",
            "0 1\n",
            "1 1\n",
            "1 1\n",
            "1 1\n",
            "1 0\n",
            "1 1\n",
            "0 1\n",
            "1 1\n",
            "1 1\n",
            "0 1\n",
            "0 1\n",
            "0 1\n",
            "1 1\n",
            "i01=7,i10=4,total=22\n"
          ]
        }
      ]
    },
    {
      "cell_type": "code",
      "source": [
        "#6.1 外れ値を除外せずに欠損値に偏差値から求めた点数を代入して決定係数を求める"
      ],
      "metadata": {
        "id": "Ao28XHUs8kux"
      },
      "execution_count": null,
      "outputs": []
    },
    {
      "cell_type": "code",
      "source": [
        "dev2.describe()"
      ],
      "metadata": {
        "id": "dTsv7RBR9nwf",
        "colab": {
          "base_uri": "https://localhost:8080/",
          "height": 300
        },
        "outputId": "59ad247c-9e92-4ee4-c99a-241a3a463815"
      },
      "execution_count": null,
      "outputs": [
        {
          "output_type": "execute_result",
          "data": {
            "text/html": [
              "\n",
              "  <div id=\"df-638949eb-153f-47fd-b088-3e9d0cfc2329\">\n",
              "    <div class=\"colab-df-container\">\n",
              "      <div>\n",
              "<style scoped>\n",
              "    .dataframe tbody tr th:only-of-type {\n",
              "        vertical-align: middle;\n",
              "    }\n",
              "\n",
              "    .dataframe tbody tr th {\n",
              "        vertical-align: top;\n",
              "    }\n",
              "\n",
              "    .dataframe thead th {\n",
              "        text-align: right;\n",
              "    }\n",
              "</style>\n",
              "<table border=\"1\" class=\"dataframe\">\n",
              "  <thead>\n",
              "    <tr style=\"text-align: right;\">\n",
              "      <th></th>\n",
              "      <th>NO.1</th>\n",
              "      <th>NO.2</th>\n",
              "      <th>NO.3</th>\n",
              "      <th>NO.4</th>\n",
              "      <th>NO.5</th>\n",
              "      <th>NO.6</th>\n",
              "      <th>reportA</th>\n",
              "      <th>reportB</th>\n",
              "      <th>exam</th>\n",
              "      <th>total</th>\n",
              "    </tr>\n",
              "  </thead>\n",
              "  <tbody>\n",
              "    <tr>\n",
              "      <th>count</th>\n",
              "      <td>107.000000</td>\n",
              "      <td>107.000000</td>\n",
              "      <td>107.000000</td>\n",
              "      <td>107.000000</td>\n",
              "      <td>107.000000</td>\n",
              "      <td>107.000000</td>\n",
              "      <td>107.000000</td>\n",
              "      <td>107.000000</td>\n",
              "      <td>107.000000</td>\n",
              "      <td>107.000000</td>\n",
              "    </tr>\n",
              "    <tr>\n",
              "      <th>mean</th>\n",
              "      <td>81.308411</td>\n",
              "      <td>74.345794</td>\n",
              "      <td>77.514019</td>\n",
              "      <td>81.121495</td>\n",
              "      <td>77.140187</td>\n",
              "      <td>81.757009</td>\n",
              "      <td>77.289720</td>\n",
              "      <td>83.177570</td>\n",
              "      <td>54.177570</td>\n",
              "      <td>633.654206</td>\n",
              "    </tr>\n",
              "    <tr>\n",
              "      <th>std</th>\n",
              "      <td>24.287745</td>\n",
              "      <td>30.939412</td>\n",
              "      <td>25.776018</td>\n",
              "      <td>17.808049</td>\n",
              "      <td>19.582650</td>\n",
              "      <td>25.062880</td>\n",
              "      <td>34.683749</td>\n",
              "      <td>37.582566</td>\n",
              "      <td>29.395101</td>\n",
              "      <td>129.589344</td>\n",
              "    </tr>\n",
              "    <tr>\n",
              "      <th>min</th>\n",
              "      <td>0.000000</td>\n",
              "      <td>0.000000</td>\n",
              "      <td>0.000000</td>\n",
              "      <td>0.000000</td>\n",
              "      <td>10.000000</td>\n",
              "      <td>0.000000</td>\n",
              "      <td>0.000000</td>\n",
              "      <td>0.000000</td>\n",
              "      <td>0.000000</td>\n",
              "      <td>124.000000</td>\n",
              "    </tr>\n",
              "    <tr>\n",
              "      <th>25%</th>\n",
              "      <td>77.500000</td>\n",
              "      <td>59.000000</td>\n",
              "      <td>68.000000</td>\n",
              "      <td>70.000000</td>\n",
              "      <td>70.000000</td>\n",
              "      <td>75.000000</td>\n",
              "      <td>70.000000</td>\n",
              "      <td>100.000000</td>\n",
              "      <td>33.500000</td>\n",
              "      <td>579.500000</td>\n",
              "    </tr>\n",
              "    <tr>\n",
              "      <th>50%</th>\n",
              "      <td>90.000000</td>\n",
              "      <td>86.000000</td>\n",
              "      <td>77.000000</td>\n",
              "      <td>88.000000</td>\n",
              "      <td>80.000000</td>\n",
              "      <td>100.000000</td>\n",
              "      <td>100.000000</td>\n",
              "      <td>100.000000</td>\n",
              "      <td>65.000000</td>\n",
              "      <td>653.000000</td>\n",
              "    </tr>\n",
              "    <tr>\n",
              "      <th>75%</th>\n",
              "      <td>100.000000</td>\n",
              "      <td>100.000000</td>\n",
              "      <td>100.000000</td>\n",
              "      <td>90.000000</td>\n",
              "      <td>90.000000</td>\n",
              "      <td>100.000000</td>\n",
              "      <td>100.000000</td>\n",
              "      <td>100.000000</td>\n",
              "      <td>76.000000</td>\n",
              "      <td>735.500000</td>\n",
              "    </tr>\n",
              "    <tr>\n",
              "      <th>max</th>\n",
              "      <td>100.000000</td>\n",
              "      <td>100.000000</td>\n",
              "      <td>100.000000</td>\n",
              "      <td>100.000000</td>\n",
              "      <td>100.000000</td>\n",
              "      <td>100.000000</td>\n",
              "      <td>100.000000</td>\n",
              "      <td>100.000000</td>\n",
              "      <td>95.000000</td>\n",
              "      <td>790.000000</td>\n",
              "    </tr>\n",
              "  </tbody>\n",
              "</table>\n",
              "</div>\n",
              "      <button class=\"colab-df-convert\" onclick=\"convertToInteractive('df-638949eb-153f-47fd-b088-3e9d0cfc2329')\"\n",
              "              title=\"Convert this dataframe to an interactive table.\"\n",
              "              style=\"display:none;\">\n",
              "        \n",
              "  <svg xmlns=\"http://www.w3.org/2000/svg\" height=\"24px\"viewBox=\"0 0 24 24\"\n",
              "       width=\"24px\">\n",
              "    <path d=\"M0 0h24v24H0V0z\" fill=\"none\"/>\n",
              "    <path d=\"M18.56 5.44l.94 2.06.94-2.06 2.06-.94-2.06-.94-.94-2.06-.94 2.06-2.06.94zm-11 1L8.5 8.5l.94-2.06 2.06-.94-2.06-.94L8.5 2.5l-.94 2.06-2.06.94zm10 10l.94 2.06.94-2.06 2.06-.94-2.06-.94-.94-2.06-.94 2.06-2.06.94z\"/><path d=\"M17.41 7.96l-1.37-1.37c-.4-.4-.92-.59-1.43-.59-.52 0-1.04.2-1.43.59L10.3 9.45l-7.72 7.72c-.78.78-.78 2.05 0 2.83L4 21.41c.39.39.9.59 1.41.59.51 0 1.02-.2 1.41-.59l7.78-7.78 2.81-2.81c.8-.78.8-2.07 0-2.86zM5.41 20L4 18.59l7.72-7.72 1.47 1.35L5.41 20z\"/>\n",
              "  </svg>\n",
              "      </button>\n",
              "      \n",
              "  <style>\n",
              "    .colab-df-container {\n",
              "      display:flex;\n",
              "      flex-wrap:wrap;\n",
              "      gap: 12px;\n",
              "    }\n",
              "\n",
              "    .colab-df-convert {\n",
              "      background-color: #E8F0FE;\n",
              "      border: none;\n",
              "      border-radius: 50%;\n",
              "      cursor: pointer;\n",
              "      display: none;\n",
              "      fill: #1967D2;\n",
              "      height: 32px;\n",
              "      padding: 0 0 0 0;\n",
              "      width: 32px;\n",
              "    }\n",
              "\n",
              "    .colab-df-convert:hover {\n",
              "      background-color: #E2EBFA;\n",
              "      box-shadow: 0px 1px 2px rgba(60, 64, 67, 0.3), 0px 1px 3px 1px rgba(60, 64, 67, 0.15);\n",
              "      fill: #174EA6;\n",
              "    }\n",
              "\n",
              "    [theme=dark] .colab-df-convert {\n",
              "      background-color: #3B4455;\n",
              "      fill: #D2E3FC;\n",
              "    }\n",
              "\n",
              "    [theme=dark] .colab-df-convert:hover {\n",
              "      background-color: #434B5C;\n",
              "      box-shadow: 0px 1px 3px 1px rgba(0, 0, 0, 0.15);\n",
              "      filter: drop-shadow(0px 1px 2px rgba(0, 0, 0, 0.3));\n",
              "      fill: #FFFFFF;\n",
              "    }\n",
              "  </style>\n",
              "\n",
              "      <script>\n",
              "        const buttonEl =\n",
              "          document.querySelector('#df-638949eb-153f-47fd-b088-3e9d0cfc2329 button.colab-df-convert');\n",
              "        buttonEl.style.display =\n",
              "          google.colab.kernel.accessAllowed ? 'block' : 'none';\n",
              "\n",
              "        async function convertToInteractive(key) {\n",
              "          const element = document.querySelector('#df-638949eb-153f-47fd-b088-3e9d0cfc2329');\n",
              "          const dataTable =\n",
              "            await google.colab.kernel.invokeFunction('convertToInteractive',\n",
              "                                                     [key], {});\n",
              "          if (!dataTable) return;\n",
              "\n",
              "          const docLinkHtml = 'Like what you see? Visit the ' +\n",
              "            '<a target=\"_blank\" href=https://colab.research.google.com/notebooks/data_table.ipynb>data table notebook</a>'\n",
              "            + ' to learn more about interactive tables.';\n",
              "          element.innerHTML = '';\n",
              "          dataTable['output_type'] = 'display_data';\n",
              "          await google.colab.output.renderOutput(dataTable, element);\n",
              "          const docLink = document.createElement('div');\n",
              "          docLink.innerHTML = docLinkHtml;\n",
              "          element.appendChild(docLink);\n",
              "        }\n",
              "      </script>\n",
              "    </div>\n",
              "  </div>\n",
              "  "
            ],
            "text/plain": [
              "             NO.1        NO.2        NO.3  ...     reportB        exam       total\n",
              "count  107.000000  107.000000  107.000000  ...  107.000000  107.000000  107.000000\n",
              "mean    81.308411   74.345794   77.514019  ...   83.177570   54.177570  633.654206\n",
              "std     24.287745   30.939412   25.776018  ...   37.582566   29.395101  129.589344\n",
              "min      0.000000    0.000000    0.000000  ...    0.000000    0.000000  124.000000\n",
              "25%     77.500000   59.000000   68.000000  ...  100.000000   33.500000  579.500000\n",
              "50%     90.000000   86.000000   77.000000  ...  100.000000   65.000000  653.000000\n",
              "75%    100.000000  100.000000  100.000000  ...  100.000000   76.000000  735.500000\n",
              "max    100.000000  100.000000  100.000000  ...  100.000000   95.000000  790.000000\n",
              "\n",
              "[8 rows x 10 columns]"
            ]
          },
          "metadata": {},
          "execution_count": 106
        }
      ]
    },
    {
      "cell_type": "code",
      "source": [
        "dt3=dev2[a2]"
      ],
      "metadata": {
        "id": "QqvnQrcHu2RI"
      },
      "execution_count": null,
      "outputs": []
    },
    {
      "cell_type": "code",
      "source": [
        "data29=dev2[a1]\n",
        "data30=dev2[a3]"
      ],
      "metadata": {
        "id": "fFf1lz0O9t02"
      },
      "execution_count": null,
      "outputs": []
    },
    {
      "cell_type": "code",
      "source": [
        "dx11=dt3.head(107)\n",
        "dx11[\"total\"]=dx11[\"NO.1\"]+dx11[\"NO.2\"]+dx11[\"NO.3\"]+dx11[\"NO.4\"]+dx11[\"NO.5\"]+dx11[\"NO.6\"]+dx11[\"reportA\"]+dx11[\"reportB\"]\n",
        "print(dx11.head(3))\n",
        "dx11.plot(kind='scatter',x='total',y='exam')"
      ],
      "metadata": {
        "id": "KQRmUF9XuzF-",
        "colab": {
          "base_uri": "https://localhost:8080/",
          "height": 372
        },
        "outputId": "76a2de40-e116-4e0a-d63d-6f2ed7d6f7d5"
      },
      "execution_count": null,
      "outputs": [
        {
          "output_type": "stream",
          "name": "stdout",
          "text": [
            "   NO.1  NO.2  NO.3  NO.4  NO.5  NO.6  reportA  reportB  exam  total\n",
            "0   100   100    75    90    80   100      100      100    90    745\n",
            "1   100   100   100    90    80   100      100      100    90    770\n",
            "2   100    96   100    90    80   100      100      100    45    766\n"
          ]
        },
        {
          "output_type": "execute_result",
          "data": {
            "text/plain": [
              "<matplotlib.axes._subplots.AxesSubplot at 0x7f10e09e2690>"
            ]
          },
          "metadata": {},
          "execution_count": 109
        },
        {
          "output_type": "display_data",
          "data": {
            "image/png": "[encoded data removed]",
            "text/plain": [
              "<Figure size 432x288 with 1 Axes>"
            ]
          },
          "metadata": {
            "needs_background": "light"
          }
        }
      ]
    },
    {
      "cell_type": "code",
      "source": [
        "#data29,data30を説明変数、目的変数に分割\n",
        "model11=LinearRegression()\n",
        "i=0 \n",
        "stotal40=0\n",
        "for i in range(10):\n",
        "    xtrain11,xtest11,ytrain11,ytest11=train_test_split(data29,data30,test_size=0.2,random_state=i)\n",
        "    model11.fit(xtrain11,ytrain11)\n",
        "    sval40=model11.score(xtest11, ytest11)\n",
        "    stotal40=stotal40+sval40\n",
        "    saverage41=stotal40/10\n",
        "print(saverage41)"
      ],
      "metadata": {
        "id": "ObFXNFZmRKfx",
        "colab": {
          "base_uri": "https://localhost:8080/"
        },
        "outputId": "31dde8fd-e854-489b-9287-09a2cf619b74"
      },
      "execution_count": null,
      "outputs": [
        {
          "output_type": "stream",
          "name": "stdout",
          "text": [
            "0.370148896331793\n"
          ]
        }
      ]
    },
    {
      "cell_type": "code",
      "source": [
        "#各カラムの特徴量\n",
        "i=0 \n",
        "for i in range(10):\n",
        "    xtrain11,xtest11,ytrain11,ytest11=train_test_split(data29,data30,test_size=0.2,random_state=i)\n",
        "    model11.fit(xtrain11,ytrain11)\n",
        "    print(model11.coef_)\n",
        "    print(model11.intercept_) #切片"
      ],
      "metadata": {
        "id": "9s21TYQ3-t_9",
        "colab": {
          "base_uri": "https://localhost:8080/"
        },
        "outputId": "56b37afb-6480-4e94-8f8d-b97ffe9a57e7"
      },
      "execution_count": null,
      "outputs": [
        {
          "output_type": "stream",
          "name": "stdout",
          "text": [
            "[[ 0.12645949  0.14272071  0.10820868 -0.06176849  0.21972224 -0.034878\n",
            "   0.21767689  0.36080744]]\n",
            "[-29.80615973]\n",
            "[[ 0.0169855   0.11033309  0.08699021 -0.06079656  0.32623267  0.02669971\n",
            "   0.29227343  0.24912086]]\n",
            "[-28.57665227]\n",
            "[[ 0.12688972  0.09756073  0.11955207 -0.1260508   0.14857893 -0.01504725\n",
            "   0.21201939  0.3502806 ]]\n",
            "[-17.51056967]\n",
            "[[ 0.11696524 -0.03319353  0.02956151  0.07270021  0.06509308  0.15060405\n",
            "   0.41069643  0.19748223]]\n",
            "[-27.14752341]\n",
            "[[ 0.10502022  0.10995197  0.18679758 -0.10409941  0.20643028  0.02043713\n",
            "   0.23414446  0.34155493]]\n",
            "[-33.17957588]\n",
            "[[ 0.13756763  0.03505956  0.04418745 -0.03151471  0.01221315  0.15712743\n",
            "   0.22136193  0.34437257]]\n",
            "[-22.20708369]\n",
            "[[ 0.09959588  0.0993215   0.07281411 -0.0995087   0.24463613 -0.00253056\n",
            "   0.15323991  0.40374313]]\n",
            "[-23.47863105]\n",
            "[[ 0.14039915  0.06991778  0.11427357 -0.0259539   0.22459679 -0.01194455\n",
            "   0.16436921  0.40739322]]\n",
            "[-32.60105815]\n",
            "[[ 0.13368718  0.13861836  0.06860544 -0.10544125  0.26246771 -0.05826712\n",
            "   0.22659013  0.31866666]]\n",
            "[-24.09601122]\n",
            "[[ 0.14877673  0.13222955  0.08336578 -0.11058616 -0.01701782  0.07985725\n",
            "   0.26031013  0.33368228]]\n",
            "[-18.80564833]\n"
          ]
        }
      ]
    },
    {
      "cell_type": "code",
      "source": [
        "#ロジスティック回帰\n",
        "#正解率\n",
        "\n",
        "logi11=LogisticRegression(random_state=0,C=0.1)\n",
        "i=0 \n",
        "stotal41=0\n",
        "stotal42=0\n",
        "for i in range(10):\n",
        "    xtrain011,xtest011,ytrain011,ytest011=train_test_split(data29,d_result,test_size=0.2,random_state=i)\n",
        "    logi11.fit(xtrain011,ytrain011)\n",
        "\n",
        "    sval41=logi11.score(xtrain011,ytrain011)\n",
        "    sval42=logi11.score(xtest011,ytest011)\n",
        "    \n",
        "    stotal41=stotal41+sval41\n",
        "    stotal42=stotal42+sval42\n",
        "\n",
        "    saverage42=stotal41/10\n",
        "    saverage43=stotal42/10\n",
        "print(saverage42,saverage43)\n"
      ],
      "metadata": {
        "id": "sNYfg8MDr-v2",
        "colab": {
          "base_uri": "https://localhost:8080/"
        },
        "outputId": "3d15a772-bddf-41a7-f09f-c8d83496bfac"
      },
      "execution_count": null,
      "outputs": [
        {
          "output_type": "stream",
          "name": "stdout",
          "text": [
            "0.723529411764706 0.7090909090909092\n"
          ]
        }
      ]
    },
    {
      "cell_type": "code",
      "source": [
        "#予測 100回予測したうちの○○回は正解\n",
        "i=0\n",
        "stotal43=0\n",
        "for i in range(10):\n",
        "    xtrain011,xtest011,ytrain011,ytest011=train_test_split(data29,d_result,test_size=0.2,random_state=i)\n",
        "    ypred11= logi11.predict(xtest011)\n",
        "    sval43=accuracy_score(ytest011,ypred11)\n",
        "    stotal43=stotal43+sval43\n",
        "    saverage44=stotal43/10\n",
        "print(saverage44)"
      ],
      "metadata": {
        "id": "Tn8er6nPr4dQ",
        "colab": {
          "base_uri": "https://localhost:8080/"
        },
        "outputId": "0568df8c-4f8a-49b5-b94a-4894938760c2"
      },
      "execution_count": null,
      "outputs": [
        {
          "output_type": "stream",
          "name": "stdout",
          "text": [
            "0.7227272727272728\n"
          ]
        }
      ]
    },
    {
      "cell_type": "code",
      "source": [
        "print('accuracy=',accuracy_score(y_true=ytest011,y_pred=ypred11))\n",
        "i01=0\n",
        "i10=0\n",
        "for i in range(len(ytest011)):\n",
        "  print(ytest011.iloc[i],ypred11[i])\n",
        "  if ytest011.iloc[i]==0 and ypred11[i]==1:\n",
        "    i01=+i01+1 \n",
        "  if ytest011.iloc[i]==1 and ypred11[i]==0:\n",
        "    i10=+i01+1\n",
        "print(f\"i01={i01},i10={i10},total={len(ytest11)}\")"
      ],
      "metadata": {
        "id": "_5getTY3ENNe",
        "colab": {
          "base_uri": "https://localhost:8080/"
        },
        "outputId": "72345631-8420-4577-e908-24f4f52bbe22"
      },
      "execution_count": null,
      "outputs": [
        {
          "output_type": "stream",
          "name": "stdout",
          "text": [
            "accuracy= 0.6363636363636364\n",
            "1 1\n",
            "1 1\n",
            "0 1\n",
            "1 1\n",
            "1 1\n",
            "0 0\n",
            "1 0\n",
            "1 1\n",
            "0 1\n",
            "0 1\n",
            "1 1\n",
            "1 1\n",
            "1 1\n",
            "1 1\n",
            "1 1\n",
            "0 1\n",
            "1 1\n",
            "1 1\n",
            "0 1\n",
            "0 1\n",
            "0 1\n",
            "1 1\n",
            "i01=7,i10=2,total=22\n"
          ]
        }
      ]
    },
    {
      "cell_type": "code",
      "source": [
        "#6.2 相関係数で絞り込みver"
      ],
      "metadata": {
        "id": "hD-Etqbf-0Pj"
      },
      "execution_count": null,
      "outputs": []
    },
    {
      "cell_type": "code",
      "source": [
        "dev2.head(5)"
      ],
      "metadata": {
        "id": "mVlWbzLjA2zx",
        "colab": {
          "base_uri": "https://localhost:8080/",
          "height": 206
        },
        "outputId": "3163567f-d793-47c3-abe4-09f9ba7e283f"
      },
      "execution_count": null,
      "outputs": [
        {
          "output_type": "execute_result",
          "data": {
            "text/html": [
              "\n",
              "  <div id=\"df-57f0fb62-321d-4591-a81d-5f780cb60a3f\">\n",
              "    <div class=\"colab-df-container\">\n",
              "      <div>\n",
              "<style scoped>\n",
              "    .dataframe tbody tr th:only-of-type {\n",
              "        vertical-align: middle;\n",
              "    }\n",
              "\n",
              "    .dataframe tbody tr th {\n",
              "        vertical-align: top;\n",
              "    }\n",
              "\n",
              "    .dataframe thead th {\n",
              "        text-align: right;\n",
              "    }\n",
              "</style>\n",
              "<table border=\"1\" class=\"dataframe\">\n",
              "  <thead>\n",
              "    <tr style=\"text-align: right;\">\n",
              "      <th></th>\n",
              "      <th>NO.1</th>\n",
              "      <th>NO.2</th>\n",
              "      <th>NO.3</th>\n",
              "      <th>NO.4</th>\n",
              "      <th>NO.5</th>\n",
              "      <th>NO.6</th>\n",
              "      <th>reportA</th>\n",
              "      <th>reportB</th>\n",
              "      <th>exam</th>\n",
              "      <th>total</th>\n",
              "    </tr>\n",
              "  </thead>\n",
              "  <tbody>\n",
              "    <tr>\n",
              "      <th>0</th>\n",
              "      <td>100</td>\n",
              "      <td>100</td>\n",
              "      <td>75</td>\n",
              "      <td>90</td>\n",
              "      <td>80</td>\n",
              "      <td>100</td>\n",
              "      <td>100</td>\n",
              "      <td>100</td>\n",
              "      <td>90</td>\n",
              "      <td>745</td>\n",
              "    </tr>\n",
              "    <tr>\n",
              "      <th>1</th>\n",
              "      <td>100</td>\n",
              "      <td>100</td>\n",
              "      <td>100</td>\n",
              "      <td>90</td>\n",
              "      <td>80</td>\n",
              "      <td>100</td>\n",
              "      <td>100</td>\n",
              "      <td>100</td>\n",
              "      <td>90</td>\n",
              "      <td>770</td>\n",
              "    </tr>\n",
              "    <tr>\n",
              "      <th>2</th>\n",
              "      <td>100</td>\n",
              "      <td>96</td>\n",
              "      <td>100</td>\n",
              "      <td>90</td>\n",
              "      <td>80</td>\n",
              "      <td>100</td>\n",
              "      <td>100</td>\n",
              "      <td>100</td>\n",
              "      <td>45</td>\n",
              "      <td>766</td>\n",
              "    </tr>\n",
              "    <tr>\n",
              "      <th>3</th>\n",
              "      <td>80</td>\n",
              "      <td>86</td>\n",
              "      <td>85</td>\n",
              "      <td>90</td>\n",
              "      <td>100</td>\n",
              "      <td>75</td>\n",
              "      <td>70</td>\n",
              "      <td>100</td>\n",
              "      <td>57</td>\n",
              "      <td>686</td>\n",
              "    </tr>\n",
              "    <tr>\n",
              "      <th>4</th>\n",
              "      <td>90</td>\n",
              "      <td>100</td>\n",
              "      <td>100</td>\n",
              "      <td>90</td>\n",
              "      <td>100</td>\n",
              "      <td>100</td>\n",
              "      <td>100</td>\n",
              "      <td>100</td>\n",
              "      <td>50</td>\n",
              "      <td>780</td>\n",
              "    </tr>\n",
              "  </tbody>\n",
              "</table>\n",
              "</div>\n",
              "      <button class=\"colab-df-convert\" onclick=\"convertToInteractive('df-57f0fb62-321d-4591-a81d-5f780cb60a3f')\"\n",
              "              title=\"Convert this dataframe to an interactive table.\"\n",
              "              style=\"display:none;\">\n",
              "        \n",
              "  <svg xmlns=\"http://www.w3.org/2000/svg\" height=\"24px\"viewBox=\"0 0 24 24\"\n",
              "       width=\"24px\">\n",
              "    <path d=\"M0 0h24v24H0V0z\" fill=\"none\"/>\n",
              "    <path d=\"M18.56 5.44l.94 2.06.94-2.06 2.06-.94-2.06-.94-.94-2.06-.94 2.06-2.06.94zm-11 1L8.5 8.5l.94-2.06 2.06-.94-2.06-.94L8.5 2.5l-.94 2.06-2.06.94zm10 10l.94 2.06.94-2.06 2.06-.94-2.06-.94-.94-2.06-.94 2.06-2.06.94z\"/><path d=\"M17.41 7.96l-1.37-1.37c-.4-.4-.92-.59-1.43-.59-.52 0-1.04.2-1.43.59L10.3 9.45l-7.72 7.72c-.78.78-.78 2.05 0 2.83L4 21.41c.39.39.9.59 1.41.59.51 0 1.02-.2 1.41-.59l7.78-7.78 2.81-2.81c.8-.78.8-2.07 0-2.86zM5.41 20L4 18.59l7.72-7.72 1.47 1.35L5.41 20z\"/>\n",
              "  </svg>\n",
              "      </button>\n",
              "      \n",
              "  <style>\n",
              "    .colab-df-container {\n",
              "      display:flex;\n",
              "      flex-wrap:wrap;\n",
              "      gap: 12px;\n",
              "    }\n",
              "\n",
              "    .colab-df-convert {\n",
              "      background-color: #E8F0FE;\n",
              "      border: none;\n",
              "      border-radius: 50%;\n",
              "      cursor: pointer;\n",
              "      display: none;\n",
              "      fill: #1967D2;\n",
              "      height: 32px;\n",
              "      padding: 0 0 0 0;\n",
              "      width: 32px;\n",
              "    }\n",
              "\n",
              "    .colab-df-convert:hover {\n",
              "      background-color: #E2EBFA;\n",
              "      box-shadow: 0px 1px 2px rgba(60, 64, 67, 0.3), 0px 1px 3px 1px rgba(60, 64, 67, 0.15);\n",
              "      fill: #174EA6;\n",
              "    }\n",
              "\n",
              "    [theme=dark] .colab-df-convert {\n",
              "      background-color: #3B4455;\n",
              "      fill: #D2E3FC;\n",
              "    }\n",
              "\n",
              "    [theme=dark] .colab-df-convert:hover {\n",
              "      background-color: #434B5C;\n",
              "      box-shadow: 0px 1px 3px 1px rgba(0, 0, 0, 0.15);\n",
              "      filter: drop-shadow(0px 1px 2px rgba(0, 0, 0, 0.3));\n",
              "      fill: #FFFFFF;\n",
              "    }\n",
              "  </style>\n",
              "\n",
              "      <script>\n",
              "        const buttonEl =\n",
              "          document.querySelector('#df-57f0fb62-321d-4591-a81d-5f780cb60a3f button.colab-df-convert');\n",
              "        buttonEl.style.display =\n",
              "          google.colab.kernel.accessAllowed ? 'block' : 'none';\n",
              "\n",
              "        async function convertToInteractive(key) {\n",
              "          const element = document.querySelector('#df-57f0fb62-321d-4591-a81d-5f780cb60a3f');\n",
              "          const dataTable =\n",
              "            await google.colab.kernel.invokeFunction('convertToInteractive',\n",
              "                                                     [key], {});\n",
              "          if (!dataTable) return;\n",
              "\n",
              "          const docLinkHtml = 'Like what you see? Visit the ' +\n",
              "            '<a target=\"_blank\" href=https://colab.research.google.com/notebooks/data_table.ipynb>data table notebook</a>'\n",
              "            + ' to learn more about interactive tables.';\n",
              "          element.innerHTML = '';\n",
              "          dataTable['output_type'] = 'display_data';\n",
              "          await google.colab.output.renderOutput(dataTable, element);\n",
              "          const docLink = document.createElement('div');\n",
              "          docLink.innerHTML = docLinkHtml;\n",
              "          element.appendChild(docLink);\n",
              "        }\n",
              "      </script>\n",
              "    </div>\n",
              "  </div>\n",
              "  "
            ],
            "text/plain": [
              "   NO.1  NO.2  NO.3  NO.4  NO.5  NO.6  reportA  reportB  exam  total\n",
              "0   100   100    75    90    80   100      100      100    90    745\n",
              "1   100   100   100    90    80   100      100      100    90    770\n",
              "2   100    96   100    90    80   100      100      100    45    766\n",
              "3    80    86    85    90   100    75       70      100    57    686\n",
              "4    90   100   100    90   100   100      100      100    50    780"
            ]
          },
          "metadata": {},
          "execution_count": 116
        }
      ]
    },
    {
      "cell_type": "code",
      "source": [
        "dev02_cor=dev2.corr()['exam']\n",
        "\n",
        "abs_dev02=dev02_cor.map(abs)\n",
        "abs_dev02.sort_values(ascending=False)"
      ],
      "metadata": {
        "id": "3z-IEp3P-_Gu",
        "colab": {
          "base_uri": "https://localhost:8080/"
        },
        "outputId": "7c3bdfa1-ecc2-47f6-c2b4-75a15c998578"
      },
      "execution_count": null,
      "outputs": [
        {
          "output_type": "execute_result",
          "data": {
            "text/plain": [
              "exam       1.000000\n",
              "reportB    0.631237\n",
              "reportA    0.607673\n",
              "total      0.598330\n",
              "NO.5       0.333895\n",
              "NO.1       0.304345\n",
              "NO.6       0.234293\n",
              "NO.2       0.202985\n",
              "NO.3       0.163248\n",
              "NO.4       0.137394\n",
              "Name: exam, dtype: float64"
            ]
          },
          "metadata": {},
          "execution_count": 117
        }
      ]
    },
    {
      "cell_type": "code",
      "source": [
        "col6=['reportB','reportA','NO.5','NO.1']\n",
        "data31=dev2[col6]\n",
        "data32=dev2[a3]"
      ],
      "metadata": {
        "id": "6ancJL_aBBiU"
      },
      "execution_count": null,
      "outputs": []
    },
    {
      "cell_type": "code",
      "source": [
        "dx12=dt3.head(107)\n",
        "dx12[\"total\"]=dx12[\"NO.1\"]+dx12[\"NO.5\"]+dx12[\"reportA\"]+dx12[\"reportB\"]\n",
        "print(dx12.head(3))\n",
        "dx12.plot(kind='scatter',x='total',y='exam')"
      ],
      "metadata": {
        "id": "PrB6oREsvkxf",
        "colab": {
          "base_uri": "https://localhost:8080/",
          "height": 372
        },
        "outputId": "24806522-5b9b-4f76-a19b-4f24008ee7be"
      },
      "execution_count": null,
      "outputs": [
        {
          "output_type": "stream",
          "name": "stdout",
          "text": [
            "   NO.1  NO.2  NO.3  NO.4  NO.5  NO.6  reportA  reportB  exam  total\n",
            "0   100   100    75    90    80   100      100      100    90    380\n",
            "1   100   100   100    90    80   100      100      100    90    380\n",
            "2   100    96   100    90    80   100      100      100    45    380\n"
          ]
        },
        {
          "output_type": "execute_result",
          "data": {
            "text/plain": [
              "<matplotlib.axes._subplots.AxesSubplot at 0x7f10e0962150>"
            ]
          },
          "metadata": {},
          "execution_count": 119
        },
        {
          "output_type": "display_data",
          "data": {
            "image/png": "[encoded data removed]",
            "text/plain": [
              "<Figure size 432x288 with 1 Axes>"
            ]
          },
          "metadata": {
            "needs_background": "light"
          }
        }
      ]
    },
    {
      "cell_type": "code",
      "source": [
        "#data31,data32を説明変数、目的変数に分割\n",
        "model12=LinearRegression()\n",
        "i=0 \n",
        "stotal44=0\n",
        "for i in range(10):\n",
        "    xtrain12,xtest12,ytrain12,ytest12=train_test_split(data31,data32,test_size=0.2,random_state=i)\n",
        "    model12.fit(xtrain12,ytrain12)\n",
        "    sval44=model12.score(xtest12, ytest12)\n",
        "    stotal44=stotal44+sval44\n",
        "    saverage45=stotal44/10\n",
        "print(saverage45)"
      ],
      "metadata": {
        "id": "iY9v8MxIRP1n",
        "colab": {
          "base_uri": "https://localhost:8080/"
        },
        "outputId": "4602d10e-428a-49ca-c747-48ec984c66b0"
      },
      "execution_count": null,
      "outputs": [
        {
          "output_type": "stream",
          "name": "stdout",
          "text": [
            "0.43404525871090127\n"
          ]
        }
      ]
    },
    {
      "cell_type": "code",
      "source": [
        "#各カラムの特徴量\n",
        "i=0 \n",
        "for i in range(10):\n",
        "    xtrain12,xtest12,ytrain12,ytest12=train_test_split(data31,data32,test_size=0.2,random_state=i)\n",
        "    model12.fit(xtrain12,ytrain12)\n",
        "    print(model12.coef_)\n",
        "    print(model10.intercept_) #切片"
      ],
      "metadata": {
        "id": "IvLuNrTOB2Qu",
        "colab": {
          "base_uri": "https://localhost:8080/"
        },
        "outputId": "642f1526-c23b-42a4-f739-de19a17e18dd"
      },
      "execution_count": null,
      "outputs": [
        {
          "output_type": "stream",
          "name": "stdout",
          "text": [
            "[[0.33549122 0.23201749 0.31688819 0.16596815]]\n",
            "[-17.1665197]\n",
            "[[0.23328707 0.30196466 0.39999283 0.09521368]]\n",
            "[-17.1665197]\n",
            "[[0.33539005 0.21800394 0.22514345 0.15195111]]\n",
            "[-17.1665197]\n",
            "[[0.18345702 0.41098139 0.14126422 0.17561675]]\n",
            "[-17.1665197]\n",
            "[[0.31552012 0.24579232 0.31868154 0.16501164]]\n",
            "[-17.1665197]\n",
            "[[0.33549773 0.23516312 0.12872843 0.19093302]]\n",
            "[-17.1665197]\n",
            "[[0.39442272 0.15100493 0.31663623 0.12162666]]\n",
            "[-17.1665197]\n",
            "[[0.38704381 0.1760253  0.30502923 0.16901526]]\n",
            "[-17.1665197]\n",
            "[[0.30484553 0.23361641 0.32429548 0.15851431]]\n",
            "[-17.1665197]\n",
            "[[0.30925923 0.27207922 0.13949276 0.20237447]]\n",
            "[-17.1665197]\n"
          ]
        }
      ]
    },
    {
      "cell_type": "code",
      "source": [
        "#ロジスティック回帰\n",
        "#正解率\n",
        "\n",
        "logi12=LogisticRegression(random_state=0,C=0.1)\n",
        "i=0 \n",
        "stotal45=0\n",
        "stotal46=0\n",
        "for i in range(10):\n",
        "    xtrain012,xtest012,ytrain012,ytest012=train_test_split(data31,d_result,test_size=0.2,random_state=i)\n",
        "    logi12.fit(xtrain012,ytrain012)\n",
        "\n",
        "    sval45=logi12.score(xtrain012,ytrain012)\n",
        "    sval46=logi12.score(xtest012,ytest012)\n",
        "    \n",
        "    stotal45=stotal45+sval45\n",
        "    stotal46=stotal46+sval46\n",
        "\n",
        "    saverage46=stotal45/10\n",
        "    saverage47=stotal46/10\n",
        "print(saverage46,saverage47)\n"
      ],
      "metadata": {
        "id": "ykNK3Pq3ro7_",
        "colab": {
          "base_uri": "https://localhost:8080/"
        },
        "outputId": "e762b3c3-715a-4782-9161-a2dad13238f3"
      },
      "execution_count": null,
      "outputs": [
        {
          "output_type": "stream",
          "name": "stdout",
          "text": [
            "0.7058823529411765 0.6954545454545454\n"
          ]
        }
      ]
    },
    {
      "cell_type": "code",
      "source": [
        "#予測 100回予測したうちの○○回は正解\n",
        "i=0\n",
        "stotal47=0\n",
        "for i in range(10):\n",
        "    xtrain012,xtest012,ytrain012,ytest012=train_test_split(data31,d_result,test_size=0.2,random_state=i)\n",
        "    ypred12 = logi12.predict(xtest012)\n",
        "    sval47=accuracy_score(ytest012,ypred12)\n",
        "    stotal47=stotal47+sval47\n",
        "    saverage48=stotal47/10\n",
        "print(saverage48)"
      ],
      "metadata": {
        "id": "H9JKiba1rvSD",
        "colab": {
          "base_uri": "https://localhost:8080/"
        },
        "outputId": "c727d9e9-76e5-4f97-bf2f-ece8f1118469"
      },
      "execution_count": null,
      "outputs": [
        {
          "output_type": "stream",
          "name": "stdout",
          "text": [
            "0.7181818181818181\n"
          ]
        }
      ]
    },
    {
      "cell_type": "code",
      "source": [
        "print('accuracy=',accuracy_score(y_true=ytest012,y_pred=ypred12))\n",
        "i01=0\n",
        "i10=0\n",
        "for i in range(len(ytest012)):\n",
        "  print(ytest012.iloc[i],ypred12[i])\n",
        "  if ytest012.iloc[i]==0 and ypred12[i]==1:\n",
        "    i01=+i01+1 \n",
        "  if ytest012.iloc[i]==1 and ypred12[i]==0:\n",
        "    i10=+i01+1\n",
        "print(f\"i01={i01},i10={i10},total={len(ytest12)}\")"
      ],
      "metadata": {
        "id": "EjKioDzMFGCU",
        "colab": {
          "base_uri": "https://localhost:8080/"
        },
        "outputId": "9b8c5ad8-a37b-43ff-880d-060ce4809212"
      },
      "execution_count": null,
      "outputs": [
        {
          "output_type": "stream",
          "name": "stdout",
          "text": [
            "accuracy= 0.5909090909090909\n",
            "1 1\n",
            "1 1\n",
            "0 1\n",
            "1 1\n",
            "1 1\n",
            "0 0\n",
            "1 0\n",
            "1 1\n",
            "0 1\n",
            "0 1\n",
            "1 1\n",
            "1 1\n",
            "1 1\n",
            "1 0\n",
            "1 1\n",
            "0 1\n",
            "1 1\n",
            "1 1\n",
            "0 1\n",
            "0 1\n",
            "0 1\n",
            "1 1\n",
            "i01=7,i10=4,total=22\n"
          ]
        }
      ]
    },
    {
      "cell_type": "code",
      "source": [
        ""
      ],
      "metadata": {
        "id": "onpKQIswP1np"
      },
      "execution_count": null,
      "outputs": []
    },
    {
      "cell_type": "code",
      "source": [
        "#7.1 外れ値を指定して除外して欠損値に0を代入して決定係数を求める"
      ],
      "metadata": {
        "id": "RFRRkRVKCFcs"
      },
      "execution_count": null,
      "outputs": []
    },
    {
      "cell_type": "code",
      "source": [
        "total.describe()"
      ],
      "metadata": {
        "id": "uYZeeFA8CFYC",
        "colab": {
          "base_uri": "https://localhost:8080/",
          "height": 300
        },
        "outputId": "a3fcd3c4-bd95-4c3c-cd2b-4976a32a7b48"
      },
      "execution_count": null,
      "outputs": [
        {
          "output_type": "execute_result",
          "data": {
            "text/html": [
              "\n",
              "  <div id=\"df-4676892a-9d42-40a6-9882-716c2e089095\">\n",
              "    <div class=\"colab-df-container\">\n",
              "      <div>\n",
              "<style scoped>\n",
              "    .dataframe tbody tr th:only-of-type {\n",
              "        vertical-align: middle;\n",
              "    }\n",
              "\n",
              "    .dataframe tbody tr th {\n",
              "        vertical-align: top;\n",
              "    }\n",
              "\n",
              "    .dataframe thead th {\n",
              "        text-align: right;\n",
              "    }\n",
              "</style>\n",
              "<table border=\"1\" class=\"dataframe\">\n",
              "  <thead>\n",
              "    <tr style=\"text-align: right;\">\n",
              "      <th></th>\n",
              "      <th>NO.1</th>\n",
              "      <th>NO.2</th>\n",
              "      <th>NO.3</th>\n",
              "      <th>NO.4</th>\n",
              "      <th>NO.5</th>\n",
              "      <th>NO.6</th>\n",
              "      <th>reportA</th>\n",
              "      <th>reportB</th>\n",
              "      <th>exam</th>\n",
              "      <th>total</th>\n",
              "    </tr>\n",
              "  </thead>\n",
              "  <tbody>\n",
              "    <tr>\n",
              "      <th>count</th>\n",
              "      <td>72.000000</td>\n",
              "      <td>58.000000</td>\n",
              "      <td>89.000000</td>\n",
              "      <td>88.000000</td>\n",
              "      <td>87.000000</td>\n",
              "      <td>91.000000</td>\n",
              "      <td>107.000000</td>\n",
              "      <td>107.000000</td>\n",
              "      <td>107.000000</td>\n",
              "      <td>107.000000</td>\n",
              "    </tr>\n",
              "    <tr>\n",
              "      <th>mean</th>\n",
              "      <td>83.472222</td>\n",
              "      <td>79.310345</td>\n",
              "      <td>79.775281</td>\n",
              "      <td>82.272727</td>\n",
              "      <td>79.310345</td>\n",
              "      <td>83.791209</td>\n",
              "      <td>77.289720</td>\n",
              "      <td>83.177570</td>\n",
              "      <td>54.177570</td>\n",
              "      <td>529.392523</td>\n",
              "    </tr>\n",
              "    <tr>\n",
              "      <th>std</th>\n",
              "      <td>25.351596</td>\n",
              "      <td>33.158951</td>\n",
              "      <td>26.078009</td>\n",
              "      <td>17.858143</td>\n",
              "      <td>19.216823</td>\n",
              "      <td>24.544072</td>\n",
              "      <td>34.683749</td>\n",
              "      <td>37.582566</td>\n",
              "      <td>29.395101</td>\n",
              "      <td>166.578655</td>\n",
              "    </tr>\n",
              "    <tr>\n",
              "      <th>min</th>\n",
              "      <td>0.000000</td>\n",
              "      <td>0.000000</td>\n",
              "      <td>0.000000</td>\n",
              "      <td>0.000000</td>\n",
              "      <td>10.000000</td>\n",
              "      <td>0.000000</td>\n",
              "      <td>0.000000</td>\n",
              "      <td>0.000000</td>\n",
              "      <td>0.000000</td>\n",
              "      <td>40.000000</td>\n",
              "    </tr>\n",
              "    <tr>\n",
              "      <th>25%</th>\n",
              "      <td>80.000000</td>\n",
              "      <td>75.000000</td>\n",
              "      <td>75.000000</td>\n",
              "      <td>70.000000</td>\n",
              "      <td>70.000000</td>\n",
              "      <td>75.000000</td>\n",
              "      <td>70.000000</td>\n",
              "      <td>100.000000</td>\n",
              "      <td>33.500000</td>\n",
              "      <td>447.500000</td>\n",
              "    </tr>\n",
              "    <tr>\n",
              "      <th>50%</th>\n",
              "      <td>90.000000</td>\n",
              "      <td>100.000000</td>\n",
              "      <td>100.000000</td>\n",
              "      <td>90.000000</td>\n",
              "      <td>80.000000</td>\n",
              "      <td>100.000000</td>\n",
              "      <td>100.000000</td>\n",
              "      <td>100.000000</td>\n",
              "      <td>65.000000</td>\n",
              "      <td>550.000000</td>\n",
              "    </tr>\n",
              "    <tr>\n",
              "      <th>75%</th>\n",
              "      <td>100.000000</td>\n",
              "      <td>100.000000</td>\n",
              "      <td>100.000000</td>\n",
              "      <td>90.000000</td>\n",
              "      <td>90.000000</td>\n",
              "      <td>100.000000</td>\n",
              "      <td>100.000000</td>\n",
              "      <td>100.000000</td>\n",
              "      <td>76.000000</td>\n",
              "      <td>650.000000</td>\n",
              "    </tr>\n",
              "    <tr>\n",
              "      <th>max</th>\n",
              "      <td>100.000000</td>\n",
              "      <td>100.000000</td>\n",
              "      <td>100.000000</td>\n",
              "      <td>100.000000</td>\n",
              "      <td>100.000000</td>\n",
              "      <td>100.000000</td>\n",
              "      <td>100.000000</td>\n",
              "      <td>100.000000</td>\n",
              "      <td>95.000000</td>\n",
              "      <td>790.000000</td>\n",
              "    </tr>\n",
              "  </tbody>\n",
              "</table>\n",
              "</div>\n",
              "      <button class=\"colab-df-convert\" onclick=\"convertToInteractive('df-4676892a-9d42-40a6-9882-716c2e089095')\"\n",
              "              title=\"Convert this dataframe to an interactive table.\"\n",
              "              style=\"display:none;\">\n",
              "        \n",
              "  <svg xmlns=\"http://www.w3.org/2000/svg\" height=\"24px\"viewBox=\"0 0 24 24\"\n",
              "       width=\"24px\">\n",
              "    <path d=\"M0 0h24v24H0V0z\" fill=\"none\"/>\n",
              "    <path d=\"M18.56 5.44l.94 2.06.94-2.06 2.06-.94-2.06-.94-.94-2.06-.94 2.06-2.06.94zm-11 1L8.5 8.5l.94-2.06 2.06-.94-2.06-.94L8.5 2.5l-.94 2.06-2.06.94zm10 10l.94 2.06.94-2.06 2.06-.94-2.06-.94-.94-2.06-.94 2.06-2.06.94z\"/><path d=\"M17.41 7.96l-1.37-1.37c-.4-.4-.92-.59-1.43-.59-.52 0-1.04.2-1.43.59L10.3 9.45l-7.72 7.72c-.78.78-.78 2.05 0 2.83L4 21.41c.39.39.9.59 1.41.59.51 0 1.02-.2 1.41-.59l7.78-7.78 2.81-2.81c.8-.78.8-2.07 0-2.86zM5.41 20L4 18.59l7.72-7.72 1.47 1.35L5.41 20z\"/>\n",
              "  </svg>\n",
              "      </button>\n",
              "      \n",
              "  <style>\n",
              "    .colab-df-container {\n",
              "      display:flex;\n",
              "      flex-wrap:wrap;\n",
              "      gap: 12px;\n",
              "    }\n",
              "\n",
              "    .colab-df-convert {\n",
              "      background-color: #E8F0FE;\n",
              "      border: none;\n",
              "      border-radius: 50%;\n",
              "      cursor: pointer;\n",
              "      display: none;\n",
              "      fill: #1967D2;\n",
              "      height: 32px;\n",
              "      padding: 0 0 0 0;\n",
              "      width: 32px;\n",
              "    }\n",
              "\n",
              "    .colab-df-convert:hover {\n",
              "      background-color: #E2EBFA;\n",
              "      box-shadow: 0px 1px 2px rgba(60, 64, 67, 0.3), 0px 1px 3px 1px rgba(60, 64, 67, 0.15);\n",
              "      fill: #174EA6;\n",
              "    }\n",
              "\n",
              "    [theme=dark] .colab-df-convert {\n",
              "      background-color: #3B4455;\n",
              "      fill: #D2E3FC;\n",
              "    }\n",
              "\n",
              "    [theme=dark] .colab-df-convert:hover {\n",
              "      background-color: #434B5C;\n",
              "      box-shadow: 0px 1px 3px 1px rgba(0, 0, 0, 0.15);\n",
              "      filter: drop-shadow(0px 1px 2px rgba(0, 0, 0, 0.3));\n",
              "      fill: #FFFFFF;\n",
              "    }\n",
              "  </style>\n",
              "\n",
              "      <script>\n",
              "        const buttonEl =\n",
              "          document.querySelector('#df-4676892a-9d42-40a6-9882-716c2e089095 button.colab-df-convert');\n",
              "        buttonEl.style.display =\n",
              "          google.colab.kernel.accessAllowed ? 'block' : 'none';\n",
              "\n",
              "        async function convertToInteractive(key) {\n",
              "          const element = document.querySelector('#df-4676892a-9d42-40a6-9882-716c2e089095');\n",
              "          const dataTable =\n",
              "            await google.colab.kernel.invokeFunction('convertToInteractive',\n",
              "                                                     [key], {});\n",
              "          if (!dataTable) return;\n",
              "\n",
              "          const docLinkHtml = 'Like what you see? Visit the ' +\n",
              "            '<a target=\"_blank\" href=https://colab.research.google.com/notebooks/data_table.ipynb>data table notebook</a>'\n",
              "            + ' to learn more about interactive tables.';\n",
              "          element.innerHTML = '';\n",
              "          dataTable['output_type'] = 'display_data';\n",
              "          await google.colab.output.renderOutput(dataTable, element);\n",
              "          const docLink = document.createElement('div');\n",
              "          docLink.innerHTML = docLinkHtml;\n",
              "          element.appendChild(docLink);\n",
              "        }\n",
              "      </script>\n",
              "    </div>\n",
              "  </div>\n",
              "  "
            ],
            "text/plain": [
              "             NO.1        NO.2        NO.3  ...     reportB        exam       total\n",
              "count   72.000000   58.000000   89.000000  ...  107.000000  107.000000  107.000000\n",
              "mean    83.472222   79.310345   79.775281  ...   83.177570   54.177570  529.392523\n",
              "std     25.351596   33.158951   26.078009  ...   37.582566   29.395101  166.578655\n",
              "min      0.000000    0.000000    0.000000  ...    0.000000    0.000000   40.000000\n",
              "25%     80.000000   75.000000   75.000000  ...  100.000000   33.500000  447.500000\n",
              "50%     90.000000  100.000000  100.000000  ...  100.000000   65.000000  550.000000\n",
              "75%    100.000000  100.000000  100.000000  ...  100.000000   76.000000  650.000000\n",
              "max    100.000000  100.000000  100.000000  ...  100.000000   95.000000  790.000000\n",
              "\n",
              "[8 rows x 10 columns]"
            ]
          },
          "metadata": {},
          "execution_count": 126
        }
      ]
    },
    {
      "cell_type": "code",
      "source": [
        "total.plot(kind='scatter',x='total',y='exam')"
      ],
      "metadata": {
        "id": "VEAgzGs7C66A",
        "colab": {
          "base_uri": "https://localhost:8080/",
          "height": 297
        },
        "outputId": "3ccc04fc-0745-4c7a-b73c-b0bb2a788a01"
      },
      "execution_count": null,
      "outputs": [
        {
          "output_type": "execute_result",
          "data": {
            "text/plain": [
              "<matplotlib.axes._subplots.AxesSubplot at 0x7f10e0632cd0>"
            ]
          },
          "metadata": {},
          "execution_count": 127
        },
        {
          "output_type": "display_data",
          "data": {
            "image/png": "[encoded data removed]",
            "text/plain": [
              "<Figure size 432x288 with 1 Axes>"
            ]
          },
          "metadata": {
            "needs_background": "light"
          }
        }
      ]
    },
    {
      "cell_type": "code",
      "source": [
        "total1=total.fillna(0)\n",
        "out_line1=total1[(total1['total']>370)&(total1['exam']<30)].index\n",
        "print(out_line1)"
      ],
      "metadata": {
        "id": "s7WbZ8yEDSm9",
        "colab": {
          "base_uri": "https://localhost:8080/"
        },
        "outputId": "171203b6-f91d-4af8-dfbd-56c9d6ce5703"
      },
      "execution_count": null,
      "outputs": [
        {
          "output_type": "stream",
          "name": "stdout",
          "text": [
            "Int64Index([6, 40, 47, 62, 69, 70, 74, 79, 85, 87, 96, 98, 105], dtype='int64')\n"
          ]
        }
      ]
    },
    {
      "cell_type": "code",
      "source": [
        "total2=total1.drop([6, 40, 47, 62, 69, 70, 74, 79, 85, 87, 96, 98, 105],axis=0)"
      ],
      "metadata": {
        "id": "aZ08OtGLD8Wp"
      },
      "execution_count": null,
      "outputs": []
    },
    {
      "cell_type": "code",
      "source": [
        "\n",
        "total2.describe()"
      ],
      "metadata": {
        "id": "k2qv_ElzGcs1",
        "colab": {
          "base_uri": "https://localhost:8080/",
          "height": 300
        },
        "outputId": "1059dbff-be90-4c3b-8954-9bf4d7fc866c"
      },
      "execution_count": null,
      "outputs": [
        {
          "output_type": "execute_result",
          "data": {
            "text/html": [
              "\n",
              "  <div id=\"df-025d4e24-7b14-4ea2-8cd6-a7f6d5a50af9\">\n",
              "    <div class=\"colab-df-container\">\n",
              "      <div>\n",
              "<style scoped>\n",
              "    .dataframe tbody tr th:only-of-type {\n",
              "        vertical-align: middle;\n",
              "    }\n",
              "\n",
              "    .dataframe tbody tr th {\n",
              "        vertical-align: top;\n",
              "    }\n",
              "\n",
              "    .dataframe thead th {\n",
              "        text-align: right;\n",
              "    }\n",
              "</style>\n",
              "<table border=\"1\" class=\"dataframe\">\n",
              "  <thead>\n",
              "    <tr style=\"text-align: right;\">\n",
              "      <th></th>\n",
              "      <th>NO.1</th>\n",
              "      <th>NO.2</th>\n",
              "      <th>NO.3</th>\n",
              "      <th>NO.4</th>\n",
              "      <th>NO.5</th>\n",
              "      <th>NO.6</th>\n",
              "      <th>reportA</th>\n",
              "      <th>reportB</th>\n",
              "      <th>exam</th>\n",
              "      <th>total</th>\n",
              "    </tr>\n",
              "  </thead>\n",
              "  <tbody>\n",
              "    <tr>\n",
              "      <th>count</th>\n",
              "      <td>94.000000</td>\n",
              "      <td>94.000000</td>\n",
              "      <td>94.000000</td>\n",
              "      <td>94.000000</td>\n",
              "      <td>94.000000</td>\n",
              "      <td>94.000000</td>\n",
              "      <td>94.000000</td>\n",
              "      <td>94.000000</td>\n",
              "      <td>94.000000</td>\n",
              "      <td>94.000000</td>\n",
              "    </tr>\n",
              "    <tr>\n",
              "      <th>mean</th>\n",
              "      <td>55.212766</td>\n",
              "      <td>42.819149</td>\n",
              "      <td>65.159574</td>\n",
              "      <td>65.851064</td>\n",
              "      <td>63.617021</td>\n",
              "      <td>69.148936</td>\n",
              "      <td>83.510638</td>\n",
              "      <td>90.425532</td>\n",
              "      <td>60.627660</td>\n",
              "      <td>535.744681</td>\n",
              "    </tr>\n",
              "    <tr>\n",
              "      <th>std</th>\n",
              "      <td>44.618544</td>\n",
              "      <td>46.319127</td>\n",
              "      <td>38.489296</td>\n",
              "      <td>35.207818</td>\n",
              "      <td>36.569306</td>\n",
              "      <td>38.175023</td>\n",
              "      <td>28.158822</td>\n",
              "      <td>29.581849</td>\n",
              "      <td>24.901088</td>\n",
              "      <td>174.633191</td>\n",
              "    </tr>\n",
              "    <tr>\n",
              "      <th>min</th>\n",
              "      <td>0.000000</td>\n",
              "      <td>0.000000</td>\n",
              "      <td>0.000000</td>\n",
              "      <td>0.000000</td>\n",
              "      <td>0.000000</td>\n",
              "      <td>0.000000</td>\n",
              "      <td>0.000000</td>\n",
              "      <td>0.000000</td>\n",
              "      <td>0.000000</td>\n",
              "      <td>40.000000</td>\n",
              "    </tr>\n",
              "    <tr>\n",
              "      <th>25%</th>\n",
              "      <td>0.000000</td>\n",
              "      <td>0.000000</td>\n",
              "      <td>31.250000</td>\n",
              "      <td>52.500000</td>\n",
              "      <td>50.000000</td>\n",
              "      <td>50.000000</td>\n",
              "      <td>70.000000</td>\n",
              "      <td>100.000000</td>\n",
              "      <td>52.000000</td>\n",
              "      <td>451.250000</td>\n",
              "    </tr>\n",
              "    <tr>\n",
              "      <th>50%</th>\n",
              "      <td>80.000000</td>\n",
              "      <td>12.500000</td>\n",
              "      <td>75.000000</td>\n",
              "      <td>80.000000</td>\n",
              "      <td>80.000000</td>\n",
              "      <td>87.500000</td>\n",
              "      <td>100.000000</td>\n",
              "      <td>100.000000</td>\n",
              "      <td>67.000000</td>\n",
              "      <td>557.500000</td>\n",
              "    </tr>\n",
              "    <tr>\n",
              "      <th>75%</th>\n",
              "      <td>90.000000</td>\n",
              "      <td>100.000000</td>\n",
              "      <td>100.000000</td>\n",
              "      <td>90.000000</td>\n",
              "      <td>90.000000</td>\n",
              "      <td>100.000000</td>\n",
              "      <td>100.000000</td>\n",
              "      <td>100.000000</td>\n",
              "      <td>77.000000</td>\n",
              "      <td>663.750000</td>\n",
              "    </tr>\n",
              "    <tr>\n",
              "      <th>max</th>\n",
              "      <td>100.000000</td>\n",
              "      <td>100.000000</td>\n",
              "      <td>100.000000</td>\n",
              "      <td>100.000000</td>\n",
              "      <td>100.000000</td>\n",
              "      <td>100.000000</td>\n",
              "      <td>100.000000</td>\n",
              "      <td>100.000000</td>\n",
              "      <td>95.000000</td>\n",
              "      <td>790.000000</td>\n",
              "    </tr>\n",
              "  </tbody>\n",
              "</table>\n",
              "</div>\n",
              "      <button class=\"colab-df-convert\" onclick=\"convertToInteractive('df-025d4e24-7b14-4ea2-8cd6-a7f6d5a50af9')\"\n",
              "              title=\"Convert this dataframe to an interactive table.\"\n",
              "              style=\"display:none;\">\n",
              "        \n",
              "  <svg xmlns=\"http://www.w3.org/2000/svg\" height=\"24px\"viewBox=\"0 0 24 24\"\n",
              "       width=\"24px\">\n",
              "    <path d=\"M0 0h24v24H0V0z\" fill=\"none\"/>\n",
              "    <path d=\"M18.56 5.44l.94 2.06.94-2.06 2.06-.94-2.06-.94-.94-2.06-.94 2.06-2.06.94zm-11 1L8.5 8.5l.94-2.06 2.06-.94-2.06-.94L8.5 2.5l-.94 2.06-2.06.94zm10 10l.94 2.06.94-2.06 2.06-.94-2.06-.94-.94-2.06-.94 2.06-2.06.94z\"/><path d=\"M17.41 7.96l-1.37-1.37c-.4-.4-.92-.59-1.43-.59-.52 0-1.04.2-1.43.59L10.3 9.45l-7.72 7.72c-.78.78-.78 2.05 0 2.83L4 21.41c.39.39.9.59 1.41.59.51 0 1.02-.2 1.41-.59l7.78-7.78 2.81-2.81c.8-.78.8-2.07 0-2.86zM5.41 20L4 18.59l7.72-7.72 1.47 1.35L5.41 20z\"/>\n",
              "  </svg>\n",
              "      </button>\n",
              "      \n",
              "  <style>\n",
              "    .colab-df-container {\n",
              "      display:flex;\n",
              "      flex-wrap:wrap;\n",
              "      gap: 12px;\n",
              "    }\n",
              "\n",
              "    .colab-df-convert {\n",
              "      background-color: #E8F0FE;\n",
              "      border: none;\n",
              "      border-radius: 50%;\n",
              "      cursor: pointer;\n",
              "      display: none;\n",
              "      fill: #1967D2;\n",
              "      height: 32px;\n",
              "      padding: 0 0 0 0;\n",
              "      width: 32px;\n",
              "    }\n",
              "\n",
              "    .colab-df-convert:hover {\n",
              "      background-color: #E2EBFA;\n",
              "      box-shadow: 0px 1px 2px rgba(60, 64, 67, 0.3), 0px 1px 3px 1px rgba(60, 64, 67, 0.15);\n",
              "      fill: #174EA6;\n",
              "    }\n",
              "\n",
              "    [theme=dark] .colab-df-convert {\n",
              "      background-color: #3B4455;\n",
              "      fill: #D2E3FC;\n",
              "    }\n",
              "\n",
              "    [theme=dark] .colab-df-convert:hover {\n",
              "      background-color: #434B5C;\n",
              "      box-shadow: 0px 1px 3px 1px rgba(0, 0, 0, 0.15);\n",
              "      filter: drop-shadow(0px 1px 2px rgba(0, 0, 0, 0.3));\n",
              "      fill: #FFFFFF;\n",
              "    }\n",
              "  </style>\n",
              "\n",
              "      <script>\n",
              "        const buttonEl =\n",
              "          document.querySelector('#df-025d4e24-7b14-4ea2-8cd6-a7f6d5a50af9 button.colab-df-convert');\n",
              "        buttonEl.style.display =\n",
              "          google.colab.kernel.accessAllowed ? 'block' : 'none';\n",
              "\n",
              "        async function convertToInteractive(key) {\n",
              "          const element = document.querySelector('#df-025d4e24-7b14-4ea2-8cd6-a7f6d5a50af9');\n",
              "          const dataTable =\n",
              "            await google.colab.kernel.invokeFunction('convertToInteractive',\n",
              "                                                     [key], {});\n",
              "          if (!dataTable) return;\n",
              "\n",
              "          const docLinkHtml = 'Like what you see? Visit the ' +\n",
              "            '<a target=\"_blank\" href=https://colab.research.google.com/notebooks/data_table.ipynb>data table notebook</a>'\n",
              "            + ' to learn more about interactive tables.';\n",
              "          element.innerHTML = '';\n",
              "          dataTable['output_type'] = 'display_data';\n",
              "          await google.colab.output.renderOutput(dataTable, element);\n",
              "          const docLink = document.createElement('div');\n",
              "          docLink.innerHTML = docLinkHtml;\n",
              "          element.appendChild(docLink);\n",
              "        }\n",
              "      </script>\n",
              "    </div>\n",
              "  </div>\n",
              "  "
            ],
            "text/plain": [
              "             NO.1        NO.2        NO.3  ...     reportB       exam       total\n",
              "count   94.000000   94.000000   94.000000  ...   94.000000  94.000000   94.000000\n",
              "mean    55.212766   42.819149   65.159574  ...   90.425532  60.627660  535.744681\n",
              "std     44.618544   46.319127   38.489296  ...   29.581849  24.901088  174.633191\n",
              "min      0.000000    0.000000    0.000000  ...    0.000000   0.000000   40.000000\n",
              "25%      0.000000    0.000000   31.250000  ...  100.000000  52.000000  451.250000\n",
              "50%     80.000000   12.500000   75.000000  ...  100.000000  67.000000  557.500000\n",
              "75%     90.000000  100.000000  100.000000  ...  100.000000  77.000000  663.750000\n",
              "max    100.000000  100.000000  100.000000  ...  100.000000  95.000000  790.000000\n",
              "\n",
              "[8 rows x 10 columns]"
            ]
          },
          "metadata": {},
          "execution_count": 130
        }
      ]
    },
    {
      "cell_type": "code",
      "source": [
        "out_line2=total2[(total2['total']<370)&(total2['exam']>60)].index\n",
        "print(out_line2)"
      ],
      "metadata": {
        "id": "4EhwkMa7ECIw",
        "colab": {
          "base_uri": "https://localhost:8080/"
        },
        "outputId": "1219706a-e8af-45e6-9fa7-3e427679f0e0"
      },
      "execution_count": null,
      "outputs": [
        {
          "output_type": "stream",
          "name": "stdout",
          "text": [
            "Int64Index([14, 46], dtype='int64')\n"
          ]
        }
      ]
    },
    {
      "cell_type": "code",
      "source": [
        "total3=total2.drop([14, 46],axis=0)"
      ],
      "metadata": {
        "id": "o6TLAjhnGW01"
      },
      "execution_count": null,
      "outputs": []
    },
    {
      "cell_type": "code",
      "source": [
        "total3.describe()"
      ],
      "metadata": {
        "id": "TJ2SzGJSGnZb",
        "colab": {
          "base_uri": "https://localhost:8080/",
          "height": 300
        },
        "outputId": "9fd35da8-a39b-4e65-909e-609f041c05af"
      },
      "execution_count": null,
      "outputs": [
        {
          "output_type": "execute_result",
          "data": {
            "text/html": [
              "\n",
              "  <div id=\"df-7b788a51-2ff1-4b09-9a63-5e1fd1e4366b\">\n",
              "    <div class=\"colab-df-container\">\n",
              "      <div>\n",
              "<style scoped>\n",
              "    .dataframe tbody tr th:only-of-type {\n",
              "        vertical-align: middle;\n",
              "    }\n",
              "\n",
              "    .dataframe tbody tr th {\n",
              "        vertical-align: top;\n",
              "    }\n",
              "\n",
              "    .dataframe thead th {\n",
              "        text-align: right;\n",
              "    }\n",
              "</style>\n",
              "<table border=\"1\" class=\"dataframe\">\n",
              "  <thead>\n",
              "    <tr style=\"text-align: right;\">\n",
              "      <th></th>\n",
              "      <th>NO.1</th>\n",
              "      <th>NO.2</th>\n",
              "      <th>NO.3</th>\n",
              "      <th>NO.4</th>\n",
              "      <th>NO.5</th>\n",
              "      <th>NO.6</th>\n",
              "      <th>reportA</th>\n",
              "      <th>reportB</th>\n",
              "      <th>exam</th>\n",
              "      <th>total</th>\n",
              "    </tr>\n",
              "  </thead>\n",
              "  <tbody>\n",
              "    <tr>\n",
              "      <th>count</th>\n",
              "      <td>92.000000</td>\n",
              "      <td>92.000000</td>\n",
              "      <td>92.000000</td>\n",
              "      <td>92.000000</td>\n",
              "      <td>92.000000</td>\n",
              "      <td>92.000000</td>\n",
              "      <td>92.000000</td>\n",
              "      <td>92.000000</td>\n",
              "      <td>92.000000</td>\n",
              "      <td>92.000000</td>\n",
              "    </tr>\n",
              "    <tr>\n",
              "      <th>mean</th>\n",
              "      <td>56.413043</td>\n",
              "      <td>42.934783</td>\n",
              "      <td>66.032609</td>\n",
              "      <td>66.739130</td>\n",
              "      <td>65.000000</td>\n",
              "      <td>70.652174</td>\n",
              "      <td>83.152174</td>\n",
              "      <td>90.217391</td>\n",
              "      <td>60.489130</td>\n",
              "      <td>541.141304</td>\n",
              "    </tr>\n",
              "    <tr>\n",
              "      <th>std</th>\n",
              "      <td>44.340875</td>\n",
              "      <td>46.487338</td>\n",
              "      <td>38.262670</td>\n",
              "      <td>34.865793</td>\n",
              "      <td>35.718681</td>\n",
              "      <td>37.175094</td>\n",
              "      <td>28.359131</td>\n",
              "      <td>29.870720</td>\n",
              "      <td>25.155121</td>\n",
              "      <td>172.568036</td>\n",
              "    </tr>\n",
              "    <tr>\n",
              "      <th>min</th>\n",
              "      <td>0.000000</td>\n",
              "      <td>0.000000</td>\n",
              "      <td>0.000000</td>\n",
              "      <td>0.000000</td>\n",
              "      <td>0.000000</td>\n",
              "      <td>0.000000</td>\n",
              "      <td>0.000000</td>\n",
              "      <td>0.000000</td>\n",
              "      <td>0.000000</td>\n",
              "      <td>40.000000</td>\n",
              "    </tr>\n",
              "    <tr>\n",
              "      <th>25%</th>\n",
              "      <td>0.000000</td>\n",
              "      <td>0.000000</td>\n",
              "      <td>43.750000</td>\n",
              "      <td>60.000000</td>\n",
              "      <td>50.000000</td>\n",
              "      <td>50.000000</td>\n",
              "      <td>70.000000</td>\n",
              "      <td>100.000000</td>\n",
              "      <td>52.000000</td>\n",
              "      <td>455.000000</td>\n",
              "    </tr>\n",
              "    <tr>\n",
              "      <th>50%</th>\n",
              "      <td>85.000000</td>\n",
              "      <td>12.500000</td>\n",
              "      <td>75.000000</td>\n",
              "      <td>80.000000</td>\n",
              "      <td>80.000000</td>\n",
              "      <td>100.000000</td>\n",
              "      <td>100.000000</td>\n",
              "      <td>100.000000</td>\n",
              "      <td>67.000000</td>\n",
              "      <td>562.500000</td>\n",
              "    </tr>\n",
              "    <tr>\n",
              "      <th>75%</th>\n",
              "      <td>90.000000</td>\n",
              "      <td>100.000000</td>\n",
              "      <td>100.000000</td>\n",
              "      <td>90.000000</td>\n",
              "      <td>90.000000</td>\n",
              "      <td>100.000000</td>\n",
              "      <td>100.000000</td>\n",
              "      <td>100.000000</td>\n",
              "      <td>77.000000</td>\n",
              "      <td>666.250000</td>\n",
              "    </tr>\n",
              "    <tr>\n",
              "      <th>max</th>\n",
              "      <td>100.000000</td>\n",
              "      <td>100.000000</td>\n",
              "      <td>100.000000</td>\n",
              "      <td>100.000000</td>\n",
              "      <td>100.000000</td>\n",
              "      <td>100.000000</td>\n",
              "      <td>100.000000</td>\n",
              "      <td>100.000000</td>\n",
              "      <td>95.000000</td>\n",
              "      <td>790.000000</td>\n",
              "    </tr>\n",
              "  </tbody>\n",
              "</table>\n",
              "</div>\n",
              "      <button class=\"colab-df-convert\" onclick=\"convertToInteractive('df-7b788a51-2ff1-4b09-9a63-5e1fd1e4366b')\"\n",
              "              title=\"Convert this dataframe to an interactive table.\"\n",
              "              style=\"display:none;\">\n",
              "        \n",
              "  <svg xmlns=\"http://www.w3.org/2000/svg\" height=\"24px\"viewBox=\"0 0 24 24\"\n",
              "       width=\"24px\">\n",
              "    <path d=\"M0 0h24v24H0V0z\" fill=\"none\"/>\n",
              "    <path d=\"M18.56 5.44l.94 2.06.94-2.06 2.06-.94-2.06-.94-.94-2.06-.94 2.06-2.06.94zm-11 1L8.5 8.5l.94-2.06 2.06-.94-2.06-.94L8.5 2.5l-.94 2.06-2.06.94zm10 10l.94 2.06.94-2.06 2.06-.94-2.06-.94-.94-2.06-.94 2.06-2.06.94z\"/><path d=\"M17.41 7.96l-1.37-1.37c-.4-.4-.92-.59-1.43-.59-.52 0-1.04.2-1.43.59L10.3 9.45l-7.72 7.72c-.78.78-.78 2.05 0 2.83L4 21.41c.39.39.9.59 1.41.59.51 0 1.02-.2 1.41-.59l7.78-7.78 2.81-2.81c.8-.78.8-2.07 0-2.86zM5.41 20L4 18.59l7.72-7.72 1.47 1.35L5.41 20z\"/>\n",
              "  </svg>\n",
              "      </button>\n",
              "      \n",
              "  <style>\n",
              "    .colab-df-container {\n",
              "      display:flex;\n",
              "      flex-wrap:wrap;\n",
              "      gap: 12px;\n",
              "    }\n",
              "\n",
              "    .colab-df-convert {\n",
              "      background-color: #E8F0FE;\n",
              "      border: none;\n",
              "      border-radius: 50%;\n",
              "      cursor: pointer;\n",
              "      display: none;\n",
              "      fill: #1967D2;\n",
              "      height: 32px;\n",
              "      padding: 0 0 0 0;\n",
              "      width: 32px;\n",
              "    }\n",
              "\n",
              "    .colab-df-convert:hover {\n",
              "      background-color: #E2EBFA;\n",
              "      box-shadow: 0px 1px 2px rgba(60, 64, 67, 0.3), 0px 1px 3px 1px rgba(60, 64, 67, 0.15);\n",
              "      fill: #174EA6;\n",
              "    }\n",
              "\n",
              "    [theme=dark] .colab-df-convert {\n",
              "      background-color: #3B4455;\n",
              "      fill: #D2E3FC;\n",
              "    }\n",
              "\n",
              "    [theme=dark] .colab-df-convert:hover {\n",
              "      background-color: #434B5C;\n",
              "      box-shadow: 0px 1px 3px 1px rgba(0, 0, 0, 0.15);\n",
              "      filter: drop-shadow(0px 1px 2px rgba(0, 0, 0, 0.3));\n",
              "      fill: #FFFFFF;\n",
              "    }\n",
              "  </style>\n",
              "\n",
              "      <script>\n",
              "        const buttonEl =\n",
              "          document.querySelector('#df-7b788a51-2ff1-4b09-9a63-5e1fd1e4366b button.colab-df-convert');\n",
              "        buttonEl.style.display =\n",
              "          google.colab.kernel.accessAllowed ? 'block' : 'none';\n",
              "\n",
              "        async function convertToInteractive(key) {\n",
              "          const element = document.querySelector('#df-7b788a51-2ff1-4b09-9a63-5e1fd1e4366b');\n",
              "          const dataTable =\n",
              "            await google.colab.kernel.invokeFunction('convertToInteractive',\n",
              "                                                     [key], {});\n",
              "          if (!dataTable) return;\n",
              "\n",
              "          const docLinkHtml = 'Like what you see? Visit the ' +\n",
              "            '<a target=\"_blank\" href=https://colab.research.google.com/notebooks/data_table.ipynb>data table notebook</a>'\n",
              "            + ' to learn more about interactive tables.';\n",
              "          element.innerHTML = '';\n",
              "          dataTable['output_type'] = 'display_data';\n",
              "          await google.colab.output.renderOutput(dataTable, element);\n",
              "          const docLink = document.createElement('div');\n",
              "          docLink.innerHTML = docLinkHtml;\n",
              "          element.appendChild(docLink);\n",
              "        }\n",
              "      </script>\n",
              "    </div>\n",
              "  </div>\n",
              "  "
            ],
            "text/plain": [
              "             NO.1        NO.2        NO.3  ...     reportB       exam       total\n",
              "count   92.000000   92.000000   92.000000  ...   92.000000  92.000000   92.000000\n",
              "mean    56.413043   42.934783   66.032609  ...   90.217391  60.489130  541.141304\n",
              "std     44.340875   46.487338   38.262670  ...   29.870720  25.155121  172.568036\n",
              "min      0.000000    0.000000    0.000000  ...    0.000000   0.000000   40.000000\n",
              "25%      0.000000    0.000000   43.750000  ...  100.000000  52.000000  455.000000\n",
              "50%     85.000000   12.500000   75.000000  ...  100.000000  67.000000  562.500000\n",
              "75%     90.000000  100.000000  100.000000  ...  100.000000  77.000000  666.250000\n",
              "max    100.000000  100.000000  100.000000  ...  100.000000  95.000000  790.000000\n",
              "\n",
              "[8 rows x 10 columns]"
            ]
          },
          "metadata": {},
          "execution_count": 133
        }
      ]
    },
    {
      "cell_type": "code",
      "source": [
        "total3.plot(kind='scatter',x='total',y='exam')"
      ],
      "metadata": {
        "id": "hMqtmFQXGmSC",
        "colab": {
          "base_uri": "https://localhost:8080/",
          "height": 297
        },
        "outputId": "478b0768-a68d-4573-c593-7ffdeea911da"
      },
      "execution_count": null,
      "outputs": [
        {
          "output_type": "execute_result",
          "data": {
            "text/plain": [
              "<matplotlib.axes._subplots.AxesSubplot at 0x7f10e0636f10>"
            ]
          },
          "metadata": {},
          "execution_count": 134
        },
        {
          "output_type": "display_data",
          "data": {
            "image/png": "[encoded data removed]",
            "text/plain": [
              "<Figure size 432x288 with 1 Axes>"
            ]
          },
          "metadata": {
            "needs_background": "light"
          }
        }
      ]
    },
    {
      "cell_type": "code",
      "source": [
        "total3.head(5)"
      ],
      "metadata": {
        "id": "YgNbgJWRIy4S",
        "colab": {
          "base_uri": "https://localhost:8080/",
          "height": 206
        },
        "outputId": "38fe0283-6755-4158-d8df-9c339e75b6f7"
      },
      "execution_count": null,
      "outputs": [
        {
          "output_type": "execute_result",
          "data": {
            "text/html": [
              "\n",
              "  <div id=\"df-1af63f6f-e094-44d3-bcc7-06b20de24244\">\n",
              "    <div class=\"colab-df-container\">\n",
              "      <div>\n",
              "<style scoped>\n",
              "    .dataframe tbody tr th:only-of-type {\n",
              "        vertical-align: middle;\n",
              "    }\n",
              "\n",
              "    .dataframe tbody tr th {\n",
              "        vertical-align: top;\n",
              "    }\n",
              "\n",
              "    .dataframe thead th {\n",
              "        text-align: right;\n",
              "    }\n",
              "</style>\n",
              "<table border=\"1\" class=\"dataframe\">\n",
              "  <thead>\n",
              "    <tr style=\"text-align: right;\">\n",
              "      <th></th>\n",
              "      <th>NO.1</th>\n",
              "      <th>NO.2</th>\n",
              "      <th>NO.3</th>\n",
              "      <th>NO.4</th>\n",
              "      <th>NO.5</th>\n",
              "      <th>NO.6</th>\n",
              "      <th>reportA</th>\n",
              "      <th>reportB</th>\n",
              "      <th>exam</th>\n",
              "      <th>total</th>\n",
              "    </tr>\n",
              "  </thead>\n",
              "  <tbody>\n",
              "    <tr>\n",
              "      <th>0</th>\n",
              "      <td>100.0</td>\n",
              "      <td>100.0</td>\n",
              "      <td>75.0</td>\n",
              "      <td>90.0</td>\n",
              "      <td>80.0</td>\n",
              "      <td>100.0</td>\n",
              "      <td>100</td>\n",
              "      <td>100</td>\n",
              "      <td>90</td>\n",
              "      <td>745</td>\n",
              "    </tr>\n",
              "    <tr>\n",
              "      <th>1</th>\n",
              "      <td>100.0</td>\n",
              "      <td>100.0</td>\n",
              "      <td>100.0</td>\n",
              "      <td>90.0</td>\n",
              "      <td>80.0</td>\n",
              "      <td>100.0</td>\n",
              "      <td>100</td>\n",
              "      <td>100</td>\n",
              "      <td>90</td>\n",
              "      <td>770</td>\n",
              "    </tr>\n",
              "    <tr>\n",
              "      <th>2</th>\n",
              "      <td>100.0</td>\n",
              "      <td>0.0</td>\n",
              "      <td>100.0</td>\n",
              "      <td>90.0</td>\n",
              "      <td>80.0</td>\n",
              "      <td>100.0</td>\n",
              "      <td>100</td>\n",
              "      <td>100</td>\n",
              "      <td>45</td>\n",
              "      <td>670</td>\n",
              "    </tr>\n",
              "    <tr>\n",
              "      <th>3</th>\n",
              "      <td>80.0</td>\n",
              "      <td>0.0</td>\n",
              "      <td>0.0</td>\n",
              "      <td>90.0</td>\n",
              "      <td>100.0</td>\n",
              "      <td>75.0</td>\n",
              "      <td>70</td>\n",
              "      <td>100</td>\n",
              "      <td>57</td>\n",
              "      <td>515</td>\n",
              "    </tr>\n",
              "    <tr>\n",
              "      <th>4</th>\n",
              "      <td>90.0</td>\n",
              "      <td>0.0</td>\n",
              "      <td>100.0</td>\n",
              "      <td>90.0</td>\n",
              "      <td>100.0</td>\n",
              "      <td>100.0</td>\n",
              "      <td>100</td>\n",
              "      <td>100</td>\n",
              "      <td>50</td>\n",
              "      <td>680</td>\n",
              "    </tr>\n",
              "  </tbody>\n",
              "</table>\n",
              "</div>\n",
              "      <button class=\"colab-df-convert\" onclick=\"convertToInteractive('df-1af63f6f-e094-44d3-bcc7-06b20de24244')\"\n",
              "              title=\"Convert this dataframe to an interactive table.\"\n",
              "              style=\"display:none;\">\n",
              "        \n",
              "  <svg xmlns=\"http://www.w3.org/2000/svg\" height=\"24px\"viewBox=\"0 0 24 24\"\n",
              "       width=\"24px\">\n",
              "    <path d=\"M0 0h24v24H0V0z\" fill=\"none\"/>\n",
              "    <path d=\"M18.56 5.44l.94 2.06.94-2.06 2.06-.94-2.06-.94-.94-2.06-.94 2.06-2.06.94zm-11 1L8.5 8.5l.94-2.06 2.06-.94-2.06-.94L8.5 2.5l-.94 2.06-2.06.94zm10 10l.94 2.06.94-2.06 2.06-.94-2.06-.94-.94-2.06-.94 2.06-2.06.94z\"/><path d=\"M17.41 7.96l-1.37-1.37c-.4-.4-.92-.59-1.43-.59-.52 0-1.04.2-1.43.59L10.3 9.45l-7.72 7.72c-.78.78-.78 2.05 0 2.83L4 21.41c.39.39.9.59 1.41.59.51 0 1.02-.2 1.41-.59l7.78-7.78 2.81-2.81c.8-.78.8-2.07 0-2.86zM5.41 20L4 18.59l7.72-7.72 1.47 1.35L5.41 20z\"/>\n",
              "  </svg>\n",
              "      </button>\n",
              "      \n",
              "  <style>\n",
              "    .colab-df-container {\n",
              "      display:flex;\n",
              "      flex-wrap:wrap;\n",
              "      gap: 12px;\n",
              "    }\n",
              "\n",
              "    .colab-df-convert {\n",
              "      background-color: #E8F0FE;\n",
              "      border: none;\n",
              "      border-radius: 50%;\n",
              "      cursor: pointer;\n",
              "      display: none;\n",
              "      fill: #1967D2;\n",
              "      height: 32px;\n",
              "      padding: 0 0 0 0;\n",
              "      width: 32px;\n",
              "    }\n",
              "\n",
              "    .colab-df-convert:hover {\n",
              "      background-color: #E2EBFA;\n",
              "      box-shadow: 0px 1px 2px rgba(60, 64, 67, 0.3), 0px 1px 3px 1px rgba(60, 64, 67, 0.15);\n",
              "      fill: #174EA6;\n",
              "    }\n",
              "\n",
              "    [theme=dark] .colab-df-convert {\n",
              "      background-color: #3B4455;\n",
              "      fill: #D2E3FC;\n",
              "    }\n",
              "\n",
              "    [theme=dark] .colab-df-convert:hover {\n",
              "      background-color: #434B5C;\n",
              "      box-shadow: 0px 1px 3px 1px rgba(0, 0, 0, 0.15);\n",
              "      filter: drop-shadow(0px 1px 2px rgba(0, 0, 0, 0.3));\n",
              "      fill: #FFFFFF;\n",
              "    }\n",
              "  </style>\n",
              "\n",
              "      <script>\n",
              "        const buttonEl =\n",
              "          document.querySelector('#df-1af63f6f-e094-44d3-bcc7-06b20de24244 button.colab-df-convert');\n",
              "        buttonEl.style.display =\n",
              "          google.colab.kernel.accessAllowed ? 'block' : 'none';\n",
              "\n",
              "        async function convertToInteractive(key) {\n",
              "          const element = document.querySelector('#df-1af63f6f-e094-44d3-bcc7-06b20de24244');\n",
              "          const dataTable =\n",
              "            await google.colab.kernel.invokeFunction('convertToInteractive',\n",
              "                                                     [key], {});\n",
              "          if (!dataTable) return;\n",
              "\n",
              "          const docLinkHtml = 'Like what you see? Visit the ' +\n",
              "            '<a target=\"_blank\" href=https://colab.research.google.com/notebooks/data_table.ipynb>data table notebook</a>'\n",
              "            + ' to learn more about interactive tables.';\n",
              "          element.innerHTML = '';\n",
              "          dataTable['output_type'] = 'display_data';\n",
              "          await google.colab.output.renderOutput(dataTable, element);\n",
              "          const docLink = document.createElement('div');\n",
              "          docLink.innerHTML = docLinkHtml;\n",
              "          element.appendChild(docLink);\n",
              "        }\n",
              "      </script>\n",
              "    </div>\n",
              "  </div>\n",
              "  "
            ],
            "text/plain": [
              "    NO.1   NO.2   NO.3  NO.4   NO.5   NO.6  reportA  reportB  exam  total\n",
              "0  100.0  100.0   75.0  90.0   80.0  100.0      100      100    90    745\n",
              "1  100.0  100.0  100.0  90.0   80.0  100.0      100      100    90    770\n",
              "2  100.0    0.0  100.0  90.0   80.0  100.0      100      100    45    670\n",
              "3   80.0    0.0    0.0  90.0  100.0   75.0       70      100    57    515\n",
              "4   90.0    0.0  100.0  90.0  100.0  100.0      100      100    50    680"
            ]
          },
          "metadata": {},
          "execution_count": 135
        }
      ]
    },
    {
      "cell_type": "code",
      "source": [
        ""
      ],
      "metadata": {
        "id": "1w-H3QsEI8m7"
      },
      "execution_count": null,
      "outputs": []
    },
    {
      "cell_type": "code",
      "source": [
        "total4=total3[a1]\n",
        "total5=total3[a3]"
      ],
      "metadata": {
        "id": "ju74JIAVGl5h"
      },
      "execution_count": null,
      "outputs": []
    },
    {
      "cell_type": "code",
      "source": [
        "total4.head(10)"
      ],
      "metadata": {
        "id": "uFXL_uXEXYH7",
        "colab": {
          "base_uri": "https://localhost:8080/",
          "height": 362
        },
        "outputId": "84773cea-3916-4712-ff6d-81bb80cf3b54"
      },
      "execution_count": null,
      "outputs": [
        {
          "output_type": "execute_result",
          "data": {
            "text/html": [
              "\n",
              "  <div id=\"df-9b979b92-dc30-441b-9729-2d89e3bf5246\">\n",
              "    <div class=\"colab-df-container\">\n",
              "      <div>\n",
              "<style scoped>\n",
              "    .dataframe tbody tr th:only-of-type {\n",
              "        vertical-align: middle;\n",
              "    }\n",
              "\n",
              "    .dataframe tbody tr th {\n",
              "        vertical-align: top;\n",
              "    }\n",
              "\n",
              "    .dataframe thead th {\n",
              "        text-align: right;\n",
              "    }\n",
              "</style>\n",
              "<table border=\"1\" class=\"dataframe\">\n",
              "  <thead>\n",
              "    <tr style=\"text-align: right;\">\n",
              "      <th></th>\n",
              "      <th>NO.1</th>\n",
              "      <th>NO.2</th>\n",
              "      <th>NO.3</th>\n",
              "      <th>NO.4</th>\n",
              "      <th>NO.5</th>\n",
              "      <th>NO.6</th>\n",
              "      <th>reportA</th>\n",
              "      <th>reportB</th>\n",
              "    </tr>\n",
              "  </thead>\n",
              "  <tbody>\n",
              "    <tr>\n",
              "      <th>0</th>\n",
              "      <td>100.0</td>\n",
              "      <td>100.0</td>\n",
              "      <td>75.0</td>\n",
              "      <td>90.0</td>\n",
              "      <td>80.0</td>\n",
              "      <td>100.0</td>\n",
              "      <td>100</td>\n",
              "      <td>100</td>\n",
              "    </tr>\n",
              "    <tr>\n",
              "      <th>1</th>\n",
              "      <td>100.0</td>\n",
              "      <td>100.0</td>\n",
              "      <td>100.0</td>\n",
              "      <td>90.0</td>\n",
              "      <td>80.0</td>\n",
              "      <td>100.0</td>\n",
              "      <td>100</td>\n",
              "      <td>100</td>\n",
              "    </tr>\n",
              "    <tr>\n",
              "      <th>2</th>\n",
              "      <td>100.0</td>\n",
              "      <td>0.0</td>\n",
              "      <td>100.0</td>\n",
              "      <td>90.0</td>\n",
              "      <td>80.0</td>\n",
              "      <td>100.0</td>\n",
              "      <td>100</td>\n",
              "      <td>100</td>\n",
              "    </tr>\n",
              "    <tr>\n",
              "      <th>3</th>\n",
              "      <td>80.0</td>\n",
              "      <td>0.0</td>\n",
              "      <td>0.0</td>\n",
              "      <td>90.0</td>\n",
              "      <td>100.0</td>\n",
              "      <td>75.0</td>\n",
              "      <td>70</td>\n",
              "      <td>100</td>\n",
              "    </tr>\n",
              "    <tr>\n",
              "      <th>4</th>\n",
              "      <td>90.0</td>\n",
              "      <td>0.0</td>\n",
              "      <td>100.0</td>\n",
              "      <td>90.0</td>\n",
              "      <td>100.0</td>\n",
              "      <td>100.0</td>\n",
              "      <td>100</td>\n",
              "      <td>100</td>\n",
              "    </tr>\n",
              "    <tr>\n",
              "      <th>5</th>\n",
              "      <td>0.0</td>\n",
              "      <td>50.0</td>\n",
              "      <td>75.0</td>\n",
              "      <td>70.0</td>\n",
              "      <td>0.0</td>\n",
              "      <td>100.0</td>\n",
              "      <td>100</td>\n",
              "      <td>100</td>\n",
              "    </tr>\n",
              "    <tr>\n",
              "      <th>7</th>\n",
              "      <td>0.0</td>\n",
              "      <td>100.0</td>\n",
              "      <td>100.0</td>\n",
              "      <td>0.0</td>\n",
              "      <td>0.0</td>\n",
              "      <td>100.0</td>\n",
              "      <td>100</td>\n",
              "      <td>100</td>\n",
              "    </tr>\n",
              "    <tr>\n",
              "      <th>8</th>\n",
              "      <td>100.0</td>\n",
              "      <td>100.0</td>\n",
              "      <td>75.0</td>\n",
              "      <td>80.0</td>\n",
              "      <td>90.0</td>\n",
              "      <td>100.0</td>\n",
              "      <td>100</td>\n",
              "      <td>100</td>\n",
              "    </tr>\n",
              "    <tr>\n",
              "      <th>9</th>\n",
              "      <td>0.0</td>\n",
              "      <td>0.0</td>\n",
              "      <td>0.0</td>\n",
              "      <td>100.0</td>\n",
              "      <td>0.0</td>\n",
              "      <td>25.0</td>\n",
              "      <td>100</td>\n",
              "      <td>0</td>\n",
              "    </tr>\n",
              "    <tr>\n",
              "      <th>10</th>\n",
              "      <td>0.0</td>\n",
              "      <td>0.0</td>\n",
              "      <td>50.0</td>\n",
              "      <td>0.0</td>\n",
              "      <td>80.0</td>\n",
              "      <td>0.0</td>\n",
              "      <td>100</td>\n",
              "      <td>100</td>\n",
              "    </tr>\n",
              "  </tbody>\n",
              "</table>\n",
              "</div>\n",
              "      <button class=\"colab-df-convert\" onclick=\"convertToInteractive('df-9b979b92-dc30-441b-9729-2d89e3bf5246')\"\n",
              "              title=\"Convert this dataframe to an interactive table.\"\n",
              "              style=\"display:none;\">\n",
              "        \n",
              "  <svg xmlns=\"http://www.w3.org/2000/svg\" height=\"24px\"viewBox=\"0 0 24 24\"\n",
              "       width=\"24px\">\n",
              "    <path d=\"M0 0h24v24H0V0z\" fill=\"none\"/>\n",
              "    <path d=\"M18.56 5.44l.94 2.06.94-2.06 2.06-.94-2.06-.94-.94-2.06-.94 2.06-2.06.94zm-11 1L8.5 8.5l.94-2.06 2.06-.94-2.06-.94L8.5 2.5l-.94 2.06-2.06.94zm10 10l.94 2.06.94-2.06 2.06-.94-2.06-.94-.94-2.06-.94 2.06-2.06.94z\"/><path d=\"M17.41 7.96l-1.37-1.37c-.4-.4-.92-.59-1.43-.59-.52 0-1.04.2-1.43.59L10.3 9.45l-7.72 7.72c-.78.78-.78 2.05 0 2.83L4 21.41c.39.39.9.59 1.41.59.51 0 1.02-.2 1.41-.59l7.78-7.78 2.81-2.81c.8-.78.8-2.07 0-2.86zM5.41 20L4 18.59l7.72-7.72 1.47 1.35L5.41 20z\"/>\n",
              "  </svg>\n",
              "      </button>\n",
              "      \n",
              "  <style>\n",
              "    .colab-df-container {\n",
              "      display:flex;\n",
              "      flex-wrap:wrap;\n",
              "      gap: 12px;\n",
              "    }\n",
              "\n",
              "    .colab-df-convert {\n",
              "      background-color: #E8F0FE;\n",
              "      border: none;\n",
              "      border-radius: 50%;\n",
              "      cursor: pointer;\n",
              "      display: none;\n",
              "      fill: #1967D2;\n",
              "      height: 32px;\n",
              "      padding: 0 0 0 0;\n",
              "      width: 32px;\n",
              "    }\n",
              "\n",
              "    .colab-df-convert:hover {\n",
              "      background-color: #E2EBFA;\n",
              "      box-shadow: 0px 1px 2px rgba(60, 64, 67, 0.3), 0px 1px 3px 1px rgba(60, 64, 67, 0.15);\n",
              "      fill: #174EA6;\n",
              "    }\n",
              "\n",
              "    [theme=dark] .colab-df-convert {\n",
              "      background-color: #3B4455;\n",
              "      fill: #D2E3FC;\n",
              "    }\n",
              "\n",
              "    [theme=dark] .colab-df-convert:hover {\n",
              "      background-color: #434B5C;\n",
              "      box-shadow: 0px 1px 3px 1px rgba(0, 0, 0, 0.15);\n",
              "      filter: drop-shadow(0px 1px 2px rgba(0, 0, 0, 0.3));\n",
              "      fill: #FFFFFF;\n",
              "    }\n",
              "  </style>\n",
              "\n",
              "      <script>\n",
              "        const buttonEl =\n",
              "          document.querySelector('#df-9b979b92-dc30-441b-9729-2d89e3bf5246 button.colab-df-convert');\n",
              "        buttonEl.style.display =\n",
              "          google.colab.kernel.accessAllowed ? 'block' : 'none';\n",
              "\n",
              "        async function convertToInteractive(key) {\n",
              "          const element = document.querySelector('#df-9b979b92-dc30-441b-9729-2d89e3bf5246');\n",
              "          const dataTable =\n",
              "            await google.colab.kernel.invokeFunction('convertToInteractive',\n",
              "                                                     [key], {});\n",
              "          if (!dataTable) return;\n",
              "\n",
              "          const docLinkHtml = 'Like what you see? Visit the ' +\n",
              "            '<a target=\"_blank\" href=https://colab.research.google.com/notebooks/data_table.ipynb>data table notebook</a>'\n",
              "            + ' to learn more about interactive tables.';\n",
              "          element.innerHTML = '';\n",
              "          dataTable['output_type'] = 'display_data';\n",
              "          await google.colab.output.renderOutput(dataTable, element);\n",
              "          const docLink = document.createElement('div');\n",
              "          docLink.innerHTML = docLinkHtml;\n",
              "          element.appendChild(docLink);\n",
              "        }\n",
              "      </script>\n",
              "    </div>\n",
              "  </div>\n",
              "  "
            ],
            "text/plain": [
              "     NO.1   NO.2   NO.3   NO.4   NO.5   NO.6  reportA  reportB\n",
              "0   100.0  100.0   75.0   90.0   80.0  100.0      100      100\n",
              "1   100.0  100.0  100.0   90.0   80.0  100.0      100      100\n",
              "2   100.0    0.0  100.0   90.0   80.0  100.0      100      100\n",
              "3    80.0    0.0    0.0   90.0  100.0   75.0       70      100\n",
              "4    90.0    0.0  100.0   90.0  100.0  100.0      100      100\n",
              "5     0.0   50.0   75.0   70.0    0.0  100.0      100      100\n",
              "7     0.0  100.0  100.0    0.0    0.0  100.0      100      100\n",
              "8   100.0  100.0   75.0   80.0   90.0  100.0      100      100\n",
              "9     0.0    0.0    0.0  100.0    0.0   25.0      100        0\n",
              "10    0.0    0.0   50.0    0.0   80.0    0.0      100      100"
            ]
          },
          "metadata": {},
          "execution_count": 137
        }
      ]
    },
    {
      "cell_type": "code",
      "source": [
        "dt5=total3[a2]\n",
        "dt5"
      ],
      "metadata": {
        "id": "TqsQAyC7g2W7",
        "colab": {
          "base_uri": "https://localhost:8080/",
          "height": 424
        },
        "outputId": "8024463b-7603-475a-ecd3-8753e3baa042"
      },
      "execution_count": null,
      "outputs": [
        {
          "output_type": "execute_result",
          "data": {
            "text/html": [
              "\n",
              "  <div id=\"df-4e5582d5-2b97-4183-b4fb-7b35e4e3450f\">\n",
              "    <div class=\"colab-df-container\">\n",
              "      <div>\n",
              "<style scoped>\n",
              "    .dataframe tbody tr th:only-of-type {\n",
              "        vertical-align: middle;\n",
              "    }\n",
              "\n",
              "    .dataframe tbody tr th {\n",
              "        vertical-align: top;\n",
              "    }\n",
              "\n",
              "    .dataframe thead th {\n",
              "        text-align: right;\n",
              "    }\n",
              "</style>\n",
              "<table border=\"1\" class=\"dataframe\">\n",
              "  <thead>\n",
              "    <tr style=\"text-align: right;\">\n",
              "      <th></th>\n",
              "      <th>NO.1</th>\n",
              "      <th>NO.2</th>\n",
              "      <th>NO.3</th>\n",
              "      <th>NO.4</th>\n",
              "      <th>NO.5</th>\n",
              "      <th>NO.6</th>\n",
              "      <th>reportA</th>\n",
              "      <th>reportB</th>\n",
              "      <th>exam</th>\n",
              "    </tr>\n",
              "  </thead>\n",
              "  <tbody>\n",
              "    <tr>\n",
              "      <th>0</th>\n",
              "      <td>100.0</td>\n",
              "      <td>100.0</td>\n",
              "      <td>75.0</td>\n",
              "      <td>90.0</td>\n",
              "      <td>80.0</td>\n",
              "      <td>100.0</td>\n",
              "      <td>100</td>\n",
              "      <td>100</td>\n",
              "      <td>90</td>\n",
              "    </tr>\n",
              "    <tr>\n",
              "      <th>1</th>\n",
              "      <td>100.0</td>\n",
              "      <td>100.0</td>\n",
              "      <td>100.0</td>\n",
              "      <td>90.0</td>\n",
              "      <td>80.0</td>\n",
              "      <td>100.0</td>\n",
              "      <td>100</td>\n",
              "      <td>100</td>\n",
              "      <td>90</td>\n",
              "    </tr>\n",
              "    <tr>\n",
              "      <th>2</th>\n",
              "      <td>100.0</td>\n",
              "      <td>0.0</td>\n",
              "      <td>100.0</td>\n",
              "      <td>90.0</td>\n",
              "      <td>80.0</td>\n",
              "      <td>100.0</td>\n",
              "      <td>100</td>\n",
              "      <td>100</td>\n",
              "      <td>45</td>\n",
              "    </tr>\n",
              "    <tr>\n",
              "      <th>3</th>\n",
              "      <td>80.0</td>\n",
              "      <td>0.0</td>\n",
              "      <td>0.0</td>\n",
              "      <td>90.0</td>\n",
              "      <td>100.0</td>\n",
              "      <td>75.0</td>\n",
              "      <td>70</td>\n",
              "      <td>100</td>\n",
              "      <td>57</td>\n",
              "    </tr>\n",
              "    <tr>\n",
              "      <th>4</th>\n",
              "      <td>90.0</td>\n",
              "      <td>0.0</td>\n",
              "      <td>100.0</td>\n",
              "      <td>90.0</td>\n",
              "      <td>100.0</td>\n",
              "      <td>100.0</td>\n",
              "      <td>100</td>\n",
              "      <td>100</td>\n",
              "      <td>50</td>\n",
              "    </tr>\n",
              "    <tr>\n",
              "      <th>...</th>\n",
              "      <td>...</td>\n",
              "      <td>...</td>\n",
              "      <td>...</td>\n",
              "      <td>...</td>\n",
              "      <td>...</td>\n",
              "      <td>...</td>\n",
              "      <td>...</td>\n",
              "      <td>...</td>\n",
              "      <td>...</td>\n",
              "    </tr>\n",
              "    <tr>\n",
              "      <th>101</th>\n",
              "      <td>10.0</td>\n",
              "      <td>0.0</td>\n",
              "      <td>100.0</td>\n",
              "      <td>50.0</td>\n",
              "      <td>70.0</td>\n",
              "      <td>50.0</td>\n",
              "      <td>70</td>\n",
              "      <td>100</td>\n",
              "      <td>32</td>\n",
              "    </tr>\n",
              "    <tr>\n",
              "      <th>102</th>\n",
              "      <td>100.0</td>\n",
              "      <td>0.0</td>\n",
              "      <td>100.0</td>\n",
              "      <td>90.0</td>\n",
              "      <td>60.0</td>\n",
              "      <td>100.0</td>\n",
              "      <td>100</td>\n",
              "      <td>100</td>\n",
              "      <td>77</td>\n",
              "    </tr>\n",
              "    <tr>\n",
              "      <th>103</th>\n",
              "      <td>100.0</td>\n",
              "      <td>75.0</td>\n",
              "      <td>0.0</td>\n",
              "      <td>70.0</td>\n",
              "      <td>80.0</td>\n",
              "      <td>50.0</td>\n",
              "      <td>100</td>\n",
              "      <td>100</td>\n",
              "      <td>75</td>\n",
              "    </tr>\n",
              "    <tr>\n",
              "      <th>104</th>\n",
              "      <td>90.0</td>\n",
              "      <td>0.0</td>\n",
              "      <td>100.0</td>\n",
              "      <td>90.0</td>\n",
              "      <td>50.0</td>\n",
              "      <td>50.0</td>\n",
              "      <td>100</td>\n",
              "      <td>100</td>\n",
              "      <td>35</td>\n",
              "    </tr>\n",
              "    <tr>\n",
              "      <th>106</th>\n",
              "      <td>90.0</td>\n",
              "      <td>100.0</td>\n",
              "      <td>100.0</td>\n",
              "      <td>90.0</td>\n",
              "      <td>80.0</td>\n",
              "      <td>100.0</td>\n",
              "      <td>100</td>\n",
              "      <td>100</td>\n",
              "      <td>62</td>\n",
              "    </tr>\n",
              "  </tbody>\n",
              "</table>\n",
              "<p>92 rows × 9 columns</p>\n",
              "</div>\n",
              "      <button class=\"colab-df-convert\" onclick=\"convertToInteractive('df-4e5582d5-2b97-4183-b4fb-7b35e4e3450f')\"\n",
              "              title=\"Convert this dataframe to an interactive table.\"\n",
              "              style=\"display:none;\">\n",
              "        \n",
              "  <svg xmlns=\"http://www.w3.org/2000/svg\" height=\"24px\"viewBox=\"0 0 24 24\"\n",
              "       width=\"24px\">\n",
              "    <path d=\"M0 0h24v24H0V0z\" fill=\"none\"/>\n",
              "    <path d=\"M18.56 5.44l.94 2.06.94-2.06 2.06-.94-2.06-.94-.94-2.06-.94 2.06-2.06.94zm-11 1L8.5 8.5l.94-2.06 2.06-.94-2.06-.94L8.5 2.5l-.94 2.06-2.06.94zm10 10l.94 2.06.94-2.06 2.06-.94-2.06-.94-.94-2.06-.94 2.06-2.06.94z\"/><path d=\"M17.41 7.96l-1.37-1.37c-.4-.4-.92-.59-1.43-.59-.52 0-1.04.2-1.43.59L10.3 9.45l-7.72 7.72c-.78.78-.78 2.05 0 2.83L4 21.41c.39.39.9.59 1.41.59.51 0 1.02-.2 1.41-.59l7.78-7.78 2.81-2.81c.8-.78.8-2.07 0-2.86zM5.41 20L4 18.59l7.72-7.72 1.47 1.35L5.41 20z\"/>\n",
              "  </svg>\n",
              "      </button>\n",
              "      \n",
              "  <style>\n",
              "    .colab-df-container {\n",
              "      display:flex;\n",
              "      flex-wrap:wrap;\n",
              "      gap: 12px;\n",
              "    }\n",
              "\n",
              "    .colab-df-convert {\n",
              "      background-color: #E8F0FE;\n",
              "      border: none;\n",
              "      border-radius: 50%;\n",
              "      cursor: pointer;\n",
              "      display: none;\n",
              "      fill: #1967D2;\n",
              "      height: 32px;\n",
              "      padding: 0 0 0 0;\n",
              "      width: 32px;\n",
              "    }\n",
              "\n",
              "    .colab-df-convert:hover {\n",
              "      background-color: #E2EBFA;\n",
              "      box-shadow: 0px 1px 2px rgba(60, 64, 67, 0.3), 0px 1px 3px 1px rgba(60, 64, 67, 0.15);\n",
              "      fill: #174EA6;\n",
              "    }\n",
              "\n",
              "    [theme=dark] .colab-df-convert {\n",
              "      background-color: #3B4455;\n",
              "      fill: #D2E3FC;\n",
              "    }\n",
              "\n",
              "    [theme=dark] .colab-df-convert:hover {\n",
              "      background-color: #434B5C;\n",
              "      box-shadow: 0px 1px 3px 1px rgba(0, 0, 0, 0.15);\n",
              "      filter: drop-shadow(0px 1px 2px rgba(0, 0, 0, 0.3));\n",
              "      fill: #FFFFFF;\n",
              "    }\n",
              "  </style>\n",
              "\n",
              "      <script>\n",
              "        const buttonEl =\n",
              "          document.querySelector('#df-4e5582d5-2b97-4183-b4fb-7b35e4e3450f button.colab-df-convert');\n",
              "        buttonEl.style.display =\n",
              "          google.colab.kernel.accessAllowed ? 'block' : 'none';\n",
              "\n",
              "        async function convertToInteractive(key) {\n",
              "          const element = document.querySelector('#df-4e5582d5-2b97-4183-b4fb-7b35e4e3450f');\n",
              "          const dataTable =\n",
              "            await google.colab.kernel.invokeFunction('convertToInteractive',\n",
              "                                                     [key], {});\n",
              "          if (!dataTable) return;\n",
              "\n",
              "          const docLinkHtml = 'Like what you see? Visit the ' +\n",
              "            '<a target=\"_blank\" href=https://colab.research.google.com/notebooks/data_table.ipynb>data table notebook</a>'\n",
              "            + ' to learn more about interactive tables.';\n",
              "          element.innerHTML = '';\n",
              "          dataTable['output_type'] = 'display_data';\n",
              "          await google.colab.output.renderOutput(dataTable, element);\n",
              "          const docLink = document.createElement('div');\n",
              "          docLink.innerHTML = docLinkHtml;\n",
              "          element.appendChild(docLink);\n",
              "        }\n",
              "      </script>\n",
              "    </div>\n",
              "  </div>\n",
              "  "
            ],
            "text/plain": [
              "      NO.1   NO.2   NO.3  NO.4   NO.5   NO.6  reportA  reportB  exam\n",
              "0    100.0  100.0   75.0  90.0   80.0  100.0      100      100    90\n",
              "1    100.0  100.0  100.0  90.0   80.0  100.0      100      100    90\n",
              "2    100.0    0.0  100.0  90.0   80.0  100.0      100      100    45\n",
              "3     80.0    0.0    0.0  90.0  100.0   75.0       70      100    57\n",
              "4     90.0    0.0  100.0  90.0  100.0  100.0      100      100    50\n",
              "..     ...    ...    ...   ...    ...    ...      ...      ...   ...\n",
              "101   10.0    0.0  100.0  50.0   70.0   50.0       70      100    32\n",
              "102  100.0    0.0  100.0  90.0   60.0  100.0      100      100    77\n",
              "103  100.0   75.0    0.0  70.0   80.0   50.0      100      100    75\n",
              "104   90.0    0.0  100.0  90.0   50.0   50.0      100      100    35\n",
              "106   90.0  100.0  100.0  90.0   80.0  100.0      100      100    62\n",
              "\n",
              "[92 rows x 9 columns]"
            ]
          },
          "metadata": {},
          "execution_count": 138
        }
      ]
    },
    {
      "cell_type": "code",
      "source": [
        "dt5=total3[a2]\n",
        "dx13=dt5.head(107)\n",
        "dx13[\"total\"]=dx13[\"NO.1\"]+dx13[\"NO.2\"]+dx13[\"NO.3\"]+dx13[\"NO.4\"]+dx13[\"NO.5\"]+dx13[\"NO.6\"]+dx13[\"reportA\"]+dx13[\"reportB\"]\n",
        "print(dx13.head(3))\n",
        "dx13.plot(kind='scatter',x='total',y='exam')"
      ],
      "metadata": {
        "id": "XznKHoG2Cy8n",
        "colab": {
          "base_uri": "https://localhost:8080/",
          "height": 372
        },
        "outputId": "fb5f239f-3b6e-4a05-e3e9-fab7327c618e"
      },
      "execution_count": null,
      "outputs": [
        {
          "output_type": "stream",
          "name": "stdout",
          "text": [
            "    NO.1   NO.2   NO.3  NO.4  NO.5   NO.6  reportA  reportB  exam  total\n",
            "0  100.0  100.0   75.0  90.0  80.0  100.0      100      100    90  745.0\n",
            "1  100.0  100.0  100.0  90.0  80.0  100.0      100      100    90  770.0\n",
            "2  100.0    0.0  100.0  90.0  80.0  100.0      100      100    45  670.0\n"
          ]
        },
        {
          "output_type": "execute_result",
          "data": {
            "text/plain": [
              "<matplotlib.axes._subplots.AxesSubplot at 0x7f10e058aa50>"
            ]
          },
          "metadata": {},
          "execution_count": 139
        },
        {
          "output_type": "display_data",
          "data": {
            "image/png": "[encoded data removed]",
            "text/plain": [
              "<Figure size 432x288 with 1 Axes>"
            ]
          },
          "metadata": {
            "needs_background": "light"
          }
        }
      ]
    },
    {
      "cell_type": "code",
      "source": [
        "#total4,total5を説明変数、目的変数に分割\n",
        "model13=LinearRegression()\n",
        "i=0 \n",
        "stotal48=0\n",
        "for i in range(10):\n",
        "    xtrain13,xtest13,ytrain13,ytest13=train_test_split(total4,total5,test_size=0.2,random_state=i)\n",
        "    model13.fit(xtrain13,ytrain13)\n",
        "    sval48=model13.score(xtest13,ytest13)\n",
        "    stotal48=stotal48+sval48\n",
        "    saverage49=stotal48/10\n",
        "print(saverage49)"
      ],
      "metadata": {
        "id": "gZ7cffw-Rcin",
        "colab": {
          "base_uri": "https://localhost:8080/"
        },
        "outputId": "169e4b9b-21e0-4428-eabb-13bd01965795"
      },
      "execution_count": null,
      "outputs": [
        {
          "output_type": "stream",
          "name": "stdout",
          "text": [
            "0.1955196093892184\n"
          ]
        }
      ]
    },
    {
      "cell_type": "code",
      "source": [
        "#各カラムの特徴量\n",
        "i=0 \n",
        "for i in range(10):\n",
        "    xtrain13,xtest13,ytrain13,ytest13=train_test_split(total4,total5,test_size=0.2,random_state=i)\n",
        "    model13.fit(xtrain13,ytrain13)\n",
        "    print(model13.coef_)\n",
        "    print(model13.intercept_) #切片 "
      ],
      "metadata": {
        "id": "9dYwCoAnHvDo",
        "colab": {
          "base_uri": "https://localhost:8080/"
        },
        "outputId": "37f048cc-b4a9-4c0b-bb1e-1d80eaa578c9"
      },
      "execution_count": null,
      "outputs": [
        {
          "output_type": "stream",
          "name": "stdout",
          "text": [
            "[[ 0.02415338 -0.00205127  0.01490176  0.01748724  0.0763577   0.22212182\n",
            "   0.2767884   0.12814244]]\n",
            "[1.3276386]\n",
            "[[0.10160937 0.07783319 0.01324181 0.04463335 0.09081456 0.17921498\n",
            "  0.14197082 0.21551999]]\n",
            "[-1.68305354]\n",
            "[[0.02729692 0.02683839 0.04075204 0.08011848 0.06350465 0.13523222\n",
            "  0.15516115 0.25665929]]\n",
            "[0.80699127]\n",
            "[[ 0.07591104  0.05295551  0.02985208 -0.00539161  0.11407878  0.19698208\n",
            "   0.13181311  0.23549662]]\n",
            "[-1.33139493]\n",
            "[[ 0.0931906   0.0330056   0.0942033  -0.0431048   0.15132543  0.19003499\n",
            "   0.07163347  0.20831101]]\n",
            "[1.84744155]\n",
            "[[ 0.06669689  0.00304421  0.03234819 -0.03563496  0.11169801  0.17331475\n",
            "   0.17646422  0.26391736]]\n",
            "[0.34101379]\n",
            "[[0.05986872 0.01737814 0.06608227 0.04868509 0.11494659 0.18904384\n",
            "  0.08112955 0.21823966]]\n",
            "[1.19842492]\n",
            "[[ 0.05758229  0.02594389  0.07358892 -0.03171521  0.13680244  0.2174278\n",
            "   0.14256412  0.19464679]]\n",
            "[-0.04936682]\n",
            "[[-0.00602608 -0.00699362  0.07096136  0.06909031  0.08803201  0.10331179\n",
            "   0.15267385  0.25036014]]\n",
            "[5.19299464]\n",
            "[[ 0.04812427  0.05648256 -0.00866132  0.01117775  0.05789464  0.21055225\n",
            "   0.17404387  0.28685688]]\n",
            "[-5.90715034]\n"
          ]
        }
      ]
    },
    {
      "cell_type": "code",
      "source": [
        "d003=d_result.drop([6, 14, 46,40, 47, 62, 69, 70, 74, 79, 85, 87, 96, 98, 105],axis=0)"
      ],
      "metadata": {
        "id": "-TN1rdruLlyC"
      },
      "execution_count": null,
      "outputs": []
    },
    {
      "cell_type": "code",
      "source": [
        "print(total4.sum)\n",
        "print(d003.sum)"
      ],
      "metadata": {
        "id": "bQI2CfhYMLjK",
        "colab": {
          "base_uri": "https://localhost:8080/"
        },
        "outputId": "fda1fe8b-daa6-4b64-8915-4fafcbf04485"
      },
      "execution_count": null,
      "outputs": [
        {
          "output_type": "stream",
          "name": "stdout",
          "text": [
            "<bound method DataFrame.sum of       NO.1   NO.2   NO.3  NO.4   NO.5   NO.6  reportA  reportB\n",
            "0    100.0  100.0   75.0  90.0   80.0  100.0      100      100\n",
            "1    100.0  100.0  100.0  90.0   80.0  100.0      100      100\n",
            "2    100.0    0.0  100.0  90.0   80.0  100.0      100      100\n",
            "3     80.0    0.0    0.0  90.0  100.0   75.0       70      100\n",
            "4     90.0    0.0  100.0  90.0  100.0  100.0      100      100\n",
            "..     ...    ...    ...   ...    ...    ...      ...      ...\n",
            "101   10.0    0.0  100.0  50.0   70.0   50.0       70      100\n",
            "102  100.0    0.0  100.0  90.0   60.0  100.0      100      100\n",
            "103  100.0   75.0    0.0  70.0   80.0   50.0      100      100\n",
            "104   90.0    0.0  100.0  90.0   50.0   50.0      100      100\n",
            "106   90.0  100.0  100.0  90.0   80.0  100.0      100      100\n",
            "\n",
            "[92 rows x 8 columns]>\n",
            "<bound method Series.sum of 0      1\n",
            "1      1\n",
            "2      0\n",
            "3      0\n",
            "4      0\n",
            "      ..\n",
            "101    0\n",
            "102    1\n",
            "103    1\n",
            "104    0\n",
            "106    1\n",
            "Name: result, Length: 92, dtype: uint8>\n"
          ]
        }
      ]
    },
    {
      "cell_type": "code",
      "source": [
        "#ロジスティック回帰\n",
        "#正解率\n",
        "\n",
        "logi13=LogisticRegression(random_state=0,C=0.1)\n",
        "i=0 \n",
        "stotal49=0\n",
        "stotal50=0\n",
        "for i in range(10):\n",
        "    xtrain013,xtest013,ytrain013,ytest013=train_test_split(total4,d003,test_size=0.2,random_state=i)\n",
        "    logi13.fit(xtrain013,ytrain013)\n",
        "\n",
        "    sval49=logi13.score(xtrain013,ytrain013)\n",
        "    sval50=logi13.score(xtest013,ytest013)\n",
        "    \n",
        "    stotal49=stotal49+sval49\n",
        "    stotal50=stotal50+sval50\n",
        "\n",
        "    saverage50=stotal49/10\n",
        "    saverage51=stotal50/10\n",
        "print(saverage50,saverage51)\n"
      ],
      "metadata": {
        "id": "JyoNVyFlrc2T",
        "colab": {
          "base_uri": "https://localhost:8080/"
        },
        "outputId": "6543310a-8460-4765-e09a-88bfa63cdb14"
      },
      "execution_count": null,
      "outputs": [
        {
          "output_type": "stream",
          "name": "stdout",
          "text": [
            "0.7726027397260273 0.6473684210526316\n"
          ]
        }
      ]
    },
    {
      "cell_type": "code",
      "source": [
        "#予測 100回予測したうちの○○回は正解\n",
        "i=0\n",
        "stotal51=0\n",
        "for i in range(10):\n",
        "    xtrain013,xtest013,ytrain013,ytest013=train_test_split(total4,d003,test_size=0.2,random_state=i)\n",
        "    ypred13 = logi13.predict(xtest013)\n",
        "    sval51=accuracy_score(ytest013,ypred13)\n",
        "    stotal51=stotal51+sval51\n",
        "    saverage52=stotal51/10\n",
        "print(saverage52)"
      ],
      "metadata": {
        "id": "IBsMXJOurWy_",
        "colab": {
          "base_uri": "https://localhost:8080/"
        },
        "outputId": "977ce842-a0dd-48ac-d230-6427147c4075"
      },
      "execution_count": null,
      "outputs": [
        {
          "output_type": "stream",
          "name": "stdout",
          "text": [
            "0.6789473684210525\n"
          ]
        }
      ]
    },
    {
      "cell_type": "code",
      "source": [
        "#7.2 相関係数で絞り込みver"
      ],
      "metadata": {
        "id": "Rb-ErTILIDly"
      },
      "execution_count": null,
      "outputs": []
    },
    {
      "cell_type": "code",
      "source": [
        "total3.head(4)"
      ],
      "metadata": {
        "id": "KjosVMZEIXAH",
        "colab": {
          "base_uri": "https://localhost:8080/",
          "height": 174
        },
        "outputId": "270aefb9-a422-4592-ab36-ecfb626f2524"
      },
      "execution_count": null,
      "outputs": [
        {
          "output_type": "execute_result",
          "data": {
            "text/html": [
              "\n",
              "  <div id=\"df-700206bc-5153-41f2-bf4a-1d1b61944d17\">\n",
              "    <div class=\"colab-df-container\">\n",
              "      <div>\n",
              "<style scoped>\n",
              "    .dataframe tbody tr th:only-of-type {\n",
              "        vertical-align: middle;\n",
              "    }\n",
              "\n",
              "    .dataframe tbody tr th {\n",
              "        vertical-align: top;\n",
              "    }\n",
              "\n",
              "    .dataframe thead th {\n",
              "        text-align: right;\n",
              "    }\n",
              "</style>\n",
              "<table border=\"1\" class=\"dataframe\">\n",
              "  <thead>\n",
              "    <tr style=\"text-align: right;\">\n",
              "      <th></th>\n",
              "      <th>NO.1</th>\n",
              "      <th>NO.2</th>\n",
              "      <th>NO.3</th>\n",
              "      <th>NO.4</th>\n",
              "      <th>NO.5</th>\n",
              "      <th>NO.6</th>\n",
              "      <th>reportA</th>\n",
              "      <th>reportB</th>\n",
              "      <th>exam</th>\n",
              "      <th>total</th>\n",
              "    </tr>\n",
              "  </thead>\n",
              "  <tbody>\n",
              "    <tr>\n",
              "      <th>0</th>\n",
              "      <td>100.0</td>\n",
              "      <td>100.0</td>\n",
              "      <td>75.0</td>\n",
              "      <td>90.0</td>\n",
              "      <td>80.0</td>\n",
              "      <td>100.0</td>\n",
              "      <td>100</td>\n",
              "      <td>100</td>\n",
              "      <td>90</td>\n",
              "      <td>745</td>\n",
              "    </tr>\n",
              "    <tr>\n",
              "      <th>1</th>\n",
              "      <td>100.0</td>\n",
              "      <td>100.0</td>\n",
              "      <td>100.0</td>\n",
              "      <td>90.0</td>\n",
              "      <td>80.0</td>\n",
              "      <td>100.0</td>\n",
              "      <td>100</td>\n",
              "      <td>100</td>\n",
              "      <td>90</td>\n",
              "      <td>770</td>\n",
              "    </tr>\n",
              "    <tr>\n",
              "      <th>2</th>\n",
              "      <td>100.0</td>\n",
              "      <td>0.0</td>\n",
              "      <td>100.0</td>\n",
              "      <td>90.0</td>\n",
              "      <td>80.0</td>\n",
              "      <td>100.0</td>\n",
              "      <td>100</td>\n",
              "      <td>100</td>\n",
              "      <td>45</td>\n",
              "      <td>670</td>\n",
              "    </tr>\n",
              "    <tr>\n",
              "      <th>3</th>\n",
              "      <td>80.0</td>\n",
              "      <td>0.0</td>\n",
              "      <td>0.0</td>\n",
              "      <td>90.0</td>\n",
              "      <td>100.0</td>\n",
              "      <td>75.0</td>\n",
              "      <td>70</td>\n",
              "      <td>100</td>\n",
              "      <td>57</td>\n",
              "      <td>515</td>\n",
              "    </tr>\n",
              "  </tbody>\n",
              "</table>\n",
              "</div>\n",
              "      <button class=\"colab-df-convert\" onclick=\"convertToInteractive('df-700206bc-5153-41f2-bf4a-1d1b61944d17')\"\n",
              "              title=\"Convert this dataframe to an interactive table.\"\n",
              "              style=\"display:none;\">\n",
              "        \n",
              "  <svg xmlns=\"http://www.w3.org/2000/svg\" height=\"24px\"viewBox=\"0 0 24 24\"\n",
              "       width=\"24px\">\n",
              "    <path d=\"M0 0h24v24H0V0z\" fill=\"none\"/>\n",
              "    <path d=\"M18.56 5.44l.94 2.06.94-2.06 2.06-.94-2.06-.94-.94-2.06-.94 2.06-2.06.94zm-11 1L8.5 8.5l.94-2.06 2.06-.94-2.06-.94L8.5 2.5l-.94 2.06-2.06.94zm10 10l.94 2.06.94-2.06 2.06-.94-2.06-.94-.94-2.06-.94 2.06-2.06.94z\"/><path d=\"M17.41 7.96l-1.37-1.37c-.4-.4-.92-.59-1.43-.59-.52 0-1.04.2-1.43.59L10.3 9.45l-7.72 7.72c-.78.78-.78 2.05 0 2.83L4 21.41c.39.39.9.59 1.41.59.51 0 1.02-.2 1.41-.59l7.78-7.78 2.81-2.81c.8-.78.8-2.07 0-2.86zM5.41 20L4 18.59l7.72-7.72 1.47 1.35L5.41 20z\"/>\n",
              "  </svg>\n",
              "      </button>\n",
              "      \n",
              "  <style>\n",
              "    .colab-df-container {\n",
              "      display:flex;\n",
              "      flex-wrap:wrap;\n",
              "      gap: 12px;\n",
              "    }\n",
              "\n",
              "    .colab-df-convert {\n",
              "      background-color: #E8F0FE;\n",
              "      border: none;\n",
              "      border-radius: 50%;\n",
              "      cursor: pointer;\n",
              "      display: none;\n",
              "      fill: #1967D2;\n",
              "      height: 32px;\n",
              "      padding: 0 0 0 0;\n",
              "      width: 32px;\n",
              "    }\n",
              "\n",
              "    .colab-df-convert:hover {\n",
              "      background-color: #E2EBFA;\n",
              "      box-shadow: 0px 1px 2px rgba(60, 64, 67, 0.3), 0px 1px 3px 1px rgba(60, 64, 67, 0.15);\n",
              "      fill: #174EA6;\n",
              "    }\n",
              "\n",
              "    [theme=dark] .colab-df-convert {\n",
              "      background-color: #3B4455;\n",
              "      fill: #D2E3FC;\n",
              "    }\n",
              "\n",
              "    [theme=dark] .colab-df-convert:hover {\n",
              "      background-color: #434B5C;\n",
              "      box-shadow: 0px 1px 3px 1px rgba(0, 0, 0, 0.15);\n",
              "      filter: drop-shadow(0px 1px 2px rgba(0, 0, 0, 0.3));\n",
              "      fill: #FFFFFF;\n",
              "    }\n",
              "  </style>\n",
              "\n",
              "      <script>\n",
              "        const buttonEl =\n",
              "          document.querySelector('#df-700206bc-5153-41f2-bf4a-1d1b61944d17 button.colab-df-convert');\n",
              "        buttonEl.style.display =\n",
              "          google.colab.kernel.accessAllowed ? 'block' : 'none';\n",
              "\n",
              "        async function convertToInteractive(key) {\n",
              "          const element = document.querySelector('#df-700206bc-5153-41f2-bf4a-1d1b61944d17');\n",
              "          const dataTable =\n",
              "            await google.colab.kernel.invokeFunction('convertToInteractive',\n",
              "                                                     [key], {});\n",
              "          if (!dataTable) return;\n",
              "\n",
              "          const docLinkHtml = 'Like what you see? Visit the ' +\n",
              "            '<a target=\"_blank\" href=https://colab.research.google.com/notebooks/data_table.ipynb>data table notebook</a>'\n",
              "            + ' to learn more about interactive tables.';\n",
              "          element.innerHTML = '';\n",
              "          dataTable['output_type'] = 'display_data';\n",
              "          await google.colab.output.renderOutput(dataTable, element);\n",
              "          const docLink = document.createElement('div');\n",
              "          docLink.innerHTML = docLinkHtml;\n",
              "          element.appendChild(docLink);\n",
              "        }\n",
              "      </script>\n",
              "    </div>\n",
              "  </div>\n",
              "  "
            ],
            "text/plain": [
              "    NO.1   NO.2   NO.3  NO.4   NO.5   NO.6  reportA  reportB  exam  total\n",
              "0  100.0  100.0   75.0  90.0   80.0  100.0      100      100    90    745\n",
              "1  100.0  100.0  100.0  90.0   80.0  100.0      100      100    90    770\n",
              "2  100.0    0.0  100.0  90.0   80.0  100.0      100      100    45    670\n",
              "3   80.0    0.0    0.0  90.0  100.0   75.0       70      100    57    515"
            ]
          },
          "metadata": {},
          "execution_count": 147
        }
      ]
    },
    {
      "cell_type": "code",
      "source": [
        "total6=total3[a2]\n",
        "total6.sum"
      ],
      "metadata": {
        "id": "lz1eOT_rIsPi",
        "colab": {
          "base_uri": "https://localhost:8080/"
        },
        "outputId": "60911b56-5f63-4684-bc77-a94f9a6bc56e"
      },
      "execution_count": null,
      "outputs": [
        {
          "output_type": "execute_result",
          "data": {
            "text/plain": [
              "<bound method DataFrame.sum of       NO.1   NO.2   NO.3  NO.4   NO.5   NO.6  reportA  reportB  exam\n",
              "0    100.0  100.0   75.0  90.0   80.0  100.0      100      100    90\n",
              "1    100.0  100.0  100.0  90.0   80.0  100.0      100      100    90\n",
              "2    100.0    0.0  100.0  90.0   80.0  100.0      100      100    45\n",
              "3     80.0    0.0    0.0  90.0  100.0   75.0       70      100    57\n",
              "4     90.0    0.0  100.0  90.0  100.0  100.0      100      100    50\n",
              "..     ...    ...    ...   ...    ...    ...      ...      ...   ...\n",
              "101   10.0    0.0  100.0  50.0   70.0   50.0       70      100    32\n",
              "102  100.0    0.0  100.0  90.0   60.0  100.0      100      100    77\n",
              "103  100.0   75.0    0.0  70.0   80.0   50.0      100      100    75\n",
              "104   90.0    0.0  100.0  90.0   50.0   50.0      100      100    35\n",
              "106   90.0  100.0  100.0  90.0   80.0  100.0      100      100    62\n",
              "\n",
              "[92 rows x 9 columns]>"
            ]
          },
          "metadata": {},
          "execution_count": 148
        }
      ]
    },
    {
      "cell_type": "code",
      "source": [
        "total6_cor=total6.corr()['exam']\n",
        "\n",
        "abs_total6=total6_cor.map(abs)\n",
        "abs_total6.sort_values(ascending=False)"
      ],
      "metadata": {
        "id": "DZKKErBaIGHK",
        "colab": {
          "base_uri": "https://localhost:8080/"
        },
        "outputId": "54859d96-37af-4dd1-bd58-a5b1d31afe5c"
      },
      "execution_count": null,
      "outputs": [
        {
          "output_type": "execute_result",
          "data": {
            "text/plain": [
              "exam       1.000000\n",
              "NO.6       0.516118\n",
              "reportB    0.490515\n",
              "NO.5       0.476676\n",
              "reportA    0.461173\n",
              "NO.3       0.331993\n",
              "NO.2       0.304872\n",
              "NO.1       0.263656\n",
              "NO.4       0.228497\n",
              "Name: exam, dtype: float64"
            ]
          },
          "metadata": {},
          "execution_count": 149
        }
      ]
    },
    {
      "cell_type": "code",
      "source": [
        "col7=['NO.6','reportB','NO.5','reportA']\n",
        "total7=total6[col7]\n",
        "total8=total6[a3]"
      ],
      "metadata": {
        "id": "C10UoDxfJvc6"
      },
      "execution_count": null,
      "outputs": []
    },
    {
      "cell_type": "code",
      "source": [
        "dx14=dt5.head(107)\n",
        "dx14[\"total\"]=dx14[\"NO.5\"]+dx14[\"NO.6\"]+dx14[\"reportA\"]+dx14[\"reportB\"]\n",
        "print(dx14.head(3))\n",
        "dx14.plot(kind='scatter',x='total',y='exam')"
      ],
      "metadata": {
        "id": "yuauWV_iGtXG",
        "colab": {
          "base_uri": "https://localhost:8080/",
          "height": 372
        },
        "outputId": "8dde5b2e-f72b-432d-d7ff-4dd63b5d12e3"
      },
      "execution_count": null,
      "outputs": [
        {
          "output_type": "stream",
          "name": "stdout",
          "text": [
            "    NO.1   NO.2   NO.3  NO.4  NO.5   NO.6  reportA  reportB  exam  total\n",
            "0  100.0  100.0   75.0  90.0  80.0  100.0      100      100    90  380.0\n",
            "1  100.0  100.0  100.0  90.0  80.0  100.0      100      100    90  380.0\n",
            "2  100.0    0.0  100.0  90.0  80.0  100.0      100      100    45  380.0\n"
          ]
        },
        {
          "output_type": "execute_result",
          "data": {
            "text/plain": [
              "<matplotlib.axes._subplots.AxesSubplot at 0x7f10e085f990>"
            ]
          },
          "metadata": {},
          "execution_count": 151
        },
        {
          "output_type": "display_data",
          "data": {
            "image/png": "[encoded data removed]",
            "text/plain": [
              "<Figure size 432x288 with 1 Axes>"
            ]
          },
          "metadata": {
            "needs_background": "light"
          }
        }
      ]
    },
    {
      "cell_type": "code",
      "source": [
        "#total7,total8を説明変数、目的変数に分割\n",
        "model14=LinearRegression()\n",
        "i=0 \n",
        "stotal52=0\n",
        "for i in range(10):\n",
        "    xtrain14,xtest14,ytrain14,ytest14=train_test_split(total7,total8,test_size=0.2,random_state=i)\n",
        "    model14.fit(xtrain14,ytrain14)\n",
        "    sval52=model14.score(xtest14, ytest14)\n",
        "    stotal52=stotal52+sval52\n",
        "    saverage53=stotal52/10\n",
        "print(saverage53)"
      ],
      "metadata": {
        "id": "IN4pRycrRkSi",
        "colab": {
          "base_uri": "https://localhost:8080/"
        },
        "outputId": "ee28b311-4b24-4c5a-8197-eb633b251502"
      },
      "execution_count": null,
      "outputs": [
        {
          "output_type": "stream",
          "name": "stdout",
          "text": [
            "0.2786330650652326\n"
          ]
        }
      ]
    },
    {
      "cell_type": "code",
      "source": [
        "#ロジスティック回帰\n",
        "#正解率\n",
        "\n",
        "logi14=LogisticRegression(random_state=0,C=0.1)\n",
        "i=0 \n",
        "stotal53=0\n",
        "stotal54=0\n",
        "for i in range(10):\n",
        "    xtrain014,xtest014,ytrain014,ytest014=train_test_split(total7,d003,test_size=0.2,random_state=i)\n",
        "\n",
        "    logi14.fit(xtrain014,ytrain014)\n",
        "\n",
        "    sval53=logi14.score(xtrain014,ytrain014)\n",
        "    sval54=logi14.score(xtest014,ytest014)\n",
        "    \n",
        "    stotal53=stotal53+sval53\n",
        "    stotal54=stotal54+sval54\n",
        "\n",
        "    saverage54=stotal53/10\n",
        "    saverage55=stotal54/10\n",
        "print(saverage54,saverage55)\n"
      ],
      "metadata": {
        "id": "1YKD3oMWrKTT",
        "colab": {
          "base_uri": "https://localhost:8080/"
        },
        "outputId": "cb4390fb-c35d-4441-eda1-458c51ed489d"
      },
      "execution_count": null,
      "outputs": [
        {
          "output_type": "stream",
          "name": "stdout",
          "text": [
            "0.758904109589041 0.7\n"
          ]
        }
      ]
    },
    {
      "cell_type": "code",
      "source": [
        "#予測 100回予測したうちの○○回は正解\n",
        "i=0\n",
        "stotal55=0\n",
        "for i in range(10):\n",
        "    xtrain014,xtest014,ytrain014,ytest014=train_test_split(total7,d003,test_size=0.2,random_state=i)\n",
        "    ypred14 = logi14.predict(xtest014)\n",
        "    sval55=accuracy_score(ytest014,ypred14)\n",
        "    stotal55=stotal55+sval55\n",
        "    saverage56=stotal55/10\n",
        "print(saverage56)"
      ],
      "metadata": {
        "id": "bAUnCCI6rOkA",
        "colab": {
          "base_uri": "https://localhost:8080/"
        },
        "outputId": "1a06d47e-e356-4cc3-8aa4-1562ae8468d2"
      },
      "execution_count": null,
      "outputs": [
        {
          "output_type": "stream",
          "name": "stdout",
          "text": [
            "0.6894736842105262\n"
          ]
        }
      ]
    },
    {
      "cell_type": "code",
      "source": [
        "#8.1 外れ値を指定して除外して欠損値に平均を代入して決定係数を求める"
      ],
      "metadata": {
        "id": "Vcsj3B_TKfw-"
      },
      "execution_count": null,
      "outputs": []
    },
    {
      "cell_type": "code",
      "source": [
        "d0_mean= d0.mean()#各列の平均\n",
        "data12=d0[d0['exam']!=0].fillna(d0_mean)\n",
        "data12.sum"
      ],
      "metadata": {
        "id": "jIsXb7TzqPeq",
        "colab": {
          "base_uri": "https://localhost:8080/"
        },
        "outputId": "509ee7d7-5223-4941-82f4-7d1f34f40af4"
      },
      "execution_count": null,
      "outputs": [
        {
          "output_type": "execute_result",
          "data": {
            "text/plain": [
              "<bound method DataFrame.sum of       NO.1        NO.2        NO.3  NO.4  ...  reportB  exam  result  deviation\n",
              "0    100.0  100.000000   75.000000  90.0  ...      100    90       〇       53.6\n",
              "1    100.0  100.000000  100.000000  90.0  ...      100    90       〇       55.2\n",
              "2    100.0   79.310345  100.000000  90.0  ...      100    45       ×       55.0\n",
              "3     80.0   79.310345   79.775281  90.0  ...      100    57       ×       52.0\n",
              "4     90.0   79.310345  100.000000  90.0  ...      100    50       ×       56.3\n",
              "..     ...         ...         ...   ...  ...      ...   ...     ...        ...\n",
              "102  100.0    0.000000  100.000000  90.0  ...      100    77       〇       52.7\n",
              "103  100.0   75.000000    0.000000  70.0  ...      100    75       〇       46.5\n",
              "104   90.0    0.000000  100.000000  90.0  ...      100    35       ×       46.3\n",
              "105   70.0    0.000000    0.000000   0.0  ...      100    27       ×       53.3\n",
              "106   90.0  100.000000  100.000000  90.0  ...      100    62       〇       54.5\n",
              "\n",
              "[90 rows x 11 columns]>"
            ]
          },
          "metadata": {},
          "execution_count": 156
        }
      ]
    },
    {
      "cell_type": "code",
      "source": [
        "total_ave=total.mean()\n",
        "total9=total.fillna(total_ave)\n",
        "total9.plot(kind='scatter',x='total',y='exam')"
      ],
      "metadata": {
        "id": "HpqEJIxwp2-Z",
        "colab": {
          "base_uri": "https://localhost:8080/",
          "height": 297
        },
        "outputId": "634a852d-1e45-4f7c-ac95-380554500bf6"
      },
      "execution_count": null,
      "outputs": [
        {
          "output_type": "execute_result",
          "data": {
            "text/plain": [
              "<matplotlib.axes._subplots.AxesSubplot at 0x7f10e080d1d0>"
            ]
          },
          "metadata": {},
          "execution_count": 157
        },
        {
          "output_type": "display_data",
          "data": {
            "image/png": "[encoded data removed]",
            "text/plain": [
              "<Figure size 432x288 with 1 Axes>"
            ]
          },
          "metadata": {
            "needs_background": "light"
          }
        }
      ]
    },
    {
      "cell_type": "code",
      "source": [
        "out_line4=total9[(total9['total']>370)&(total1['exam']<30)].index\n",
        "print(out_line4)"
      ],
      "metadata": {
        "id": "Spc5cJatqsgy",
        "colab": {
          "base_uri": "https://localhost:8080/"
        },
        "outputId": "f18c111d-4d5d-4fa5-a8be-ef26aa3c7692"
      },
      "execution_count": null,
      "outputs": [
        {
          "output_type": "stream",
          "name": "stdout",
          "text": [
            "Int64Index([6, 40, 47, 62, 69, 70, 74, 79, 85, 87, 96, 98, 105], dtype='int64')\n"
          ]
        }
      ]
    },
    {
      "cell_type": "code",
      "source": [
        "total10=total9.drop([6, 40, 47, 62, 69, 70, 74, 79, 85, 87, 96, 98, 105],axis=0)\n",
        "total10.describe()"
      ],
      "metadata": {
        "id": "yQg-pEyYrInr",
        "colab": {
          "base_uri": "https://localhost:8080/",
          "height": 300
        },
        "outputId": "983c919d-7753-4dfb-8b60-6ced206136fc"
      },
      "execution_count": null,
      "outputs": [
        {
          "output_type": "execute_result",
          "data": {
            "text/html": [
              "\n",
              "  <div id=\"df-7ea248b9-c14e-4d36-9a7d-09e53748ebf9\">\n",
              "    <div class=\"colab-df-container\">\n",
              "      <div>\n",
              "<style scoped>\n",
              "    .dataframe tbody tr th:only-of-type {\n",
              "        vertical-align: middle;\n",
              "    }\n",
              "\n",
              "    .dataframe tbody tr th {\n",
              "        vertical-align: top;\n",
              "    }\n",
              "\n",
              "    .dataframe thead th {\n",
              "        text-align: right;\n",
              "    }\n",
              "</style>\n",
              "<table border=\"1\" class=\"dataframe\">\n",
              "  <thead>\n",
              "    <tr style=\"text-align: right;\">\n",
              "      <th></th>\n",
              "      <th>NO.1</th>\n",
              "      <th>NO.2</th>\n",
              "      <th>NO.3</th>\n",
              "      <th>NO.4</th>\n",
              "      <th>NO.5</th>\n",
              "      <th>NO.6</th>\n",
              "      <th>reportA</th>\n",
              "      <th>reportB</th>\n",
              "      <th>exam</th>\n",
              "      <th>total</th>\n",
              "    </tr>\n",
              "  </thead>\n",
              "  <tbody>\n",
              "    <tr>\n",
              "      <th>count</th>\n",
              "      <td>94.000000</td>\n",
              "      <td>94.000000</td>\n",
              "      <td>94.000000</td>\n",
              "      <td>94.000000</td>\n",
              "      <td>94.000000</td>\n",
              "      <td>94.000000</td>\n",
              "      <td>94.000000</td>\n",
              "      <td>94.000000</td>\n",
              "      <td>94.000000</td>\n",
              "      <td>94.000000</td>\n",
              "    </tr>\n",
              "    <tr>\n",
              "      <th>mean</th>\n",
              "      <td>83.628842</td>\n",
              "      <td>79.099413</td>\n",
              "      <td>79.587019</td>\n",
              "      <td>81.605416</td>\n",
              "      <td>80.491563</td>\n",
              "      <td>82.519874</td>\n",
              "      <td>83.510638</td>\n",
              "      <td>90.425532</td>\n",
              "      <td>60.627660</td>\n",
              "      <td>535.744681</td>\n",
              "    </tr>\n",
              "    <tr>\n",
              "      <th>std</th>\n",
              "      <td>20.012889</td>\n",
              "      <td>24.145440</td>\n",
              "      <td>23.107934</td>\n",
              "      <td>14.199312</td>\n",
              "      <td>15.235357</td>\n",
              "      <td>23.237604</td>\n",
              "      <td>28.158822</td>\n",
              "      <td>29.581849</td>\n",
              "      <td>24.901088</td>\n",
              "      <td>174.633191</td>\n",
              "    </tr>\n",
              "    <tr>\n",
              "      <th>min</th>\n",
              "      <td>10.000000</td>\n",
              "      <td>0.000000</td>\n",
              "      <td>0.000000</td>\n",
              "      <td>30.000000</td>\n",
              "      <td>20.000000</td>\n",
              "      <td>0.000000</td>\n",
              "      <td>0.000000</td>\n",
              "      <td>0.000000</td>\n",
              "      <td>0.000000</td>\n",
              "      <td>40.000000</td>\n",
              "    </tr>\n",
              "    <tr>\n",
              "      <th>25%</th>\n",
              "      <td>83.472222</td>\n",
              "      <td>79.310345</td>\n",
              "      <td>75.000000</td>\n",
              "      <td>80.000000</td>\n",
              "      <td>79.310345</td>\n",
              "      <td>75.000000</td>\n",
              "      <td>70.000000</td>\n",
              "      <td>100.000000</td>\n",
              "      <td>52.000000</td>\n",
              "      <td>451.250000</td>\n",
              "    </tr>\n",
              "    <tr>\n",
              "      <th>50%</th>\n",
              "      <td>83.472222</td>\n",
              "      <td>79.310345</td>\n",
              "      <td>79.775281</td>\n",
              "      <td>82.272727</td>\n",
              "      <td>80.000000</td>\n",
              "      <td>91.895604</td>\n",
              "      <td>100.000000</td>\n",
              "      <td>100.000000</td>\n",
              "      <td>67.000000</td>\n",
              "      <td>557.500000</td>\n",
              "    </tr>\n",
              "    <tr>\n",
              "      <th>75%</th>\n",
              "      <td>90.000000</td>\n",
              "      <td>100.000000</td>\n",
              "      <td>100.000000</td>\n",
              "      <td>90.000000</td>\n",
              "      <td>90.000000</td>\n",
              "      <td>100.000000</td>\n",
              "      <td>100.000000</td>\n",
              "      <td>100.000000</td>\n",
              "      <td>77.000000</td>\n",
              "      <td>663.750000</td>\n",
              "    </tr>\n",
              "    <tr>\n",
              "      <th>max</th>\n",
              "      <td>100.000000</td>\n",
              "      <td>100.000000</td>\n",
              "      <td>100.000000</td>\n",
              "      <td>100.000000</td>\n",
              "      <td>100.000000</td>\n",
              "      <td>100.000000</td>\n",
              "      <td>100.000000</td>\n",
              "      <td>100.000000</td>\n",
              "      <td>95.000000</td>\n",
              "      <td>790.000000</td>\n",
              "    </tr>\n",
              "  </tbody>\n",
              "</table>\n",
              "</div>\n",
              "      <button class=\"colab-df-convert\" onclick=\"convertToInteractive('df-7ea248b9-c14e-4d36-9a7d-09e53748ebf9')\"\n",
              "              title=\"Convert this dataframe to an interactive table.\"\n",
              "              style=\"display:none;\">\n",
              "        \n",
              "  <svg xmlns=\"http://www.w3.org/2000/svg\" height=\"24px\"viewBox=\"0 0 24 24\"\n",
              "       width=\"24px\">\n",
              "    <path d=\"M0 0h24v24H0V0z\" fill=\"none\"/>\n",
              "    <path d=\"M18.56 5.44l.94 2.06.94-2.06 2.06-.94-2.06-.94-.94-2.06-.94 2.06-2.06.94zm-11 1L8.5 8.5l.94-2.06 2.06-.94-2.06-.94L8.5 2.5l-.94 2.06-2.06.94zm10 10l.94 2.06.94-2.06 2.06-.94-2.06-.94-.94-2.06-.94 2.06-2.06.94z\"/><path d=\"M17.41 7.96l-1.37-1.37c-.4-.4-.92-.59-1.43-.59-.52 0-1.04.2-1.43.59L10.3 9.45l-7.72 7.72c-.78.78-.78 2.05 0 2.83L4 21.41c.39.39.9.59 1.41.59.51 0 1.02-.2 1.41-.59l7.78-7.78 2.81-2.81c.8-.78.8-2.07 0-2.86zM5.41 20L4 18.59l7.72-7.72 1.47 1.35L5.41 20z\"/>\n",
              "  </svg>\n",
              "      </button>\n",
              "      \n",
              "  <style>\n",
              "    .colab-df-container {\n",
              "      display:flex;\n",
              "      flex-wrap:wrap;\n",
              "      gap: 12px;\n",
              "    }\n",
              "\n",
              "    .colab-df-convert {\n",
              "      background-color: #E8F0FE;\n",
              "      border: none;\n",
              "      border-radius: 50%;\n",
              "      cursor: pointer;\n",
              "      display: none;\n",
              "      fill: #1967D2;\n",
              "      height: 32px;\n",
              "      padding: 0 0 0 0;\n",
              "      width: 32px;\n",
              "    }\n",
              "\n",
              "    .colab-df-convert:hover {\n",
              "      background-color: #E2EBFA;\n",
              "      box-shadow: 0px 1px 2px rgba(60, 64, 67, 0.3), 0px 1px 3px 1px rgba(60, 64, 67, 0.15);\n",
              "      fill: #174EA6;\n",
              "    }\n",
              "\n",
              "    [theme=dark] .colab-df-convert {\n",
              "      background-color: #3B4455;\n",
              "      fill: #D2E3FC;\n",
              "    }\n",
              "\n",
              "    [theme=dark] .colab-df-convert:hover {\n",
              "      background-color: #434B5C;\n",
              "      box-shadow: 0px 1px 3px 1px rgba(0, 0, 0, 0.15);\n",
              "      filter: drop-shadow(0px 1px 2px rgba(0, 0, 0, 0.3));\n",
              "      fill: #FFFFFF;\n",
              "    }\n",
              "  </style>\n",
              "\n",
              "      <script>\n",
              "        const buttonEl =\n",
              "          document.querySelector('#df-7ea248b9-c14e-4d36-9a7d-09e53748ebf9 button.colab-df-convert');\n",
              "        buttonEl.style.display =\n",
              "          google.colab.kernel.accessAllowed ? 'block' : 'none';\n",
              "\n",
              "        async function convertToInteractive(key) {\n",
              "          const element = document.querySelector('#df-7ea248b9-c14e-4d36-9a7d-09e53748ebf9');\n",
              "          const dataTable =\n",
              "            await google.colab.kernel.invokeFunction('convertToInteractive',\n",
              "                                                     [key], {});\n",
              "          if (!dataTable) return;\n",
              "\n",
              "          const docLinkHtml = 'Like what you see? Visit the ' +\n",
              "            '<a target=\"_blank\" href=https://colab.research.google.com/notebooks/data_table.ipynb>data table notebook</a>'\n",
              "            + ' to learn more about interactive tables.';\n",
              "          element.innerHTML = '';\n",
              "          dataTable['output_type'] = 'display_data';\n",
              "          await google.colab.output.renderOutput(dataTable, element);\n",
              "          const docLink = document.createElement('div');\n",
              "          docLink.innerHTML = docLinkHtml;\n",
              "          element.appendChild(docLink);\n",
              "        }\n",
              "      </script>\n",
              "    </div>\n",
              "  </div>\n",
              "  "
            ],
            "text/plain": [
              "             NO.1        NO.2        NO.3  ...     reportB       exam       total\n",
              "count   94.000000   94.000000   94.000000  ...   94.000000  94.000000   94.000000\n",
              "mean    83.628842   79.099413   79.587019  ...   90.425532  60.627660  535.744681\n",
              "std     20.012889   24.145440   23.107934  ...   29.581849  24.901088  174.633191\n",
              "min     10.000000    0.000000    0.000000  ...    0.000000   0.000000   40.000000\n",
              "25%     83.472222   79.310345   75.000000  ...  100.000000  52.000000  451.250000\n",
              "50%     83.472222   79.310345   79.775281  ...  100.000000  67.000000  557.500000\n",
              "75%     90.000000  100.000000  100.000000  ...  100.000000  77.000000  663.750000\n",
              "max    100.000000  100.000000  100.000000  ...  100.000000  95.000000  790.000000\n",
              "\n",
              "[8 rows x 10 columns]"
            ]
          },
          "metadata": {},
          "execution_count": 159
        }
      ]
    },
    {
      "cell_type": "code",
      "source": [
        "out_line5=total10[(total10['total']<400)&(total10['exam']>60)].index\n",
        "print(out_line5)"
      ],
      "metadata": {
        "id": "FMIK2qGWrcnj",
        "colab": {
          "base_uri": "https://localhost:8080/"
        },
        "outputId": "5420fcd7-b8e3-4291-b375-cd75260209a3"
      },
      "execution_count": null,
      "outputs": [
        {
          "output_type": "stream",
          "name": "stdout",
          "text": [
            "Int64Index([14, 41, 46, 63], dtype='int64')\n"
          ]
        }
      ]
    },
    {
      "cell_type": "code",
      "source": [
        "total11=total10.drop([14, 41, 46, 63],axis=0)\n",
        "total11.describe()"
      ],
      "metadata": {
        "id": "qGkuXrXor9WW",
        "colab": {
          "base_uri": "https://localhost:8080/",
          "height": 300
        },
        "outputId": "d5f7e1f6-8cb4-41c5-da17-e85e978d76ab"
      },
      "execution_count": null,
      "outputs": [
        {
          "output_type": "execute_result",
          "data": {
            "text/html": [
              "\n",
              "  <div id=\"df-f9d583fb-7c3f-4e40-85f6-ad1000fd6ea6\">\n",
              "    <div class=\"colab-df-container\">\n",
              "      <div>\n",
              "<style scoped>\n",
              "    .dataframe tbody tr th:only-of-type {\n",
              "        vertical-align: middle;\n",
              "    }\n",
              "\n",
              "    .dataframe tbody tr th {\n",
              "        vertical-align: top;\n",
              "    }\n",
              "\n",
              "    .dataframe thead th {\n",
              "        text-align: right;\n",
              "    }\n",
              "</style>\n",
              "<table border=\"1\" class=\"dataframe\">\n",
              "  <thead>\n",
              "    <tr style=\"text-align: right;\">\n",
              "      <th></th>\n",
              "      <th>NO.1</th>\n",
              "      <th>NO.2</th>\n",
              "      <th>NO.3</th>\n",
              "      <th>NO.4</th>\n",
              "      <th>NO.5</th>\n",
              "      <th>NO.6</th>\n",
              "      <th>reportA</th>\n",
              "      <th>reportB</th>\n",
              "      <th>exam</th>\n",
              "      <th>total</th>\n",
              "    </tr>\n",
              "  </thead>\n",
              "  <tbody>\n",
              "    <tr>\n",
              "      <th>count</th>\n",
              "      <td>90.000000</td>\n",
              "      <td>90.000000</td>\n",
              "      <td>90.000000</td>\n",
              "      <td>90.000000</td>\n",
              "      <td>90.000000</td>\n",
              "      <td>90.000000</td>\n",
              "      <td>90.000000</td>\n",
              "      <td>90.000000</td>\n",
              "      <td>90.000000</td>\n",
              "      <td>90.000000</td>\n",
              "    </tr>\n",
              "    <tr>\n",
              "      <th>mean</th>\n",
              "      <td>83.635802</td>\n",
              "      <td>80.019157</td>\n",
              "      <td>79.962547</td>\n",
              "      <td>81.848485</td>\n",
              "      <td>80.306513</td>\n",
              "      <td>83.214286</td>\n",
              "      <td>83.888889</td>\n",
              "      <td>90.000000</td>\n",
              "      <td>60.255556</td>\n",
              "      <td>544.888889</td>\n",
              "    </tr>\n",
              "    <tr>\n",
              "      <th>std</th>\n",
              "      <td>20.457647</td>\n",
              "      <td>23.191791</td>\n",
              "      <td>23.404271</td>\n",
              "      <td>14.092441</td>\n",
              "      <td>15.433841</td>\n",
              "      <td>21.995149</td>\n",
              "      <td>27.219228</td>\n",
              "      <td>30.168069</td>\n",
              "      <td>25.379174</td>\n",
              "      <td>172.613711</td>\n",
              "    </tr>\n",
              "    <tr>\n",
              "      <th>min</th>\n",
              "      <td>10.000000</td>\n",
              "      <td>0.000000</td>\n",
              "      <td>0.000000</td>\n",
              "      <td>30.000000</td>\n",
              "      <td>20.000000</td>\n",
              "      <td>25.000000</td>\n",
              "      <td>0.000000</td>\n",
              "      <td>0.000000</td>\n",
              "      <td>0.000000</td>\n",
              "      <td>40.000000</td>\n",
              "    </tr>\n",
              "    <tr>\n",
              "      <th>25%</th>\n",
              "      <td>83.472222</td>\n",
              "      <td>79.310345</td>\n",
              "      <td>75.000000</td>\n",
              "      <td>80.000000</td>\n",
              "      <td>79.310345</td>\n",
              "      <td>75.000000</td>\n",
              "      <td>70.000000</td>\n",
              "      <td>100.000000</td>\n",
              "      <td>52.000000</td>\n",
              "      <td>465.000000</td>\n",
              "    </tr>\n",
              "    <tr>\n",
              "      <th>50%</th>\n",
              "      <td>90.000000</td>\n",
              "      <td>79.310345</td>\n",
              "      <td>79.775281</td>\n",
              "      <td>82.272727</td>\n",
              "      <td>80.000000</td>\n",
              "      <td>100.000000</td>\n",
              "      <td>100.000000</td>\n",
              "      <td>100.000000</td>\n",
              "      <td>67.000000</td>\n",
              "      <td>570.000000</td>\n",
              "    </tr>\n",
              "    <tr>\n",
              "      <th>75%</th>\n",
              "      <td>90.000000</td>\n",
              "      <td>100.000000</td>\n",
              "      <td>100.000000</td>\n",
              "      <td>90.000000</td>\n",
              "      <td>90.000000</td>\n",
              "      <td>100.000000</td>\n",
              "      <td>100.000000</td>\n",
              "      <td>100.000000</td>\n",
              "      <td>77.000000</td>\n",
              "      <td>668.750000</td>\n",
              "    </tr>\n",
              "    <tr>\n",
              "      <th>max</th>\n",
              "      <td>100.000000</td>\n",
              "      <td>100.000000</td>\n",
              "      <td>100.000000</td>\n",
              "      <td>100.000000</td>\n",
              "      <td>100.000000</td>\n",
              "      <td>100.000000</td>\n",
              "      <td>100.000000</td>\n",
              "      <td>100.000000</td>\n",
              "      <td>95.000000</td>\n",
              "      <td>790.000000</td>\n",
              "    </tr>\n",
              "  </tbody>\n",
              "</table>\n",
              "</div>\n",
              "      <button class=\"colab-df-convert\" onclick=\"convertToInteractive('df-f9d583fb-7c3f-4e40-85f6-ad1000fd6ea6')\"\n",
              "              title=\"Convert this dataframe to an interactive table.\"\n",
              "              style=\"display:none;\">\n",
              "        \n",
              "  <svg xmlns=\"http://www.w3.org/2000/svg\" height=\"24px\"viewBox=\"0 0 24 24\"\n",
              "       width=\"24px\">\n",
              "    <path d=\"M0 0h24v24H0V0z\" fill=\"none\"/>\n",
              "    <path d=\"M18.56 5.44l.94 2.06.94-2.06 2.06-.94-2.06-.94-.94-2.06-.94 2.06-2.06.94zm-11 1L8.5 8.5l.94-2.06 2.06-.94-2.06-.94L8.5 2.5l-.94 2.06-2.06.94zm10 10l.94 2.06.94-2.06 2.06-.94-2.06-.94-.94-2.06-.94 2.06-2.06.94z\"/><path d=\"M17.41 7.96l-1.37-1.37c-.4-.4-.92-.59-1.43-.59-.52 0-1.04.2-1.43.59L10.3 9.45l-7.72 7.72c-.78.78-.78 2.05 0 2.83L4 21.41c.39.39.9.59 1.41.59.51 0 1.02-.2 1.41-.59l7.78-7.78 2.81-2.81c.8-.78.8-2.07 0-2.86zM5.41 20L4 18.59l7.72-7.72 1.47 1.35L5.41 20z\"/>\n",
              "  </svg>\n",
              "      </button>\n",
              "      \n",
              "  <style>\n",
              "    .colab-df-container {\n",
              "      display:flex;\n",
              "      flex-wrap:wrap;\n",
              "      gap: 12px;\n",
              "    }\n",
              "\n",
              "    .colab-df-convert {\n",
              "      background-color: #E8F0FE;\n",
              "      border: none;\n",
              "      border-radius: 50%;\n",
              "      cursor: pointer;\n",
              "      display: none;\n",
              "      fill: #1967D2;\n",
              "      height: 32px;\n",
              "      padding: 0 0 0 0;\n",
              "      width: 32px;\n",
              "    }\n",
              "\n",
              "    .colab-df-convert:hover {\n",
              "      background-color: #E2EBFA;\n",
              "      box-shadow: 0px 1px 2px rgba(60, 64, 67, 0.3), 0px 1px 3px 1px rgba(60, 64, 67, 0.15);\n",
              "      fill: #174EA6;\n",
              "    }\n",
              "\n",
              "    [theme=dark] .colab-df-convert {\n",
              "      background-color: #3B4455;\n",
              "      fill: #D2E3FC;\n",
              "    }\n",
              "\n",
              "    [theme=dark] .colab-df-convert:hover {\n",
              "      background-color: #434B5C;\n",
              "      box-shadow: 0px 1px 3px 1px rgba(0, 0, 0, 0.15);\n",
              "      filter: drop-shadow(0px 1px 2px rgba(0, 0, 0, 0.3));\n",
              "      fill: #FFFFFF;\n",
              "    }\n",
              "  </style>\n",
              "\n",
              "      <script>\n",
              "        const buttonEl =\n",
              "          document.querySelector('#df-f9d583fb-7c3f-4e40-85f6-ad1000fd6ea6 button.colab-df-convert');\n",
              "        buttonEl.style.display =\n",
              "          google.colab.kernel.accessAllowed ? 'block' : 'none';\n",
              "\n",
              "        async function convertToInteractive(key) {\n",
              "          const element = document.querySelector('#df-f9d583fb-7c3f-4e40-85f6-ad1000fd6ea6');\n",
              "          const dataTable =\n",
              "            await google.colab.kernel.invokeFunction('convertToInteractive',\n",
              "                                                     [key], {});\n",
              "          if (!dataTable) return;\n",
              "\n",
              "          const docLinkHtml = 'Like what you see? Visit the ' +\n",
              "            '<a target=\"_blank\" href=https://colab.research.google.com/notebooks/data_table.ipynb>data table notebook</a>'\n",
              "            + ' to learn more about interactive tables.';\n",
              "          element.innerHTML = '';\n",
              "          dataTable['output_type'] = 'display_data';\n",
              "          await google.colab.output.renderOutput(dataTable, element);\n",
              "          const docLink = document.createElement('div');\n",
              "          docLink.innerHTML = docLinkHtml;\n",
              "          element.appendChild(docLink);\n",
              "        }\n",
              "      </script>\n",
              "    </div>\n",
              "  </div>\n",
              "  "
            ],
            "text/plain": [
              "             NO.1        NO.2        NO.3  ...     reportB       exam       total\n",
              "count   90.000000   90.000000   90.000000  ...   90.000000  90.000000   90.000000\n",
              "mean    83.635802   80.019157   79.962547  ...   90.000000  60.255556  544.888889\n",
              "std     20.457647   23.191791   23.404271  ...   30.168069  25.379174  172.613711\n",
              "min     10.000000    0.000000    0.000000  ...    0.000000   0.000000   40.000000\n",
              "25%     83.472222   79.310345   75.000000  ...  100.000000  52.000000  465.000000\n",
              "50%     90.000000   79.310345   79.775281  ...  100.000000  67.000000  570.000000\n",
              "75%     90.000000  100.000000  100.000000  ...  100.000000  77.000000  668.750000\n",
              "max    100.000000  100.000000  100.000000  ...  100.000000  95.000000  790.000000\n",
              "\n",
              "[8 rows x 10 columns]"
            ]
          },
          "metadata": {},
          "execution_count": 161
        }
      ]
    },
    {
      "cell_type": "code",
      "source": [
        "dt6=total11[a2]\n",
        "dt6"
      ],
      "metadata": {
        "id": "1m7mUKb1lulS",
        "colab": {
          "base_uri": "https://localhost:8080/",
          "height": 424
        },
        "outputId": "fc659b69-cb0b-4758-b20d-c768646b264e"
      },
      "execution_count": null,
      "outputs": [
        {
          "output_type": "execute_result",
          "data": {
            "text/html": [
              "\n",
              "  <div id=\"df-1aa2c690-4b74-4bd2-a208-768a0a09c9de\">\n",
              "    <div class=\"colab-df-container\">\n",
              "      <div>\n",
              "<style scoped>\n",
              "    .dataframe tbody tr th:only-of-type {\n",
              "        vertical-align: middle;\n",
              "    }\n",
              "\n",
              "    .dataframe tbody tr th {\n",
              "        vertical-align: top;\n",
              "    }\n",
              "\n",
              "    .dataframe thead th {\n",
              "        text-align: right;\n",
              "    }\n",
              "</style>\n",
              "<table border=\"1\" class=\"dataframe\">\n",
              "  <thead>\n",
              "    <tr style=\"text-align: right;\">\n",
              "      <th></th>\n",
              "      <th>NO.1</th>\n",
              "      <th>NO.2</th>\n",
              "      <th>NO.3</th>\n",
              "      <th>NO.4</th>\n",
              "      <th>NO.5</th>\n",
              "      <th>NO.6</th>\n",
              "      <th>reportA</th>\n",
              "      <th>reportB</th>\n",
              "      <th>exam</th>\n",
              "    </tr>\n",
              "  </thead>\n",
              "  <tbody>\n",
              "    <tr>\n",
              "      <th>0</th>\n",
              "      <td>100.0</td>\n",
              "      <td>100.000000</td>\n",
              "      <td>75.000000</td>\n",
              "      <td>90.0</td>\n",
              "      <td>80.0</td>\n",
              "      <td>100.0</td>\n",
              "      <td>100</td>\n",
              "      <td>100</td>\n",
              "      <td>90</td>\n",
              "    </tr>\n",
              "    <tr>\n",
              "      <th>1</th>\n",
              "      <td>100.0</td>\n",
              "      <td>100.000000</td>\n",
              "      <td>100.000000</td>\n",
              "      <td>90.0</td>\n",
              "      <td>80.0</td>\n",
              "      <td>100.0</td>\n",
              "      <td>100</td>\n",
              "      <td>100</td>\n",
              "      <td>90</td>\n",
              "    </tr>\n",
              "    <tr>\n",
              "      <th>2</th>\n",
              "      <td>100.0</td>\n",
              "      <td>79.310345</td>\n",
              "      <td>100.000000</td>\n",
              "      <td>90.0</td>\n",
              "      <td>80.0</td>\n",
              "      <td>100.0</td>\n",
              "      <td>100</td>\n",
              "      <td>100</td>\n",
              "      <td>45</td>\n",
              "    </tr>\n",
              "    <tr>\n",
              "      <th>3</th>\n",
              "      <td>80.0</td>\n",
              "      <td>79.310345</td>\n",
              "      <td>79.775281</td>\n",
              "      <td>90.0</td>\n",
              "      <td>100.0</td>\n",
              "      <td>75.0</td>\n",
              "      <td>70</td>\n",
              "      <td>100</td>\n",
              "      <td>57</td>\n",
              "    </tr>\n",
              "    <tr>\n",
              "      <th>4</th>\n",
              "      <td>90.0</td>\n",
              "      <td>79.310345</td>\n",
              "      <td>100.000000</td>\n",
              "      <td>90.0</td>\n",
              "      <td>100.0</td>\n",
              "      <td>100.0</td>\n",
              "      <td>100</td>\n",
              "      <td>100</td>\n",
              "      <td>50</td>\n",
              "    </tr>\n",
              "    <tr>\n",
              "      <th>...</th>\n",
              "      <td>...</td>\n",
              "      <td>...</td>\n",
              "      <td>...</td>\n",
              "      <td>...</td>\n",
              "      <td>...</td>\n",
              "      <td>...</td>\n",
              "      <td>...</td>\n",
              "      <td>...</td>\n",
              "      <td>...</td>\n",
              "    </tr>\n",
              "    <tr>\n",
              "      <th>101</th>\n",
              "      <td>10.0</td>\n",
              "      <td>0.000000</td>\n",
              "      <td>100.000000</td>\n",
              "      <td>50.0</td>\n",
              "      <td>70.0</td>\n",
              "      <td>50.0</td>\n",
              "      <td>70</td>\n",
              "      <td>100</td>\n",
              "      <td>32</td>\n",
              "    </tr>\n",
              "    <tr>\n",
              "      <th>102</th>\n",
              "      <td>100.0</td>\n",
              "      <td>0.000000</td>\n",
              "      <td>100.000000</td>\n",
              "      <td>90.0</td>\n",
              "      <td>60.0</td>\n",
              "      <td>100.0</td>\n",
              "      <td>100</td>\n",
              "      <td>100</td>\n",
              "      <td>77</td>\n",
              "    </tr>\n",
              "    <tr>\n",
              "      <th>103</th>\n",
              "      <td>100.0</td>\n",
              "      <td>75.000000</td>\n",
              "      <td>0.000000</td>\n",
              "      <td>70.0</td>\n",
              "      <td>80.0</td>\n",
              "      <td>50.0</td>\n",
              "      <td>100</td>\n",
              "      <td>100</td>\n",
              "      <td>75</td>\n",
              "    </tr>\n",
              "    <tr>\n",
              "      <th>104</th>\n",
              "      <td>90.0</td>\n",
              "      <td>0.000000</td>\n",
              "      <td>100.000000</td>\n",
              "      <td>90.0</td>\n",
              "      <td>50.0</td>\n",
              "      <td>50.0</td>\n",
              "      <td>100</td>\n",
              "      <td>100</td>\n",
              "      <td>35</td>\n",
              "    </tr>\n",
              "    <tr>\n",
              "      <th>106</th>\n",
              "      <td>90.0</td>\n",
              "      <td>100.000000</td>\n",
              "      <td>100.000000</td>\n",
              "      <td>90.0</td>\n",
              "      <td>80.0</td>\n",
              "      <td>100.0</td>\n",
              "      <td>100</td>\n",
              "      <td>100</td>\n",
              "      <td>62</td>\n",
              "    </tr>\n",
              "  </tbody>\n",
              "</table>\n",
              "<p>90 rows × 9 columns</p>\n",
              "</div>\n",
              "      <button class=\"colab-df-convert\" onclick=\"convertToInteractive('df-1aa2c690-4b74-4bd2-a208-768a0a09c9de')\"\n",
              "              title=\"Convert this dataframe to an interactive table.\"\n",
              "              style=\"display:none;\">\n",
              "        \n",
              "  <svg xmlns=\"http://www.w3.org/2000/svg\" height=\"24px\"viewBox=\"0 0 24 24\"\n",
              "       width=\"24px\">\n",
              "    <path d=\"M0 0h24v24H0V0z\" fill=\"none\"/>\n",
              "    <path d=\"M18.56 5.44l.94 2.06.94-2.06 2.06-.94-2.06-.94-.94-2.06-.94 2.06-2.06.94zm-11 1L8.5 8.5l.94-2.06 2.06-.94-2.06-.94L8.5 2.5l-.94 2.06-2.06.94zm10 10l.94 2.06.94-2.06 2.06-.94-2.06-.94-.94-2.06-.94 2.06-2.06.94z\"/><path d=\"M17.41 7.96l-1.37-1.37c-.4-.4-.92-.59-1.43-.59-.52 0-1.04.2-1.43.59L10.3 9.45l-7.72 7.72c-.78.78-.78 2.05 0 2.83L4 21.41c.39.39.9.59 1.41.59.51 0 1.02-.2 1.41-.59l7.78-7.78 2.81-2.81c.8-.78.8-2.07 0-2.86zM5.41 20L4 18.59l7.72-7.72 1.47 1.35L5.41 20z\"/>\n",
              "  </svg>\n",
              "      </button>\n",
              "      \n",
              "  <style>\n",
              "    .colab-df-container {\n",
              "      display:flex;\n",
              "      flex-wrap:wrap;\n",
              "      gap: 12px;\n",
              "    }\n",
              "\n",
              "    .colab-df-convert {\n",
              "      background-color: #E8F0FE;\n",
              "      border: none;\n",
              "      border-radius: 50%;\n",
              "      cursor: pointer;\n",
              "      display: none;\n",
              "      fill: #1967D2;\n",
              "      height: 32px;\n",
              "      padding: 0 0 0 0;\n",
              "      width: 32px;\n",
              "    }\n",
              "\n",
              "    .colab-df-convert:hover {\n",
              "      background-color: #E2EBFA;\n",
              "      box-shadow: 0px 1px 2px rgba(60, 64, 67, 0.3), 0px 1px 3px 1px rgba(60, 64, 67, 0.15);\n",
              "      fill: #174EA6;\n",
              "    }\n",
              "\n",
              "    [theme=dark] .colab-df-convert {\n",
              "      background-color: #3B4455;\n",
              "      fill: #D2E3FC;\n",
              "    }\n",
              "\n",
              "    [theme=dark] .colab-df-convert:hover {\n",
              "      background-color: #434B5C;\n",
              "      box-shadow: 0px 1px 3px 1px rgba(0, 0, 0, 0.15);\n",
              "      filter: drop-shadow(0px 1px 2px rgba(0, 0, 0, 0.3));\n",
              "      fill: #FFFFFF;\n",
              "    }\n",
              "  </style>\n",
              "\n",
              "      <script>\n",
              "        const buttonEl =\n",
              "          document.querySelector('#df-1aa2c690-4b74-4bd2-a208-768a0a09c9de button.colab-df-convert');\n",
              "        buttonEl.style.display =\n",
              "          google.colab.kernel.accessAllowed ? 'block' : 'none';\n",
              "\n",
              "        async function convertToInteractive(key) {\n",
              "          const element = document.querySelector('#df-1aa2c690-4b74-4bd2-a208-768a0a09c9de');\n",
              "          const dataTable =\n",
              "            await google.colab.kernel.invokeFunction('convertToInteractive',\n",
              "                                                     [key], {});\n",
              "          if (!dataTable) return;\n",
              "\n",
              "          const docLinkHtml = 'Like what you see? Visit the ' +\n",
              "            '<a target=\"_blank\" href=https://colab.research.google.com/notebooks/data_table.ipynb>data table notebook</a>'\n",
              "            + ' to learn more about interactive tables.';\n",
              "          element.innerHTML = '';\n",
              "          dataTable['output_type'] = 'display_data';\n",
              "          await google.colab.output.renderOutput(dataTable, element);\n",
              "          const docLink = document.createElement('div');\n",
              "          docLink.innerHTML = docLinkHtml;\n",
              "          element.appendChild(docLink);\n",
              "        }\n",
              "      </script>\n",
              "    </div>\n",
              "  </div>\n",
              "  "
            ],
            "text/plain": [
              "      NO.1        NO.2        NO.3  NO.4   NO.5   NO.6  reportA  reportB  exam\n",
              "0    100.0  100.000000   75.000000  90.0   80.0  100.0      100      100    90\n",
              "1    100.0  100.000000  100.000000  90.0   80.0  100.0      100      100    90\n",
              "2    100.0   79.310345  100.000000  90.0   80.0  100.0      100      100    45\n",
              "3     80.0   79.310345   79.775281  90.0  100.0   75.0       70      100    57\n",
              "4     90.0   79.310345  100.000000  90.0  100.0  100.0      100      100    50\n",
              "..     ...         ...         ...   ...    ...    ...      ...      ...   ...\n",
              "101   10.0    0.000000  100.000000  50.0   70.0   50.0       70      100    32\n",
              "102  100.0    0.000000  100.000000  90.0   60.0  100.0      100      100    77\n",
              "103  100.0   75.000000    0.000000  70.0   80.0   50.0      100      100    75\n",
              "104   90.0    0.000000  100.000000  90.0   50.0   50.0      100      100    35\n",
              "106   90.0  100.000000  100.000000  90.0   80.0  100.0      100      100    62\n",
              "\n",
              "[90 rows x 9 columns]"
            ]
          },
          "metadata": {},
          "execution_count": 162
        }
      ]
    },
    {
      "cell_type": "code",
      "source": [
        "dx15=dt6.head(107)\n",
        "dx15[\"total\"]=dx15[\"NO.1\"]+dx15[\"NO.2\"]+dx15[\"NO.3\"]+dx15[\"NO.4\"]+dx15[\"NO.5\"]+dx15[\"NO.6\"]+dx15[\"reportA\"]+dx15[\"reportB\"]\n",
        "print(dx15.head(3))\n",
        "dx15.plot(kind='scatter',x='total',y='exam')"
      ],
      "metadata": {
        "id": "c9Tmxj3QJEWN",
        "colab": {
          "base_uri": "https://localhost:8080/",
          "height": 409
        },
        "outputId": "a45d8777-2fd3-4806-ee28-3146771d3f6b"
      },
      "execution_count": null,
      "outputs": [
        {
          "output_type": "stream",
          "name": "stdout",
          "text": [
            "    NO.1        NO.2   NO.3  NO.4  ...  reportA  reportB  exam       total\n",
            "0  100.0  100.000000   75.0  90.0  ...      100      100    90  745.000000\n",
            "1  100.0  100.000000  100.0  90.0  ...      100      100    90  770.000000\n",
            "2  100.0   79.310345  100.0  90.0  ...      100      100    45  749.310345\n",
            "\n",
            "[3 rows x 10 columns]\n"
          ]
        },
        {
          "output_type": "execute_result",
          "data": {
            "text/plain": [
              "<matplotlib.axes._subplots.AxesSubplot at 0x7f10e03a9dd0>"
            ]
          },
          "metadata": {},
          "execution_count": 163
        },
        {
          "output_type": "display_data",
          "data": {
            "image/png": "[encoded data removed]",
            "text/plain": [
              "<Figure size 432x288 with 1 Axes>"
            ]
          },
          "metadata": {
            "needs_background": "light"
          }
        }
      ]
    },
    {
      "cell_type": "code",
      "source": [
        "total12=total11[a1]\n",
        "total13=total11[a3]\n",
        "total14=total11[a2]"
      ],
      "metadata": {
        "id": "xhD20zB8svQr"
      },
      "execution_count": null,
      "outputs": []
    },
    {
      "cell_type": "code",
      "source": [
        "#total12,total13を説明変数、目的変数に分割\n",
        "model15=LinearRegression()\n",
        "i=0 \n",
        "stotal56=0\n",
        "for i in range(10):\n",
        "    xtrain15,xtest15,ytrain15,ytest15=train_test_split(total12,total13,test_size=0.2,random_state=i)\n",
        "    model15.fit(xtrain15,ytrain15)\n",
        "    sval56=model1.score(xtest15, ytest15)\n",
        "    stotal56=stotal56+sval56\n",
        "    saverage57=stotal56/10\n",
        "print(saverage57)"
      ],
      "metadata": {
        "id": "bqzcIAVgRsSq",
        "colab": {
          "base_uri": "https://localhost:8080/"
        },
        "outputId": "9d3866e2-ee12-423b-acdf-7a345cdd5c0b"
      },
      "execution_count": null,
      "outputs": [
        {
          "output_type": "stream",
          "name": "stdout",
          "text": [
            "0.2814554239055617\n"
          ]
        }
      ]
    },
    {
      "cell_type": "code",
      "source": [
        "#各カラムの特徴量\n",
        "i=0 \n",
        "for i in range(10):\n",
        "    xtrain15,xtest15,ytrain15,ytest15=train_test_split(total12,total13,test_size=0.2,random_state=i)\n",
        "    model15.fit(xtrain15,ytrain15)\n",
        "    print(model15.coef_)"
      ],
      "metadata": {
        "id": "JjvmjY9YtDQP",
        "colab": {
          "base_uri": "https://localhost:8080/"
        },
        "outputId": "33c1e251-ebbe-4d4d-e029-e2f54e228b64"
      },
      "execution_count": null,
      "outputs": [
        {
          "output_type": "stream",
          "name": "stdout",
          "text": [
            "[[ 0.2575971   0.06671821  0.1220176  -0.07005791 -0.00487924  0.26368996\n",
            "   0.16276545  0.25103588]]\n",
            "[[ 0.25727612  0.04485561  0.13345284 -0.02011687 -0.02796101  0.35591941\n",
            "   0.23337071  0.23277458]]\n",
            "[[ 0.12143518  0.04803704  0.02453978  0.01794704 -0.00777762  0.34302869\n",
            "   0.24681862  0.37806954]]\n",
            "[[ 0.25263384 -0.00252306  0.1120593   0.04289668  0.00283778  0.25294208\n",
            "   0.21403063  0.28967071]]\n",
            "[[ 0.24156047  0.11973395  0.02643304 -0.12450716 -0.06530414  0.359622\n",
            "   0.24673851  0.2164568 ]]\n",
            "[[ 0.13857927  0.05956456  0.11846388 -0.06832923  0.07357279  0.28788493\n",
            "   0.2049829   0.29473733]]\n",
            "[[ 0.23335577  0.0774533   0.13945498 -0.18775308 -0.00420233  0.22521112\n",
            "   0.18547959  0.31702864]]\n",
            "[[ 0.24952543  0.02499156  0.23530056 -0.0442299  -0.09455573  0.29285098\n",
            "   0.1326323   0.30507982]]\n",
            "[[ 0.18972917 -0.07960415  0.11387997  0.03304409 -0.07577535  0.27397641\n",
            "   0.2239283   0.28216577]]\n",
            "[[ 0.17718753  0.17846513  0.06292473 -0.20622018 -0.00595639  0.26618034\n",
            "   0.19451511  0.34106526]]\n"
          ]
        }
      ]
    },
    {
      "cell_type": "code",
      "source": [
        "d004=d_result.drop([6, 40, 47, 62, 69, 70, 74, 79, 85, 87, 96, 98, 105,14, 41, 46, 63],axis=0)"
      ],
      "metadata": {
        "id": "WVywhCYzkCVw"
      },
      "execution_count": null,
      "outputs": []
    },
    {
      "cell_type": "code",
      "source": [
        "#ロジスティック回帰\n",
        "#正解率\n",
        "\n",
        "logi15=LogisticRegression(random_state=0,C=0.1)\n",
        "i=0 \n",
        "stotal57=0\n",
        "stotal58=0\n",
        "for i in range(10):\n",
        "    xtrain015,xtest015,ytrain015,ytest015=train_test_split(total12,d004,test_size=0.2,random_state=i)\n",
        "    logi15.fit(xtrain015,ytrain015)\n",
        "\n",
        "    sval57=logi15.score(xtrain015,ytrain015)\n",
        "    sval58=logi15.score(xtest015,ytest015)\n",
        "    \n",
        "    stotal57=stotal57+sval57\n",
        "    stotal58=stotal58+sval58\n",
        "\n",
        "    saverage58=stotal57/10\n",
        "    saverage59=stotal58/10\n",
        "print(saverage58,saverage59)\n"
      ],
      "metadata": {
        "id": "2ShSnOJiq8in",
        "colab": {
          "base_uri": "https://localhost:8080/"
        },
        "outputId": "238d63f8-5592-421c-d70f-46023065cb26"
      },
      "execution_count": null,
      "outputs": [
        {
          "output_type": "stream",
          "name": "stdout",
          "text": [
            "0.7736111111111111 0.638888888888889\n"
          ]
        }
      ]
    },
    {
      "cell_type": "code",
      "source": [
        "#予測 100回予測したうちの○○回は正解\n",
        "i=0\n",
        "stotal59=0\n",
        "for i in range(10):\n",
        "    xtrain015,xtest015,ytrain015,ytest015=train_test_split(total12,d004,test_size=0.2,random_state=i)\n",
        "    ypred15 = logi15.predict(xtest015)\n",
        "    sval59=accuracy_score(ytest015,ypred15)\n",
        "    stotal59=stotal59+sval59\n",
        "    saverage60=stotal59/10\n",
        "print(saverage60)"
      ],
      "metadata": {
        "id": "dEhVqgubq6sy",
        "colab": {
          "base_uri": "https://localhost:8080/"
        },
        "outputId": "c2f678e1-a705-4df9-93d6-77ab29a3715b"
      },
      "execution_count": null,
      "outputs": [
        {
          "output_type": "stream",
          "name": "stdout",
          "text": [
            "0.7111111111111111\n"
          ]
        }
      ]
    },
    {
      "cell_type": "code",
      "source": [
        ""
      ],
      "metadata": {
        "id": "QFCH1UnqfVRY"
      },
      "execution_count": null,
      "outputs": []
    },
    {
      "cell_type": "code",
      "source": [
        "#8.2 相関係数で絞り込みver"
      ],
      "metadata": {
        "id": "Ywn9EfRztjpQ"
      },
      "execution_count": null,
      "outputs": []
    },
    {
      "cell_type": "code",
      "source": [
        "total14_cor=total14.corr()['exam']\n",
        "\n",
        "abs_total14=total14_cor.map(abs)\n",
        "abs_total14.sort_values(ascending=False)"
      ],
      "metadata": {
        "id": "4RyMuWe4tlgJ",
        "colab": {
          "base_uri": "https://localhost:8080/"
        },
        "outputId": "ee5e2214-d045-4b82-bc01-07a4bc7b5d8b"
      },
      "execution_count": null,
      "outputs": [
        {
          "output_type": "execute_result",
          "data": {
            "text/plain": [
              "exam       1.000000\n",
              "reportA    0.492028\n",
              "reportB    0.489126\n",
              "NO.6       0.386082\n",
              "NO.1       0.328714\n",
              "NO.4       0.218731\n",
              "NO.5       0.150247\n",
              "NO.3       0.142753\n",
              "NO.2       0.088143\n",
              "Name: exam, dtype: float64"
            ]
          },
          "metadata": {},
          "execution_count": 171
        }
      ]
    },
    {
      "cell_type": "code",
      "source": [
        "col8=['reportA','reportB','NO.6','NO.1']\n",
        "total15=total14[col8]\n",
        "total16=total14[a3]"
      ],
      "metadata": {
        "id": "dpF9QY77t_c-"
      },
      "execution_count": null,
      "outputs": []
    },
    {
      "cell_type": "code",
      "source": [
        "dx16=dt6.head(107)\n",
        "dx16[\"total\"]=dx16[\"NO.1\"]+dx16[\"NO.6\"]+dx16[\"reportA\"]+dx16[\"reportB\"]\n",
        "print(dx16.head(3))\n",
        "dx16.plot(kind='scatter',x='total',y='exam')"
      ],
      "metadata": {
        "id": "p-hYuvc-JazY",
        "colab": {
          "base_uri": "https://localhost:8080/",
          "height": 372
        },
        "outputId": "79f89304-4b14-4b79-a5ab-e5f6967fab88"
      },
      "execution_count": null,
      "outputs": [
        {
          "output_type": "stream",
          "name": "stdout",
          "text": [
            "    NO.1        NO.2   NO.3  NO.4  NO.5   NO.6  reportA  reportB  exam  total\n",
            "0  100.0  100.000000   75.0  90.0  80.0  100.0      100      100    90  400.0\n",
            "1  100.0  100.000000  100.0  90.0  80.0  100.0      100      100    90  400.0\n",
            "2  100.0   79.310345  100.0  90.0  80.0  100.0      100      100    45  400.0\n"
          ]
        },
        {
          "output_type": "execute_result",
          "data": {
            "text/plain": [
              "<matplotlib.axes._subplots.AxesSubplot at 0x7f10e0327690>"
            ]
          },
          "metadata": {},
          "execution_count": 173
        },
        {
          "output_type": "display_data",
          "data": {
            "image/png": "[encoded data removed]",
            "text/plain": [
              "<Figure size 432x288 with 1 Axes>"
            ]
          },
          "metadata": {
            "needs_background": "light"
          }
        }
      ]
    },
    {
      "cell_type": "code",
      "source": [
        "#total15,total16を説明変数、目的変数に分割\n",
        "model16=LinearRegression()\n",
        "i=0 \n",
        "stotal60=0\n",
        "for i in range(10):\n",
        "    xtrain16,xtest16,ytrain16,ytest16=train_test_split(total15,total16,test_size=0.2,random_state=i)\n",
        "    model16.fit(xtrain16,ytrain16)\n",
        "    sval60=model16.score(xtest16, ytest16)\n",
        "    stotal60=stotal60+sval60\n",
        "    saverage61=stotal60/10\n",
        "print(saverage61)"
      ],
      "metadata": {
        "id": "y69Df0mFR2IA",
        "colab": {
          "base_uri": "https://localhost:8080/"
        },
        "outputId": "47789b13-2c01-476c-84b8-8bfa7f4b47de"
      },
      "execution_count": null,
      "outputs": [
        {
          "output_type": "stream",
          "name": "stdout",
          "text": [
            "0.27010682362805793\n"
          ]
        }
      ]
    },
    {
      "cell_type": "code",
      "source": [
        "#各カラムの特徴量\n",
        "i=0 \n",
        "for i in range(10):\n",
        "    xtrain16,xtest16,ytrain16,ytest16=train_test_split(total15,total16,test_size=0.2,random_state=i)\n",
        "    model16.fit(xtrain16,ytrain16)\n",
        "    print(model16.coef_)"
      ],
      "metadata": {
        "id": "doQHzA-mu_De",
        "colab": {
          "base_uri": "https://localhost:8080/"
        },
        "outputId": "ed1c0373-867a-4e67-e542-ed79f4754af9"
      },
      "execution_count": null,
      "outputs": [
        {
          "output_type": "stream",
          "name": "stdout",
          "text": [
            "[[0.16996199 0.23618424 0.29059922 0.23645517]]\n",
            "[[0.27566885 0.20897512 0.3817009  0.22599165]]\n",
            "[[0.25446522 0.37298615 0.36322811 0.12492313]]\n",
            "[[0.23954605 0.28102239 0.29007236 0.22695753]]\n",
            "[[0.23754202 0.2182428  0.36391444 0.21542793]]\n",
            "[[0.23216523 0.27169091 0.33579374 0.10631748]]\n",
            "[[0.20273695 0.30146394 0.26137224 0.17790154]]\n",
            "[[0.16702621 0.29051071 0.30851468 0.20145503]]\n",
            "[[0.24814944 0.2725678  0.27050001 0.19081493]]\n",
            "[[0.18272118 0.31532171 0.3199595  0.16569632]]\n"
          ]
        }
      ]
    },
    {
      "cell_type": "code",
      "source": [
        "#ロジスティック回帰\n",
        "#正解率\n",
        "\n",
        "logi16=LogisticRegression(random_state=0,C=0.1)\n",
        "i=0 \n",
        "stotal61=0\n",
        "stotal62=0\n",
        "for i in range(10):\n",
        "    xtrain016,xtest016,ytrain016,ytest016=train_test_split(total15,d004,test_size=0.2,random_state=i)\n",
        "    logi16.fit(xtrain016,ytrain016)\n",
        "\n",
        "    sval61=logi16.score(xtrain016,ytrain016)\n",
        "    sval62=logi16.score(xtest016,ytest016)\n",
        "    \n",
        "    stotal61=stotal61+sval61\n",
        "    stotal62=stotal62+sval62\n",
        "\n",
        "    saverage62=stotal61/10\n",
        "    saverage63=stotal62/10\n",
        "print(saverage62,saverage63)"
      ],
      "metadata": {
        "id": "Z1qWnFceTeOJ",
        "colab": {
          "base_uri": "https://localhost:8080/"
        },
        "outputId": "6fdd07ca-7265-44aa-aee0-b0dad131c978"
      },
      "execution_count": null,
      "outputs": [
        {
          "output_type": "stream",
          "name": "stdout",
          "text": [
            "0.7083333333333334 0.6833333333333332\n"
          ]
        }
      ]
    },
    {
      "cell_type": "code",
      "source": [
        "#予測 100回予測したうちの○○回は正解\n",
        "i=0\n",
        "stotal63=0\n",
        "for i in range(10):\n",
        "    xtrain016,xtest016,ytrain016,ytest016=train_test_split(total15,d004,test_size=0.2,random_state=i)\n",
        "    ypred16 = logi16.predict(xtest016)\n",
        "    sval63=accuracy_score(ytest016,ypred16)\n",
        "    stotal63=stotal63+sval63\n",
        "    saverage64=stotal63/10\n",
        "print(saverage63)"
      ],
      "metadata": {
        "id": "PAdvxi0pTwJB",
        "colab": {
          "base_uri": "https://localhost:8080/"
        },
        "outputId": "c0fe5cb3-f726-4bc9-d23a-42d256de97e7"
      },
      "execution_count": null,
      "outputs": [
        {
          "output_type": "stream",
          "name": "stdout",
          "text": [
            "0.6833333333333332\n"
          ]
        }
      ]
    },
    {
      "cell_type": "code",
      "source": [
        ""
      ],
      "metadata": {
        "id": "k8YMiUo8QU7t"
      },
      "execution_count": null,
      "outputs": []
    },
    {
      "cell_type": "code",
      "source": [
        "#9.1 外れ値を指定して除外して欠損値に偏差値から求めた点数を代入して決定係数を求める"
      ],
      "metadata": {
        "id": "g6KR2ABLuqVQ"
      },
      "execution_count": null,
      "outputs": []
    },
    {
      "cell_type": "code",
      "source": [
        "dev2.head(5)"
      ],
      "metadata": {
        "id": "oQzSnf9gvPXS",
        "colab": {
          "base_uri": "https://localhost:8080/",
          "height": 206
        },
        "outputId": "e468e50e-6667-485c-bce8-57cec93d4bf1"
      },
      "execution_count": null,
      "outputs": [
        {
          "output_type": "execute_result",
          "data": {
            "text/html": [
              "\n",
              "  <div id=\"df-1c85cb7e-cc40-4477-ae74-aaf9343fb34f\">\n",
              "    <div class=\"colab-df-container\">\n",
              "      <div>\n",
              "<style scoped>\n",
              "    .dataframe tbody tr th:only-of-type {\n",
              "        vertical-align: middle;\n",
              "    }\n",
              "\n",
              "    .dataframe tbody tr th {\n",
              "        vertical-align: top;\n",
              "    }\n",
              "\n",
              "    .dataframe thead th {\n",
              "        text-align: right;\n",
              "    }\n",
              "</style>\n",
              "<table border=\"1\" class=\"dataframe\">\n",
              "  <thead>\n",
              "    <tr style=\"text-align: right;\">\n",
              "      <th></th>\n",
              "      <th>NO.1</th>\n",
              "      <th>NO.2</th>\n",
              "      <th>NO.3</th>\n",
              "      <th>NO.4</th>\n",
              "      <th>NO.5</th>\n",
              "      <th>NO.6</th>\n",
              "      <th>reportA</th>\n",
              "      <th>reportB</th>\n",
              "      <th>exam</th>\n",
              "      <th>total</th>\n",
              "    </tr>\n",
              "  </thead>\n",
              "  <tbody>\n",
              "    <tr>\n",
              "      <th>0</th>\n",
              "      <td>100</td>\n",
              "      <td>100</td>\n",
              "      <td>75</td>\n",
              "      <td>90</td>\n",
              "      <td>80</td>\n",
              "      <td>100</td>\n",
              "      <td>100</td>\n",
              "      <td>100</td>\n",
              "      <td>90</td>\n",
              "      <td>745</td>\n",
              "    </tr>\n",
              "    <tr>\n",
              "      <th>1</th>\n",
              "      <td>100</td>\n",
              "      <td>100</td>\n",
              "      <td>100</td>\n",
              "      <td>90</td>\n",
              "      <td>80</td>\n",
              "      <td>100</td>\n",
              "      <td>100</td>\n",
              "      <td>100</td>\n",
              "      <td>90</td>\n",
              "      <td>770</td>\n",
              "    </tr>\n",
              "    <tr>\n",
              "      <th>2</th>\n",
              "      <td>100</td>\n",
              "      <td>96</td>\n",
              "      <td>100</td>\n",
              "      <td>90</td>\n",
              "      <td>80</td>\n",
              "      <td>100</td>\n",
              "      <td>100</td>\n",
              "      <td>100</td>\n",
              "      <td>45</td>\n",
              "      <td>766</td>\n",
              "    </tr>\n",
              "    <tr>\n",
              "      <th>3</th>\n",
              "      <td>80</td>\n",
              "      <td>86</td>\n",
              "      <td>85</td>\n",
              "      <td>90</td>\n",
              "      <td>100</td>\n",
              "      <td>75</td>\n",
              "      <td>70</td>\n",
              "      <td>100</td>\n",
              "      <td>57</td>\n",
              "      <td>686</td>\n",
              "    </tr>\n",
              "    <tr>\n",
              "      <th>4</th>\n",
              "      <td>90</td>\n",
              "      <td>100</td>\n",
              "      <td>100</td>\n",
              "      <td>90</td>\n",
              "      <td>100</td>\n",
              "      <td>100</td>\n",
              "      <td>100</td>\n",
              "      <td>100</td>\n",
              "      <td>50</td>\n",
              "      <td>780</td>\n",
              "    </tr>\n",
              "  </tbody>\n",
              "</table>\n",
              "</div>\n",
              "      <button class=\"colab-df-convert\" onclick=\"convertToInteractive('df-1c85cb7e-cc40-4477-ae74-aaf9343fb34f')\"\n",
              "              title=\"Convert this dataframe to an interactive table.\"\n",
              "              style=\"display:none;\">\n",
              "        \n",
              "  <svg xmlns=\"http://www.w3.org/2000/svg\" height=\"24px\"viewBox=\"0 0 24 24\"\n",
              "       width=\"24px\">\n",
              "    <path d=\"M0 0h24v24H0V0z\" fill=\"none\"/>\n",
              "    <path d=\"M18.56 5.44l.94 2.06.94-2.06 2.06-.94-2.06-.94-.94-2.06-.94 2.06-2.06.94zm-11 1L8.5 8.5l.94-2.06 2.06-.94-2.06-.94L8.5 2.5l-.94 2.06-2.06.94zm10 10l.94 2.06.94-2.06 2.06-.94-2.06-.94-.94-2.06-.94 2.06-2.06.94z\"/><path d=\"M17.41 7.96l-1.37-1.37c-.4-.4-.92-.59-1.43-.59-.52 0-1.04.2-1.43.59L10.3 9.45l-7.72 7.72c-.78.78-.78 2.05 0 2.83L4 21.41c.39.39.9.59 1.41.59.51 0 1.02-.2 1.41-.59l7.78-7.78 2.81-2.81c.8-.78.8-2.07 0-2.86zM5.41 20L4 18.59l7.72-7.72 1.47 1.35L5.41 20z\"/>\n",
              "  </svg>\n",
              "      </button>\n",
              "      \n",
              "  <style>\n",
              "    .colab-df-container {\n",
              "      display:flex;\n",
              "      flex-wrap:wrap;\n",
              "      gap: 12px;\n",
              "    }\n",
              "\n",
              "    .colab-df-convert {\n",
              "      background-color: #E8F0FE;\n",
              "      border: none;\n",
              "      border-radius: 50%;\n",
              "      cursor: pointer;\n",
              "      display: none;\n",
              "      fill: #1967D2;\n",
              "      height: 32px;\n",
              "      padding: 0 0 0 0;\n",
              "      width: 32px;\n",
              "    }\n",
              "\n",
              "    .colab-df-convert:hover {\n",
              "      background-color: #E2EBFA;\n",
              "      box-shadow: 0px 1px 2px rgba(60, 64, 67, 0.3), 0px 1px 3px 1px rgba(60, 64, 67, 0.15);\n",
              "      fill: #174EA6;\n",
              "    }\n",
              "\n",
              "    [theme=dark] .colab-df-convert {\n",
              "      background-color: #3B4455;\n",
              "      fill: #D2E3FC;\n",
              "    }\n",
              "\n",
              "    [theme=dark] .colab-df-convert:hover {\n",
              "      background-color: #434B5C;\n",
              "      box-shadow: 0px 1px 3px 1px rgba(0, 0, 0, 0.15);\n",
              "      filter: drop-shadow(0px 1px 2px rgba(0, 0, 0, 0.3));\n",
              "      fill: #FFFFFF;\n",
              "    }\n",
              "  </style>\n",
              "\n",
              "      <script>\n",
              "        const buttonEl =\n",
              "          document.querySelector('#df-1c85cb7e-cc40-4477-ae74-aaf9343fb34f button.colab-df-convert');\n",
              "        buttonEl.style.display =\n",
              "          google.colab.kernel.accessAllowed ? 'block' : 'none';\n",
              "\n",
              "        async function convertToInteractive(key) {\n",
              "          const element = document.querySelector('#df-1c85cb7e-cc40-4477-ae74-aaf9343fb34f');\n",
              "          const dataTable =\n",
              "            await google.colab.kernel.invokeFunction('convertToInteractive',\n",
              "                                                     [key], {});\n",
              "          if (!dataTable) return;\n",
              "\n",
              "          const docLinkHtml = 'Like what you see? Visit the ' +\n",
              "            '<a target=\"_blank\" href=https://colab.research.google.com/notebooks/data_table.ipynb>data table notebook</a>'\n",
              "            + ' to learn more about interactive tables.';\n",
              "          element.innerHTML = '';\n",
              "          dataTable['output_type'] = 'display_data';\n",
              "          await google.colab.output.renderOutput(dataTable, element);\n",
              "          const docLink = document.createElement('div');\n",
              "          docLink.innerHTML = docLinkHtml;\n",
              "          element.appendChild(docLink);\n",
              "        }\n",
              "      </script>\n",
              "    </div>\n",
              "  </div>\n",
              "  "
            ],
            "text/plain": [
              "   NO.1  NO.2  NO.3  NO.4  NO.5  NO.6  reportA  reportB  exam  total\n",
              "0   100   100    75    90    80   100      100      100    90    745\n",
              "1   100   100   100    90    80   100      100      100    90    770\n",
              "2   100    96   100    90    80   100      100      100    45    766\n",
              "3    80    86    85    90   100    75       70      100    57    686\n",
              "4    90   100   100    90   100   100      100      100    50    780"
            ]
          },
          "metadata": {},
          "execution_count": 179
        }
      ]
    },
    {
      "cell_type": "code",
      "source": [
        "dev2.plot(kind='scatter',x='total',y='exam')"
      ],
      "metadata": {
        "id": "4CJg5fkcvYUZ",
        "colab": {
          "base_uri": "https://localhost:8080/",
          "height": 297
        },
        "outputId": "f687bbcd-c0a9-49c4-f92c-73a437225f82"
      },
      "execution_count": null,
      "outputs": [
        {
          "output_type": "execute_result",
          "data": {
            "text/plain": [
              "<matplotlib.axes._subplots.AxesSubplot at 0x7f10e029a550>"
            ]
          },
          "metadata": {},
          "execution_count": 180
        },
        {
          "output_type": "display_data",
          "data": {
            "image/png": "[encoded data removed]",
            "text/plain": [
              "<Figure size 432x288 with 1 Axes>"
            ]
          },
          "metadata": {
            "needs_background": "light"
          }
        }
      ]
    },
    {
      "cell_type": "code",
      "source": [
        "out_line6=dev2[(dev2['total']>400)&(dev2['exam']<40)].index\n",
        "print(out_line6)"
      ],
      "metadata": {
        "id": "94LFcZDQzD9v",
        "colab": {
          "base_uri": "https://localhost:8080/"
        },
        "outputId": "5278f0b3-1b9f-421f-9486-95a0292aa203"
      },
      "execution_count": null,
      "outputs": [
        {
          "output_type": "stream",
          "name": "stdout",
          "text": [
            "Int64Index([  6,   9,  18,  30,  31,  34,  38,  40,  43,  47,  61,  62,  69,\n",
            "             70,  74,  76,  79,  84,  85,  87,  96,  98, 101, 104, 105],\n",
            "           dtype='int64')\n"
          ]
        }
      ]
    },
    {
      "cell_type": "code",
      "source": [
        "total17=dev2.drop([6,   9,  18,  30,  31,  34,  38,  40,  43,  47,  61,  62,  69,70,  74,  76,  79,  84,  85,  87,  96,  98, 101, 104, 105],axis=0)\n",
        "total17.describe()"
      ],
      "metadata": {
        "id": "dbyPQqlr0CHm",
        "colab": {
          "base_uri": "https://localhost:8080/",
          "height": 300
        },
        "outputId": "d9394b59-6f42-4855-ba8d-81ef98a43f9d"
      },
      "execution_count": null,
      "outputs": [
        {
          "output_type": "execute_result",
          "data": {
            "text/html": [
              "\n",
              "  <div id=\"df-82caeecf-42e0-4a69-9dfe-c6de2b0e1fa4\">\n",
              "    <div class=\"colab-df-container\">\n",
              "      <div>\n",
              "<style scoped>\n",
              "    .dataframe tbody tr th:only-of-type {\n",
              "        vertical-align: middle;\n",
              "    }\n",
              "\n",
              "    .dataframe tbody tr th {\n",
              "        vertical-align: top;\n",
              "    }\n",
              "\n",
              "    .dataframe thead th {\n",
              "        text-align: right;\n",
              "    }\n",
              "</style>\n",
              "<table border=\"1\" class=\"dataframe\">\n",
              "  <thead>\n",
              "    <tr style=\"text-align: right;\">\n",
              "      <th></th>\n",
              "      <th>NO.1</th>\n",
              "      <th>NO.2</th>\n",
              "      <th>NO.3</th>\n",
              "      <th>NO.4</th>\n",
              "      <th>NO.5</th>\n",
              "      <th>NO.6</th>\n",
              "      <th>reportA</th>\n",
              "      <th>reportB</th>\n",
              "      <th>exam</th>\n",
              "      <th>total</th>\n",
              "    </tr>\n",
              "  </thead>\n",
              "  <tbody>\n",
              "    <tr>\n",
              "      <th>count</th>\n",
              "      <td>82.000000</td>\n",
              "      <td>82.000000</td>\n",
              "      <td>82.000000</td>\n",
              "      <td>82.000000</td>\n",
              "      <td>82.000000</td>\n",
              "      <td>82.000000</td>\n",
              "      <td>82.000000</td>\n",
              "      <td>82.000000</td>\n",
              "      <td>82.000000</td>\n",
              "      <td>82.000000</td>\n",
              "    </tr>\n",
              "    <tr>\n",
              "      <th>mean</th>\n",
              "      <td>82.890244</td>\n",
              "      <td>75.109756</td>\n",
              "      <td>78.560976</td>\n",
              "      <td>81.243902</td>\n",
              "      <td>79.073171</td>\n",
              "      <td>82.317073</td>\n",
              "      <td>84.146341</td>\n",
              "      <td>92.682927</td>\n",
              "      <td>66.670732</td>\n",
              "      <td>656.024390</td>\n",
              "    </tr>\n",
              "    <tr>\n",
              "      <th>std</th>\n",
              "      <td>22.493898</td>\n",
              "      <td>29.597300</td>\n",
              "      <td>25.623146</td>\n",
              "      <td>15.462069</td>\n",
              "      <td>18.720017</td>\n",
              "      <td>25.256647</td>\n",
              "      <td>28.150882</td>\n",
              "      <td>26.201912</td>\n",
              "      <td>19.717170</td>\n",
              "      <td>129.745047</td>\n",
              "    </tr>\n",
              "    <tr>\n",
              "      <th>min</th>\n",
              "      <td>10.000000</td>\n",
              "      <td>0.000000</td>\n",
              "      <td>0.000000</td>\n",
              "      <td>30.000000</td>\n",
              "      <td>20.000000</td>\n",
              "      <td>0.000000</td>\n",
              "      <td>0.000000</td>\n",
              "      <td>0.000000</td>\n",
              "      <td>0.000000</td>\n",
              "      <td>124.000000</td>\n",
              "    </tr>\n",
              "    <tr>\n",
              "      <th>25%</th>\n",
              "      <td>80.000000</td>\n",
              "      <td>59.250000</td>\n",
              "      <td>75.000000</td>\n",
              "      <td>70.000000</td>\n",
              "      <td>70.000000</td>\n",
              "      <td>75.000000</td>\n",
              "      <td>70.000000</td>\n",
              "      <td>100.000000</td>\n",
              "      <td>60.000000</td>\n",
              "      <td>611.250000</td>\n",
              "    </tr>\n",
              "    <tr>\n",
              "      <th>50%</th>\n",
              "      <td>90.000000</td>\n",
              "      <td>85.500000</td>\n",
              "      <td>85.000000</td>\n",
              "      <td>83.000000</td>\n",
              "      <td>80.000000</td>\n",
              "      <td>100.000000</td>\n",
              "      <td>100.000000</td>\n",
              "      <td>100.000000</td>\n",
              "      <td>70.000000</td>\n",
              "      <td>689.000000</td>\n",
              "    </tr>\n",
              "    <tr>\n",
              "      <th>75%</th>\n",
              "      <td>100.000000</td>\n",
              "      <td>100.000000</td>\n",
              "      <td>100.000000</td>\n",
              "      <td>90.000000</td>\n",
              "      <td>90.000000</td>\n",
              "      <td>100.000000</td>\n",
              "      <td>100.000000</td>\n",
              "      <td>100.000000</td>\n",
              "      <td>79.250000</td>\n",
              "      <td>744.250000</td>\n",
              "    </tr>\n",
              "    <tr>\n",
              "      <th>max</th>\n",
              "      <td>100.000000</td>\n",
              "      <td>100.000000</td>\n",
              "      <td>100.000000</td>\n",
              "      <td>100.000000</td>\n",
              "      <td>100.000000</td>\n",
              "      <td>100.000000</td>\n",
              "      <td>100.000000</td>\n",
              "      <td>100.000000</td>\n",
              "      <td>95.000000</td>\n",
              "      <td>790.000000</td>\n",
              "    </tr>\n",
              "  </tbody>\n",
              "</table>\n",
              "</div>\n",
              "      <button class=\"colab-df-convert\" onclick=\"convertToInteractive('df-82caeecf-42e0-4a69-9dfe-c6de2b0e1fa4')\"\n",
              "              title=\"Convert this dataframe to an interactive table.\"\n",
              "              style=\"display:none;\">\n",
              "        \n",
              "  <svg xmlns=\"http://www.w3.org/2000/svg\" height=\"24px\"viewBox=\"0 0 24 24\"\n",
              "       width=\"24px\">\n",
              "    <path d=\"M0 0h24v24H0V0z\" fill=\"none\"/>\n",
              "    <path d=\"M18.56 5.44l.94 2.06.94-2.06 2.06-.94-2.06-.94-.94-2.06-.94 2.06-2.06.94zm-11 1L8.5 8.5l.94-2.06 2.06-.94-2.06-.94L8.5 2.5l-.94 2.06-2.06.94zm10 10l.94 2.06.94-2.06 2.06-.94-2.06-.94-.94-2.06-.94 2.06-2.06.94z\"/><path d=\"M17.41 7.96l-1.37-1.37c-.4-.4-.92-.59-1.43-.59-.52 0-1.04.2-1.43.59L10.3 9.45l-7.72 7.72c-.78.78-.78 2.05 0 2.83L4 21.41c.39.39.9.59 1.41.59.51 0 1.02-.2 1.41-.59l7.78-7.78 2.81-2.81c.8-.78.8-2.07 0-2.86zM5.41 20L4 18.59l7.72-7.72 1.47 1.35L5.41 20z\"/>\n",
              "  </svg>\n",
              "      </button>\n",
              "      \n",
              "  <style>\n",
              "    .colab-df-container {\n",
              "      display:flex;\n",
              "      flex-wrap:wrap;\n",
              "      gap: 12px;\n",
              "    }\n",
              "\n",
              "    .colab-df-convert {\n",
              "      background-color: #E8F0FE;\n",
              "      border: none;\n",
              "      border-radius: 50%;\n",
              "      cursor: pointer;\n",
              "      display: none;\n",
              "      fill: #1967D2;\n",
              "      height: 32px;\n",
              "      padding: 0 0 0 0;\n",
              "      width: 32px;\n",
              "    }\n",
              "\n",
              "    .colab-df-convert:hover {\n",
              "      background-color: #E2EBFA;\n",
              "      box-shadow: 0px 1px 2px rgba(60, 64, 67, 0.3), 0px 1px 3px 1px rgba(60, 64, 67, 0.15);\n",
              "      fill: #174EA6;\n",
              "    }\n",
              "\n",
              "    [theme=dark] .colab-df-convert {\n",
              "      background-color: #3B4455;\n",
              "      fill: #D2E3FC;\n",
              "    }\n",
              "\n",
              "    [theme=dark] .colab-df-convert:hover {\n",
              "      background-color: #434B5C;\n",
              "      box-shadow: 0px 1px 3px 1px rgba(0, 0, 0, 0.15);\n",
              "      filter: drop-shadow(0px 1px 2px rgba(0, 0, 0, 0.3));\n",
              "      fill: #FFFFFF;\n",
              "    }\n",
              "  </style>\n",
              "\n",
              "      <script>\n",
              "        const buttonEl =\n",
              "          document.querySelector('#df-82caeecf-42e0-4a69-9dfe-c6de2b0e1fa4 button.colab-df-convert');\n",
              "        buttonEl.style.display =\n",
              "          google.colab.kernel.accessAllowed ? 'block' : 'none';\n",
              "\n",
              "        async function convertToInteractive(key) {\n",
              "          const element = document.querySelector('#df-82caeecf-42e0-4a69-9dfe-c6de2b0e1fa4');\n",
              "          const dataTable =\n",
              "            await google.colab.kernel.invokeFunction('convertToInteractive',\n",
              "                                                     [key], {});\n",
              "          if (!dataTable) return;\n",
              "\n",
              "          const docLinkHtml = 'Like what you see? Visit the ' +\n",
              "            '<a target=\"_blank\" href=https://colab.research.google.com/notebooks/data_table.ipynb>data table notebook</a>'\n",
              "            + ' to learn more about interactive tables.';\n",
              "          element.innerHTML = '';\n",
              "          dataTable['output_type'] = 'display_data';\n",
              "          await google.colab.output.renderOutput(dataTable, element);\n",
              "          const docLink = document.createElement('div');\n",
              "          docLink.innerHTML = docLinkHtml;\n",
              "          element.appendChild(docLink);\n",
              "        }\n",
              "      </script>\n",
              "    </div>\n",
              "  </div>\n",
              "  "
            ],
            "text/plain": [
              "             NO.1        NO.2        NO.3  ...     reportB       exam       total\n",
              "count   82.000000   82.000000   82.000000  ...   82.000000  82.000000   82.000000\n",
              "mean    82.890244   75.109756   78.560976  ...   92.682927  66.670732  656.024390\n",
              "std     22.493898   29.597300   25.623146  ...   26.201912  19.717170  129.745047\n",
              "min     10.000000    0.000000    0.000000  ...    0.000000   0.000000  124.000000\n",
              "25%     80.000000   59.250000   75.000000  ...  100.000000  60.000000  611.250000\n",
              "50%     90.000000   85.500000   85.000000  ...  100.000000  70.000000  689.000000\n",
              "75%    100.000000  100.000000  100.000000  ...  100.000000  79.250000  744.250000\n",
              "max    100.000000  100.000000  100.000000  ...  100.000000  95.000000  790.000000\n",
              "\n",
              "[8 rows x 10 columns]"
            ]
          },
          "metadata": {},
          "execution_count": 182
        }
      ]
    },
    {
      "cell_type": "code",
      "source": [
        "total18=total17[a1]\n",
        "total19=total17[a3]\n",
        "total20=total17[a2]\n",
        "total20"
      ],
      "metadata": {
        "id": "vGeOCQq7218t",
        "colab": {
          "base_uri": "https://localhost:8080/",
          "height": 424
        },
        "outputId": "0b6fc721-ac8a-4405-bb3d-90d30817f6dd"
      },
      "execution_count": null,
      "outputs": [
        {
          "output_type": "execute_result",
          "data": {
            "text/html": [
              "\n",
              "  <div id=\"df-7714a071-1a15-4328-8857-60d7fcdcf502\">\n",
              "    <div class=\"colab-df-container\">\n",
              "      <div>\n",
              "<style scoped>\n",
              "    .dataframe tbody tr th:only-of-type {\n",
              "        vertical-align: middle;\n",
              "    }\n",
              "\n",
              "    .dataframe tbody tr th {\n",
              "        vertical-align: top;\n",
              "    }\n",
              "\n",
              "    .dataframe thead th {\n",
              "        text-align: right;\n",
              "    }\n",
              "</style>\n",
              "<table border=\"1\" class=\"dataframe\">\n",
              "  <thead>\n",
              "    <tr style=\"text-align: right;\">\n",
              "      <th></th>\n",
              "      <th>NO.1</th>\n",
              "      <th>NO.2</th>\n",
              "      <th>NO.3</th>\n",
              "      <th>NO.4</th>\n",
              "      <th>NO.5</th>\n",
              "      <th>NO.6</th>\n",
              "      <th>reportA</th>\n",
              "      <th>reportB</th>\n",
              "      <th>exam</th>\n",
              "    </tr>\n",
              "  </thead>\n",
              "  <tbody>\n",
              "    <tr>\n",
              "      <th>0</th>\n",
              "      <td>100</td>\n",
              "      <td>100</td>\n",
              "      <td>75</td>\n",
              "      <td>90</td>\n",
              "      <td>80</td>\n",
              "      <td>100</td>\n",
              "      <td>100</td>\n",
              "      <td>100</td>\n",
              "      <td>90</td>\n",
              "    </tr>\n",
              "    <tr>\n",
              "      <th>1</th>\n",
              "      <td>100</td>\n",
              "      <td>100</td>\n",
              "      <td>100</td>\n",
              "      <td>90</td>\n",
              "      <td>80</td>\n",
              "      <td>100</td>\n",
              "      <td>100</td>\n",
              "      <td>100</td>\n",
              "      <td>90</td>\n",
              "    </tr>\n",
              "    <tr>\n",
              "      <th>2</th>\n",
              "      <td>100</td>\n",
              "      <td>96</td>\n",
              "      <td>100</td>\n",
              "      <td>90</td>\n",
              "      <td>80</td>\n",
              "      <td>100</td>\n",
              "      <td>100</td>\n",
              "      <td>100</td>\n",
              "      <td>45</td>\n",
              "    </tr>\n",
              "    <tr>\n",
              "      <th>3</th>\n",
              "      <td>80</td>\n",
              "      <td>86</td>\n",
              "      <td>85</td>\n",
              "      <td>90</td>\n",
              "      <td>100</td>\n",
              "      <td>75</td>\n",
              "      <td>70</td>\n",
              "      <td>100</td>\n",
              "      <td>57</td>\n",
              "    </tr>\n",
              "    <tr>\n",
              "      <th>4</th>\n",
              "      <td>90</td>\n",
              "      <td>100</td>\n",
              "      <td>100</td>\n",
              "      <td>90</td>\n",
              "      <td>100</td>\n",
              "      <td>100</td>\n",
              "      <td>100</td>\n",
              "      <td>100</td>\n",
              "      <td>50</td>\n",
              "    </tr>\n",
              "    <tr>\n",
              "      <th>...</th>\n",
              "      <td>...</td>\n",
              "      <td>...</td>\n",
              "      <td>...</td>\n",
              "      <td>...</td>\n",
              "      <td>...</td>\n",
              "      <td>...</td>\n",
              "      <td>...</td>\n",
              "      <td>...</td>\n",
              "      <td>...</td>\n",
              "    </tr>\n",
              "    <tr>\n",
              "      <th>99</th>\n",
              "      <td>70</td>\n",
              "      <td>90</td>\n",
              "      <td>88</td>\n",
              "      <td>88</td>\n",
              "      <td>100</td>\n",
              "      <td>100</td>\n",
              "      <td>100</td>\n",
              "      <td>100</td>\n",
              "      <td>65</td>\n",
              "    </tr>\n",
              "    <tr>\n",
              "      <th>100</th>\n",
              "      <td>90</td>\n",
              "      <td>100</td>\n",
              "      <td>100</td>\n",
              "      <td>90</td>\n",
              "      <td>80</td>\n",
              "      <td>100</td>\n",
              "      <td>70</td>\n",
              "      <td>0</td>\n",
              "      <td>82</td>\n",
              "    </tr>\n",
              "    <tr>\n",
              "      <th>102</th>\n",
              "      <td>100</td>\n",
              "      <td>0</td>\n",
              "      <td>100</td>\n",
              "      <td>90</td>\n",
              "      <td>60</td>\n",
              "      <td>100</td>\n",
              "      <td>100</td>\n",
              "      <td>100</td>\n",
              "      <td>77</td>\n",
              "    </tr>\n",
              "    <tr>\n",
              "      <th>103</th>\n",
              "      <td>100</td>\n",
              "      <td>75</td>\n",
              "      <td>0</td>\n",
              "      <td>70</td>\n",
              "      <td>80</td>\n",
              "      <td>50</td>\n",
              "      <td>100</td>\n",
              "      <td>100</td>\n",
              "      <td>75</td>\n",
              "    </tr>\n",
              "    <tr>\n",
              "      <th>106</th>\n",
              "      <td>90</td>\n",
              "      <td>100</td>\n",
              "      <td>100</td>\n",
              "      <td>90</td>\n",
              "      <td>80</td>\n",
              "      <td>100</td>\n",
              "      <td>100</td>\n",
              "      <td>100</td>\n",
              "      <td>62</td>\n",
              "    </tr>\n",
              "  </tbody>\n",
              "</table>\n",
              "<p>82 rows × 9 columns</p>\n",
              "</div>\n",
              "      <button class=\"colab-df-convert\" onclick=\"convertToInteractive('df-7714a071-1a15-4328-8857-60d7fcdcf502')\"\n",
              "              title=\"Convert this dataframe to an interactive table.\"\n",
              "              style=\"display:none;\">\n",
              "        \n",
              "  <svg xmlns=\"http://www.w3.org/2000/svg\" height=\"24px\"viewBox=\"0 0 24 24\"\n",
              "       width=\"24px\">\n",
              "    <path d=\"M0 0h24v24H0V0z\" fill=\"none\"/>\n",
              "    <path d=\"M18.56 5.44l.94 2.06.94-2.06 2.06-.94-2.06-.94-.94-2.06-.94 2.06-2.06.94zm-11 1L8.5 8.5l.94-2.06 2.06-.94-2.06-.94L8.5 2.5l-.94 2.06-2.06.94zm10 10l.94 2.06.94-2.06 2.06-.94-2.06-.94-.94-2.06-.94 2.06-2.06.94z\"/><path d=\"M17.41 7.96l-1.37-1.37c-.4-.4-.92-.59-1.43-.59-.52 0-1.04.2-1.43.59L10.3 9.45l-7.72 7.72c-.78.78-.78 2.05 0 2.83L4 21.41c.39.39.9.59 1.41.59.51 0 1.02-.2 1.41-.59l7.78-7.78 2.81-2.81c.8-.78.8-2.07 0-2.86zM5.41 20L4 18.59l7.72-7.72 1.47 1.35L5.41 20z\"/>\n",
              "  </svg>\n",
              "      </button>\n",
              "      \n",
              "  <style>\n",
              "    .colab-df-container {\n",
              "      display:flex;\n",
              "      flex-wrap:wrap;\n",
              "      gap: 12px;\n",
              "    }\n",
              "\n",
              "    .colab-df-convert {\n",
              "      background-color: #E8F0FE;\n",
              "      border: none;\n",
              "      border-radius: 50%;\n",
              "      cursor: pointer;\n",
              "      display: none;\n",
              "      fill: #1967D2;\n",
              "      height: 32px;\n",
              "      padding: 0 0 0 0;\n",
              "      width: 32px;\n",
              "    }\n",
              "\n",
              "    .colab-df-convert:hover {\n",
              "      background-color: #E2EBFA;\n",
              "      box-shadow: 0px 1px 2px rgba(60, 64, 67, 0.3), 0px 1px 3px 1px rgba(60, 64, 67, 0.15);\n",
              "      fill: #174EA6;\n",
              "    }\n",
              "\n",
              "    [theme=dark] .colab-df-convert {\n",
              "      background-color: #3B4455;\n",
              "      fill: #D2E3FC;\n",
              "    }\n",
              "\n",
              "    [theme=dark] .colab-df-convert:hover {\n",
              "      background-color: #434B5C;\n",
              "      box-shadow: 0px 1px 3px 1px rgba(0, 0, 0, 0.15);\n",
              "      filter: drop-shadow(0px 1px 2px rgba(0, 0, 0, 0.3));\n",
              "      fill: #FFFFFF;\n",
              "    }\n",
              "  </style>\n",
              "\n",
              "      <script>\n",
              "        const buttonEl =\n",
              "          document.querySelector('#df-7714a071-1a15-4328-8857-60d7fcdcf502 button.colab-df-convert');\n",
              "        buttonEl.style.display =\n",
              "          google.colab.kernel.accessAllowed ? 'block' : 'none';\n",
              "\n",
              "        async function convertToInteractive(key) {\n",
              "          const element = document.querySelector('#df-7714a071-1a15-4328-8857-60d7fcdcf502');\n",
              "          const dataTable =\n",
              "            await google.colab.kernel.invokeFunction('convertToInteractive',\n",
              "                                                     [key], {});\n",
              "          if (!dataTable) return;\n",
              "\n",
              "          const docLinkHtml = 'Like what you see? Visit the ' +\n",
              "            '<a target=\"_blank\" href=https://colab.research.google.com/notebooks/data_table.ipynb>data table notebook</a>'\n",
              "            + ' to learn more about interactive tables.';\n",
              "          element.innerHTML = '';\n",
              "          dataTable['output_type'] = 'display_data';\n",
              "          await google.colab.output.renderOutput(dataTable, element);\n",
              "          const docLink = document.createElement('div');\n",
              "          docLink.innerHTML = docLinkHtml;\n",
              "          element.appendChild(docLink);\n",
              "        }\n",
              "      </script>\n",
              "    </div>\n",
              "  </div>\n",
              "  "
            ],
            "text/plain": [
              "     NO.1  NO.2  NO.3  NO.4  NO.5  NO.6  reportA  reportB  exam\n",
              "0     100   100    75    90    80   100      100      100    90\n",
              "1     100   100   100    90    80   100      100      100    90\n",
              "2     100    96   100    90    80   100      100      100    45\n",
              "3      80    86    85    90   100    75       70      100    57\n",
              "4      90   100   100    90   100   100      100      100    50\n",
              "..    ...   ...   ...   ...   ...   ...      ...      ...   ...\n",
              "99     70    90    88    88   100   100      100      100    65\n",
              "100    90   100   100    90    80   100       70        0    82\n",
              "102   100     0   100    90    60   100      100      100    77\n",
              "103   100    75     0    70    80    50      100      100    75\n",
              "106    90   100   100    90    80   100      100      100    62\n",
              "\n",
              "[82 rows x 9 columns]"
            ]
          },
          "metadata": {},
          "execution_count": 183
        }
      ]
    },
    {
      "cell_type": "code",
      "source": [
        "dx17=total20.head(107)\n",
        "dx17[\"total\"]=dx17[\"NO.1\"]+dx17[\"NO.2\"]+dx17[\"NO.3\"]+dx17[\"NO.4\"]+dx17[\"NO.5\"]+dx17[\"NO.6\"]+dx17[\"reportA\"]+dx17[\"reportB\"]\n",
        "print(dx17.head(3))\n",
        "dx17.plot(kind='scatter',x='total',y='exam')"
      ],
      "metadata": {
        "id": "oAqE1wogKYKu",
        "colab": {
          "base_uri": "https://localhost:8080/",
          "height": 372
        },
        "outputId": "5a50cc8b-840e-4144-c664-d821a8f9efb2"
      },
      "execution_count": null,
      "outputs": [
        {
          "output_type": "stream",
          "name": "stdout",
          "text": [
            "   NO.1  NO.2  NO.3  NO.4  NO.5  NO.6  reportA  reportB  exam  total\n",
            "0   100   100    75    90    80   100      100      100    90    745\n",
            "1   100   100   100    90    80   100      100      100    90    770\n",
            "2   100    96   100    90    80   100      100      100    45    766\n"
          ]
        },
        {
          "output_type": "execute_result",
          "data": {
            "text/plain": [
              "<matplotlib.axes._subplots.AxesSubplot at 0x7f10e024c950>"
            ]
          },
          "metadata": {},
          "execution_count": 184
        },
        {
          "output_type": "display_data",
          "data": {
            "image/png": "[encoded data removed]",
            "text/plain": [
              "<Figure size 432x288 with 1 Axes>"
            ]
          },
          "metadata": {
            "needs_background": "light"
          }
        }
      ]
    },
    {
      "cell_type": "code",
      "source": [
        "total17.plot(kind='scatter',x='total',y='exam')"
      ],
      "metadata": {
        "id": "00xrRJq730n2",
        "colab": {
          "base_uri": "https://localhost:8080/",
          "height": 297
        },
        "outputId": "3d757bbd-bc14-4daf-eb21-d219447cf16d"
      },
      "execution_count": null,
      "outputs": [
        {
          "output_type": "execute_result",
          "data": {
            "text/plain": [
              "<matplotlib.axes._subplots.AxesSubplot at 0x7f10e01eb610>"
            ]
          },
          "metadata": {},
          "execution_count": 185
        },
        {
          "output_type": "display_data",
          "data": {
            "image/png": "[encoded data removed]",
            "text/plain": [
              "<Figure size 432x288 with 1 Axes>"
            ]
          },
          "metadata": {
            "needs_background": "light"
          }
        }
      ]
    },
    {
      "cell_type": "code",
      "source": [
        "#total18,total19を説明変数、目的変数に分割\n",
        "model17=LinearRegression()\n",
        "i=0 \n",
        "stotal64=0\n",
        "for i in range(10):\n",
        "    xtrain17,xtest17,ytrain17,ytest17=train_test_split(total18,total19,test_size=0.2,random_state=56)\n",
        "    model17.fit(xtrain17,ytrain17)\n",
        "    sval64=model17.score(xtest17, ytest17)\n",
        "    stotal64=stotal64+sval64\n",
        "    saverage65=stotal64/10\n",
        "print(saverage65)"
      ],
      "metadata": {
        "id": "fsJkDg11R_o1",
        "colab": {
          "base_uri": "https://localhost:8080/"
        },
        "outputId": "6893c5c4-116c-4e61-9429-e1fcc789ffc6"
      },
      "execution_count": null,
      "outputs": [
        {
          "output_type": "stream",
          "name": "stdout",
          "text": [
            "-0.9418981192286988\n"
          ]
        }
      ]
    },
    {
      "cell_type": "code",
      "source": [
        "#各カラムの特徴量\n",
        "i=0 \n",
        "for i in range(10):\n",
        "    xtrain17,xtest17,ytrain17,ytest17=train_test_split(total18,total19,test_size=0.2,random_state=i)\n",
        "    model17.fit(xtrain17,ytrain17)\n",
        "    print(model17.coef_)"
      ],
      "metadata": {
        "id": "xkU0YFD34thy",
        "colab": {
          "base_uri": "https://localhost:8080/"
        },
        "outputId": "460c4afa-82d0-43bf-83dd-07791b787cb6"
      },
      "execution_count": null,
      "outputs": [
        {
          "output_type": "stream",
          "name": "stdout",
          "text": [
            "[[ 0.16699743  0.02763488  0.0242996   0.04527328 -0.00577463  0.083835\n",
            "   0.17287217  0.17046016]]\n",
            "[[ 0.13135027 -0.00417371 -0.06348177  0.2958074   0.00131196  0.05657187\n",
            "   0.17711045  0.12989007]]\n",
            "[[ 0.13380908  0.02315274 -0.03411906  0.20252113  0.10477823  0.02640495\n",
            "   0.18215366  0.1396542 ]]\n",
            "[[ 0.12138128  0.04755421  0.00998916 -0.08864567 -0.00815379  0.08229869\n",
            "   0.38793396  0.03960252]]\n",
            "[[ 0.16397512  0.0339432  -0.08923648  0.04670379  0.13632193  0.03083429\n",
            "   0.14234825  0.2329378 ]]\n",
            "[[ 0.20535952  0.01678959  0.02960742 -0.01374043 -0.04149764  0.11113551\n",
            "   0.27457397  0.09681174]]\n",
            "[[ 0.24635626  0.04363334 -0.0245725   0.0108601  -0.12240933  0.07835023\n",
            "   0.20877122  0.06427984]]\n",
            "[[ 0.23154348  0.06365703  0.00672737  0.00137191 -0.09298976  0.11302177\n",
            "   0.17840605  0.18354328]]\n",
            "[[ 0.26295704  0.03502014 -0.02089824 -0.04943716 -0.10088168  0.21385688\n",
            "   0.21653295  0.1135237 ]]\n",
            "[[ 0.18846931  0.04277449  0.01766584 -0.00306652  0.01540367  0.05997868\n",
            "   0.26791009  0.13387215]]\n"
          ]
        }
      ]
    },
    {
      "cell_type": "code",
      "source": [
        "d005=d_result.drop([6,   9,  18,  30,  31,  34,  38,  40,  43,  47,  61,  62,  69,70,  74,  76,  79,  84,  85,  87,  96,  98, 101, 104, 105],axis=0)"
      ],
      "metadata": {
        "id": "oYy8at2Y3IKT"
      },
      "execution_count": null,
      "outputs": []
    },
    {
      "cell_type": "code",
      "source": [
        "#ロジスティック回帰\n",
        "#正解率\n",
        "\n",
        "logi17=LogisticRegression(random_state=0,C=0.1)\n",
        "i=0 \n",
        "stotal65=0\n",
        "stotal66=0\n",
        "for i in range(10):\n",
        "    xtrain017,xtest017,ytrain017,ytest017=train_test_split(total18,d005,test_size=0.2,random_state=i)\n",
        "    logi17.fit(xtrain017,ytrain017)\n",
        "\n",
        "    sval65=logi17.score(xtrain017,ytrain017)\n",
        "    sval66=logi17.score(xtest017,ytest017)\n",
        "    \n",
        "    stotal65=stotal65+sval65\n",
        "    stotal66=stotal66+sval66\n",
        "\n",
        "    saverage66=stotal65/10\n",
        "    saverage67=stotal66/10\n",
        "print(saverage66,saverage67)"
      ],
      "metadata": {
        "id": "lmpYB-gbS1Y5",
        "colab": {
          "base_uri": "https://localhost:8080/"
        },
        "outputId": "0dfb64b1-473b-4d4f-83c2-ceccb7c55c9f"
      },
      "execution_count": null,
      "outputs": [
        {
          "output_type": "stream",
          "name": "stdout",
          "text": [
            "0.8076923076923077 0.7705882352941178\n"
          ]
        }
      ]
    },
    {
      "cell_type": "code",
      "source": [
        "#予測 100回予測したうちの○○回は正解\n",
        "i=0\n",
        "stotal67=0\n",
        "for i in range(10):\n",
        "    xtrain017,xtest017,ytrain017,ytest017=train_test_split(total18,d005,test_size=0.2,random_state=i)\n",
        "    ypred17 = logi17.predict(xtest017)\n",
        "    sval67=accuracy_score(ytest017,ypred17)\n",
        "    stotal67=stotal67+sval67\n",
        "    saverage68=stotal67/10\n",
        "print(saverage68)"
      ],
      "metadata": {
        "id": "b2mMKQ4YSzlF",
        "colab": {
          "base_uri": "https://localhost:8080/"
        },
        "outputId": "f6567b09-7c54-46f2-d780-d97ef2018786"
      },
      "execution_count": null,
      "outputs": [
        {
          "output_type": "stream",
          "name": "stdout",
          "text": [
            "0.8117647058823529\n"
          ]
        }
      ]
    },
    {
      "cell_type": "code",
      "source": [
        "#9.2 相関係数で絞り込みver"
      ],
      "metadata": {
        "id": "PgOiOYKf3UGC"
      },
      "execution_count": null,
      "outputs": []
    },
    {
      "cell_type": "code",
      "source": [
        "total20_cor=total20.corr()['exam']\n",
        "\n",
        "abs_total20=total20_cor.map(abs)\n",
        "abs_total20.sort_values(ascending=False)"
      ],
      "metadata": {
        "id": "kHAHlnDc3N88",
        "colab": {
          "base_uri": "https://localhost:8080/"
        },
        "outputId": "217773d6-4adb-44bf-8829-b111b86c7949"
      },
      "execution_count": null,
      "outputs": [
        {
          "output_type": "execute_result",
          "data": {
            "text/plain": [
              "exam       1.000000\n",
              "reportA    0.583680\n",
              "NO.1       0.515996\n",
              "reportB    0.456485\n",
              "NO.6       0.403612\n",
              "NO.2       0.381661\n",
              "NO.5       0.380264\n",
              "NO.4       0.364885\n",
              "NO.3       0.234031\n",
              "Name: exam, dtype: float64"
            ]
          },
          "metadata": {},
          "execution_count": 192
        }
      ]
    },
    {
      "cell_type": "code",
      "source": [
        "col9=['reportA','NO.1','reportB','NO.6']\n",
        "total21=total20[col9]\n",
        "total22=total20[a3]"
      ],
      "metadata": {
        "id": "RCGwhLjk3gNO"
      },
      "execution_count": null,
      "outputs": []
    },
    {
      "cell_type": "code",
      "source": [
        "dx18=total20.head(107)\n",
        "dx18[\"total\"]=dx18[\"NO.1\"]+dx18[\"NO.6\"]+dx18[\"reportA\"]+dx18[\"reportB\"]\n",
        "print(dx18.head(3))\n",
        "dx18.plot(kind='scatter',x='total',y='exam')"
      ],
      "metadata": {
        "id": "EFWE4A3oOwKH",
        "colab": {
          "base_uri": "https://localhost:8080/",
          "height": 372
        },
        "outputId": "ed048f4d-c88d-4b77-abc0-e07ded7d45f8"
      },
      "execution_count": null,
      "outputs": [
        {
          "output_type": "stream",
          "name": "stdout",
          "text": [
            "   NO.1  NO.2  NO.3  NO.4  NO.5  NO.6  reportA  reportB  exam  total\n",
            "0   100   100    75    90    80   100      100      100    90    400\n",
            "1   100   100   100    90    80   100      100      100    90    400\n",
            "2   100    96   100    90    80   100      100      100    45    400\n"
          ]
        },
        {
          "output_type": "execute_result",
          "data": {
            "text/plain": [
              "<matplotlib.axes._subplots.AxesSubplot at 0x7f10e0114690>"
            ]
          },
          "metadata": {},
          "execution_count": 194
        },
        {
          "output_type": "display_data",
          "data": {
            "image/png": "[encoded data removed]",
            "text/plain": [
              "<Figure size 432x288 with 1 Axes>"
            ]
          },
          "metadata": {
            "needs_background": "light"
          }
        }
      ]
    },
    {
      "cell_type": "code",
      "source": [
        "  "
      ],
      "metadata": {
        "id": "vrw6mSJ-ng1b"
      },
      "execution_count": null,
      "outputs": []
    },
    {
      "cell_type": "code",
      "source": [
        "#total21,total22を説明変数、目的変数に分割\n",
        "model18=LinearRegression()\n",
        "i=0 \n",
        "stotal68=0\n",
        "\n",
        "for i in range(10):\n",
        "    xtrain18,xtest18,ytrain18,ytest18=train_test_split(total21,total22,test_size=0.2,random_state=i)\n",
        "    model18.fit(xtrain18,ytrain18)\n",
        "    sval68=model18.score(xtest18, ytest18)\n",
        "    stotal68=stotal68+sval68\n",
        "    saverage69=stotal68/10\n",
        "print(saverage69)"
      ],
      "metadata": {
        "id": "jwlHgx7oSM2I",
        "colab": {
          "base_uri": "https://localhost:8080/"
        },
        "outputId": "139b45cf-787a-4388-a171-c81769297ba5"
      },
      "execution_count": null,
      "outputs": [
        {
          "output_type": "stream",
          "name": "stdout",
          "text": [
            "0.4534187065154763\n"
          ]
        }
      ]
    },
    {
      "cell_type": "code",
      "source": [
        "#各カラムの特徴量\n",
        "i=0 \n",
        "for i in range(10):\n",
        "    xtrain18,xtest18,ytrain18,ytest18=train_test_split(total21,total22,test_size=0.2,random_state=i)\n",
        "    model18.fit(xtrain18,ytrain18)\n",
        "    print(model18.coef_)"
      ],
      "metadata": {
        "id": "NCgWubCZ4px0",
        "colab": {
          "base_uri": "https://localhost:8080/"
        },
        "outputId": "858b745f-a537-42e0-9e96-31b38ec6ceee"
      },
      "execution_count": null,
      "outputs": [
        {
          "output_type": "stream",
          "name": "stdout",
          "text": [
            "[[0.18024408 0.19134187 0.16946627 0.11874931]]\n",
            "[[0.17395745 0.206634   0.14503956 0.10079426]]\n",
            "[[0.18660425 0.21721126 0.14400445 0.09492906]]\n",
            "[[0.39440423 0.12111346 0.03352245 0.08350612]]\n",
            "[[0.164522   0.20692234 0.22940882 0.06636596]]\n",
            "[[0.27538292 0.20150357 0.09304213 0.12008764]]\n",
            "[[0.20369791 0.22690798 0.07992876 0.05917811]]\n",
            "[[0.17326657 0.23521064 0.18720463 0.11987617]]\n",
            "[[0.20854863 0.24673017 0.1190551  0.17771114]]\n",
            "[[0.27519855 0.21141468 0.1269619  0.08873568]]\n"
          ]
        }
      ]
    },
    {
      "cell_type": "code",
      "source": [
        "#ロジスティック回帰\n",
        "#正解率\n",
        "\n",
        "logi18=LogisticRegression(random_state=0,C=0.1)\n",
        "i=0 \n",
        "stotal69=0\n",
        "stotal70=0\n",
        "for i in range(10):\n",
        "    xtrain018,xtest018,ytrain018,ytest018=train_test_split(total21,d005,test_size=0.2,random_state=i)\n",
        "    logi18.fit(xtrain018,ytrain018)\n",
        "\n",
        "    sval69=logi18.score(xtrain018,ytrain018)\n",
        "    sval70=logi18.score(xtest018,ytest018)\n",
        "    \n",
        "    stotal69=stotal69+sval69\n",
        "    stotal70=stotal70+sval70\n",
        "\n",
        "    saverage70=stotal69/10\n",
        "    saverage71=stotal70/10\n",
        "print(saverage70,saverage71)\n"
      ],
      "metadata": {
        "id": "QX6d_yViQ96i",
        "colab": {
          "base_uri": "https://localhost:8080/"
        },
        "outputId": "7650b442-286f-472d-e9f9-25e67334ee2e"
      },
      "execution_count": null,
      "outputs": [
        {
          "output_type": "stream",
          "name": "stdout",
          "text": [
            "0.8046153846153846 0.8117647058823529\n"
          ]
        }
      ]
    },
    {
      "cell_type": "code",
      "source": [
        "#予測 100回予測したうちの○○回は正解\n",
        "i=0\n",
        "stotal71=0\n",
        "for i in range(10):\n",
        "    xtrain018,xtest018,ytrain018,ytest018=train_test_split(total21,d005,test_size=0.2,random_state=i)\n",
        "    ypred18= logi18.predict(xtest018)\n",
        "    sval71=accuracy_score(ytest018,ypred18)\n",
        "    stotal71=stotal71+sval71\n",
        "    saverage72=stotal71/10\n",
        "print(saverage72)"
      ],
      "metadata": {
        "id": "KgONhYupSkaM",
        "colab": {
          "base_uri": "https://localhost:8080/"
        },
        "outputId": "f4f77cbd-7fa1-439f-cbc7-239d43ff308c"
      },
      "execution_count": null,
      "outputs": [
        {
          "output_type": "stream",
          "name": "stdout",
          "text": [
            "0.8352941176470589\n"
          ]
        }
      ]
    },
    {
      "cell_type": "code",
      "source": [
        "list=[\n",
        "      [print(round(saverage1,3),round(saverage2,3),round(saverage3,3),round(saverage4,3))],\n",
        "      [print(round(saverage5,3),round(saverage6,3),round(saverage7,3),round(saverage8,3))],\n",
        "      [print(round(saverage9,3),round(saverage10,3),round(saverage11,3),round(saverage12,3))],\n",
        "      [print(round(saverage13,3),round(saverage14,3),round(saverage15,3),round(saverage16,3))],\n",
        "      [print(round(saverage17,3),round(saverage18,3),round(saverage19,3),round(saverage20,3))],\n",
        "      [print(round(saverage21,3),round(saverage22,3),round(saverage23,3),round(saverage24,3))],\n",
        "      [print(round(saverage25,3),round(saverage26,3),round(saverage27,3),round(saverage28,3))],\n",
        "      [print(round(saverage29,3),round(saverage30,3),round(saverage31,3),round(saverage32,3))],\n",
        "      [print(round(saverage33,3),round(saverage34,3),round(saverage35,3),round(saverage36,3))],\n",
        "      [print(round(saverage37,3),round(saverage38,3),round(saverage39,3),round(saverage40,3))],\n",
        "      [print(round(saverage41,3),round(saverage42,3),round(saverage43,3),round(saverage44,3))],\n",
        "      [print(round(saverage45,3),round(saverage46,3),round(saverage47,3),round(saverage48,3))],\n",
        "      [print(round(saverage49,3),round(saverage50,3),round(saverage51,3),round(saverage52,3))],\n",
        "      [print(round(saverage53,3),round(saverage54,3),round(saverage55,3),round(saverage56,3))],\n",
        "      [print(round(saverage57,3),round(saverage58,3),round(saverage59,3),round(saverage60,3))],\n",
        "      [print(round(saverage61,3),round(saverage62,3),round(saverage63,3),round(saverage64,3))],\n",
        "      [print(round(saverage65,3),round(saverage66,3),round(saverage67,3),round(saverage68,3))],\n",
        "      [print(round(saverage69,3),round(saverage70,3),round(saverage71,3),round(saverage72,3))],\n",
        "\n",
        "]\n"
      ],
      "metadata": {
        "id": "ExzVs8Lqch21",
        "colab": {
          "base_uri": "https://localhost:8080/"
        },
        "outputId": "23ca7cee-a36d-4dc8-9529-d04ac80207a8"
      },
      "execution_count": null,
      "outputs": [
        {
          "output_type": "stream",
          "name": "stdout",
          "text": [
            "0.413 0.722 0.691 0.686\n",
            "0.461 0.707 0.714 0.75\n",
            "-0.264 0.708 0.65 0.65\n",
            "-0.078 0.699 0.667 0.678\n",
            "-0.303 0.721 0.65 0.733\n",
            "-0.166 0.721 0.644 0.689\n",
            "-0.351 0.717 0.628 0.661\n",
            "-0.221 0.729 0.65 0.694\n",
            "0.361 0.694 0.705 0.709\n",
            "0.42 0.698 0.691 0.7\n",
            "0.37 0.724 0.709 0.723\n",
            "0.434 0.706 0.695 0.718\n",
            "0.196 0.773 0.647 0.679\n",
            "0.279 0.759 0.7 0.689\n",
            "0.281 0.774 0.639 0.711\n",
            "0.27 0.708 0.683 0.711\n",
            "-0.942 0.808 0.771 0.812\n",
            "0.453 0.805 0.812 0.835\n"
          ]
        }
      ]
    },
    {
      "cell_type": "code",
      "source": [
        "list=[\n",
        "      [round(saverage1,3),round(saverage2,3),round(saverage3,3),round(saverage4,3)],\n",
        "      [round(saverage5,3),round(saverage6,3),round(saverage7,3),round(saverage8,3)],\n",
        "      [round(saverage9,3),round(saverage10,3),round(saverage11,3),round(saverage12,3)],\n",
        "      [round(saverage13,3),round(saverage14,3),round(saverage15,3),round(saverage16,3)],\n",
        "      [round(saverage17,3),round(saverage18,3),round(saverage19,3),round(saverage20,3)],\n",
        "      [round(saverage21,3),round(saverage22,3),round(saverage23,3),round(saverage24,3)],\n",
        "      [round(saverage25,3),round(saverage26,3),round(saverage27,3),round(saverage28,3)],\n",
        "      [round(saverage29,3),round(saverage30,3),round(saverage31,3),round(saverage32,3)],\n",
        "      [round(saverage33,3),round(saverage34,3),round(saverage35,3),round(saverage36,3)],\n",
        "      [round(saverage37,3),round(saverage38,3),round(saverage39,3),round(saverage40,3)],\n",
        "      [round(saverage41,3),round(saverage42,3),round(saverage43,3),round(saverage44,3)],\n",
        "      [round(saverage45,3),round(saverage46,3),round(saverage47,3),round(saverage48,3)],\n",
        "      [round(saverage49,3),round(saverage50,3),round(saverage51,3),round(saverage52,3)],\n",
        "      [round(saverage53,3),round(saverage54,3),round(saverage55,3),round(saverage56,3)],\n",
        "      [round(saverage57,3),round(saverage58,3),round(saverage59,3),round(saverage60,3)],\n",
        "      [round(saverage61,3),round(saverage62,3),round(saverage63,3),round(saverage64,3)],\n",
        "      [round(saverage65,3),round(saverage66,3),round(saverage67,3),round(saverage68,3)],\n",
        "      [round(saverage69,3),round(saverage70,3),round(saverage71,3),round(saverage72,3)],\n",
        "\n",
        "]\n",
        "DATA=pd.DataFrame(list)\n",
        "DATA"
      ],
      "metadata": {
        "id": "ipSqtEw8Xy2o",
        "colab": {
          "base_uri": "https://localhost:8080/",
          "height": 614
        },
        "outputId": "1c6b3b73-af72-4290-c199-892fffca9356"
      },
      "execution_count": null,
      "outputs": [
        {
          "output_type": "execute_result",
          "data": {
            "text/html": [
              "\n",
              "  <div id=\"df-3fe2c228-3d04-4a43-bd1e-8b97618d15a3\">\n",
              "    <div class=\"colab-df-container\">\n",
              "      <div>\n",
              "<style scoped>\n",
              "    .dataframe tbody tr th:only-of-type {\n",
              "        vertical-align: middle;\n",
              "    }\n",
              "\n",
              "    .dataframe tbody tr th {\n",
              "        vertical-align: top;\n",
              "    }\n",
              "\n",
              "    .dataframe thead th {\n",
              "        text-align: right;\n",
              "    }\n",
              "</style>\n",
              "<table border=\"1\" class=\"dataframe\">\n",
              "  <thead>\n",
              "    <tr style=\"text-align: right;\">\n",
              "      <th></th>\n",
              "      <th>0</th>\n",
              "      <th>1</th>\n",
              "      <th>2</th>\n",
              "      <th>3</th>\n",
              "    </tr>\n",
              "  </thead>\n",
              "  <tbody>\n",
              "    <tr>\n",
              "      <th>0</th>\n",
              "      <td>0.413</td>\n",
              "      <td>0.722</td>\n",
              "      <td>0.691</td>\n",
              "      <td>0.686</td>\n",
              "    </tr>\n",
              "    <tr>\n",
              "      <th>1</th>\n",
              "      <td>0.461</td>\n",
              "      <td>0.707</td>\n",
              "      <td>0.714</td>\n",
              "      <td>0.750</td>\n",
              "    </tr>\n",
              "    <tr>\n",
              "      <th>2</th>\n",
              "      <td>-0.264</td>\n",
              "      <td>0.708</td>\n",
              "      <td>0.650</td>\n",
              "      <td>0.650</td>\n",
              "    </tr>\n",
              "    <tr>\n",
              "      <th>3</th>\n",
              "      <td>-0.078</td>\n",
              "      <td>0.699</td>\n",
              "      <td>0.667</td>\n",
              "      <td>0.678</td>\n",
              "    </tr>\n",
              "    <tr>\n",
              "      <th>4</th>\n",
              "      <td>-0.303</td>\n",
              "      <td>0.721</td>\n",
              "      <td>0.650</td>\n",
              "      <td>0.733</td>\n",
              "    </tr>\n",
              "    <tr>\n",
              "      <th>5</th>\n",
              "      <td>-0.166</td>\n",
              "      <td>0.721</td>\n",
              "      <td>0.644</td>\n",
              "      <td>0.689</td>\n",
              "    </tr>\n",
              "    <tr>\n",
              "      <th>6</th>\n",
              "      <td>-0.351</td>\n",
              "      <td>0.717</td>\n",
              "      <td>0.628</td>\n",
              "      <td>0.661</td>\n",
              "    </tr>\n",
              "    <tr>\n",
              "      <th>7</th>\n",
              "      <td>-0.221</td>\n",
              "      <td>0.729</td>\n",
              "      <td>0.650</td>\n",
              "      <td>0.694</td>\n",
              "    </tr>\n",
              "    <tr>\n",
              "      <th>8</th>\n",
              "      <td>0.361</td>\n",
              "      <td>0.694</td>\n",
              "      <td>0.705</td>\n",
              "      <td>0.709</td>\n",
              "    </tr>\n",
              "    <tr>\n",
              "      <th>9</th>\n",
              "      <td>0.420</td>\n",
              "      <td>0.698</td>\n",
              "      <td>0.691</td>\n",
              "      <td>0.700</td>\n",
              "    </tr>\n",
              "    <tr>\n",
              "      <th>10</th>\n",
              "      <td>0.370</td>\n",
              "      <td>0.724</td>\n",
              "      <td>0.709</td>\n",
              "      <td>0.723</td>\n",
              "    </tr>\n",
              "    <tr>\n",
              "      <th>11</th>\n",
              "      <td>0.434</td>\n",
              "      <td>0.706</td>\n",
              "      <td>0.695</td>\n",
              "      <td>0.718</td>\n",
              "    </tr>\n",
              "    <tr>\n",
              "      <th>12</th>\n",
              "      <td>0.196</td>\n",
              "      <td>0.773</td>\n",
              "      <td>0.647</td>\n",
              "      <td>0.679</td>\n",
              "    </tr>\n",
              "    <tr>\n",
              "      <th>13</th>\n",
              "      <td>0.279</td>\n",
              "      <td>0.759</td>\n",
              "      <td>0.700</td>\n",
              "      <td>0.689</td>\n",
              "    </tr>\n",
              "    <tr>\n",
              "      <th>14</th>\n",
              "      <td>0.281</td>\n",
              "      <td>0.774</td>\n",
              "      <td>0.639</td>\n",
              "      <td>0.711</td>\n",
              "    </tr>\n",
              "    <tr>\n",
              "      <th>15</th>\n",
              "      <td>0.270</td>\n",
              "      <td>0.708</td>\n",
              "      <td>0.683</td>\n",
              "      <td>0.711</td>\n",
              "    </tr>\n",
              "    <tr>\n",
              "      <th>16</th>\n",
              "      <td>-0.942</td>\n",
              "      <td>0.808</td>\n",
              "      <td>0.771</td>\n",
              "      <td>0.812</td>\n",
              "    </tr>\n",
              "    <tr>\n",
              "      <th>17</th>\n",
              "      <td>0.453</td>\n",
              "      <td>0.805</td>\n",
              "      <td>0.812</td>\n",
              "      <td>0.835</td>\n",
              "    </tr>\n",
              "  </tbody>\n",
              "</table>\n",
              "</div>\n",
              "      <button class=\"colab-df-convert\" onclick=\"convertToInteractive('df-3fe2c228-3d04-4a43-bd1e-8b97618d15a3')\"\n",
              "              title=\"Convert this dataframe to an interactive table.\"\n",
              "              style=\"display:none;\">\n",
              "        \n",
              "  <svg xmlns=\"http://www.w3.org/2000/svg\" height=\"24px\"viewBox=\"0 0 24 24\"\n",
              "       width=\"24px\">\n",
              "    <path d=\"M0 0h24v24H0V0z\" fill=\"none\"/>\n",
              "    <path d=\"M18.56 5.44l.94 2.06.94-2.06 2.06-.94-2.06-.94-.94-2.06-.94 2.06-2.06.94zm-11 1L8.5 8.5l.94-2.06 2.06-.94-2.06-.94L8.5 2.5l-.94 2.06-2.06.94zm10 10l.94 2.06.94-2.06 2.06-.94-2.06-.94-.94-2.06-.94 2.06-2.06.94z\"/><path d=\"M17.41 7.96l-1.37-1.37c-.4-.4-.92-.59-1.43-.59-.52 0-1.04.2-1.43.59L10.3 9.45l-7.72 7.72c-.78.78-.78 2.05 0 2.83L4 21.41c.39.39.9.59 1.41.59.51 0 1.02-.2 1.41-.59l7.78-7.78 2.81-2.81c.8-.78.8-2.07 0-2.86zM5.41 20L4 18.59l7.72-7.72 1.47 1.35L5.41 20z\"/>\n",
              "  </svg>\n",
              "      </button>\n",
              "      \n",
              "  <style>\n",
              "    .colab-df-container {\n",
              "      display:flex;\n",
              "      flex-wrap:wrap;\n",
              "      gap: 12px;\n",
              "    }\n",
              "\n",
              "    .colab-df-convert {\n",
              "      background-color: #E8F0FE;\n",
              "      border: none;\n",
              "      border-radius: 50%;\n",
              "      cursor: pointer;\n",
              "      display: none;\n",
              "      fill: #1967D2;\n",
              "      height: 32px;\n",
              "      padding: 0 0 0 0;\n",
              "      width: 32px;\n",
              "    }\n",
              "\n",
              "    .colab-df-convert:hover {\n",
              "      background-color: #E2EBFA;\n",
              "      box-shadow: 0px 1px 2px rgba(60, 64, 67, 0.3), 0px 1px 3px 1px rgba(60, 64, 67, 0.15);\n",
              "      fill: #174EA6;\n",
              "    }\n",
              "\n",
              "    [theme=dark] .colab-df-convert {\n",
              "      background-color: #3B4455;\n",
              "      fill: #D2E3FC;\n",
              "    }\n",
              "\n",
              "    [theme=dark] .colab-df-convert:hover {\n",
              "      background-color: #434B5C;\n",
              "      box-shadow: 0px 1px 3px 1px rgba(0, 0, 0, 0.15);\n",
              "      filter: drop-shadow(0px 1px 2px rgba(0, 0, 0, 0.3));\n",
              "      fill: #FFFFFF;\n",
              "    }\n",
              "  </style>\n",
              "\n",
              "      <script>\n",
              "        const buttonEl =\n",
              "          document.querySelector('#df-3fe2c228-3d04-4a43-bd1e-8b97618d15a3 button.colab-df-convert');\n",
              "        buttonEl.style.display =\n",
              "          google.colab.kernel.accessAllowed ? 'block' : 'none';\n",
              "\n",
              "        async function convertToInteractive(key) {\n",
              "          const element = document.querySelector('#df-3fe2c228-3d04-4a43-bd1e-8b97618d15a3');\n",
              "          const dataTable =\n",
              "            await google.colab.kernel.invokeFunction('convertToInteractive',\n",
              "                                                     [key], {});\n",
              "          if (!dataTable) return;\n",
              "\n",
              "          const docLinkHtml = 'Like what you see? Visit the ' +\n",
              "            '<a target=\"_blank\" href=https://colab.research.google.com/notebooks/data_table.ipynb>data table notebook</a>'\n",
              "            + ' to learn more about interactive tables.';\n",
              "          element.innerHTML = '';\n",
              "          dataTable['output_type'] = 'display_data';\n",
              "          await google.colab.output.renderOutput(dataTable, element);\n",
              "          const docLink = document.createElement('div');\n",
              "          docLink.innerHTML = docLinkHtml;\n",
              "          element.appendChild(docLink);\n",
              "        }\n",
              "      </script>\n",
              "    </div>\n",
              "  </div>\n",
              "  "
            ],
            "text/plain": [
              "        0      1      2      3\n",
              "0   0.413  0.722  0.691  0.686\n",
              "1   0.461  0.707  0.714  0.750\n",
              "2  -0.264  0.708  0.650  0.650\n",
              "3  -0.078  0.699  0.667  0.678\n",
              "4  -0.303  0.721  0.650  0.733\n",
              "5  -0.166  0.721  0.644  0.689\n",
              "6  -0.351  0.717  0.628  0.661\n",
              "7  -0.221  0.729  0.650  0.694\n",
              "8   0.361  0.694  0.705  0.709\n",
              "9   0.420  0.698  0.691  0.700\n",
              "10  0.370  0.724  0.709  0.723\n",
              "11  0.434  0.706  0.695  0.718\n",
              "12  0.196  0.773  0.647  0.679\n",
              "13  0.279  0.759  0.700  0.689\n",
              "14  0.281  0.774  0.639  0.711\n",
              "15  0.270  0.708  0.683  0.711\n",
              "16 -0.942  0.808  0.771  0.812\n",
              "17  0.453  0.805  0.812  0.835"
            ]
          },
          "metadata": {},
          "execution_count": 200
        }
      ]
    },
    {
      "cell_type": "code",
      "source": [
        "DATA.index=['1','2','3','4','5','6','7','8','9','10','11','12','13','14','15','16','17','18']\n",
        "DATA.columns=['決定係数','学習データの正解率','テストデータの正解率 ','予測']\n",
        "DATA"
      ],
      "metadata": {
        "id": "tybBZFdsejfD",
        "colab": {
          "base_uri": "https://localhost:8080/",
          "height": 614
        },
        "outputId": "fb2c86fb-609c-4bb6-b609-5193cb494e3c"
      },
      "execution_count": null,
      "outputs": [
        {
          "output_type": "execute_result",
          "data": {
            "text/html": [
              "\n",
              "  <div id=\"df-0096470b-4482-4291-9c99-23f98798d700\">\n",
              "    <div class=\"colab-df-container\">\n",
              "      <div>\n",
              "<style scoped>\n",
              "    .dataframe tbody tr th:only-of-type {\n",
              "        vertical-align: middle;\n",
              "    }\n",
              "\n",
              "    .dataframe tbody tr th {\n",
              "        vertical-align: top;\n",
              "    }\n",
              "\n",
              "    .dataframe thead th {\n",
              "        text-align: right;\n",
              "    }\n",
              "</style>\n",
              "<table border=\"1\" class=\"dataframe\">\n",
              "  <thead>\n",
              "    <tr style=\"text-align: right;\">\n",
              "      <th></th>\n",
              "      <th>決定係数</th>\n",
              "      <th>学習データの正解率</th>\n",
              "      <th>テストデータの正解率</th>\n",
              "      <th>予測</th>\n",
              "    </tr>\n",
              "  </thead>\n",
              "  <tbody>\n",
              "    <tr>\n",
              "      <th>1</th>\n",
              "      <td>0.413</td>\n",
              "      <td>0.722</td>\n",
              "      <td>0.691</td>\n",
              "      <td>0.686</td>\n",
              "    </tr>\n",
              "    <tr>\n",
              "      <th>2</th>\n",
              "      <td>0.461</td>\n",
              "      <td>0.707</td>\n",
              "      <td>0.714</td>\n",
              "      <td>0.750</td>\n",
              "    </tr>\n",
              "    <tr>\n",
              "      <th>3</th>\n",
              "      <td>-0.264</td>\n",
              "      <td>0.708</td>\n",
              "      <td>0.650</td>\n",
              "      <td>0.650</td>\n",
              "    </tr>\n",
              "    <tr>\n",
              "      <th>4</th>\n",
              "      <td>-0.078</td>\n",
              "      <td>0.699</td>\n",
              "      <td>0.667</td>\n",
              "      <td>0.678</td>\n",
              "    </tr>\n",
              "    <tr>\n",
              "      <th>5</th>\n",
              "      <td>-0.303</td>\n",
              "      <td>0.721</td>\n",
              "      <td>0.650</td>\n",
              "      <td>0.733</td>\n",
              "    </tr>\n",
              "    <tr>\n",
              "      <th>6</th>\n",
              "      <td>-0.166</td>\n",
              "      <td>0.721</td>\n",
              "      <td>0.644</td>\n",
              "      <td>0.689</td>\n",
              "    </tr>\n",
              "    <tr>\n",
              "      <th>7</th>\n",
              "      <td>-0.351</td>\n",
              "      <td>0.717</td>\n",
              "      <td>0.628</td>\n",
              "      <td>0.661</td>\n",
              "    </tr>\n",
              "    <tr>\n",
              "      <th>8</th>\n",
              "      <td>-0.221</td>\n",
              "      <td>0.729</td>\n",
              "      <td>0.650</td>\n",
              "      <td>0.694</td>\n",
              "    </tr>\n",
              "    <tr>\n",
              "      <th>9</th>\n",
              "      <td>0.361</td>\n",
              "      <td>0.694</td>\n",
              "      <td>0.705</td>\n",
              "      <td>0.709</td>\n",
              "    </tr>\n",
              "    <tr>\n",
              "      <th>10</th>\n",
              "      <td>0.420</td>\n",
              "      <td>0.698</td>\n",
              "      <td>0.691</td>\n",
              "      <td>0.700</td>\n",
              "    </tr>\n",
              "    <tr>\n",
              "      <th>11</th>\n",
              "      <td>0.370</td>\n",
              "      <td>0.724</td>\n",
              "      <td>0.709</td>\n",
              "      <td>0.723</td>\n",
              "    </tr>\n",
              "    <tr>\n",
              "      <th>12</th>\n",
              "      <td>0.434</td>\n",
              "      <td>0.706</td>\n",
              "      <td>0.695</td>\n",
              "      <td>0.718</td>\n",
              "    </tr>\n",
              "    <tr>\n",
              "      <th>13</th>\n",
              "      <td>0.196</td>\n",
              "      <td>0.773</td>\n",
              "      <td>0.647</td>\n",
              "      <td>0.679</td>\n",
              "    </tr>\n",
              "    <tr>\n",
              "      <th>14</th>\n",
              "      <td>0.279</td>\n",
              "      <td>0.759</td>\n",
              "      <td>0.700</td>\n",
              "      <td>0.689</td>\n",
              "    </tr>\n",
              "    <tr>\n",
              "      <th>15</th>\n",
              "      <td>0.281</td>\n",
              "      <td>0.774</td>\n",
              "      <td>0.639</td>\n",
              "      <td>0.711</td>\n",
              "    </tr>\n",
              "    <tr>\n",
              "      <th>16</th>\n",
              "      <td>0.270</td>\n",
              "      <td>0.708</td>\n",
              "      <td>0.683</td>\n",
              "      <td>0.711</td>\n",
              "    </tr>\n",
              "    <tr>\n",
              "      <th>17</th>\n",
              "      <td>-0.942</td>\n",
              "      <td>0.808</td>\n",
              "      <td>0.771</td>\n",
              "      <td>0.812</td>\n",
              "    </tr>\n",
              "    <tr>\n",
              "      <th>18</th>\n",
              "      <td>0.453</td>\n",
              "      <td>0.805</td>\n",
              "      <td>0.812</td>\n",
              "      <td>0.835</td>\n",
              "    </tr>\n",
              "  </tbody>\n",
              "</table>\n",
              "</div>\n",
              "      <button class=\"colab-df-convert\" onclick=\"convertToInteractive('df-0096470b-4482-4291-9c99-23f98798d700')\"\n",
              "              title=\"Convert this dataframe to an interactive table.\"\n",
              "              style=\"display:none;\">\n",
              "        \n",
              "  <svg xmlns=\"http://www.w3.org/2000/svg\" height=\"24px\"viewBox=\"0 0 24 24\"\n",
              "       width=\"24px\">\n",
              "    <path d=\"M0 0h24v24H0V0z\" fill=\"none\"/>\n",
              "    <path d=\"M18.56 5.44l.94 2.06.94-2.06 2.06-.94-2.06-.94-.94-2.06-.94 2.06-2.06.94zm-11 1L8.5 8.5l.94-2.06 2.06-.94-2.06-.94L8.5 2.5l-.94 2.06-2.06.94zm10 10l.94 2.06.94-2.06 2.06-.94-2.06-.94-.94-2.06-.94 2.06-2.06.94z\"/><path d=\"M17.41 7.96l-1.37-1.37c-.4-.4-.92-.59-1.43-.59-.52 0-1.04.2-1.43.59L10.3 9.45l-7.72 7.72c-.78.78-.78 2.05 0 2.83L4 21.41c.39.39.9.59 1.41.59.51 0 1.02-.2 1.41-.59l7.78-7.78 2.81-2.81c.8-.78.8-2.07 0-2.86zM5.41 20L4 18.59l7.72-7.72 1.47 1.35L5.41 20z\"/>\n",
              "  </svg>\n",
              "      </button>\n",
              "      \n",
              "  <style>\n",
              "    .colab-df-container {\n",
              "      display:flex;\n",
              "      flex-wrap:wrap;\n",
              "      gap: 12px;\n",
              "    }\n",
              "\n",
              "    .colab-df-convert {\n",
              "      background-color: #E8F0FE;\n",
              "      border: none;\n",
              "      border-radius: 50%;\n",
              "      cursor: pointer;\n",
              "      display: none;\n",
              "      fill: #1967D2;\n",
              "      height: 32px;\n",
              "      padding: 0 0 0 0;\n",
              "      width: 32px;\n",
              "    }\n",
              "\n",
              "    .colab-df-convert:hover {\n",
              "      background-color: #E2EBFA;\n",
              "      box-shadow: 0px 1px 2px rgba(60, 64, 67, 0.3), 0px 1px 3px 1px rgba(60, 64, 67, 0.15);\n",
              "      fill: #174EA6;\n",
              "    }\n",
              "\n",
              "    [theme=dark] .colab-df-convert {\n",
              "      background-color: #3B4455;\n",
              "      fill: #D2E3FC;\n",
              "    }\n",
              "\n",
              "    [theme=dark] .colab-df-convert:hover {\n",
              "      background-color: #434B5C;\n",
              "      box-shadow: 0px 1px 3px 1px rgba(0, 0, 0, 0.15);\n",
              "      filter: drop-shadow(0px 1px 2px rgba(0, 0, 0, 0.3));\n",
              "      fill: #FFFFFF;\n",
              "    }\n",
              "  </style>\n",
              "\n",
              "      <script>\n",
              "        const buttonEl =\n",
              "          document.querySelector('#df-0096470b-4482-4291-9c99-23f98798d700 button.colab-df-convert');\n",
              "        buttonEl.style.display =\n",
              "          google.colab.kernel.accessAllowed ? 'block' : 'none';\n",
              "\n",
              "        async function convertToInteractive(key) {\n",
              "          const element = document.querySelector('#df-0096470b-4482-4291-9c99-23f98798d700');\n",
              "          const dataTable =\n",
              "            await google.colab.kernel.invokeFunction('convertToInteractive',\n",
              "                                                     [key], {});\n",
              "          if (!dataTable) return;\n",
              "\n",
              "          const docLinkHtml = 'Like what you see? Visit the ' +\n",
              "            '<a target=\"_blank\" href=https://colab.research.google.com/notebooks/data_table.ipynb>data table notebook</a>'\n",
              "            + ' to learn more about interactive tables.';\n",
              "          element.innerHTML = '';\n",
              "          dataTable['output_type'] = 'display_data';\n",
              "          await google.colab.output.renderOutput(dataTable, element);\n",
              "          const docLink = document.createElement('div');\n",
              "          docLink.innerHTML = docLinkHtml;\n",
              "          element.appendChild(docLink);\n",
              "        }\n",
              "      </script>\n",
              "    </div>\n",
              "  </div>\n",
              "  "
            ],
            "text/plain": [
              "     決定係数  学習データの正解率  テストデータの正解率      予測\n",
              "1   0.413      0.722        0.691  0.686\n",
              "2   0.461      0.707        0.714  0.750\n",
              "3  -0.264      0.708        0.650  0.650\n",
              "4  -0.078      0.699        0.667  0.678\n",
              "5  -0.303      0.721        0.650  0.733\n",
              "6  -0.166      0.721        0.644  0.689\n",
              "7  -0.351      0.717        0.628  0.661\n",
              "8  -0.221      0.729        0.650  0.694\n",
              "9   0.361      0.694        0.705  0.709\n",
              "10  0.420      0.698        0.691  0.700\n",
              "11  0.370      0.724        0.709  0.723\n",
              "12  0.434      0.706        0.695  0.718\n",
              "13  0.196      0.773        0.647  0.679\n",
              "14  0.279      0.759        0.700  0.689\n",
              "15  0.281      0.774        0.639  0.711\n",
              "16  0.270      0.708        0.683  0.711\n",
              "17 -0.942      0.808        0.771  0.812\n",
              "18  0.453      0.805        0.812  0.835"
            ]
          },
          "metadata": {},
          "execution_count": 201
        }
      ]
    }
  ]
}